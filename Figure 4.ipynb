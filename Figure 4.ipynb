{
 "cells": [
  {
   "cell_type": "markdown",
   "id": "f60a7ee7",
   "metadata": {},
   "source": [
    "## Data import"
   ]
  },
  {
   "cell_type": "code",
   "execution_count": 92,
   "id": "7ea6aa64",
   "metadata": {},
   "outputs": [],
   "source": [
    "# Required imports\n",
    "import pandas as pd\n",
    "import numpy as np\n",
    "import matplotlib.pyplot as plt\n",
    "import seaborn as sns\n",
    "from sklearn.preprocessing import StandardScaler\n",
    "from scipy.stats import zscore\n",
    "\n",
    "AA_df = pd.read_csv(\"Data S1.csv\", encoding=\"utf-8\") \n",
    "\n",
    "# Define amino acid list once at the top\n",
    "amino_acids = ['Ser','Lys', 'Met', 'Phe', 'Leu', 'Thr', 'Val', 'Trp','Arg', 'Gln', 'Gly', 'Tyr','Asn', 'Ala','Tau','Orn']"
   ]
  },
  {
   "cell_type": "code",
   "execution_count": 93,
   "id": "7849a319",
   "metadata": {},
   "outputs": [],
   "source": [
    "AA_df = AA_df.dropna(subset=['pTNM stage'] + amino_acids)"
   ]
  },
  {
   "cell_type": "code",
   "execution_count": 94,
   "id": "7feb027a",
   "metadata": {},
   "outputs": [
    {
     "data": {
      "text/html": [
       "<div>\n",
       "<style scoped>\n",
       "    .dataframe tbody tr th:only-of-type {\n",
       "        vertical-align: middle;\n",
       "    }\n",
       "\n",
       "    .dataframe tbody tr th {\n",
       "        vertical-align: top;\n",
       "    }\n",
       "\n",
       "    .dataframe thead th {\n",
       "        text-align: right;\n",
       "    }\n",
       "</style>\n",
       "<table border=\"1\" class=\"dataframe\">\n",
       "  <thead>\n",
       "    <tr style=\"text-align: right;\">\n",
       "      <th></th>\n",
       "      <th>Sample</th>\n",
       "      <th>Tau</th>\n",
       "      <th>Lys</th>\n",
       "      <th>Asn</th>\n",
       "      <th>Arg</th>\n",
       "      <th>Met</th>\n",
       "      <th>Gln</th>\n",
       "      <th>Orn</th>\n",
       "      <th>Phe</th>\n",
       "      <th>Leu</th>\n",
       "      <th>...</th>\n",
       "      <th>pM</th>\n",
       "      <th>Number of positive lymph nodes</th>\n",
       "      <th>Number of harvested lymph nodes</th>\n",
       "      <th>Tumor size (cm)</th>\n",
       "      <th>Histologic grade</th>\n",
       "      <th>Lymphovascular invasion</th>\n",
       "      <th>Perineural invasion</th>\n",
       "      <th>Last follow-up date</th>\n",
       "      <th>Recurrence</th>\n",
       "      <th>CEA (before Surgery)</th>\n",
       "    </tr>\n",
       "  </thead>\n",
       "  <tbody>\n",
       "    <tr>\n",
       "      <th>0</th>\n",
       "      <td>Patient-01</td>\n",
       "      <td>97.411</td>\n",
       "      <td>103.533</td>\n",
       "      <td>31.423</td>\n",
       "      <td>0.000</td>\n",
       "      <td>15.808</td>\n",
       "      <td>197.833</td>\n",
       "      <td>31.726</td>\n",
       "      <td>37.455</td>\n",
       "      <td>93.192</td>\n",
       "      <td>...</td>\n",
       "      <td>0.0</td>\n",
       "      <td>0.0</td>\n",
       "      <td>46.0</td>\n",
       "      <td>1.7</td>\n",
       "      <td>Well-differentiated</td>\n",
       "      <td>No invasion</td>\n",
       "      <td>No invasion</td>\n",
       "      <td>NaN</td>\n",
       "      <td>NaN</td>\n",
       "      <td>1.3</td>\n",
       "    </tr>\n",
       "    <tr>\n",
       "      <th>1</th>\n",
       "      <td>Patient-02</td>\n",
       "      <td>73.993</td>\n",
       "      <td>70.206</td>\n",
       "      <td>21.191</td>\n",
       "      <td>0.000</td>\n",
       "      <td>0.000</td>\n",
       "      <td>367.578</td>\n",
       "      <td>0.000</td>\n",
       "      <td>27.415</td>\n",
       "      <td>238.829</td>\n",
       "      <td>...</td>\n",
       "      <td>0.0</td>\n",
       "      <td>0.0</td>\n",
       "      <td>15.0</td>\n",
       "      <td>3.8</td>\n",
       "      <td>Moderately differentiated</td>\n",
       "      <td>No invasion</td>\n",
       "      <td>No invasion</td>\n",
       "      <td>NaN</td>\n",
       "      <td>NaN</td>\n",
       "      <td>0.8</td>\n",
       "    </tr>\n",
       "    <tr>\n",
       "      <th>2</th>\n",
       "      <td>Patient-03</td>\n",
       "      <td>65.505</td>\n",
       "      <td>90.469</td>\n",
       "      <td>0.000</td>\n",
       "      <td>0.000</td>\n",
       "      <td>0.000</td>\n",
       "      <td>181.527</td>\n",
       "      <td>0.000</td>\n",
       "      <td>16.784</td>\n",
       "      <td>89.368</td>\n",
       "      <td>...</td>\n",
       "      <td>0.0</td>\n",
       "      <td>0.0</td>\n",
       "      <td>12.0</td>\n",
       "      <td>0.8</td>\n",
       "      <td>Moderately differentiated</td>\n",
       "      <td>No invasion</td>\n",
       "      <td>No invasion</td>\n",
       "      <td>NaN</td>\n",
       "      <td>NaN</td>\n",
       "      <td>0.8</td>\n",
       "    </tr>\n",
       "    <tr>\n",
       "      <th>3</th>\n",
       "      <td>Patient-04</td>\n",
       "      <td>42.170</td>\n",
       "      <td>77.167</td>\n",
       "      <td>0.000</td>\n",
       "      <td>41.121</td>\n",
       "      <td>0.000</td>\n",
       "      <td>192.521</td>\n",
       "      <td>13.172</td>\n",
       "      <td>21.775</td>\n",
       "      <td>30.512</td>\n",
       "      <td>...</td>\n",
       "      <td>0.0</td>\n",
       "      <td>0.0</td>\n",
       "      <td>57.0</td>\n",
       "      <td>8.8</td>\n",
       "      <td>Moderately differentiated</td>\n",
       "      <td>No invasion</td>\n",
       "      <td>No invasion</td>\n",
       "      <td>NaN</td>\n",
       "      <td>NaN</td>\n",
       "      <td>26.2</td>\n",
       "    </tr>\n",
       "    <tr>\n",
       "      <th>4</th>\n",
       "      <td>Patient-05</td>\n",
       "      <td>128.726</td>\n",
       "      <td>139.303</td>\n",
       "      <td>39.297</td>\n",
       "      <td>54.231</td>\n",
       "      <td>48.967</td>\n",
       "      <td>356.260</td>\n",
       "      <td>63.024</td>\n",
       "      <td>34.642</td>\n",
       "      <td>133.589</td>\n",
       "      <td>...</td>\n",
       "      <td>0.0</td>\n",
       "      <td>1.0</td>\n",
       "      <td>46.0</td>\n",
       "      <td>9.8</td>\n",
       "      <td>Moderately differentiated</td>\n",
       "      <td>No invasion</td>\n",
       "      <td>No invasion</td>\n",
       "      <td>NaN</td>\n",
       "      <td>NaN</td>\n",
       "      <td>3.8</td>\n",
       "    </tr>\n",
       "    <tr>\n",
       "      <th>...</th>\n",
       "      <td>...</td>\n",
       "      <td>...</td>\n",
       "      <td>...</td>\n",
       "      <td>...</td>\n",
       "      <td>...</td>\n",
       "      <td>...</td>\n",
       "      <td>...</td>\n",
       "      <td>...</td>\n",
       "      <td>...</td>\n",
       "      <td>...</td>\n",
       "      <td>...</td>\n",
       "      <td>...</td>\n",
       "      <td>...</td>\n",
       "      <td>...</td>\n",
       "      <td>...</td>\n",
       "      <td>...</td>\n",
       "      <td>...</td>\n",
       "      <td>...</td>\n",
       "      <td>...</td>\n",
       "      <td>...</td>\n",
       "      <td>...</td>\n",
       "    </tr>\n",
       "    <tr>\n",
       "      <th>147</th>\n",
       "      <td>Patient-148</td>\n",
       "      <td>124.315</td>\n",
       "      <td>172.431</td>\n",
       "      <td>0.000</td>\n",
       "      <td>58.213</td>\n",
       "      <td>28.906</td>\n",
       "      <td>367.515</td>\n",
       "      <td>103.372</td>\n",
       "      <td>77.159</td>\n",
       "      <td>144.639</td>\n",
       "      <td>...</td>\n",
       "      <td>0.0</td>\n",
       "      <td>0.0</td>\n",
       "      <td>30.0</td>\n",
       "      <td>5.7</td>\n",
       "      <td>Moderately differentiated</td>\n",
       "      <td>Lymphovascular invasion</td>\n",
       "      <td>No invasion</td>\n",
       "      <td>2022-05-22</td>\n",
       "      <td>Yes</td>\n",
       "      <td>7.1</td>\n",
       "    </tr>\n",
       "    <tr>\n",
       "      <th>148</th>\n",
       "      <td>Patient-149</td>\n",
       "      <td>152.506</td>\n",
       "      <td>131.335</td>\n",
       "      <td>43.920</td>\n",
       "      <td>29.851</td>\n",
       "      <td>27.922</td>\n",
       "      <td>415.112</td>\n",
       "      <td>118.936</td>\n",
       "      <td>64.782</td>\n",
       "      <td>120.672</td>\n",
       "      <td>...</td>\n",
       "      <td>NaN</td>\n",
       "      <td>NaN</td>\n",
       "      <td>NaN</td>\n",
       "      <td>NaN</td>\n",
       "      <td>Mucinous</td>\n",
       "      <td>NaN</td>\n",
       "      <td>NaN</td>\n",
       "      <td>NaN</td>\n",
       "      <td>NaN</td>\n",
       "      <td>40.7</td>\n",
       "    </tr>\n",
       "    <tr>\n",
       "      <th>149</th>\n",
       "      <td>Patient-150</td>\n",
       "      <td>119.279</td>\n",
       "      <td>207.649</td>\n",
       "      <td>90.775</td>\n",
       "      <td>62.947</td>\n",
       "      <td>51.336</td>\n",
       "      <td>678.529</td>\n",
       "      <td>93.942</td>\n",
       "      <td>64.417</td>\n",
       "      <td>107.694</td>\n",
       "      <td>...</td>\n",
       "      <td>1.0</td>\n",
       "      <td>18.0</td>\n",
       "      <td>18.0</td>\n",
       "      <td>12.0</td>\n",
       "      <td>Poorly differentiated</td>\n",
       "      <td>Lymphovascular invasion</td>\n",
       "      <td>No invasion</td>\n",
       "      <td>2019-05-23</td>\n",
       "      <td>Yes</td>\n",
       "      <td>56.3</td>\n",
       "    </tr>\n",
       "    <tr>\n",
       "      <th>150</th>\n",
       "      <td>Patient-151</td>\n",
       "      <td>0.000</td>\n",
       "      <td>53.241</td>\n",
       "      <td>0.000</td>\n",
       "      <td>16.388</td>\n",
       "      <td>0.000</td>\n",
       "      <td>137.560</td>\n",
       "      <td>11.158</td>\n",
       "      <td>14.486</td>\n",
       "      <td>21.526</td>\n",
       "      <td>...</td>\n",
       "      <td>NaN</td>\n",
       "      <td>NaN</td>\n",
       "      <td>NaN</td>\n",
       "      <td>NaN</td>\n",
       "      <td>NaN</td>\n",
       "      <td>NaN</td>\n",
       "      <td>NaN</td>\n",
       "      <td>2017-11-08</td>\n",
       "      <td>Yes</td>\n",
       "      <td>416.8</td>\n",
       "    </tr>\n",
       "    <tr>\n",
       "      <th>153</th>\n",
       "      <td>Patient-154</td>\n",
       "      <td>65.730</td>\n",
       "      <td>259.452</td>\n",
       "      <td>82.205</td>\n",
       "      <td>109.492</td>\n",
       "      <td>27.269</td>\n",
       "      <td>577.733</td>\n",
       "      <td>96.109</td>\n",
       "      <td>77.546</td>\n",
       "      <td>174.555</td>\n",
       "      <td>...</td>\n",
       "      <td>1.0</td>\n",
       "      <td>4.0</td>\n",
       "      <td>16.0</td>\n",
       "      <td>3.0</td>\n",
       "      <td>Mucinous</td>\n",
       "      <td>Lymphovascular invasion</td>\n",
       "      <td>Perineural invasion</td>\n",
       "      <td>2018-11-08</td>\n",
       "      <td>Yes</td>\n",
       "      <td>40.4</td>\n",
       "    </tr>\n",
       "  </tbody>\n",
       "</table>\n",
       "<p>152 rows × 43 columns</p>\n",
       "</div>"
      ],
      "text/plain": [
       "          Sample      Tau      Lys     Asn      Arg     Met      Gln      Orn  \\\n",
       "0     Patient-01   97.411  103.533  31.423    0.000  15.808  197.833   31.726   \n",
       "1     Patient-02   73.993   70.206  21.191    0.000   0.000  367.578    0.000   \n",
       "2     Patient-03   65.505   90.469   0.000    0.000   0.000  181.527    0.000   \n",
       "3     Patient-04   42.170   77.167   0.000   41.121   0.000  192.521   13.172   \n",
       "4     Patient-05  128.726  139.303  39.297   54.231  48.967  356.260   63.024   \n",
       "..           ...      ...      ...     ...      ...     ...      ...      ...   \n",
       "147  Patient-148  124.315  172.431   0.000   58.213  28.906  367.515  103.372   \n",
       "148  Patient-149  152.506  131.335  43.920   29.851  27.922  415.112  118.936   \n",
       "149  Patient-150  119.279  207.649  90.775   62.947  51.336  678.529   93.942   \n",
       "150  Patient-151    0.000   53.241   0.000   16.388   0.000  137.560   11.158   \n",
       "153  Patient-154   65.730  259.452  82.205  109.492  27.269  577.733   96.109   \n",
       "\n",
       "        Phe      Leu  ...   pM  Number of positive lymph nodes  \\\n",
       "0    37.455   93.192  ...  0.0                             0.0   \n",
       "1    27.415  238.829  ...  0.0                             0.0   \n",
       "2    16.784   89.368  ...  0.0                             0.0   \n",
       "3    21.775   30.512  ...  0.0                             0.0   \n",
       "4    34.642  133.589  ...  0.0                             1.0   \n",
       "..      ...      ...  ...  ...                             ...   \n",
       "147  77.159  144.639  ...  0.0                             0.0   \n",
       "148  64.782  120.672  ...  NaN                             NaN   \n",
       "149  64.417  107.694  ...  1.0                            18.0   \n",
       "150  14.486   21.526  ...  NaN                             NaN   \n",
       "153  77.546  174.555  ...  1.0                             4.0   \n",
       "\n",
       "     Number of harvested lymph nodes  Tumor size (cm)  \\\n",
       "0                               46.0              1.7   \n",
       "1                               15.0              3.8   \n",
       "2                               12.0              0.8   \n",
       "3                               57.0              8.8   \n",
       "4                               46.0              9.8   \n",
       "..                               ...              ...   \n",
       "147                             30.0              5.7   \n",
       "148                              NaN              NaN   \n",
       "149                             18.0             12.0   \n",
       "150                              NaN              NaN   \n",
       "153                             16.0              3.0   \n",
       "\n",
       "              Histologic grade  Lymphovascular invasion  Perineural invasion  \\\n",
       "0          Well-differentiated              No invasion          No invasion   \n",
       "1    Moderately differentiated              No invasion          No invasion   \n",
       "2    Moderately differentiated              No invasion          No invasion   \n",
       "3    Moderately differentiated              No invasion          No invasion   \n",
       "4    Moderately differentiated              No invasion          No invasion   \n",
       "..                         ...                      ...                  ...   \n",
       "147  Moderately differentiated  Lymphovascular invasion          No invasion   \n",
       "148                   Mucinous                      NaN                  NaN   \n",
       "149      Poorly differentiated  Lymphovascular invasion          No invasion   \n",
       "150                        NaN                      NaN                  NaN   \n",
       "153                   Mucinous  Lymphovascular invasion  Perineural invasion   \n",
       "\n",
       "     Last follow-up date  Recurrence  CEA (before Surgery)  \n",
       "0                    NaN         NaN                   1.3  \n",
       "1                    NaN         NaN                   0.8  \n",
       "2                    NaN         NaN                   0.8  \n",
       "3                    NaN         NaN                  26.2  \n",
       "4                    NaN         NaN                   3.8  \n",
       "..                   ...         ...                   ...  \n",
       "147           2022-05-22         Yes                   7.1  \n",
       "148                  NaN         NaN                  40.7  \n",
       "149           2019-05-23         Yes                  56.3  \n",
       "150           2017-11-08         Yes                 416.8  \n",
       "153           2018-11-08         Yes                  40.4  \n",
       "\n",
       "[152 rows x 43 columns]"
      ]
     },
     "execution_count": 94,
     "metadata": {},
     "output_type": "execute_result"
    }
   ],
   "source": [
    "AA_df"
   ]
  },
  {
   "cell_type": "markdown",
   "id": "d39f5d4d",
   "metadata": {},
   "source": [
    "## Data Pre-processing"
   ]
  },
  {
   "cell_type": "code",
   "execution_count": 95,
   "id": "45582ee7",
   "metadata": {},
   "outputs": [],
   "source": [
    "## Data Pre-processing\n",
    "target_amino_acids = amino_acids + ['Ile+Glu']\n",
    "AA_df['Total'] = AA_df[target_amino_acids].sum(axis=1) \n",
    "for aa in amino_acids:\n",
    "    AA_df[f'{aa}_ratio'] = AA_df[aa] / AA_df['Total']\n",
    "    AA_df[f'log1p_{aa}_ratio'] = np.log1p(AA_df[f'{aa}_ratio'])\n",
    "scaler = StandardScaler()\n",
    "zscore_columns = [f'zscore_log1p_{aa}_ratio' for aa in amino_acids]\n",
    "AA_df[zscore_columns] = scaler.fit_transform(AA_df[[f'log1p_{aa}_ratio' for aa in amino_acids]])\n"
   ]
  },
  {
   "cell_type": "markdown",
   "id": "7282833e",
   "metadata": {},
   "source": [
    "## Correlation pair"
   ]
  },
  {
   "cell_type": "code",
   "execution_count": 96,
   "id": "9cbe5fbb",
   "metadata": {},
   "outputs": [
    {
     "name": "stdout",
     "output_type": "stream",
     "text": [
      "Stage 1 Significant Correlations:\n",
      "                Variable 1              Variable 2  Correlation   p_value  \\\n",
      "0   zscore_log1p_Lys_ratio  zscore_log1p_Ser_ratio     0.518736  0.013377   \n",
      "1   zscore_log1p_Gln_ratio  zscore_log1p_Phe_ratio    -0.593725  0.003578   \n",
      "2   zscore_log1p_Arg_ratio  zscore_log1p_Val_ratio    -0.593229  0.003613   \n",
      "3   zscore_log1p_Gly_ratio  zscore_log1p_Val_ratio    -0.606313  0.002778   \n",
      "4   zscore_log1p_Arg_ratio  zscore_log1p_Tau_ratio    -0.666879  0.000700   \n",
      "5   zscore_log1p_Leu_ratio  zscore_log1p_Val_ratio     0.787281  0.000014   \n",
      "6   zscore_log1p_Ser_ratio  zscore_log1p_Val_ratio    -0.590291  0.003827   \n",
      "7   zscore_log1p_Leu_ratio  zscore_log1p_Ser_ratio    -0.544890  0.008733   \n",
      "8   zscore_log1p_Orn_ratio  zscore_log1p_Phe_ratio     0.586560  0.004114   \n",
      "9   zscore_log1p_Ala_ratio  zscore_log1p_Leu_ratio    -0.650704  0.001041   \n",
      "10  zscore_log1p_Tau_ratio  zscore_log1p_Val_ratio     0.531976  0.010824   \n",
      "11  zscore_log1p_Ala_ratio  zscore_log1p_Val_ratio    -0.696806  0.000314   \n",
      "12  zscore_log1p_Leu_ratio  zscore_log1p_Lys_ratio    -0.613035  0.002417   \n",
      "\n",
      "    pTNM stage  \n",
      "0            1  \n",
      "1            1  \n",
      "2            1  \n",
      "3            1  \n",
      "4            1  \n",
      "5            1  \n",
      "6            1  \n",
      "7            1  \n",
      "8            1  \n",
      "9            1  \n",
      "10           1  \n",
      "11           1  \n",
      "12           1  \n",
      "\n",
      "Stage 2 Significant Correlations:\n",
      "               Variable 1              Variable 2  Correlation   p_value  \\\n",
      "0  zscore_log1p_Leu_ratio  zscore_log1p_Val_ratio     0.596602  0.000502   \n",
      "1  zscore_log1p_Gly_ratio  zscore_log1p_Ser_ratio     0.690893  0.000024   \n",
      "2  zscore_log1p_Ala_ratio  zscore_log1p_Thr_ratio    -0.564252  0.001163   \n",
      "3  zscore_log1p_Gly_ratio  zscore_log1p_Leu_ratio    -0.593861  0.000541   \n",
      "4  zscore_log1p_Gln_ratio  zscore_log1p_Leu_ratio    -0.604179  0.000407   \n",
      "5  zscore_log1p_Ser_ratio  zscore_log1p_Tau_ratio    -0.526263  0.002815   \n",
      "6  zscore_log1p_Gly_ratio  zscore_log1p_Tau_ratio    -0.517259  0.003421   \n",
      "7  zscore_log1p_Ala_ratio  zscore_log1p_Tyr_ratio     0.649110  0.000104   \n",
      "8  zscore_log1p_Orn_ratio  zscore_log1p_Ser_ratio     0.542838  0.001939   \n",
      "9  zscore_log1p_Gly_ratio  zscore_log1p_Val_ratio    -0.587746  0.000637   \n",
      "\n",
      "   pTNM stage  \n",
      "0           2  \n",
      "1           2  \n",
      "2           2  \n",
      "3           2  \n",
      "4           2  \n",
      "5           2  \n",
      "6           2  \n",
      "7           2  \n",
      "8           2  \n",
      "9           2  \n",
      "\n",
      "Stage 3 Significant Correlations:\n",
      "               Variable 1              Variable 2  Correlation       p_value  \\\n",
      "0  zscore_log1p_Arg_ratio  zscore_log1p_Tau_ratio    -0.525495  1.188330e-03   \n",
      "1  zscore_log1p_Gly_ratio  zscore_log1p_Val_ratio    -0.695139  3.584796e-06   \n",
      "2  zscore_log1p_Leu_ratio  zscore_log1p_Ser_ratio    -0.553038  5.699443e-04   \n",
      "3  zscore_log1p_Leu_ratio  zscore_log1p_Thr_ratio    -0.511341  1.693241e-03   \n",
      "4  zscore_log1p_Leu_ratio  zscore_log1p_Val_ratio     0.823095  1.286071e-09   \n",
      "5  zscore_log1p_Gly_ratio  zscore_log1p_Leu_ratio    -0.593431  1.716813e-04   \n",
      "\n",
      "   pTNM stage  \n",
      "0           3  \n",
      "1           3  \n",
      "2           3  \n",
      "3           3  \n",
      "4           3  \n",
      "5           3  \n",
      "\n",
      "Stage 4 Significant Correlations:\n",
      "               Variable 1              Variable 2  Correlation       p_value  \\\n",
      "0  zscore_log1p_Gln_ratio  zscore_log1p_Orn_ratio    -0.580363  4.035588e-07   \n",
      "1  zscore_log1p_Gly_ratio  zscore_log1p_Ser_ratio     0.508150  1.551703e-05   \n",
      "2  zscore_log1p_Leu_ratio  zscore_log1p_Val_ratio     0.713399  2.580935e-11   \n",
      "3  zscore_log1p_Gly_ratio  zscore_log1p_Leu_ratio    -0.523992  7.478819e-06   \n",
      "4  zscore_log1p_Gly_ratio  zscore_log1p_Val_ratio    -0.796274  2.220446e-15   \n",
      "\n",
      "   pTNM stage  \n",
      "0           4  \n",
      "1           4  \n",
      "2           4  \n",
      "3           4  \n",
      "4           4  \n"
     ]
    }
   ],
   "source": [
    "from scipy.stats import t\n",
    "\n",
    "# Function to calculate p-value from Pearson correlation coefficient and sample size\n",
    "def calculate_p_value(r, n):\n",
    "    if n <= 2 or abs(r) == 1:  # Insufficient degrees of freedom or perfect correlation\n",
    "        return 0.0\n",
    "    t_stat = abs(r) * np.sqrt((n - 2) / (1 - r**2))\n",
    "    p_value = 2 * (1 - t.cdf(t_stat, df=n - 2))\n",
    "    return p_value\n",
    "\n",
    "# Dictionary to store significant correlations for each stage\n",
    "grouped_significant_results = {}\n",
    "AA_df[\"pTNM stage\"] = AA_df[\"pTNM stage\"].astype(int)\n",
    "\n",
    "# Identify significant correlations for each pTNM stage\n",
    "for stage in sorted(AA_df['pTNM stage'].unique()):\n",
    "    stage_data = AA_df[AA_df['pTNM stage'] == stage][zscore_columns]\n",
    "    correlation_matrix = stage_data.corr(method='pearson')\n",
    "    sample_size = stage_data.shape[0]\n",
    "\n",
    "    significant_pairs = set()\n",
    "    for i, var1 in enumerate(correlation_matrix.columns):\n",
    "        for j, var2 in enumerate(correlation_matrix.columns):\n",
    "            if i < j:\n",
    "                if \"Ile+Glu\" in var1 or \"Ile+Glu\" in var2:\n",
    "                    continue  # Exclude pairs containing 'Ile+Glu'\n",
    "                r = correlation_matrix.iloc[i, j]\n",
    "                if abs(r) > 0.5:  # Correlation threshold\n",
    "                    p_value = calculate_p_value(r, sample_size)\n",
    "                    if p_value < 0.05:  # Significance threshold\n",
    "                        pair = tuple(sorted((var1, var2)))\n",
    "                        significant_pairs.add((pair[0], pair[1], r, p_value))\n",
    "\n",
    "    grouped_significant_results[stage] = list(significant_pairs)  # Keep stage as integer\n",
    "\n",
    "# Convert results to DataFrame\n",
    "df_list = []\n",
    "for stage, pairs in grouped_significant_results.items():\n",
    "    if pairs:\n",
    "        df_temp = pd.DataFrame(pairs, columns=[\"Variable 1\", \"Variable 2\", \"Correlation\", \"p_value\"])\n",
    "        df_temp[\"pTNM stage\"] = stage\n",
    "        df_list.append(df_temp)\n",
    "\n",
    "result_df = pd.concat(df_list, ignore_index=True)\n",
    "\n",
    "# Separate stage-specific DataFrames\n",
    "stage1_df = result_df[result_df[\"pTNM stage\"] == 1].reset_index(drop=True)\n",
    "stage2_df = result_df[result_df[\"pTNM stage\"] == 2].reset_index(drop=True)\n",
    "stage3_df = result_df[result_df[\"pTNM stage\"] == 3].reset_index(drop=True)\n",
    "stage4_df = result_df[result_df[\"pTNM stage\"] == 4].reset_index(drop=True)\n",
    "\n",
    "# Print results for each stage\n",
    "print(\"Stage 1 Significant Correlations:\")\n",
    "print(stage1_df)\n",
    "\n",
    "print(\"\\nStage 2 Significant Correlations:\")\n",
    "print(stage2_df)\n",
    "\n",
    "print(\"\\nStage 3 Significant Correlations:\")\n",
    "print(stage3_df)\n",
    "\n",
    "print(\"\\nStage 4 Significant Correlations:\")\n",
    "print(stage4_df)\n"
   ]
  },
  {
   "cell_type": "markdown",
   "id": "da5465ff",
   "metadata": {},
   "source": [
    "## UpSet plot"
   ]
  },
  {
   "cell_type": "code",
   "execution_count": 97,
   "id": "bfae3e6d",
   "metadata": {},
   "outputs": [
    {
     "data": {
      "image/png": "[encoded data removed]",
      "text/plain": [
       "<Figure size 577.778x444.444 with 4 Axes>"
      ]
     },
     "metadata": {},
     "output_type": "display_data"
    }
   ],
   "source": [
    "# Create sets of significant variable pairs for each stage\n",
    "stage1_set = set(zip(stage1_df['Variable 1'], stage1_df['Variable 2']))\n",
    "stage2_set = set(zip(stage2_df['Variable 1'], stage2_df['Variable 2']))\n",
    "stage3_set = set(zip(stage3_df['Variable 1'], stage3_df['Variable 2']))\n",
    "stage4_set = set(zip(stage4_df['Variable 1'], stage4_df['Variable 2']))\n",
    "\n",
    "stage_sets = [stage1_set, stage2_set, stage3_set, stage4_set]\n",
    "\n",
    "# Track the stages in which each variable pair appears\n",
    "pair_stages_dict = {}\n",
    "for stage_idx, stage_set in enumerate(stage_sets, start=1):\n",
    "    for pair in stage_set:\n",
    "        if pair not in pair_stages_dict:\n",
    "            pair_stages_dict[pair] = []\n",
    "        pair_stages_dict[pair].append(stage_idx)\n",
    "\n",
    "# Group pairs by their stage combinations (e.g., Stage 1 & Stage 3)\n",
    "common_pairs_grouped = {}\n",
    "for pair, stages in pair_stages_dict.items():\n",
    "    key = \" & \".join([f\"Stage {s}\" for s in stages])\n",
    "    if key not in common_pairs_grouped:\n",
    "        common_pairs_grouped[key] = []\n",
    "    common_pairs_grouped[key].append(pair)\n",
    "\n",
    "# Convert results into a DataFrame format suitable for UpSet plot\n",
    "UpSet_result_df = pd.DataFrame(\n",
    "    [(key, pair) for key, pairs in common_pairs_grouped.items() for pair in pairs],\n",
    "    columns=['Stages', 'Variable Pair']\n",
    ")\n",
    "\n",
    "# Create boolean columns for each stage\n",
    "stages_list = [\"Stage 1\", \"Stage 2\", \"Stage 3\", \"Stage 4\"]\n",
    "for stage in stages_list:\n",
    "    UpSet_result_df[stage] = UpSet_result_df[\"Stages\"].apply(lambda x: stage in x)\n",
    "\n",
    "# Prepare boolean matrix as index for the UpSet plot\n",
    "upset_data = UpSet_result_df.set_index(stages_list)\n",
    "\n",
    "# Generate UpSet plot\n",
    "from upsetplot import UpSet\n",
    "\n",
    "upset_plot = UpSet(upset_data, subset_size=\"count\", show_counts=True)\n",
    "upset_plot.plot()\n",
    "plt.title(\"Overlap of Significant Correlations Between Stages\")\n",
    "plt.show()\n"
   ]
  },
  {
   "cell_type": "code",
   "execution_count": 98,
   "id": "f56bb3f3",
   "metadata": {
    "scrolled": true
   },
   "outputs": [
    {
     "data": {
      "text/html": [
       "<div>\n",
       "<style scoped>\n",
       "    .dataframe tbody tr th:only-of-type {\n",
       "        vertical-align: middle;\n",
       "    }\n",
       "\n",
       "    .dataframe tbody tr th {\n",
       "        vertical-align: top;\n",
       "    }\n",
       "\n",
       "    .dataframe thead th {\n",
       "        text-align: right;\n",
       "    }\n",
       "</style>\n",
       "<table border=\"1\" class=\"dataframe\">\n",
       "  <thead>\n",
       "    <tr style=\"text-align: right;\">\n",
       "      <th></th>\n",
       "      <th>Variable 1</th>\n",
       "      <th>Variable 2</th>\n",
       "      <th>Correlation</th>\n",
       "      <th>p_value</th>\n",
       "      <th>pTNM stage</th>\n",
       "    </tr>\n",
       "  </thead>\n",
       "  <tbody>\n",
       "    <tr>\n",
       "      <th>0</th>\n",
       "      <td>zscore_log1p_Lys_ratio</td>\n",
       "      <td>zscore_log1p_Ser_ratio</td>\n",
       "      <td>0.518736</td>\n",
       "      <td>1.337684e-02</td>\n",
       "      <td>1</td>\n",
       "    </tr>\n",
       "    <tr>\n",
       "      <th>1</th>\n",
       "      <td>zscore_log1p_Gln_ratio</td>\n",
       "      <td>zscore_log1p_Phe_ratio</td>\n",
       "      <td>-0.593725</td>\n",
       "      <td>3.578252e-03</td>\n",
       "      <td>1</td>\n",
       "    </tr>\n",
       "    <tr>\n",
       "      <th>2</th>\n",
       "      <td>zscore_log1p_Arg_ratio</td>\n",
       "      <td>zscore_log1p_Val_ratio</td>\n",
       "      <td>-0.593229</td>\n",
       "      <td>3.613365e-03</td>\n",
       "      <td>1</td>\n",
       "    </tr>\n",
       "    <tr>\n",
       "      <th>3</th>\n",
       "      <td>zscore_log1p_Gly_ratio</td>\n",
       "      <td>zscore_log1p_Val_ratio</td>\n",
       "      <td>-0.606313</td>\n",
       "      <td>2.778257e-03</td>\n",
       "      <td>1</td>\n",
       "    </tr>\n",
       "    <tr>\n",
       "      <th>4</th>\n",
       "      <td>zscore_log1p_Arg_ratio</td>\n",
       "      <td>zscore_log1p_Tau_ratio</td>\n",
       "      <td>-0.666879</td>\n",
       "      <td>6.997684e-04</td>\n",
       "      <td>1</td>\n",
       "    </tr>\n",
       "    <tr>\n",
       "      <th>5</th>\n",
       "      <td>zscore_log1p_Leu_ratio</td>\n",
       "      <td>zscore_log1p_Val_ratio</td>\n",
       "      <td>0.787281</td>\n",
       "      <td>1.375407e-05</td>\n",
       "      <td>1</td>\n",
       "    </tr>\n",
       "    <tr>\n",
       "      <th>6</th>\n",
       "      <td>zscore_log1p_Ser_ratio</td>\n",
       "      <td>zscore_log1p_Val_ratio</td>\n",
       "      <td>-0.590291</td>\n",
       "      <td>3.827287e-03</td>\n",
       "      <td>1</td>\n",
       "    </tr>\n",
       "    <tr>\n",
       "      <th>7</th>\n",
       "      <td>zscore_log1p_Leu_ratio</td>\n",
       "      <td>zscore_log1p_Ser_ratio</td>\n",
       "      <td>-0.544890</td>\n",
       "      <td>8.733483e-03</td>\n",
       "      <td>1</td>\n",
       "    </tr>\n",
       "    <tr>\n",
       "      <th>8</th>\n",
       "      <td>zscore_log1p_Orn_ratio</td>\n",
       "      <td>zscore_log1p_Phe_ratio</td>\n",
       "      <td>0.586560</td>\n",
       "      <td>4.114121e-03</td>\n",
       "      <td>1</td>\n",
       "    </tr>\n",
       "    <tr>\n",
       "      <th>9</th>\n",
       "      <td>zscore_log1p_Ala_ratio</td>\n",
       "      <td>zscore_log1p_Leu_ratio</td>\n",
       "      <td>-0.650704</td>\n",
       "      <td>1.040846e-03</td>\n",
       "      <td>1</td>\n",
       "    </tr>\n",
       "    <tr>\n",
       "      <th>10</th>\n",
       "      <td>zscore_log1p_Tau_ratio</td>\n",
       "      <td>zscore_log1p_Val_ratio</td>\n",
       "      <td>0.531976</td>\n",
       "      <td>1.082439e-02</td>\n",
       "      <td>1</td>\n",
       "    </tr>\n",
       "    <tr>\n",
       "      <th>11</th>\n",
       "      <td>zscore_log1p_Ala_ratio</td>\n",
       "      <td>zscore_log1p_Val_ratio</td>\n",
       "      <td>-0.696806</td>\n",
       "      <td>3.143492e-04</td>\n",
       "      <td>1</td>\n",
       "    </tr>\n",
       "    <tr>\n",
       "      <th>12</th>\n",
       "      <td>zscore_log1p_Leu_ratio</td>\n",
       "      <td>zscore_log1p_Lys_ratio</td>\n",
       "      <td>-0.613035</td>\n",
       "      <td>2.416644e-03</td>\n",
       "      <td>1</td>\n",
       "    </tr>\n",
       "    <tr>\n",
       "      <th>13</th>\n",
       "      <td>zscore_log1p_Leu_ratio</td>\n",
       "      <td>zscore_log1p_Val_ratio</td>\n",
       "      <td>0.596602</td>\n",
       "      <td>5.018489e-04</td>\n",
       "      <td>2</td>\n",
       "    </tr>\n",
       "    <tr>\n",
       "      <th>14</th>\n",
       "      <td>zscore_log1p_Gly_ratio</td>\n",
       "      <td>zscore_log1p_Ser_ratio</td>\n",
       "      <td>0.690893</td>\n",
       "      <td>2.374271e-05</td>\n",
       "      <td>2</td>\n",
       "    </tr>\n",
       "    <tr>\n",
       "      <th>15</th>\n",
       "      <td>zscore_log1p_Ala_ratio</td>\n",
       "      <td>zscore_log1p_Thr_ratio</td>\n",
       "      <td>-0.564252</td>\n",
       "      <td>1.163057e-03</td>\n",
       "      <td>2</td>\n",
       "    </tr>\n",
       "    <tr>\n",
       "      <th>16</th>\n",
       "      <td>zscore_log1p_Gly_ratio</td>\n",
       "      <td>zscore_log1p_Leu_ratio</td>\n",
       "      <td>-0.593861</td>\n",
       "      <td>5.407516e-04</td>\n",
       "      <td>2</td>\n",
       "    </tr>\n",
       "    <tr>\n",
       "      <th>17</th>\n",
       "      <td>zscore_log1p_Gln_ratio</td>\n",
       "      <td>zscore_log1p_Leu_ratio</td>\n",
       "      <td>-0.604179</td>\n",
       "      <td>4.068146e-04</td>\n",
       "      <td>2</td>\n",
       "    </tr>\n",
       "    <tr>\n",
       "      <th>18</th>\n",
       "      <td>zscore_log1p_Ser_ratio</td>\n",
       "      <td>zscore_log1p_Tau_ratio</td>\n",
       "      <td>-0.526263</td>\n",
       "      <td>2.815124e-03</td>\n",
       "      <td>2</td>\n",
       "    </tr>\n",
       "    <tr>\n",
       "      <th>19</th>\n",
       "      <td>zscore_log1p_Gly_ratio</td>\n",
       "      <td>zscore_log1p_Tau_ratio</td>\n",
       "      <td>-0.517259</td>\n",
       "      <td>3.421017e-03</td>\n",
       "      <td>2</td>\n",
       "    </tr>\n",
       "    <tr>\n",
       "      <th>20</th>\n",
       "      <td>zscore_log1p_Ala_ratio</td>\n",
       "      <td>zscore_log1p_Tyr_ratio</td>\n",
       "      <td>0.649110</td>\n",
       "      <td>1.042200e-04</td>\n",
       "      <td>2</td>\n",
       "    </tr>\n",
       "    <tr>\n",
       "      <th>21</th>\n",
       "      <td>zscore_log1p_Orn_ratio</td>\n",
       "      <td>zscore_log1p_Ser_ratio</td>\n",
       "      <td>0.542838</td>\n",
       "      <td>1.938633e-03</td>\n",
       "      <td>2</td>\n",
       "    </tr>\n",
       "    <tr>\n",
       "      <th>22</th>\n",
       "      <td>zscore_log1p_Gly_ratio</td>\n",
       "      <td>zscore_log1p_Val_ratio</td>\n",
       "      <td>-0.587746</td>\n",
       "      <td>6.372454e-04</td>\n",
       "      <td>2</td>\n",
       "    </tr>\n",
       "    <tr>\n",
       "      <th>23</th>\n",
       "      <td>zscore_log1p_Arg_ratio</td>\n",
       "      <td>zscore_log1p_Tau_ratio</td>\n",
       "      <td>-0.525495</td>\n",
       "      <td>1.188330e-03</td>\n",
       "      <td>3</td>\n",
       "    </tr>\n",
       "    <tr>\n",
       "      <th>24</th>\n",
       "      <td>zscore_log1p_Gly_ratio</td>\n",
       "      <td>zscore_log1p_Val_ratio</td>\n",
       "      <td>-0.695139</td>\n",
       "      <td>3.584796e-06</td>\n",
       "      <td>3</td>\n",
       "    </tr>\n",
       "    <tr>\n",
       "      <th>25</th>\n",
       "      <td>zscore_log1p_Leu_ratio</td>\n",
       "      <td>zscore_log1p_Ser_ratio</td>\n",
       "      <td>-0.553038</td>\n",
       "      <td>5.699443e-04</td>\n",
       "      <td>3</td>\n",
       "    </tr>\n",
       "    <tr>\n",
       "      <th>26</th>\n",
       "      <td>zscore_log1p_Leu_ratio</td>\n",
       "      <td>zscore_log1p_Thr_ratio</td>\n",
       "      <td>-0.511341</td>\n",
       "      <td>1.693241e-03</td>\n",
       "      <td>3</td>\n",
       "    </tr>\n",
       "    <tr>\n",
       "      <th>27</th>\n",
       "      <td>zscore_log1p_Leu_ratio</td>\n",
       "      <td>zscore_log1p_Val_ratio</td>\n",
       "      <td>0.823095</td>\n",
       "      <td>1.286071e-09</td>\n",
       "      <td>3</td>\n",
       "    </tr>\n",
       "    <tr>\n",
       "      <th>28</th>\n",
       "      <td>zscore_log1p_Gly_ratio</td>\n",
       "      <td>zscore_log1p_Leu_ratio</td>\n",
       "      <td>-0.593431</td>\n",
       "      <td>1.716813e-04</td>\n",
       "      <td>3</td>\n",
       "    </tr>\n",
       "    <tr>\n",
       "      <th>29</th>\n",
       "      <td>zscore_log1p_Gln_ratio</td>\n",
       "      <td>zscore_log1p_Orn_ratio</td>\n",
       "      <td>-0.580363</td>\n",
       "      <td>4.035588e-07</td>\n",
       "      <td>4</td>\n",
       "    </tr>\n",
       "    <tr>\n",
       "      <th>30</th>\n",
       "      <td>zscore_log1p_Gly_ratio</td>\n",
       "      <td>zscore_log1p_Ser_ratio</td>\n",
       "      <td>0.508150</td>\n",
       "      <td>1.551703e-05</td>\n",
       "      <td>4</td>\n",
       "    </tr>\n",
       "    <tr>\n",
       "      <th>31</th>\n",
       "      <td>zscore_log1p_Leu_ratio</td>\n",
       "      <td>zscore_log1p_Val_ratio</td>\n",
       "      <td>0.713399</td>\n",
       "      <td>2.580935e-11</td>\n",
       "      <td>4</td>\n",
       "    </tr>\n",
       "    <tr>\n",
       "      <th>32</th>\n",
       "      <td>zscore_log1p_Gly_ratio</td>\n",
       "      <td>zscore_log1p_Leu_ratio</td>\n",
       "      <td>-0.523992</td>\n",
       "      <td>7.478819e-06</td>\n",
       "      <td>4</td>\n",
       "    </tr>\n",
       "    <tr>\n",
       "      <th>33</th>\n",
       "      <td>zscore_log1p_Gly_ratio</td>\n",
       "      <td>zscore_log1p_Val_ratio</td>\n",
       "      <td>-0.796274</td>\n",
       "      <td>2.220446e-15</td>\n",
       "      <td>4</td>\n",
       "    </tr>\n",
       "  </tbody>\n",
       "</table>\n",
       "</div>"
      ],
      "text/plain": [
       "                Variable 1              Variable 2  Correlation       p_value  \\\n",
       "0   zscore_log1p_Lys_ratio  zscore_log1p_Ser_ratio     0.518736  1.337684e-02   \n",
       "1   zscore_log1p_Gln_ratio  zscore_log1p_Phe_ratio    -0.593725  3.578252e-03   \n",
       "2   zscore_log1p_Arg_ratio  zscore_log1p_Val_ratio    -0.593229  3.613365e-03   \n",
       "3   zscore_log1p_Gly_ratio  zscore_log1p_Val_ratio    -0.606313  2.778257e-03   \n",
       "4   zscore_log1p_Arg_ratio  zscore_log1p_Tau_ratio    -0.666879  6.997684e-04   \n",
       "5   zscore_log1p_Leu_ratio  zscore_log1p_Val_ratio     0.787281  1.375407e-05   \n",
       "6   zscore_log1p_Ser_ratio  zscore_log1p_Val_ratio    -0.590291  3.827287e-03   \n",
       "7   zscore_log1p_Leu_ratio  zscore_log1p_Ser_ratio    -0.544890  8.733483e-03   \n",
       "8   zscore_log1p_Orn_ratio  zscore_log1p_Phe_ratio     0.586560  4.114121e-03   \n",
       "9   zscore_log1p_Ala_ratio  zscore_log1p_Leu_ratio    -0.650704  1.040846e-03   \n",
       "10  zscore_log1p_Tau_ratio  zscore_log1p_Val_ratio     0.531976  1.082439e-02   \n",
       "11  zscore_log1p_Ala_ratio  zscore_log1p_Val_ratio    -0.696806  3.143492e-04   \n",
       "12  zscore_log1p_Leu_ratio  zscore_log1p_Lys_ratio    -0.613035  2.416644e-03   \n",
       "13  zscore_log1p_Leu_ratio  zscore_log1p_Val_ratio     0.596602  5.018489e-04   \n",
       "14  zscore_log1p_Gly_ratio  zscore_log1p_Ser_ratio     0.690893  2.374271e-05   \n",
       "15  zscore_log1p_Ala_ratio  zscore_log1p_Thr_ratio    -0.564252  1.163057e-03   \n",
       "16  zscore_log1p_Gly_ratio  zscore_log1p_Leu_ratio    -0.593861  5.407516e-04   \n",
       "17  zscore_log1p_Gln_ratio  zscore_log1p_Leu_ratio    -0.604179  4.068146e-04   \n",
       "18  zscore_log1p_Ser_ratio  zscore_log1p_Tau_ratio    -0.526263  2.815124e-03   \n",
       "19  zscore_log1p_Gly_ratio  zscore_log1p_Tau_ratio    -0.517259  3.421017e-03   \n",
       "20  zscore_log1p_Ala_ratio  zscore_log1p_Tyr_ratio     0.649110  1.042200e-04   \n",
       "21  zscore_log1p_Orn_ratio  zscore_log1p_Ser_ratio     0.542838  1.938633e-03   \n",
       "22  zscore_log1p_Gly_ratio  zscore_log1p_Val_ratio    -0.587746  6.372454e-04   \n",
       "23  zscore_log1p_Arg_ratio  zscore_log1p_Tau_ratio    -0.525495  1.188330e-03   \n",
       "24  zscore_log1p_Gly_ratio  zscore_log1p_Val_ratio    -0.695139  3.584796e-06   \n",
       "25  zscore_log1p_Leu_ratio  zscore_log1p_Ser_ratio    -0.553038  5.699443e-04   \n",
       "26  zscore_log1p_Leu_ratio  zscore_log1p_Thr_ratio    -0.511341  1.693241e-03   \n",
       "27  zscore_log1p_Leu_ratio  zscore_log1p_Val_ratio     0.823095  1.286071e-09   \n",
       "28  zscore_log1p_Gly_ratio  zscore_log1p_Leu_ratio    -0.593431  1.716813e-04   \n",
       "29  zscore_log1p_Gln_ratio  zscore_log1p_Orn_ratio    -0.580363  4.035588e-07   \n",
       "30  zscore_log1p_Gly_ratio  zscore_log1p_Ser_ratio     0.508150  1.551703e-05   \n",
       "31  zscore_log1p_Leu_ratio  zscore_log1p_Val_ratio     0.713399  2.580935e-11   \n",
       "32  zscore_log1p_Gly_ratio  zscore_log1p_Leu_ratio    -0.523992  7.478819e-06   \n",
       "33  zscore_log1p_Gly_ratio  zscore_log1p_Val_ratio    -0.796274  2.220446e-15   \n",
       "\n",
       "    pTNM stage  \n",
       "0            1  \n",
       "1            1  \n",
       "2            1  \n",
       "3            1  \n",
       "4            1  \n",
       "5            1  \n",
       "6            1  \n",
       "7            1  \n",
       "8            1  \n",
       "9            1  \n",
       "10           1  \n",
       "11           1  \n",
       "12           1  \n",
       "13           2  \n",
       "14           2  \n",
       "15           2  \n",
       "16           2  \n",
       "17           2  \n",
       "18           2  \n",
       "19           2  \n",
       "20           2  \n",
       "21           2  \n",
       "22           2  \n",
       "23           3  \n",
       "24           3  \n",
       "25           3  \n",
       "26           3  \n",
       "27           3  \n",
       "28           3  \n",
       "29           4  \n",
       "30           4  \n",
       "31           4  \n",
       "32           4  \n",
       "33           4  "
      ]
     },
     "execution_count": 98,
     "metadata": {},
     "output_type": "execute_result"
    }
   ],
   "source": [
    "result_df"
   ]
  },
  {
   "cell_type": "code",
   "execution_count": 99,
   "id": "8e480a2d",
   "metadata": {},
   "outputs": [
    {
     "data": {
      "image/png": "[encoded data removed]",
      "text/plain": [
       "<Figure size 800x600 with 1 Axes>"
      ]
     },
     "metadata": {},
     "output_type": "display_data"
    }
   ],
   "source": [
    "import pandas as pd\n",
    "import matplotlib.pyplot as plt\n",
    "\n",
    "# Add correlation sign (Positive or Negative)\n",
    "result_df[\"Sign\"] = result_df[\"Correlation\"].apply(lambda x: \"Positive\" if x > 0 else \"Negative\")\n",
    "\n",
    "# Count number of correlations by stage and sign\n",
    "df_counts = result_df.groupby([\"pTNM stage\", \"Sign\"]).size().unstack(fill_value=0)\n",
    "\n",
    "# Format stage labels for better readability\n",
    "df_counts.index = [f\"Stage {int(s)}\" for s in df_counts.index]\n",
    "\n",
    "# Create stacked bar plot\n",
    "ax = df_counts.plot(\n",
    "    kind=\"bar\",\n",
    "    stacked=True,\n",
    "    color=[\"#CC6677\", \"#88CCEE\"],  # Red for negative, blue for positive\n",
    "    figsize=(8, 6),\n",
    "    width=0.6,\n",
    ")\n",
    "\n",
    "for patch in ax.patches:\n",
    "    patch.set_edgecolor(\"black\")\n",
    "    patch.set_linewidth(1.5)\n",
    "\n",
    "max_y = df_counts.sum(axis=1).max()\n",
    "plt.ylim(0, max_y + 2)\n",
    "\n",
    "plt.title(\"Positive vs. Negative Correlations Across Stages\", fontsize=16)\n",
    "plt.xlabel(\"Stage\", fontsize=14)\n",
    "plt.ylabel(\"Number of Significant Correlations\", fontsize=14)\n",
    "plt.xticks(rotation=0, fontsize=12)\n",
    "\n",
    "plt.legend(\n",
    "    fontsize=11,\n",
    "    loc=\"upper center\",\n",
    "    bbox_to_anchor=(0.5, 1.00),\n",
    "    ncol=2,\n",
    "    frameon=False\n",
    ")\n",
    "\n",
    "plt.tight_layout()\n",
    "plt.show()\n"
   ]
  },
  {
   "cell_type": "markdown",
   "id": "272a030a",
   "metadata": {},
   "source": [
    "## Circos plot"
   ]
  },
  {
   "cell_type": "code",
   "execution_count": 100,
   "id": "3c36e54f",
   "metadata": {},
   "outputs": [],
   "source": [
    "def create_chord_diagram(stage_df, aa_list, stage_number):\n",
    "    import numpy as np\n",
    "    import pandas as pd\n",
    "    import plotly.graph_objects as go\n",
    "\n",
    "    # 1. Extract amino acid names and round correlation coefficients\n",
    "    pair_data = [\n",
    "        (\n",
    "            var1.replace(\"zscore_log1p_\", \"\").replace(\"_ratio\", \"\"),\n",
    "            var2.replace(\"zscore_log1p_\", \"\").replace(\"_ratio\", \"\"),\n",
    "            round(corr, 2)\n",
    "        )\n",
    "        for var1, var2, corr in zip(stage_df[\"Variable 1\"], stage_df[\"Variable 2\"], stage_df[\"Correlation\"])\n",
    "    ]\n",
    "\n",
    "    # 2. Initialize a symmetric matrix with zeros\n",
    "    matrix = pd.DataFrame(0, index=aa_list, columns=aa_list)\n",
    "    for a1, a2, val in pair_data:\n",
    "        if a1 in matrix.index and a2 in matrix.columns:\n",
    "            matrix.loc[a1, a2] = val\n",
    "            matrix.loc[a2, a1] = val\n",
    "\n",
    "    # 3. Compute circular coordinates for each amino acid node\n",
    "    n = len(aa_list)\n",
    "    angles = np.linspace(0, 2 * np.pi, n, endpoint=False)\n",
    "    radius = 1\n",
    "    node_coords = {\n",
    "        aa: (radius * np.cos(ang), radius * np.sin(ang))\n",
    "        for aa, ang in zip(aa_list, angles)\n",
    "    }\n",
    "\n",
    "    # 4. Add curves (edges) between correlated amino acids\n",
    "    fig = go.Figure()\n",
    "    for i, source in enumerate(aa_list):\n",
    "        for j, target in enumerate(aa_list):\n",
    "            val = matrix.loc[source, target]\n",
    "            if val != 0 and i < j:  # avoid duplicate edges\n",
    "                x0, y0 = node_coords[source]\n",
    "                x1, y1 = node_coords[target]\n",
    "                path = f\"M {x0},{y0} Q 0,0 {x1},{y1}\"\n",
    "                color = \"blue\" if val > 0 else \"red\"\n",
    "                width = 1 + 3 * abs(val)  # line thickness proportional to correlation\n",
    "                fig.add_shape(\n",
    "                    type=\"path\",\n",
    "                    path=path,\n",
    "                    line=dict(color=color, width=width),\n",
    "                    opacity=0.6,\n",
    "                )\n",
    "\n",
    "    # 5. Add nodes (amino acids) as labeled points on the circle\n",
    "    node_x, node_y = zip(*[node_coords[aa] for aa in aa_list])\n",
    "    fig.add_trace(go.Scatter(\n",
    "        x=node_x,\n",
    "        y=node_y,\n",
    "        mode=\"markers+text\",\n",
    "        marker=dict(size=20, color=\"lightgrey\", line=dict(width=2, color=\"black\")),\n",
    "        text=aa_list,\n",
    "        textposition=\"top center\",\n",
    "        hoverinfo=\"text\"\n",
    "    ))\n",
    "\n",
    "    # 6. Final layout settings\n",
    "    fig.update_layout(\n",
    "        showlegend=False,\n",
    "        xaxis=dict(visible=False),\n",
    "        yaxis=dict(visible=False),\n",
    "        width=600,\n",
    "        height=600,\n",
    "        margin=dict(t=20, b=20, l=20, r=20),\n",
    "        title=f\"Stage {stage_number} Chord Diagram\"\n",
    "    )\n",
    "    fig.update_yaxes(scaleanchor=\"x\", scaleratio=1)\n",
    "    fig.show()\n"
   ]
  },
  {
   "cell_type": "code",
   "execution_count": 101,
   "id": "c39e1fd9",
   "metadata": {
    "scrolled": true
   },
   "outputs": [
    {
     "data": {
      "application/vnd.plotly.v1+json": {
       "config": {
        "plotlyServerURL": "https://plot.ly"
       },
       "data": [
        {
         "hoverinfo": "text",
         "marker": {
          "color": "lightgrey",
          "line": {
           "color": "black",
           "width": 2
          },
          "size": 20
         },
         "mode": "markers+text",
         "text": [
          "Ser",
          "Lys",
          "Met",
          "Phe",
          "Leu",
          "Thr",
          "Val",
          "Trp",
          "Arg",
          "Gln",
          "Gly",
          "Tyr",
          "Asn",
          "Ala",
          "Tau",
          "Orn"
         ],
         "textposition": "top center",
         "type": "scatter",
         "x": [
          1,
          0.9238795325112867,
          0.7071067811865476,
          0.38268343236508984,
          6.123233995736766e-17,
          -0.3826834323650897,
          -0.7071067811865475,
          -0.9238795325112867,
          -1,
          -0.9238795325112868,
          -0.7071067811865477,
          -0.38268343236509034,
          -1.8369701987210297e-16,
          0.38268343236509,
          0.7071067811865474,
          0.9238795325112865
         ],
         "y": [
          0,
          0.3826834323650898,
          0.7071067811865475,
          0.9238795325112867,
          1,
          0.9238795325112867,
          0.7071067811865476,
          0.3826834323650899,
          1.2246467991473532e-16,
          -0.38268343236508967,
          -0.7071067811865475,
          -0.9238795325112865,
          -1,
          -0.9238795325112866,
          -0.7071067811865477,
          -0.3826834323650904
         ]
        }
       ],
       "layout": {
        "height": 600,
        "margin": {
         "b": 20,
         "l": 20,
         "r": 20,
         "t": 20
        },
        "shapes": [
         {
          "line": {
           "color": "blue",
           "width": 2.56
          },
          "opacity": 0.6,
          "path": "M 1.0,0.0 Q 0,0 0.9238795325112867,0.3826834323650898",
          "type": "path"
         },
         {
          "line": {
           "color": "red",
           "width": 2.62
          },
          "opacity": 0.6,
          "path": "M 1.0,0.0 Q 0,0 6.123233995736766e-17,1.0",
          "type": "path"
         },
         {
          "line": {
           "color": "red",
           "width": 2.77
          },
          "opacity": 0.6,
          "path": "M 1.0,0.0 Q 0,0 -0.7071067811865475,0.7071067811865476",
          "type": "path"
         },
         {
          "line": {
           "color": "red",
           "width": 2.83
          },
          "opacity": 0.6,
          "path": "M 0.9238795325112867,0.3826834323650898 Q 0,0 6.123233995736766e-17,1.0",
          "type": "path"
         },
         {
          "line": {
           "color": "red",
           "width": 2.77
          },
          "opacity": 0.6,
          "path": "M 0.38268343236508984,0.9238795325112867 Q 0,0 -0.9238795325112868,-0.38268343236508967",
          "type": "path"
         },
         {
          "line": {
           "color": "blue",
           "width": 2.77
          },
          "opacity": 0.6,
          "path": "M 0.38268343236508984,0.9238795325112867 Q 0,0 0.9238795325112865,-0.3826834323650904",
          "type": "path"
         },
         {
          "line": {
           "color": "blue",
           "width": 3.37
          },
          "opacity": 0.6,
          "path": "M 6.123233995736766e-17,1.0 Q 0,0 -0.7071067811865475,0.7071067811865476",
          "type": "path"
         },
         {
          "line": {
           "color": "red",
           "width": 2.95
          },
          "opacity": 0.6,
          "path": "M 6.123233995736766e-17,1.0 Q 0,0 0.38268343236509,-0.9238795325112866",
          "type": "path"
         },
         {
          "line": {
           "color": "red",
           "width": 2.77
          },
          "opacity": 0.6,
          "path": "M -0.7071067811865475,0.7071067811865476 Q 0,0 -1.0,1.2246467991473532e-16",
          "type": "path"
         },
         {
          "line": {
           "color": "red",
           "width": 2.83
          },
          "opacity": 0.6,
          "path": "M -0.7071067811865475,0.7071067811865476 Q 0,0 -0.7071067811865477,-0.7071067811865475",
          "type": "path"
         },
         {
          "line": {
           "color": "red",
           "width": 3.0999999999999996
          },
          "opacity": 0.6,
          "path": "M -0.7071067811865475,0.7071067811865476 Q 0,0 0.38268343236509,-0.9238795325112866",
          "type": "path"
         },
         {
          "line": {
           "color": "blue",
           "width": 2.59
          },
          "opacity": 0.6,
          "path": "M -0.7071067811865475,0.7071067811865476 Q 0,0 0.7071067811865474,-0.7071067811865477",
          "type": "path"
         },
         {
          "line": {
           "color": "red",
           "width": 3.0100000000000002
          },
          "opacity": 0.6,
          "path": "M -1.0,1.2246467991473532e-16 Q 0,0 0.7071067811865474,-0.7071067811865477",
          "type": "path"
         }
        ],
        "showlegend": false,
        "template": {
         "data": {
          "bar": [
           {
            "error_x": {
             "color": "#2a3f5f"
            },
            "error_y": {
             "color": "#2a3f5f"
            },
            "marker": {
             "line": {
              "color": "#E5ECF6",
              "width": 0.5
             },
             "pattern": {
              "fillmode": "overlay",
              "size": 10,
              "solidity": 0.2
             }
            },
            "type": "bar"
           }
          ],
          "barpolar": [
           {
            "marker": {
             "line": {
              "color": "#E5ECF6",
              "width": 0.5
             },
             "pattern": {
              "fillmode": "overlay",
              "size": 10,
              "solidity": 0.2
             }
            },
            "type": "barpolar"
           }
          ],
          "carpet": [
           {
            "aaxis": {
             "endlinecolor": "#2a3f5f",
             "gridcolor": "white",
             "linecolor": "white",
             "minorgridcolor": "white",
             "startlinecolor": "#2a3f5f"
            },
            "baxis": {
             "endlinecolor": "#2a3f5f",
             "gridcolor": "white",
             "linecolor": "white",
             "minorgridcolor": "white",
             "startlinecolor": "#2a3f5f"
            },
            "type": "carpet"
           }
          ],
          "choropleth": [
           {
            "colorbar": {
             "outlinewidth": 0,
             "ticks": ""
            },
            "type": "choropleth"
           }
          ],
          "contour": [
           {
            "colorbar": {
             "outlinewidth": 0,
             "ticks": ""
            },
            "colorscale": [
             [
              0,
              "#0d0887"
             ],
             [
              0.1111111111111111,
              "#46039f"
             ],
             [
              0.2222222222222222,
              "#7201a8"
             ],
             [
              0.3333333333333333,
              "#9c179e"
             ],
             [
              0.4444444444444444,
              "#bd3786"
             ],
             [
              0.5555555555555556,
              "#d8576b"
             ],
             [
              0.6666666666666666,
              "#ed7953"
             ],
             [
              0.7777777777777778,
              "#fb9f3a"
             ],
             [
              0.8888888888888888,
              "#fdca26"
             ],
             [
              1,
              "#f0f921"
             ]
            ],
            "type": "contour"
           }
          ],
          "contourcarpet": [
           {
            "colorbar": {
             "outlinewidth": 0,
             "ticks": ""
            },
            "type": "contourcarpet"
           }
          ],
          "heatmap": [
           {
            "colorbar": {
             "outlinewidth": 0,
             "ticks": ""
            },
            "colorscale": [
             [
              0,
              "#0d0887"
             ],
             [
              0.1111111111111111,
              "#46039f"
             ],
             [
              0.2222222222222222,
              "#7201a8"
             ],
             [
              0.3333333333333333,
              "#9c179e"
             ],
             [
              0.4444444444444444,
              "#bd3786"
             ],
             [
              0.5555555555555556,
              "#d8576b"
             ],
             [
              0.6666666666666666,
              "#ed7953"
             ],
             [
              0.7777777777777778,
              "#fb9f3a"
             ],
             [
              0.8888888888888888,
              "#fdca26"
             ],
             [
              1,
              "#f0f921"
             ]
            ],
            "type": "heatmap"
           }
          ],
          "histogram": [
           {
            "marker": {
             "pattern": {
              "fillmode": "overlay",
              "size": 10,
              "solidity": 0.2
             }
            },
            "type": "histogram"
           }
          ],
          "histogram2d": [
           {
            "colorbar": {
             "outlinewidth": 0,
             "ticks": ""
            },
            "colorscale": [
             [
              0,
              "#0d0887"
             ],
             [
              0.1111111111111111,
              "#46039f"
             ],
             [
              0.2222222222222222,
              "#7201a8"
             ],
             [
              0.3333333333333333,
              "#9c179e"
             ],
             [
              0.4444444444444444,
              "#bd3786"
             ],
             [
              0.5555555555555556,
              "#d8576b"
             ],
             [
              0.6666666666666666,
              "#ed7953"
             ],
             [
              0.7777777777777778,
              "#fb9f3a"
             ],
             [
              0.8888888888888888,
              "#fdca26"
             ],
             [
              1,
              "#f0f921"
             ]
            ],
            "type": "histogram2d"
           }
          ],
          "histogram2dcontour": [
           {
            "colorbar": {
             "outlinewidth": 0,
             "ticks": ""
            },
            "colorscale": [
             [
              0,
              "#0d0887"
             ],
             [
              0.1111111111111111,
              "#46039f"
             ],
             [
              0.2222222222222222,
              "#7201a8"
             ],
             [
              0.3333333333333333,
              "#9c179e"
             ],
             [
              0.4444444444444444,
              "#bd3786"
             ],
             [
              0.5555555555555556,
              "#d8576b"
             ],
             [
              0.6666666666666666,
              "#ed7953"
             ],
             [
              0.7777777777777778,
              "#fb9f3a"
             ],
             [
              0.8888888888888888,
              "#fdca26"
             ],
             [
              1,
              "#f0f921"
             ]
            ],
            "type": "histogram2dcontour"
           }
          ],
          "mesh3d": [
           {
            "colorbar": {
             "outlinewidth": 0,
             "ticks": ""
            },
            "type": "mesh3d"
           }
          ],
          "parcoords": [
           {
            "line": {
             "colorbar": {
              "outlinewidth": 0,
              "ticks": ""
             }
            },
            "type": "parcoords"
           }
          ],
          "pie": [
           {
            "automargin": true,
            "type": "pie"
           }
          ],
          "scatter": [
           {
            "fillpattern": {
             "fillmode": "overlay",
             "size": 10,
             "solidity": 0.2
            },
            "type": "scatter"
           }
          ],
          "scatter3d": [
           {
            "line": {
             "colorbar": {
              "outlinewidth": 0,
              "ticks": ""
             }
            },
            "marker": {
             "colorbar": {
              "outlinewidth": 0,
              "ticks": ""
             }
            },
            "type": "scatter3d"
           }
          ],
          "scattercarpet": [
           {
            "marker": {
             "colorbar": {
              "outlinewidth": 0,
              "ticks": ""
             }
            },
            "type": "scattercarpet"
           }
          ],
          "scattergeo": [
           {
            "marker": {
             "colorbar": {
              "outlinewidth": 0,
              "ticks": ""
             }
            },
            "type": "scattergeo"
           }
          ],
          "scattergl": [
           {
            "marker": {
             "colorbar": {
              "outlinewidth": 0,
              "ticks": ""
             }
            },
            "type": "scattergl"
           }
          ],
          "scattermap": [
           {
            "marker": {
             "colorbar": {
              "outlinewidth": 0,
              "ticks": ""
             }
            },
            "type": "scattermap"
           }
          ],
          "scattermapbox": [
           {
            "marker": {
             "colorbar": {
              "outlinewidth": 0,
              "ticks": ""
             }
            },
            "type": "scattermapbox"
           }
          ],
          "scatterpolar": [
           {
            "marker": {
             "colorbar": {
              "outlinewidth": 0,
              "ticks": ""
             }
            },
            "type": "scatterpolar"
           }
          ],
          "scatterpolargl": [
           {
            "marker": {
             "colorbar": {
              "outlinewidth": 0,
              "ticks": ""
             }
            },
            "type": "scatterpolargl"
           }
          ],
          "scatterternary": [
           {
            "marker": {
             "colorbar": {
              "outlinewidth": 0,
              "ticks": ""
             }
            },
            "type": "scatterternary"
           }
          ],
          "surface": [
           {
            "colorbar": {
             "outlinewidth": 0,
             "ticks": ""
            },
            "colorscale": [
             [
              0,
              "#0d0887"
             ],
             [
              0.1111111111111111,
              "#46039f"
             ],
             [
              0.2222222222222222,
              "#7201a8"
             ],
             [
              0.3333333333333333,
              "#9c179e"
             ],
             [
              0.4444444444444444,
              "#bd3786"
             ],
             [
              0.5555555555555556,
              "#d8576b"
             ],
             [
              0.6666666666666666,
              "#ed7953"
             ],
             [
              0.7777777777777778,
              "#fb9f3a"
             ],
             [
              0.8888888888888888,
              "#fdca26"
             ],
             [
              1,
              "#f0f921"
             ]
            ],
            "type": "surface"
           }
          ],
          "table": [
           {
            "cells": {
             "fill": {
              "color": "#EBF0F8"
             },
             "line": {
              "color": "white"
             }
            },
            "header": {
             "fill": {
              "color": "#C8D4E3"
             },
             "line": {
              "color": "white"
             }
            },
            "type": "table"
           }
          ]
         },
         "layout": {
          "annotationdefaults": {
           "arrowcolor": "#2a3f5f",
           "arrowhead": 0,
           "arrowwidth": 1
          },
          "autotypenumbers": "strict",
          "coloraxis": {
           "colorbar": {
            "outlinewidth": 0,
            "ticks": ""
           }
          },
          "colorscale": {
           "diverging": [
            [
             0,
             "#8e0152"
            ],
            [
             0.1,
             "#c51b7d"
            ],
            [
             0.2,
             "#de77ae"
            ],
            [
             0.3,
             "#f1b6da"
            ],
            [
             0.4,
             "#fde0ef"
            ],
            [
             0.5,
             "#f7f7f7"
            ],
            [
             0.6,
             "#e6f5d0"
            ],
            [
             0.7,
             "#b8e186"
            ],
            [
             0.8,
             "#7fbc41"
            ],
            [
             0.9,
             "#4d9221"
            ],
            [
             1,
             "#276419"
            ]
           ],
           "sequential": [
            [
             0,
             "#0d0887"
            ],
            [
             0.1111111111111111,
             "#46039f"
            ],
            [
             0.2222222222222222,
             "#7201a8"
            ],
            [
             0.3333333333333333,
             "#9c179e"
            ],
            [
             0.4444444444444444,
             "#bd3786"
            ],
            [
             0.5555555555555556,
             "#d8576b"
            ],
            [
             0.6666666666666666,
             "#ed7953"
            ],
            [
             0.7777777777777778,
             "#fb9f3a"
            ],
            [
             0.8888888888888888,
             "#fdca26"
            ],
            [
             1,
             "#f0f921"
            ]
           ],
           "sequentialminus": [
            [
             0,
             "#0d0887"
            ],
            [
             0.1111111111111111,
             "#46039f"
            ],
            [
             0.2222222222222222,
             "#7201a8"
            ],
            [
             0.3333333333333333,
             "#9c179e"
            ],
            [
             0.4444444444444444,
             "#bd3786"
            ],
            [
             0.5555555555555556,
             "#d8576b"
            ],
            [
             0.6666666666666666,
             "#ed7953"
            ],
            [
             0.7777777777777778,
             "#fb9f3a"
            ],
            [
             0.8888888888888888,
             "#fdca26"
            ],
            [
             1,
             "#f0f921"
            ]
           ]
          },
          "colorway": [
           "#636efa",
           "#EF553B",
           "#00cc96",
           "#ab63fa",
           "#FFA15A",
           "#19d3f3",
           "#FF6692",
           "#B6E880",
           "#FF97FF",
           "#FECB52"
          ],
          "font": {
           "color": "#2a3f5f"
          },
          "geo": {
           "bgcolor": "white",
           "lakecolor": "white",
           "landcolor": "#E5ECF6",
           "showlakes": true,
           "showland": true,
           "subunitcolor": "white"
          },
          "hoverlabel": {
           "align": "left"
          },
          "hovermode": "closest",
          "mapbox": {
           "style": "light"
          },
          "paper_bgcolor": "white",
          "plot_bgcolor": "#E5ECF6",
          "polar": {
           "angularaxis": {
            "gridcolor": "white",
            "linecolor": "white",
            "ticks": ""
           },
           "bgcolor": "#E5ECF6",
           "radialaxis": {
            "gridcolor": "white",
            "linecolor": "white",
            "ticks": ""
           }
          },
          "scene": {
           "xaxis": {
            "backgroundcolor": "#E5ECF6",
            "gridcolor": "white",
            "gridwidth": 2,
            "linecolor": "white",
            "showbackground": true,
            "ticks": "",
            "zerolinecolor": "white"
           },
           "yaxis": {
            "backgroundcolor": "#E5ECF6",
            "gridcolor": "white",
            "gridwidth": 2,
            "linecolor": "white",
            "showbackground": true,
            "ticks": "",
            "zerolinecolor": "white"
           },
           "zaxis": {
            "backgroundcolor": "#E5ECF6",
            "gridcolor": "white",
            "gridwidth": 2,
            "linecolor": "white",
            "showbackground": true,
            "ticks": "",
            "zerolinecolor": "white"
           }
          },
          "shapedefaults": {
           "line": {
            "color": "#2a3f5f"
           }
          },
          "ternary": {
           "aaxis": {
            "gridcolor": "white",
            "linecolor": "white",
            "ticks": ""
           },
           "baxis": {
            "gridcolor": "white",
            "linecolor": "white",
            "ticks": ""
           },
           "bgcolor": "#E5ECF6",
           "caxis": {
            "gridcolor": "white",
            "linecolor": "white",
            "ticks": ""
           }
          },
          "title": {
           "x": 0.05
          },
          "xaxis": {
           "automargin": true,
           "gridcolor": "white",
           "linecolor": "white",
           "ticks": "",
           "title": {
            "standoff": 15
           },
           "zerolinecolor": "white",
           "zerolinewidth": 2
          },
          "yaxis": {
           "automargin": true,
           "gridcolor": "white",
           "linecolor": "white",
           "ticks": "",
           "title": {
            "standoff": 15
           },
           "zerolinecolor": "white",
           "zerolinewidth": 2
          }
         }
        },
        "title": {
         "text": "Stage 1 Chord Diagram"
        },
        "width": 600,
        "xaxis": {
         "visible": false
        },
        "yaxis": {
         "scaleanchor": "x",
         "scaleratio": 1,
         "visible": false
        }
       }
      },
      "image/png": "[encoded data removed]"
     },
     "metadata": {},
     "output_type": "display_data"
    },
    {
     "data": {
      "application/vnd.plotly.v1+json": {
       "config": {
        "plotlyServerURL": "https://plot.ly"
       },
       "data": [
        {
         "hoverinfo": "text",
         "marker": {
          "color": "lightgrey",
          "line": {
           "color": "black",
           "width": 2
          },
          "size": 20
         },
         "mode": "markers+text",
         "text": [
          "Ser",
          "Lys",
          "Met",
          "Phe",
          "Leu",
          "Thr",
          "Val",
          "Trp",
          "Arg",
          "Gln",
          "Gly",
          "Tyr",
          "Asn",
          "Ala",
          "Tau",
          "Orn"
         ],
         "textposition": "top center",
         "type": "scatter",
         "x": [
          1,
          0.9238795325112867,
          0.7071067811865476,
          0.38268343236508984,
          6.123233995736766e-17,
          -0.3826834323650897,
          -0.7071067811865475,
          -0.9238795325112867,
          -1,
          -0.9238795325112868,
          -0.7071067811865477,
          -0.38268343236509034,
          -1.8369701987210297e-16,
          0.38268343236509,
          0.7071067811865474,
          0.9238795325112865
         ],
         "y": [
          0,
          0.3826834323650898,
          0.7071067811865475,
          0.9238795325112867,
          1,
          0.9238795325112867,
          0.7071067811865476,
          0.3826834323650899,
          1.2246467991473532e-16,
          -0.38268343236508967,
          -0.7071067811865475,
          -0.9238795325112865,
          -1,
          -0.9238795325112866,
          -0.7071067811865477,
          -0.3826834323650904
         ]
        }
       ],
       "layout": {
        "height": 600,
        "margin": {
         "b": 20,
         "l": 20,
         "r": 20,
         "t": 20
        },
        "shapes": [
         {
          "line": {
           "color": "blue",
           "width": 3.07
          },
          "opacity": 0.6,
          "path": "M 1.0,0.0 Q 0,0 -0.7071067811865477,-0.7071067811865475",
          "type": "path"
         },
         {
          "line": {
           "color": "red",
           "width": 2.59
          },
          "opacity": 0.6,
          "path": "M 1.0,0.0 Q 0,0 0.7071067811865474,-0.7071067811865477",
          "type": "path"
         },
         {
          "line": {
           "color": "blue",
           "width": 2.62
          },
          "opacity": 0.6,
          "path": "M 1.0,0.0 Q 0,0 0.9238795325112865,-0.3826834323650904",
          "type": "path"
         },
         {
          "line": {
           "color": "blue",
           "width": 2.8
          },
          "opacity": 0.6,
          "path": "M 6.123233995736766e-17,1.0 Q 0,0 -0.7071067811865475,0.7071067811865476",
          "type": "path"
         },
         {
          "line": {
           "color": "red",
           "width": 2.8
          },
          "opacity": 0.6,
          "path": "M 6.123233995736766e-17,1.0 Q 0,0 -0.9238795325112868,-0.38268343236508967",
          "type": "path"
         },
         {
          "line": {
           "color": "red",
           "width": 2.77
          },
          "opacity": 0.6,
          "path": "M 6.123233995736766e-17,1.0 Q 0,0 -0.7071067811865477,-0.7071067811865475",
          "type": "path"
         },
         {
          "line": {
           "color": "red",
           "width": 2.68
          },
          "opacity": 0.6,
          "path": "M -0.3826834323650897,0.9238795325112867 Q 0,0 0.38268343236509,-0.9238795325112866",
          "type": "path"
         },
         {
          "line": {
           "color": "red",
           "width": 2.77
          },
          "opacity": 0.6,
          "path": "M -0.7071067811865475,0.7071067811865476 Q 0,0 -0.7071067811865477,-0.7071067811865475",
          "type": "path"
         },
         {
          "line": {
           "color": "red",
           "width": 2.56
          },
          "opacity": 0.6,
          "path": "M -0.7071067811865477,-0.7071067811865475 Q 0,0 0.7071067811865474,-0.7071067811865477",
          "type": "path"
         },
         {
          "line": {
           "color": "blue",
           "width": 2.95
          },
          "opacity": 0.6,
          "path": "M -0.38268343236509034,-0.9238795325112865 Q 0,0 0.38268343236509,-0.9238795325112866",
          "type": "path"
         }
        ],
        "showlegend": false,
        "template": {
         "data": {
          "bar": [
           {
            "error_x": {
             "color": "#2a3f5f"
            },
            "error_y": {
             "color": "#2a3f5f"
            },
            "marker": {
             "line": {
              "color": "#E5ECF6",
              "width": 0.5
             },
             "pattern": {
              "fillmode": "overlay",
              "size": 10,
              "solidity": 0.2
             }
            },
            "type": "bar"
           }
          ],
          "barpolar": [
           {
            "marker": {
             "line": {
              "color": "#E5ECF6",
              "width": 0.5
             },
             "pattern": {
              "fillmode": "overlay",
              "size": 10,
              "solidity": 0.2
             }
            },
            "type": "barpolar"
           }
          ],
          "carpet": [
           {
            "aaxis": {
             "endlinecolor": "#2a3f5f",
             "gridcolor": "white",
             "linecolor": "white",
             "minorgridcolor": "white",
             "startlinecolor": "#2a3f5f"
            },
            "baxis": {
             "endlinecolor": "#2a3f5f",
             "gridcolor": "white",
             "linecolor": "white",
             "minorgridcolor": "white",
             "startlinecolor": "#2a3f5f"
            },
            "type": "carpet"
           }
          ],
          "choropleth": [
           {
            "colorbar": {
             "outlinewidth": 0,
             "ticks": ""
            },
            "type": "choropleth"
           }
          ],
          "contour": [
           {
            "colorbar": {
             "outlinewidth": 0,
             "ticks": ""
            },
            "colorscale": [
             [
              0,
              "#0d0887"
             ],
             [
              0.1111111111111111,
              "#46039f"
             ],
             [
              0.2222222222222222,
              "#7201a8"
             ],
             [
              0.3333333333333333,
              "#9c179e"
             ],
             [
              0.4444444444444444,
              "#bd3786"
             ],
             [
              0.5555555555555556,
              "#d8576b"
             ],
             [
              0.6666666666666666,
              "#ed7953"
             ],
             [
              0.7777777777777778,
              "#fb9f3a"
             ],
             [
              0.8888888888888888,
              "#fdca26"
             ],
             [
              1,
              "#f0f921"
             ]
            ],
            "type": "contour"
           }
          ],
          "contourcarpet": [
           {
            "colorbar": {
             "outlinewidth": 0,
             "ticks": ""
            },
            "type": "contourcarpet"
           }
          ],
          "heatmap": [
           {
            "colorbar": {
             "outlinewidth": 0,
             "ticks": ""
            },
            "colorscale": [
             [
              0,
              "#0d0887"
             ],
             [
              0.1111111111111111,
              "#46039f"
             ],
             [
              0.2222222222222222,
              "#7201a8"
             ],
             [
              0.3333333333333333,
              "#9c179e"
             ],
             [
              0.4444444444444444,
              "#bd3786"
             ],
             [
              0.5555555555555556,
              "#d8576b"
             ],
             [
              0.6666666666666666,
              "#ed7953"
             ],
             [
              0.7777777777777778,
              "#fb9f3a"
             ],
             [
              0.8888888888888888,
              "#fdca26"
             ],
             [
              1,
              "#f0f921"
             ]
            ],
            "type": "heatmap"
           }
          ],
          "histogram": [
           {
            "marker": {
             "pattern": {
              "fillmode": "overlay",
              "size": 10,
              "solidity": 0.2
             }
            },
            "type": "histogram"
           }
          ],
          "histogram2d": [
           {
            "colorbar": {
             "outlinewidth": 0,
             "ticks": ""
            },
            "colorscale": [
             [
              0,
              "#0d0887"
             ],
             [
              0.1111111111111111,
              "#46039f"
             ],
             [
              0.2222222222222222,
              "#7201a8"
             ],
             [
              0.3333333333333333,
              "#9c179e"
             ],
             [
              0.4444444444444444,
              "#bd3786"
             ],
             [
              0.5555555555555556,
              "#d8576b"
             ],
             [
              0.6666666666666666,
              "#ed7953"
             ],
             [
              0.7777777777777778,
              "#fb9f3a"
             ],
             [
              0.8888888888888888,
              "#fdca26"
             ],
             [
              1,
              "#f0f921"
             ]
            ],
            "type": "histogram2d"
           }
          ],
          "histogram2dcontour": [
           {
            "colorbar": {
             "outlinewidth": 0,
             "ticks": ""
            },
            "colorscale": [
             [
              0,
              "#0d0887"
             ],
             [
              0.1111111111111111,
              "#46039f"
             ],
             [
              0.2222222222222222,
              "#7201a8"
             ],
             [
              0.3333333333333333,
              "#9c179e"
             ],
             [
              0.4444444444444444,
              "#bd3786"
             ],
             [
              0.5555555555555556,
              "#d8576b"
             ],
             [
              0.6666666666666666,
              "#ed7953"
             ],
             [
              0.7777777777777778,
              "#fb9f3a"
             ],
             [
              0.8888888888888888,
              "#fdca26"
             ],
             [
              1,
              "#f0f921"
             ]
            ],
            "type": "histogram2dcontour"
           }
          ],
          "mesh3d": [
           {
            "colorbar": {
             "outlinewidth": 0,
             "ticks": ""
            },
            "type": "mesh3d"
           }
          ],
          "parcoords": [
           {
            "line": {
             "colorbar": {
              "outlinewidth": 0,
              "ticks": ""
             }
            },
            "type": "parcoords"
           }
          ],
          "pie": [
           {
            "automargin": true,
            "type": "pie"
           }
          ],
          "scatter": [
           {
            "fillpattern": {
             "fillmode": "overlay",
             "size": 10,
             "solidity": 0.2
            },
            "type": "scatter"
           }
          ],
          "scatter3d": [
           {
            "line": {
             "colorbar": {
              "outlinewidth": 0,
              "ticks": ""
             }
            },
            "marker": {
             "colorbar": {
              "outlinewidth": 0,
              "ticks": ""
             }
            },
            "type": "scatter3d"
           }
          ],
          "scattercarpet": [
           {
            "marker": {
             "colorbar": {
              "outlinewidth": 0,
              "ticks": ""
             }
            },
            "type": "scattercarpet"
           }
          ],
          "scattergeo": [
           {
            "marker": {
             "colorbar": {
              "outlinewidth": 0,
              "ticks": ""
             }
            },
            "type": "scattergeo"
           }
          ],
          "scattergl": [
           {
            "marker": {
             "colorbar": {
              "outlinewidth": 0,
              "ticks": ""
             }
            },
            "type": "scattergl"
           }
          ],
          "scattermap": [
           {
            "marker": {
             "colorbar": {
              "outlinewidth": 0,
              "ticks": ""
             }
            },
            "type": "scattermap"
           }
          ],
          "scattermapbox": [
           {
            "marker": {
             "colorbar": {
              "outlinewidth": 0,
              "ticks": ""
             }
            },
            "type": "scattermapbox"
           }
          ],
          "scatterpolar": [
           {
            "marker": {
             "colorbar": {
              "outlinewidth": 0,
              "ticks": ""
             }
            },
            "type": "scatterpolar"
           }
          ],
          "scatterpolargl": [
           {
            "marker": {
             "colorbar": {
              "outlinewidth": 0,
              "ticks": ""
             }
            },
            "type": "scatterpolargl"
           }
          ],
          "scatterternary": [
           {
            "marker": {
             "colorbar": {
              "outlinewidth": 0,
              "ticks": ""
             }
            },
            "type": "scatterternary"
           }
          ],
          "surface": [
           {
            "colorbar": {
             "outlinewidth": 0,
             "ticks": ""
            },
            "colorscale": [
             [
              0,
              "#0d0887"
             ],
             [
              0.1111111111111111,
              "#46039f"
             ],
             [
              0.2222222222222222,
              "#7201a8"
             ],
             [
              0.3333333333333333,
              "#9c179e"
             ],
             [
              0.4444444444444444,
              "#bd3786"
             ],
             [
              0.5555555555555556,
              "#d8576b"
             ],
             [
              0.6666666666666666,
              "#ed7953"
             ],
             [
              0.7777777777777778,
              "#fb9f3a"
             ],
             [
              0.8888888888888888,
              "#fdca26"
             ],
             [
              1,
              "#f0f921"
             ]
            ],
            "type": "surface"
           }
          ],
          "table": [
           {
            "cells": {
             "fill": {
              "color": "#EBF0F8"
             },
             "line": {
              "color": "white"
             }
            },
            "header": {
             "fill": {
              "color": "#C8D4E3"
             },
             "line": {
              "color": "white"
             }
            },
            "type": "table"
           }
          ]
         },
         "layout": {
          "annotationdefaults": {
           "arrowcolor": "#2a3f5f",
           "arrowhead": 0,
           "arrowwidth": 1
          },
          "autotypenumbers": "strict",
          "coloraxis": {
           "colorbar": {
            "outlinewidth": 0,
            "ticks": ""
           }
          },
          "colorscale": {
           "diverging": [
            [
             0,
             "#8e0152"
            ],
            [
             0.1,
             "#c51b7d"
            ],
            [
             0.2,
             "#de77ae"
            ],
            [
             0.3,
             "#f1b6da"
            ],
            [
             0.4,
             "#fde0ef"
            ],
            [
             0.5,
             "#f7f7f7"
            ],
            [
             0.6,
             "#e6f5d0"
            ],
            [
             0.7,
             "#b8e186"
            ],
            [
             0.8,
             "#7fbc41"
            ],
            [
             0.9,
             "#4d9221"
            ],
            [
             1,
             "#276419"
            ]
           ],
           "sequential": [
            [
             0,
             "#0d0887"
            ],
            [
             0.1111111111111111,
             "#46039f"
            ],
            [
             0.2222222222222222,
             "#7201a8"
            ],
            [
             0.3333333333333333,
             "#9c179e"
            ],
            [
             0.4444444444444444,
             "#bd3786"
            ],
            [
             0.5555555555555556,
             "#d8576b"
            ],
            [
             0.6666666666666666,
             "#ed7953"
            ],
            [
             0.7777777777777778,
             "#fb9f3a"
            ],
            [
             0.8888888888888888,
             "#fdca26"
            ],
            [
             1,
             "#f0f921"
            ]
           ],
           "sequentialminus": [
            [
             0,
             "#0d0887"
            ],
            [
             0.1111111111111111,
             "#46039f"
            ],
            [
             0.2222222222222222,
             "#7201a8"
            ],
            [
             0.3333333333333333,
             "#9c179e"
            ],
            [
             0.4444444444444444,
             "#bd3786"
            ],
            [
             0.5555555555555556,
             "#d8576b"
            ],
            [
             0.6666666666666666,
             "#ed7953"
            ],
            [
             0.7777777777777778,
             "#fb9f3a"
            ],
            [
             0.8888888888888888,
             "#fdca26"
            ],
            [
             1,
             "#f0f921"
            ]
           ]
          },
          "colorway": [
           "#636efa",
           "#EF553B",
           "#00cc96",
           "#ab63fa",
           "#FFA15A",
           "#19d3f3",
           "#FF6692",
           "#B6E880",
           "#FF97FF",
           "#FECB52"
          ],
          "font": {
           "color": "#2a3f5f"
          },
          "geo": {
           "bgcolor": "white",
           "lakecolor": "white",
           "landcolor": "#E5ECF6",
           "showlakes": true,
           "showland": true,
           "subunitcolor": "white"
          },
          "hoverlabel": {
           "align": "left"
          },
          "hovermode": "closest",
          "mapbox": {
           "style": "light"
          },
          "paper_bgcolor": "white",
          "plot_bgcolor": "#E5ECF6",
          "polar": {
           "angularaxis": {
            "gridcolor": "white",
            "linecolor": "white",
            "ticks": ""
           },
           "bgcolor": "#E5ECF6",
           "radialaxis": {
            "gridcolor": "white",
            "linecolor": "white",
            "ticks": ""
           }
          },
          "scene": {
           "xaxis": {
            "backgroundcolor": "#E5ECF6",
            "gridcolor": "white",
            "gridwidth": 2,
            "linecolor": "white",
            "showbackground": true,
            "ticks": "",
            "zerolinecolor": "white"
           },
           "yaxis": {
            "backgroundcolor": "#E5ECF6",
            "gridcolor": "white",
            "gridwidth": 2,
            "linecolor": "white",
            "showbackground": true,
            "ticks": "",
            "zerolinecolor": "white"
           },
           "zaxis": {
            "backgroundcolor": "#E5ECF6",
            "gridcolor": "white",
            "gridwidth": 2,
            "linecolor": "white",
            "showbackground": true,
            "ticks": "",
            "zerolinecolor": "white"
           }
          },
          "shapedefaults": {
           "line": {
            "color": "#2a3f5f"
           }
          },
          "ternary": {
           "aaxis": {
            "gridcolor": "white",
            "linecolor": "white",
            "ticks": ""
           },
           "baxis": {
            "gridcolor": "white",
            "linecolor": "white",
            "ticks": ""
           },
           "bgcolor": "#E5ECF6",
           "caxis": {
            "gridcolor": "white",
            "linecolor": "white",
            "ticks": ""
           }
          },
          "title": {
           "x": 0.05
          },
          "xaxis": {
           "automargin": true,
           "gridcolor": "white",
           "linecolor": "white",
           "ticks": "",
           "title": {
            "standoff": 15
           },
           "zerolinecolor": "white",
           "zerolinewidth": 2
          },
          "yaxis": {
           "automargin": true,
           "gridcolor": "white",
           "linecolor": "white",
           "ticks": "",
           "title": {
            "standoff": 15
           },
           "zerolinecolor": "white",
           "zerolinewidth": 2
          }
         }
        },
        "title": {
         "text": "Stage 2 Chord Diagram"
        },
        "width": 600,
        "xaxis": {
         "visible": false
        },
        "yaxis": {
         "scaleanchor": "x",
         "scaleratio": 1,
         "visible": false
        }
       }
      },
      "image/png": "[encoded data removed]"
     },
     "metadata": {},
     "output_type": "display_data"
    },
    {
     "data": {
      "application/vnd.plotly.v1+json": {
       "config": {
        "plotlyServerURL": "https://plot.ly"
       },
       "data": [
        {
         "hoverinfo": "text",
         "marker": {
          "color": "lightgrey",
          "line": {
           "color": "black",
           "width": 2
          },
          "size": 20
         },
         "mode": "markers+text",
         "text": [
          "Ser",
          "Lys",
          "Met",
          "Phe",
          "Leu",
          "Thr",
          "Val",
          "Trp",
          "Arg",
          "Gln",
          "Gly",
          "Tyr",
          "Asn",
          "Ala",
          "Tau",
          "Orn"
         ],
         "textposition": "top center",
         "type": "scatter",
         "x": [
          1,
          0.9238795325112867,
          0.7071067811865476,
          0.38268343236508984,
          6.123233995736766e-17,
          -0.3826834323650897,
          -0.7071067811865475,
          -0.9238795325112867,
          -1,
          -0.9238795325112868,
          -0.7071067811865477,
          -0.38268343236509034,
          -1.8369701987210297e-16,
          0.38268343236509,
          0.7071067811865474,
          0.9238795325112865
         ],
         "y": [
          0,
          0.3826834323650898,
          0.7071067811865475,
          0.9238795325112867,
          1,
          0.9238795325112867,
          0.7071067811865476,
          0.3826834323650899,
          1.2246467991473532e-16,
          -0.38268343236508967,
          -0.7071067811865475,
          -0.9238795325112865,
          -1,
          -0.9238795325112866,
          -0.7071067811865477,
          -0.3826834323650904
         ]
        }
       ],
       "layout": {
        "height": 600,
        "margin": {
         "b": 20,
         "l": 20,
         "r": 20,
         "t": 20
        },
        "shapes": [
         {
          "line": {
           "color": "red",
           "width": 2.6500000000000004
          },
          "opacity": 0.6,
          "path": "M 1.0,0.0 Q 0,0 6.123233995736766e-17,1.0",
          "type": "path"
         },
         {
          "line": {
           "color": "red",
           "width": 2.5300000000000002
          },
          "opacity": 0.6,
          "path": "M 6.123233995736766e-17,1.0 Q 0,0 -0.3826834323650897,0.9238795325112867",
          "type": "path"
         },
         {
          "line": {
           "color": "blue",
           "width": 3.46
          },
          "opacity": 0.6,
          "path": "M 6.123233995736766e-17,1.0 Q 0,0 -0.7071067811865475,0.7071067811865476",
          "type": "path"
         },
         {
          "line": {
           "color": "red",
           "width": 2.77
          },
          "opacity": 0.6,
          "path": "M 6.123233995736766e-17,1.0 Q 0,0 -0.7071067811865477,-0.7071067811865475",
          "type": "path"
         },
         {
          "line": {
           "color": "red",
           "width": 3.0999999999999996
          },
          "opacity": 0.6,
          "path": "M -0.7071067811865475,0.7071067811865476 Q 0,0 -0.7071067811865477,-0.7071067811865475",
          "type": "path"
         },
         {
          "line": {
           "color": "red",
           "width": 2.59
          },
          "opacity": 0.6,
          "path": "M -1.0,1.2246467991473532e-16 Q 0,0 0.7071067811865474,-0.7071067811865477",
          "type": "path"
         }
        ],
        "showlegend": false,
        "template": {
         "data": {
          "bar": [
           {
            "error_x": {
             "color": "#2a3f5f"
            },
            "error_y": {
             "color": "#2a3f5f"
            },
            "marker": {
             "line": {
              "color": "#E5ECF6",
              "width": 0.5
             },
             "pattern": {
              "fillmode": "overlay",
              "size": 10,
              "solidity": 0.2
             }
            },
            "type": "bar"
           }
          ],
          "barpolar": [
           {
            "marker": {
             "line": {
              "color": "#E5ECF6",
              "width": 0.5
             },
             "pattern": {
              "fillmode": "overlay",
              "size": 10,
              "solidity": 0.2
             }
            },
            "type": "barpolar"
           }
          ],
          "carpet": [
           {
            "aaxis": {
             "endlinecolor": "#2a3f5f",
             "gridcolor": "white",
             "linecolor": "white",
             "minorgridcolor": "white",
             "startlinecolor": "#2a3f5f"
            },
            "baxis": {
             "endlinecolor": "#2a3f5f",
             "gridcolor": "white",
             "linecolor": "white",
             "minorgridcolor": "white",
             "startlinecolor": "#2a3f5f"
            },
            "type": "carpet"
           }
          ],
          "choropleth": [
           {
            "colorbar": {
             "outlinewidth": 0,
             "ticks": ""
            },
            "type": "choropleth"
           }
          ],
          "contour": [
           {
            "colorbar": {
             "outlinewidth": 0,
             "ticks": ""
            },
            "colorscale": [
             [
              0,
              "#0d0887"
             ],
             [
              0.1111111111111111,
              "#46039f"
             ],
             [
              0.2222222222222222,
              "#7201a8"
             ],
             [
              0.3333333333333333,
              "#9c179e"
             ],
             [
              0.4444444444444444,
              "#bd3786"
             ],
             [
              0.5555555555555556,
              "#d8576b"
             ],
             [
              0.6666666666666666,
              "#ed7953"
             ],
             [
              0.7777777777777778,
              "#fb9f3a"
             ],
             [
              0.8888888888888888,
              "#fdca26"
             ],
             [
              1,
              "#f0f921"
             ]
            ],
            "type": "contour"
           }
          ],
          "contourcarpet": [
           {
            "colorbar": {
             "outlinewidth": 0,
             "ticks": ""
            },
            "type": "contourcarpet"
           }
          ],
          "heatmap": [
           {
            "colorbar": {
             "outlinewidth": 0,
             "ticks": ""
            },
            "colorscale": [
             [
              0,
              "#0d0887"
             ],
             [
              0.1111111111111111,
              "#46039f"
             ],
             [
              0.2222222222222222,
              "#7201a8"
             ],
             [
              0.3333333333333333,
              "#9c179e"
             ],
             [
              0.4444444444444444,
              "#bd3786"
             ],
             [
              0.5555555555555556,
              "#d8576b"
             ],
             [
              0.6666666666666666,
              "#ed7953"
             ],
             [
              0.7777777777777778,
              "#fb9f3a"
             ],
             [
              0.8888888888888888,
              "#fdca26"
             ],
             [
              1,
              "#f0f921"
             ]
            ],
            "type": "heatmap"
           }
          ],
          "histogram": [
           {
            "marker": {
             "pattern": {
              "fillmode": "overlay",
              "size": 10,
              "solidity": 0.2
             }
            },
            "type": "histogram"
           }
          ],
          "histogram2d": [
           {
            "colorbar": {
             "outlinewidth": 0,
             "ticks": ""
            },
            "colorscale": [
             [
              0,
              "#0d0887"
             ],
             [
              0.1111111111111111,
              "#46039f"
             ],
             [
              0.2222222222222222,
              "#7201a8"
             ],
             [
              0.3333333333333333,
              "#9c179e"
             ],
             [
              0.4444444444444444,
              "#bd3786"
             ],
             [
              0.5555555555555556,
              "#d8576b"
             ],
             [
              0.6666666666666666,
              "#ed7953"
             ],
             [
              0.7777777777777778,
              "#fb9f3a"
             ],
             [
              0.8888888888888888,
              "#fdca26"
             ],
             [
              1,
              "#f0f921"
             ]
            ],
            "type": "histogram2d"
           }
          ],
          "histogram2dcontour": [
           {
            "colorbar": {
             "outlinewidth": 0,
             "ticks": ""
            },
            "colorscale": [
             [
              0,
              "#0d0887"
             ],
             [
              0.1111111111111111,
              "#46039f"
             ],
             [
              0.2222222222222222,
              "#7201a8"
             ],
             [
              0.3333333333333333,
              "#9c179e"
             ],
             [
              0.4444444444444444,
              "#bd3786"
             ],
             [
              0.5555555555555556,
              "#d8576b"
             ],
             [
              0.6666666666666666,
              "#ed7953"
             ],
             [
              0.7777777777777778,
              "#fb9f3a"
             ],
             [
              0.8888888888888888,
              "#fdca26"
             ],
             [
              1,
              "#f0f921"
             ]
            ],
            "type": "histogram2dcontour"
           }
          ],
          "mesh3d": [
           {
            "colorbar": {
             "outlinewidth": 0,
             "ticks": ""
            },
            "type": "mesh3d"
           }
          ],
          "parcoords": [
           {
            "line": {
             "colorbar": {
              "outlinewidth": 0,
              "ticks": ""
             }
            },
            "type": "parcoords"
           }
          ],
          "pie": [
           {
            "automargin": true,
            "type": "pie"
           }
          ],
          "scatter": [
           {
            "fillpattern": {
             "fillmode": "overlay",
             "size": 10,
             "solidity": 0.2
            },
            "type": "scatter"
           }
          ],
          "scatter3d": [
           {
            "line": {
             "colorbar": {
              "outlinewidth": 0,
              "ticks": ""
             }
            },
            "marker": {
             "colorbar": {
              "outlinewidth": 0,
              "ticks": ""
             }
            },
            "type": "scatter3d"
           }
          ],
          "scattercarpet": [
           {
            "marker": {
             "colorbar": {
              "outlinewidth": 0,
              "ticks": ""
             }
            },
            "type": "scattercarpet"
           }
          ],
          "scattergeo": [
           {
            "marker": {
             "colorbar": {
              "outlinewidth": 0,
              "ticks": ""
             }
            },
            "type": "scattergeo"
           }
          ],
          "scattergl": [
           {
            "marker": {
             "colorbar": {
              "outlinewidth": 0,
              "ticks": ""
             }
            },
            "type": "scattergl"
           }
          ],
          "scattermap": [
           {
            "marker": {
             "colorbar": {
              "outlinewidth": 0,
              "ticks": ""
             }
            },
            "type": "scattermap"
           }
          ],
          "scattermapbox": [
           {
            "marker": {
             "colorbar": {
              "outlinewidth": 0,
              "ticks": ""
             }
            },
            "type": "scattermapbox"
           }
          ],
          "scatterpolar": [
           {
            "marker": {
             "colorbar": {
              "outlinewidth": 0,
              "ticks": ""
             }
            },
            "type": "scatterpolar"
           }
          ],
          "scatterpolargl": [
           {
            "marker": {
             "colorbar": {
              "outlinewidth": 0,
              "ticks": ""
             }
            },
            "type": "scatterpolargl"
           }
          ],
          "scatterternary": [
           {
            "marker": {
             "colorbar": {
              "outlinewidth": 0,
              "ticks": ""
             }
            },
            "type": "scatterternary"
           }
          ],
          "surface": [
           {
            "colorbar": {
             "outlinewidth": 0,
             "ticks": ""
            },
            "colorscale": [
             [
              0,
              "#0d0887"
             ],
             [
              0.1111111111111111,
              "#46039f"
             ],
             [
              0.2222222222222222,
              "#7201a8"
             ],
             [
              0.3333333333333333,
              "#9c179e"
             ],
             [
              0.4444444444444444,
              "#bd3786"
             ],
             [
              0.5555555555555556,
              "#d8576b"
             ],
             [
              0.6666666666666666,
              "#ed7953"
             ],
             [
              0.7777777777777778,
              "#fb9f3a"
             ],
             [
              0.8888888888888888,
              "#fdca26"
             ],
             [
              1,
              "#f0f921"
             ]
            ],
            "type": "surface"
           }
          ],
          "table": [
           {
            "cells": {
             "fill": {
              "color": "#EBF0F8"
             },
             "line": {
              "color": "white"
             }
            },
            "header": {
             "fill": {
              "color": "#C8D4E3"
             },
             "line": {
              "color": "white"
             }
            },
            "type": "table"
           }
          ]
         },
         "layout": {
          "annotationdefaults": {
           "arrowcolor": "#2a3f5f",
           "arrowhead": 0,
           "arrowwidth": 1
          },
          "autotypenumbers": "strict",
          "coloraxis": {
           "colorbar": {
            "outlinewidth": 0,
            "ticks": ""
           }
          },
          "colorscale": {
           "diverging": [
            [
             0,
             "#8e0152"
            ],
            [
             0.1,
             "#c51b7d"
            ],
            [
             0.2,
             "#de77ae"
            ],
            [
             0.3,
             "#f1b6da"
            ],
            [
             0.4,
             "#fde0ef"
            ],
            [
             0.5,
             "#f7f7f7"
            ],
            [
             0.6,
             "#e6f5d0"
            ],
            [
             0.7,
             "#b8e186"
            ],
            [
             0.8,
             "#7fbc41"
            ],
            [
             0.9,
             "#4d9221"
            ],
            [
             1,
             "#276419"
            ]
           ],
           "sequential": [
            [
             0,
             "#0d0887"
            ],
            [
             0.1111111111111111,
             "#46039f"
            ],
            [
             0.2222222222222222,
             "#7201a8"
            ],
            [
             0.3333333333333333,
             "#9c179e"
            ],
            [
             0.4444444444444444,
             "#bd3786"
            ],
            [
             0.5555555555555556,
             "#d8576b"
            ],
            [
             0.6666666666666666,
             "#ed7953"
            ],
            [
             0.7777777777777778,
             "#fb9f3a"
            ],
            [
             0.8888888888888888,
             "#fdca26"
            ],
            [
             1,
             "#f0f921"
            ]
           ],
           "sequentialminus": [
            [
             0,
             "#0d0887"
            ],
            [
             0.1111111111111111,
             "#46039f"
            ],
            [
             0.2222222222222222,
             "#7201a8"
            ],
            [
             0.3333333333333333,
             "#9c179e"
            ],
            [
             0.4444444444444444,
             "#bd3786"
            ],
            [
             0.5555555555555556,
             "#d8576b"
            ],
            [
             0.6666666666666666,
             "#ed7953"
            ],
            [
             0.7777777777777778,
             "#fb9f3a"
            ],
            [
             0.8888888888888888,
             "#fdca26"
            ],
            [
             1,
             "#f0f921"
            ]
           ]
          },
          "colorway": [
           "#636efa",
           "#EF553B",
           "#00cc96",
           "#ab63fa",
           "#FFA15A",
           "#19d3f3",
           "#FF6692",
           "#B6E880",
           "#FF97FF",
           "#FECB52"
          ],
          "font": {
           "color": "#2a3f5f"
          },
          "geo": {
           "bgcolor": "white",
           "lakecolor": "white",
           "landcolor": "#E5ECF6",
           "showlakes": true,
           "showland": true,
           "subunitcolor": "white"
          },
          "hoverlabel": {
           "align": "left"
          },
          "hovermode": "closest",
          "mapbox": {
           "style": "light"
          },
          "paper_bgcolor": "white",
          "plot_bgcolor": "#E5ECF6",
          "polar": {
           "angularaxis": {
            "gridcolor": "white",
            "linecolor": "white",
            "ticks": ""
           },
           "bgcolor": "#E5ECF6",
           "radialaxis": {
            "gridcolor": "white",
            "linecolor": "white",
            "ticks": ""
           }
          },
          "scene": {
           "xaxis": {
            "backgroundcolor": "#E5ECF6",
            "gridcolor": "white",
            "gridwidth": 2,
            "linecolor": "white",
            "showbackground": true,
            "ticks": "",
            "zerolinecolor": "white"
           },
           "yaxis": {
            "backgroundcolor": "#E5ECF6",
            "gridcolor": "white",
            "gridwidth": 2,
            "linecolor": "white",
            "showbackground": true,
            "ticks": "",
            "zerolinecolor": "white"
           },
           "zaxis": {
            "backgroundcolor": "#E5ECF6",
            "gridcolor": "white",
            "gridwidth": 2,
            "linecolor": "white",
            "showbackground": true,
            "ticks": "",
            "zerolinecolor": "white"
           }
          },
          "shapedefaults": {
           "line": {
            "color": "#2a3f5f"
           }
          },
          "ternary": {
           "aaxis": {
            "gridcolor": "white",
            "linecolor": "white",
            "ticks": ""
           },
           "baxis": {
            "gridcolor": "white",
            "linecolor": "white",
            "ticks": ""
           },
           "bgcolor": "#E5ECF6",
           "caxis": {
            "gridcolor": "white",
            "linecolor": "white",
            "ticks": ""
           }
          },
          "title": {
           "x": 0.05
          },
          "xaxis": {
           "automargin": true,
           "gridcolor": "white",
           "linecolor": "white",
           "ticks": "",
           "title": {
            "standoff": 15
           },
           "zerolinecolor": "white",
           "zerolinewidth": 2
          },
          "yaxis": {
           "automargin": true,
           "gridcolor": "white",
           "linecolor": "white",
           "ticks": "",
           "title": {
            "standoff": 15
           },
           "zerolinecolor": "white",
           "zerolinewidth": 2
          }
         }
        },
        "title": {
         "text": "Stage 3 Chord Diagram"
        },
        "width": 600,
        "xaxis": {
         "visible": false
        },
        "yaxis": {
         "scaleanchor": "x",
         "scaleratio": 1,
         "visible": false
        }
       }
      },
      "image/png": "[encoded data removed]"
     },
     "metadata": {},
     "output_type": "display_data"
    },
    {
     "data": {
      "application/vnd.plotly.v1+json": {
       "config": {
        "plotlyServerURL": "https://plot.ly"
       },
       "data": [
        {
         "hoverinfo": "text",
         "marker": {
          "color": "lightgrey",
          "line": {
           "color": "black",
           "width": 2
          },
          "size": 20
         },
         "mode": "markers+text",
         "text": [
          "Ser",
          "Lys",
          "Met",
          "Phe",
          "Leu",
          "Thr",
          "Val",
          "Trp",
          "Arg",
          "Gln",
          "Gly",
          "Tyr",
          "Asn",
          "Ala",
          "Tau",
          "Orn"
         ],
         "textposition": "top center",
         "type": "scatter",
         "x": [
          1,
          0.9238795325112867,
          0.7071067811865476,
          0.38268343236508984,
          6.123233995736766e-17,
          -0.3826834323650897,
          -0.7071067811865475,
          -0.9238795325112867,
          -1,
          -0.9238795325112868,
          -0.7071067811865477,
          -0.38268343236509034,
          -1.8369701987210297e-16,
          0.38268343236509,
          0.7071067811865474,
          0.9238795325112865
         ],
         "y": [
          0,
          0.3826834323650898,
          0.7071067811865475,
          0.9238795325112867,
          1,
          0.9238795325112867,
          0.7071067811865476,
          0.3826834323650899,
          1.2246467991473532e-16,
          -0.38268343236508967,
          -0.7071067811865475,
          -0.9238795325112865,
          -1,
          -0.9238795325112866,
          -0.7071067811865477,
          -0.3826834323650904
         ]
        }
       ],
       "layout": {
        "height": 600,
        "margin": {
         "b": 20,
         "l": 20,
         "r": 20,
         "t": 20
        },
        "shapes": [
         {
          "line": {
           "color": "blue",
           "width": 2.5300000000000002
          },
          "opacity": 0.6,
          "path": "M 1.0,0.0 Q 0,0 -0.7071067811865477,-0.7071067811865475",
          "type": "path"
         },
         {
          "line": {
           "color": "blue",
           "width": 3.13
          },
          "opacity": 0.6,
          "path": "M 6.123233995736766e-17,1.0 Q 0,0 -0.7071067811865475,0.7071067811865476",
          "type": "path"
         },
         {
          "line": {
           "color": "red",
           "width": 2.56
          },
          "opacity": 0.6,
          "path": "M 6.123233995736766e-17,1.0 Q 0,0 -0.7071067811865477,-0.7071067811865475",
          "type": "path"
         },
         {
          "line": {
           "color": "red",
           "width": 3.4000000000000004
          },
          "opacity": 0.6,
          "path": "M -0.7071067811865475,0.7071067811865476 Q 0,0 -0.7071067811865477,-0.7071067811865475",
          "type": "path"
         },
         {
          "line": {
           "color": "red",
           "width": 2.7399999999999998
          },
          "opacity": 0.6,
          "path": "M -0.9238795325112868,-0.38268343236508967 Q 0,0 0.9238795325112865,-0.3826834323650904",
          "type": "path"
         }
        ],
        "showlegend": false,
        "template": {
         "data": {
          "bar": [
           {
            "error_x": {
             "color": "#2a3f5f"
            },
            "error_y": {
             "color": "#2a3f5f"
            },
            "marker": {
             "line": {
              "color": "#E5ECF6",
              "width": 0.5
             },
             "pattern": {
              "fillmode": "overlay",
              "size": 10,
              "solidity": 0.2
             }
            },
            "type": "bar"
           }
          ],
          "barpolar": [
           {
            "marker": {
             "line": {
              "color": "#E5ECF6",
              "width": 0.5
             },
             "pattern": {
              "fillmode": "overlay",
              "size": 10,
              "solidity": 0.2
             }
            },
            "type": "barpolar"
           }
          ],
          "carpet": [
           {
            "aaxis": {
             "endlinecolor": "#2a3f5f",
             "gridcolor": "white",
             "linecolor": "white",
             "minorgridcolor": "white",
             "startlinecolor": "#2a3f5f"
            },
            "baxis": {
             "endlinecolor": "#2a3f5f",
             "gridcolor": "white",
             "linecolor": "white",
             "minorgridcolor": "white",
             "startlinecolor": "#2a3f5f"
            },
            "type": "carpet"
           }
          ],
          "choropleth": [
           {
            "colorbar": {
             "outlinewidth": 0,
             "ticks": ""
            },
            "type": "choropleth"
           }
          ],
          "contour": [
           {
            "colorbar": {
             "outlinewidth": 0,
             "ticks": ""
            },
            "colorscale": [
             [
              0,
              "#0d0887"
             ],
             [
              0.1111111111111111,
              "#46039f"
             ],
             [
              0.2222222222222222,
              "#7201a8"
             ],
             [
              0.3333333333333333,
              "#9c179e"
             ],
             [
              0.4444444444444444,
              "#bd3786"
             ],
             [
              0.5555555555555556,
              "#d8576b"
             ],
             [
              0.6666666666666666,
              "#ed7953"
             ],
             [
              0.7777777777777778,
              "#fb9f3a"
             ],
             [
              0.8888888888888888,
              "#fdca26"
             ],
             [
              1,
              "#f0f921"
             ]
            ],
            "type": "contour"
           }
          ],
          "contourcarpet": [
           {
            "colorbar": {
             "outlinewidth": 0,
             "ticks": ""
            },
            "type": "contourcarpet"
           }
          ],
          "heatmap": [
           {
            "colorbar": {
             "outlinewidth": 0,
             "ticks": ""
            },
            "colorscale": [
             [
              0,
              "#0d0887"
             ],
             [
              0.1111111111111111,
              "#46039f"
             ],
             [
              0.2222222222222222,
              "#7201a8"
             ],
             [
              0.3333333333333333,
              "#9c179e"
             ],
             [
              0.4444444444444444,
              "#bd3786"
             ],
             [
              0.5555555555555556,
              "#d8576b"
             ],
             [
              0.6666666666666666,
              "#ed7953"
             ],
             [
              0.7777777777777778,
              "#fb9f3a"
             ],
             [
              0.8888888888888888,
              "#fdca26"
             ],
             [
              1,
              "#f0f921"
             ]
            ],
            "type": "heatmap"
           }
          ],
          "histogram": [
           {
            "marker": {
             "pattern": {
              "fillmode": "overlay",
              "size": 10,
              "solidity": 0.2
             }
            },
            "type": "histogram"
           }
          ],
          "histogram2d": [
           {
            "colorbar": {
             "outlinewidth": 0,
             "ticks": ""
            },
            "colorscale": [
             [
              0,
              "#0d0887"
             ],
             [
              0.1111111111111111,
              "#46039f"
             ],
             [
              0.2222222222222222,
              "#7201a8"
             ],
             [
              0.3333333333333333,
              "#9c179e"
             ],
             [
              0.4444444444444444,
              "#bd3786"
             ],
             [
              0.5555555555555556,
              "#d8576b"
             ],
             [
              0.6666666666666666,
              "#ed7953"
             ],
             [
              0.7777777777777778,
              "#fb9f3a"
             ],
             [
              0.8888888888888888,
              "#fdca26"
             ],
             [
              1,
              "#f0f921"
             ]
            ],
            "type": "histogram2d"
           }
          ],
          "histogram2dcontour": [
           {
            "colorbar": {
             "outlinewidth": 0,
             "ticks": ""
            },
            "colorscale": [
             [
              0,
              "#0d0887"
             ],
             [
              0.1111111111111111,
              "#46039f"
             ],
             [
              0.2222222222222222,
              "#7201a8"
             ],
             [
              0.3333333333333333,
              "#9c179e"
             ],
             [
              0.4444444444444444,
              "#bd3786"
             ],
             [
              0.5555555555555556,
              "#d8576b"
             ],
             [
              0.6666666666666666,
              "#ed7953"
             ],
             [
              0.7777777777777778,
              "#fb9f3a"
             ],
             [
              0.8888888888888888,
              "#fdca26"
             ],
             [
              1,
              "#f0f921"
             ]
            ],
            "type": "histogram2dcontour"
           }
          ],
          "mesh3d": [
           {
            "colorbar": {
             "outlinewidth": 0,
             "ticks": ""
            },
            "type": "mesh3d"
           }
          ],
          "parcoords": [
           {
            "line": {
             "colorbar": {
              "outlinewidth": 0,
              "ticks": ""
             }
            },
            "type": "parcoords"
           }
          ],
          "pie": [
           {
            "automargin": true,
            "type": "pie"
           }
          ],
          "scatter": [
           {
            "fillpattern": {
             "fillmode": "overlay",
             "size": 10,
             "solidity": 0.2
            },
            "type": "scatter"
           }
          ],
          "scatter3d": [
           {
            "line": {
             "colorbar": {
              "outlinewidth": 0,
              "ticks": ""
             }
            },
            "marker": {
             "colorbar": {
              "outlinewidth": 0,
              "ticks": ""
             }
            },
            "type": "scatter3d"
           }
          ],
          "scattercarpet": [
           {
            "marker": {
             "colorbar": {
              "outlinewidth": 0,
              "ticks": ""
             }
            },
            "type": "scattercarpet"
           }
          ],
          "scattergeo": [
           {
            "marker": {
             "colorbar": {
              "outlinewidth": 0,
              "ticks": ""
             }
            },
            "type": "scattergeo"
           }
          ],
          "scattergl": [
           {
            "marker": {
             "colorbar": {
              "outlinewidth": 0,
              "ticks": ""
             }
            },
            "type": "scattergl"
           }
          ],
          "scattermap": [
           {
            "marker": {
             "colorbar": {
              "outlinewidth": 0,
              "ticks": ""
             }
            },
            "type": "scattermap"
           }
          ],
          "scattermapbox": [
           {
            "marker": {
             "colorbar": {
              "outlinewidth": 0,
              "ticks": ""
             }
            },
            "type": "scattermapbox"
           }
          ],
          "scatterpolar": [
           {
            "marker": {
             "colorbar": {
              "outlinewidth": 0,
              "ticks": ""
             }
            },
            "type": "scatterpolar"
           }
          ],
          "scatterpolargl": [
           {
            "marker": {
             "colorbar": {
              "outlinewidth": 0,
              "ticks": ""
             }
            },
            "type": "scatterpolargl"
           }
          ],
          "scatterternary": [
           {
            "marker": {
             "colorbar": {
              "outlinewidth": 0,
              "ticks": ""
             }
            },
            "type": "scatterternary"
           }
          ],
          "surface": [
           {
            "colorbar": {
             "outlinewidth": 0,
             "ticks": ""
            },
            "colorscale": [
             [
              0,
              "#0d0887"
             ],
             [
              0.1111111111111111,
              "#46039f"
             ],
             [
              0.2222222222222222,
              "#7201a8"
             ],
             [
              0.3333333333333333,
              "#9c179e"
             ],
             [
              0.4444444444444444,
              "#bd3786"
             ],
             [
              0.5555555555555556,
              "#d8576b"
             ],
             [
              0.6666666666666666,
              "#ed7953"
             ],
             [
              0.7777777777777778,
              "#fb9f3a"
             ],
             [
              0.8888888888888888,
              "#fdca26"
             ],
             [
              1,
              "#f0f921"
             ]
            ],
            "type": "surface"
           }
          ],
          "table": [
           {
            "cells": {
             "fill": {
              "color": "#EBF0F8"
             },
             "line": {
              "color": "white"
             }
            },
            "header": {
             "fill": {
              "color": "#C8D4E3"
             },
             "line": {
              "color": "white"
             }
            },
            "type": "table"
           }
          ]
         },
         "layout": {
          "annotationdefaults": {
           "arrowcolor": "#2a3f5f",
           "arrowhead": 0,
           "arrowwidth": 1
          },
          "autotypenumbers": "strict",
          "coloraxis": {
           "colorbar": {
            "outlinewidth": 0,
            "ticks": ""
           }
          },
          "colorscale": {
           "diverging": [
            [
             0,
             "#8e0152"
            ],
            [
             0.1,
             "#c51b7d"
            ],
            [
             0.2,
             "#de77ae"
            ],
            [
             0.3,
             "#f1b6da"
            ],
            [
             0.4,
             "#fde0ef"
            ],
            [
             0.5,
             "#f7f7f7"
            ],
            [
             0.6,
             "#e6f5d0"
            ],
            [
             0.7,
             "#b8e186"
            ],
            [
             0.8,
             "#7fbc41"
            ],
            [
             0.9,
             "#4d9221"
            ],
            [
             1,
             "#276419"
            ]
           ],
           "sequential": [
            [
             0,
             "#0d0887"
            ],
            [
             0.1111111111111111,
             "#46039f"
            ],
            [
             0.2222222222222222,
             "#7201a8"
            ],
            [
             0.3333333333333333,
             "#9c179e"
            ],
            [
             0.4444444444444444,
             "#bd3786"
            ],
            [
             0.5555555555555556,
             "#d8576b"
            ],
            [
             0.6666666666666666,
             "#ed7953"
            ],
            [
             0.7777777777777778,
             "#fb9f3a"
            ],
            [
             0.8888888888888888,
             "#fdca26"
            ],
            [
             1,
             "#f0f921"
            ]
           ],
           "sequentialminus": [
            [
             0,
             "#0d0887"
            ],
            [
             0.1111111111111111,
             "#46039f"
            ],
            [
             0.2222222222222222,
             "#7201a8"
            ],
            [
             0.3333333333333333,
             "#9c179e"
            ],
            [
             0.4444444444444444,
             "#bd3786"
            ],
            [
             0.5555555555555556,
             "#d8576b"
            ],
            [
             0.6666666666666666,
             "#ed7953"
            ],
            [
             0.7777777777777778,
             "#fb9f3a"
            ],
            [
             0.8888888888888888,
             "#fdca26"
            ],
            [
             1,
             "#f0f921"
            ]
           ]
          },
          "colorway": [
           "#636efa",
           "#EF553B",
           "#00cc96",
           "#ab63fa",
           "#FFA15A",
           "#19d3f3",
           "#FF6692",
           "#B6E880",
           "#FF97FF",
           "#FECB52"
          ],
          "font": {
           "color": "#2a3f5f"
          },
          "geo": {
           "bgcolor": "white",
           "lakecolor": "white",
           "landcolor": "#E5ECF6",
           "showlakes": true,
           "showland": true,
           "subunitcolor": "white"
          },
          "hoverlabel": {
           "align": "left"
          },
          "hovermode": "closest",
          "mapbox": {
           "style": "light"
          },
          "paper_bgcolor": "white",
          "plot_bgcolor": "#E5ECF6",
          "polar": {
           "angularaxis": {
            "gridcolor": "white",
            "linecolor": "white",
            "ticks": ""
           },
           "bgcolor": "#E5ECF6",
           "radialaxis": {
            "gridcolor": "white",
            "linecolor": "white",
            "ticks": ""
           }
          },
          "scene": {
           "xaxis": {
            "backgroundcolor": "#E5ECF6",
            "gridcolor": "white",
            "gridwidth": 2,
            "linecolor": "white",
            "showbackground": true,
            "ticks": "",
            "zerolinecolor": "white"
           },
           "yaxis": {
            "backgroundcolor": "#E5ECF6",
            "gridcolor": "white",
            "gridwidth": 2,
            "linecolor": "white",
            "showbackground": true,
            "ticks": "",
            "zerolinecolor": "white"
           },
           "zaxis": {
            "backgroundcolor": "#E5ECF6",
            "gridcolor": "white",
            "gridwidth": 2,
            "linecolor": "white",
            "showbackground": true,
            "ticks": "",
            "zerolinecolor": "white"
           }
          },
          "shapedefaults": {
           "line": {
            "color": "#2a3f5f"
           }
          },
          "ternary": {
           "aaxis": {
            "gridcolor": "white",
            "linecolor": "white",
            "ticks": ""
           },
           "baxis": {
            "gridcolor": "white",
            "linecolor": "white",
            "ticks": ""
           },
           "bgcolor": "#E5ECF6",
           "caxis": {
            "gridcolor": "white",
            "linecolor": "white",
            "ticks": ""
           }
          },
          "title": {
           "x": 0.05
          },
          "xaxis": {
           "automargin": true,
           "gridcolor": "white",
           "linecolor": "white",
           "ticks": "",
           "title": {
            "standoff": 15
           },
           "zerolinecolor": "white",
           "zerolinewidth": 2
          },
          "yaxis": {
           "automargin": true,
           "gridcolor": "white",
           "linecolor": "white",
           "ticks": "",
           "title": {
            "standoff": 15
           },
           "zerolinecolor": "white",
           "zerolinewidth": 2
          }
         }
        },
        "title": {
         "text": "Stage 4 Chord Diagram"
        },
        "width": 600,
        "xaxis": {
         "visible": false
        },
        "yaxis": {
         "scaleanchor": "x",
         "scaleratio": 1,
         "visible": false
        }
       }
      },
      "image/png": "[encoded data removed]"
     },
     "metadata": {},
     "output_type": "display_data"
    }
   ],
   "source": [
    "create_chord_diagram(stage1_df, amino_acids, 1)\n",
    "create_chord_diagram(stage2_df, amino_acids, 2)\n",
    "create_chord_diagram(stage3_df, amino_acids, 3)\n",
    "create_chord_diagram(stage4_df, amino_acids, 4)\n"
   ]
  },
  {
   "cell_type": "markdown",
   "id": "c91b3e18",
   "metadata": {},
   "source": [
    "## Machine learning"
   ]
  },
  {
   "cell_type": "code",
   "execution_count": 102,
   "id": "54663fec",
   "metadata": {},
   "outputs": [],
   "source": [
    "# 1. Assign 'Yes' to patients in stage 4 (metastatic), otherwise 'No'\n",
    "AA_df['Metastasis_Status'] = AA_df['pTNM stage'].apply(lambda x: 'Yes' if x in [4] else 'No')\n",
    "\n",
    "# 2. Filter out patients in stage 1–3 whose recurrence status is missing (NaN)\n",
    "cond = (AA_df['pTNM stage'].isin([1, 2, 3])) & (AA_df['Recurrence'].isna())\n",
    "AA_df = AA_df[~cond].copy()  # Make a safe copy to avoid SettingWithCopyWarning\n",
    "\n",
    "# 3. Create a new column combining both recurrence and metastasis status\n",
    "AA_df.loc[:, 'Meta_or_Recur'] = AA_df.apply(\n",
    "    lambda row: 'Yes' if row['Metastasis_Status'] == 'Yes' or row['Recurrence'] == 'Yes' else 'No',\n",
    "    axis=1\n",
    ")"
   ]
  },
  {
   "cell_type": "code",
   "execution_count": 103,
   "id": "c3c203ab-7123-49db-a3d9-6c728b895fe5",
   "metadata": {},
   "outputs": [],
   "source": [
    "import numpy as np\n",
    "import pandas as pd\n",
    "\n",
    "eps = 1e-8  # small constant for numerical stability\n",
    "\n",
    "# 1) binary target\n",
    "y = AA_df[\"Meta_or_Recur\"].map({\"Yes\": 1, \"No\": 0}).astype(int)\n",
    "\n",
    "# 2) base features\n",
    "X_CEA = AA_df[[\"CEA (before Surgery)\"]]\n",
    "X_AA  = AA_df[zscore_columns]\n",
    "y     = y.loc[X_AA.index]\n",
    "\n",
    "# 3) interaction features\n",
    "pair_list = (\n",
    "    result_df[[\"Variable 1\", \"Variable 2\"]]\n",
    "    .drop_duplicates()\n",
    "    .itertuples(index=False, name=None)\n",
    ")\n",
    "inter_feats = []\n",
    "\n",
    "for a, b in pair_list:\n",
    "    if a in X_AA.columns and b in X_AA.columns:\n",
    "        A, B = X_AA[a], X_AA[b]\n",
    "\n",
    "        # sum\n",
    "        inter_feats.append((A + B).rename(f\"{a}_plus_{b}\"))\n",
    "\n",
    "        # signed differences\n",
    "        inter_feats.append((A - B).rename(f\"{a}_diff_{b}\"))\n",
    "        inter_feats.append((B - A).rename(f\"{b}_diff_{a}\"))\n",
    "\n",
    "        # ε-adjusted product\n",
    "        inter_feats.append(((A + eps) * (B + eps)).rename(f\"{a}_times_{b}\"))\n",
    "\n",
    "        # raw ratio \n",
    "        inter_feats.append(((A + eps) / (B + eps)).rename(f\"{a}_ratio_{b}\"))\n",
    "        inter_feats.append(((B + eps) / (A + eps)).rename(f\"{b}_ratio_{a}\"))\n",
    "\n",
    "        # log-ratio (reciprocal)\n",
    "        inter_feats.append(\n",
    "            np.log(((A + eps) / (B + eps)).clip(lower=1e-8)).rename(f\"{a}_logratio_{b}\")\n",
    "        )\n",
    "        inter_feats.append(\n",
    "            np.log(((B + eps) / (A + eps)).clip(lower=1e-8)).rename(f\"{b}_logratio_{a}\")\n",
    "        )\n",
    "\n",
    "X_corr = pd.concat(inter_feats, axis=1)\n",
    "\n",
    "# 4) align indices\n",
    "X_CEA = X_CEA.loc[X_corr.index]\n",
    "X_AA  = X_AA.loc[X_corr.index]\n",
    "y     = y.loc[X_corr.index]\n",
    "\n",
    "# 5) combined feature matrix\n",
    "X_combined = pd.concat([X_AA, X_corr, X_CEA], axis=1)\n"
   ]
  },
  {
   "cell_type": "code",
   "execution_count": 119,
   "id": "e50f6663-852d-4c71-9156-f4e362890e75",
   "metadata": {},
   "outputs": [
    {
     "name": "stdout",
     "output_type": "stream",
     "text": [
      "[Combined] Global ranking | CV-AUC = 0.682\n",
      "[Combined] Fold  1 | AUC=0.958  Sens=1.000  Spec=0.833  (k=27)\n",
      "[Combined] Fold  2 | AUC=0.562  Sens=0.500  Spec=0.500  (k=23)\n",
      "[Combined] Fold  3 | AUC=0.792  Sens=0.625  Spec=0.500  (k=15)\n",
      "[Combined] Fold  4 | AUC=0.633  Sens=0.429  Spec=0.857  (k=15)\n",
      "[Combined] Fold  5 | AUC=0.918  Sens=1.000  Spec=0.857  (k=25)\n",
      "[Combined] Fold  6 | AUC=0.776  Sens=0.857  Spec=0.571  (k=25)\n",
      "[Combined] Fold  7 | AUC=0.918  Sens=0.714  Spec=0.857  (k=16)\n",
      "[Combined] Fold  8 | AUC=0.714  Sens=0.571  Spec=0.857  (k=25)\n",
      "[Combined] Fold  9 | AUC=0.878  Sens=0.857  Spec=0.714  (k=15)\n",
      "[Combined] Fold 10 | AUC=0.816  Sens=0.857  Spec=0.857  (k=13)\n",
      "\n",
      "⇒ [Combined] Mean AUC=0.797±0.123 | Mean Sens=0.741 | Mean Spec=0.740\n",
      "\n",
      "──────── Final Summary ────────\n",
      "Feature Set  Mean AUC  Std AUC  Mean Sens  Mean Spec  Mean PR AUC\n",
      "   Combined  0.796556 0.123159   0.741071   0.740476     0.838375\n"
     ]
    }
   ],
   "source": [
    "import os, random, warnings, json\n",
    "import numpy as np\n",
    "import pandas as pd\n",
    "import matplotlib.pyplot as plt\n",
    "\n",
    "from sklearn.ensemble        import RandomForestClassifier\n",
    "from sklearn.metrics         import roc_curve, roc_auc_score, confusion_matrix, average_precision_score\n",
    "from sklearn.model_selection import StratifiedKFold\n",
    "from sklearn.experimental    import enable_halving_search_cv  # noqa: F401\n",
    "from sklearn.model_selection import HalvingGridSearchCV\n",
    "\n",
    "\n",
    "RANDOM_STATE = 42\n",
    "random.seed(RANDOM_STATE)\n",
    "np.random.seed(RANDOM_STATE)\n",
    "os.environ.update({\n",
    "    \"PYTHONHASHSEED\": \"42\",\n",
    "    \"OMP_NUM_THREADS\": \"1\",\n",
    "    \"OPENBLAS_NUM_THREADS\": \"1\",\n",
    "    \"MKL_NUM_THREADS\": \"1\",\n",
    "})\n",
    "warnings.filterwarnings(\"ignore\")\n",
    "os.makedirs(\"figures/importances\", exist_ok=True)\n",
    "\n",
    "# Hyper-parameter grid\n",
    "param_grid = {\n",
    "    \"max_depth\":         [None, 10, 20, 30],\n",
    "    \"min_samples_split\": [2, 5, 10],\n",
    "    \"min_samples_leaf\":  [1, 2, 4],\n",
    "    \"max_samples\":       [None, 0.8, 0.9],\n",
    "    \"max_features\":      [\"sqrt\", \"log2\", None, 0.4, 0.6, 0.8],\n",
    "    \"bootstrap\":         [True, False],\n",
    "    \"class_weight\":      [\"balanced\"],\n",
    "}\n",
    "# n_estimators is treated as the HalvingGridSearch resource\n",
    "\n",
    "N_OUTER_FOLDS = 10\n",
    "N_INNER_FOLDS = 5\n",
    "MAX_K         = 50\n",
    "k_candidates  = list(range(1, MAX_K + 1))\n",
    "base_fpr      = np.linspace(0, 1, 101)\n",
    "\n",
    "# Feature sets (pre-loaded)\n",
    "feature_sets = {\n",
    "\n",
    "    \"Combined\": X_combined,\n",
    "}\n",
    "\n",
    "# Global feature ranking \n",
    "global_ranked = {}\n",
    "cv_imp = StratifiedKFold(n_splits=N_INNER_FOLDS, shuffle=True, random_state=RANDOM_STATE)\n",
    "\n",
    "for label, X in feature_sets.items():\n",
    "    # Skip ranking for single-feature set\n",
    "    if X.shape[1] == 1:\n",
    "        global_ranked[label] = X.columns\n",
    "        continue\n",
    "\n",
    "    halving = HalvingGridSearchCV(\n",
    "        RandomForestClassifier(random_state=RANDOM_STATE),\n",
    "        param_grid, scoring=\"roc_auc\", cv=cv_imp, n_jobs=-1,\n",
    "        factor=2, resource=\"n_estimators\",\n",
    "        min_resources=300, max_resources=1500,\n",
    "        verbose=0,\n",
    "    )\n",
    "    halving.fit(X, y)\n",
    "    best_rf = halving.best_estimator_\n",
    "    global_ranked[label] = X.columns[np.argsort(best_rf.feature_importances_)[::-1]]\n",
    "\n",
    "    print(f\"[{label}] Global ranking | CV-AUC = {halving.best_score_:.3f}\")\n",
    "    with open(f\"figures/{label}_halving_best_params.json\", \"w\") as jf:\n",
    "        json.dump(halving.best_params_, jf, indent=2)\n",
    "\n",
    "    # Bar plot of top-15 importances\n",
    "    top_n = 15\n",
    "    idx   = np.argsort(best_rf.feature_importances_)[::-1][:top_n]\n",
    "    plt.figure(figsize=(6, 6))\n",
    "    plt.barh(range(top_n), best_rf.feature_importances_[idx][::-1])\n",
    "    plt.yticks(range(top_n), X.columns[idx][::-1], fontsize=9)\n",
    "    plt.gca().invert_yaxis()\n",
    "    plt.title(f\"{label} – Top-{top_n} importances\")\n",
    "    plt.tight_layout()\n",
    "    plt.savefig(f\"figures/importances/{label}_top{top_n}_importances.pdf\")\n",
    "    plt.close()\n",
    "\n",
    "# Nested cross-validation \n",
    "results  = {}\n",
    "outer_cv = StratifiedKFold(n_splits=N_OUTER_FOLDS, shuffle=True, random_state=RANDOM_STATE)\n",
    "\n",
    "for label, X in feature_sets.items():\n",
    "    roc_d = {k: [] for k in (\"tprs\", \"aucs\", \"sensitivities\", \"specificities\", \"pr_aucs\")}\n",
    "    ranked_cols = global_ranked[label]\n",
    "\n",
    "    # For CEA: k is fixed at 1\n",
    "    k_list = [1] if X.shape[1] == 1 else k_candidates\n",
    "\n",
    "    for fold, (tr, te) in enumerate(outer_cv.split(X, y), 1):\n",
    "        X_tr, X_te = X.iloc[tr], X.iloc[te]\n",
    "        y_tr, y_te = y.iloc[tr], y.iloc[te]\n",
    "\n",
    "        inner_cv = StratifiedKFold(n_splits=N_INNER_FOLDS, shuffle=True, random_state=RANDOM_STATE)\n",
    "\n",
    "        # (i) Determine optimal top-k (skipped if k_list == [1])\n",
    "        best_k, best_auc = 1, -np.inf\n",
    "        for k in k_list:\n",
    "            cols = ranked_cols[:k]\n",
    "            aucs = []\n",
    "            for i_tr, i_val in inner_cv.split(X_tr, y_tr):\n",
    "                rf0 = RandomForestClassifier(\n",
    "                    n_estimators=600, class_weight=\"balanced\",\n",
    "                    random_state=RANDOM_STATE, n_jobs=-1\n",
    "                )\n",
    "                rf0.fit(X_tr.iloc[i_tr][cols], y_tr.iloc[i_tr])\n",
    "                aucs.append(\n",
    "                    roc_auc_score(\n",
    "                        y_tr.iloc[i_val],\n",
    "                        rf0.predict_proba(X_tr.iloc[i_val][cols])[:, 1]\n",
    "                    )\n",
    "                )\n",
    "            if np.mean(aucs) > best_auc:\n",
    "                best_auc, best_k = np.mean(aucs), k\n",
    "        cols_sel = ranked_cols[:best_k]\n",
    "\n",
    "        # (ii) Hyper-parameter tuning with HalvingGridSearch\n",
    "        halving = HalvingGridSearchCV(\n",
    "            RandomForestClassifier(random_state=RANDOM_STATE),\n",
    "            param_grid, scoring=\"roc_auc\", cv=inner_cv, n_jobs=-1,\n",
    "            factor=2, resource=\"n_estimators\",\n",
    "            min_resources=300, max_resources=1500,\n",
    "            verbose=0,\n",
    "        )\n",
    "        halving.fit(X_tr[cols_sel], y_tr)\n",
    "        clf = halving.best_estimator_\n",
    "\n",
    "        # (iii) Threshold (Youden’s J with sensitivity-weighted scoring)\n",
    "        alpha = 0.5  # weight for sensitivity\n",
    "        thr_vals = []\n",
    "\n",
    "        for i_tr, i_val in inner_cv.split(X_tr, y_tr):\n",
    "            clf.fit(X_tr.iloc[i_tr][cols_sel], y_tr.iloc[i_tr])\n",
    "            prob_val = clf.predict_proba(X_tr.iloc[i_val][cols_sel])[:, 1]\n",
    "            fpr, tpr, thr = roc_curve(y_tr.iloc[i_val], prob_val)\n",
    "        \n",
    "            # Youden's J with alpha weighting: alpha * TPR + (1 - alpha) * (1 - FPR)\n",
    "            scores = alpha * tpr + (1 - alpha) * (1 - fpr)\n",
    "            idx = np.argmax(scores)\n",
    "            thr_vals.append(thr[idx])\n",
    "\n",
    "        thr = np.mean(thr_vals)\n",
    "\n",
    "        # (iv) Evaluation on outer test set\n",
    "        prob = clf.predict_proba(X_te[cols_sel])[:, 1]\n",
    "        pred = (prob >= thr).astype(int)\n",
    "\n",
    "        auc   = roc_auc_score(y_te, prob)\n",
    "        tn, fp, fn, tp = confusion_matrix(y_te, pred).ravel()\n",
    "        sens  = tp / (tp + fn + 1e-12)\n",
    "        spec  = tn / (tn + fp + 1e-12)\n",
    "        prauc = average_precision_score(y_te, prob)\n",
    "\n",
    "        fpr_te, tpr_te, _ = roc_curve(y_te, prob)\n",
    "        roc_d[\"tprs\"].append(np.interp(base_fpr, fpr_te, tpr_te, left=0, right=1))\n",
    "        for k, v in zip(\n",
    "            (\"aucs\", \"sensitivities\", \"specificities\", \"pr_aucs\"),\n",
    "            (auc, sens, spec, prauc)\n",
    "        ):\n",
    "            roc_d[k].append(v)\n",
    "\n",
    "        print(f\"[{label}] Fold {fold:2d} | AUC={auc:.3f}  Sens={sens:.3f}  Spec={spec:.3f}  (k={best_k})\")\n",
    "\n",
    "    results[label] = roc_d\n",
    "    print(f\"\\n⇒ [{label}] Mean AUC={np.mean(roc_d['aucs']):.3f}±{np.std(roc_d['aucs']):.3f} | \"\n",
    "          f\"Mean Sens={np.mean(roc_d['sensitivities']):.3f} | Mean Spec={np.mean(roc_d['specificities']):.3f}\\n\")\n",
    "\n",
    "# ROC curves & summary\n",
    "plt.figure(figsize=(6, 6))\n",
    "for lbl, d in results.items():\n",
    "    mean_tpr = np.vstack(d[\"tprs\"]).mean(axis=0); mean_tpr[-1] = 1.0\n",
    "    std_tpr  = np.vstack(d[\"tprs\"]).std(axis=0)\n",
    "    plt.plot(base_fpr, mean_tpr, lw=2, label=f\"{lbl} (AUC {np.mean(d['aucs']):.3f})\")\n",
    "    plt.fill_between(\n",
    "        base_fpr,\n",
    "        np.clip(mean_tpr - std_tpr, 0, 1),\n",
    "        np.clip(mean_tpr + std_tpr, 0, 1),\n",
    "        alpha=0.15\n",
    "    )\n",
    "plt.plot([0, 1], [0, 1], \"k--\", lw=1)\n",
    "plt.xlabel(\"False Positive Rate\")\n",
    "plt.ylabel(\"True Positive Rate\")\n",
    "plt.title(\"Mean ROC (Halving, fixed rank)\")\n",
    "plt.legend()\n",
    "plt.grid(alpha=0.3)\n",
    "plt.tight_layout()\n",
    "plt.savefig(\"figures/mean_ROC_halving_fixedrank.pdf\")\n",
    "plt.close()\n",
    "\n",
    "summary = pd.DataFrame({\n",
    "    \"Feature Set\":  results.keys(),\n",
    "    \"Mean AUC\":     [np.mean(d[\"aucs\"])          for d in results.values()],\n",
    "    \"Std AUC\":      [np.std(d[\"aucs\"])           for d in results.values()],\n",
    "    \"Mean Sens\":    [np.mean(d[\"sensitivities\"]) for d in results.values()],\n",
    "    \"Mean Spec\":    [np.mean(d[\"specificities\"]) for d in results.values()],\n",
    "    \"Mean PR AUC\":  [np.mean(d[\"pr_aucs\"])       for d in results.values()],\n",
    "})\n",
    "summary.to_csv(\"figures/summary_metrics.csv\", index=False)\n",
    "print(\"──────── Final Summary ────────\")\n",
    "print(summary.to_string(index=False))\n"
   ]
  },
  {
   "cell_type": "code",
   "execution_count": 130,
   "id": "5370664a-271d-4456-afd0-46007115cbde",
   "metadata": {},
   "outputs": [
    {
     "name": "stdout",
     "output_type": "stream",
     "text": [
      "[AA] Global ranking | CV-AUC = 0.588\n",
      "[Correlation] Global ranking | CV-AUC = 0.676\n",
      "[Combined] Global ranking | CV-AUC = 0.682\n",
      "[CEA] Fold  1 | AUC=0.562  Sens=0.250  Spec=0.833  (k=1)\n",
      "[CEA] Fold  2 | AUC=0.625  Sens=0.375  Spec=1.000  (k=1)\n",
      "[CEA] Fold  3 | AUC=0.542  Sens=0.375  Spec=0.667  (k=1)\n",
      "[CEA] Fold  4 | AUC=0.327  Sens=0.286  Spec=0.429  (k=1)\n",
      "[CEA] Fold  5 | AUC=0.643  Sens=0.286  Spec=0.857  (k=1)\n",
      "[CEA] Fold  6 | AUC=0.469  Sens=0.429  Spec=0.571  (k=1)\n",
      "[CEA] Fold  7 | AUC=0.429  Sens=0.286  Spec=1.000  (k=1)\n",
      "[CEA] Fold  8 | AUC=0.571  Sens=0.429  Spec=0.857  (k=1)\n",
      "[CEA] Fold  9 | AUC=0.500  Sens=0.286  Spec=1.000  (k=1)\n",
      "[CEA] Fold 10 | AUC=0.653  Sens=0.429  Spec=0.857  (k=1)\n",
      "\n",
      "⇒ [CEA] Mean AUC=0.532±0.098 | Mean Sens=0.343 | Mean Spec=0.807\n",
      "\n",
      "[AA] Fold  1 | AUC=0.333  Sens=0.500  Spec=0.333  (k=1)\n",
      "[AA] Fold  2 | AUC=0.458  Sens=0.375  Spec=0.667  (k=7)\n",
      "[AA] Fold  3 | AUC=0.542  Sens=0.500  Spec=0.833  (k=5)\n",
      "[AA] Fold  4 | AUC=0.673  Sens=0.286  Spec=0.857  (k=5)\n",
      "[AA] Fold  5 | AUC=0.816  Sens=0.714  Spec=0.857  (k=6)\n",
      "[AA] Fold  6 | AUC=0.531  Sens=0.429  Spec=0.857  (k=7)\n",
      "[AA] Fold  7 | AUC=0.449  Sens=0.286  Spec=0.714  (k=8)\n",
      "[AA] Fold  8 | AUC=0.510  Sens=0.429  Spec=0.429  (k=3)\n",
      "[AA] Fold  9 | AUC=0.673  Sens=0.571  Spec=0.714  (k=7)\n",
      "[AA] Fold 10 | AUC=0.551  Sens=0.571  Spec=0.429  (k=6)\n",
      "\n",
      "⇒ [AA] Mean AUC=0.554±0.130 | Mean Sens=0.466 | Mean Spec=0.669\n",
      "\n",
      "[Correlation] Fold  1 | AUC=0.917  Sens=0.875  Spec=0.667  (k=13)\n",
      "[Correlation] Fold  2 | AUC=0.375  Sens=0.250  Spec=0.500  (k=14)\n",
      "[Correlation] Fold  3 | AUC=0.750  Sens=0.750  Spec=0.500  (k=13)\n",
      "[Correlation] Fold  4 | AUC=0.592  Sens=0.429  Spec=0.714  (k=15)\n",
      "[Correlation] Fold  5 | AUC=0.878  Sens=0.857  Spec=0.714  (k=17)\n",
      "[Correlation] Fold  6 | AUC=0.776  Sens=0.857  Spec=0.714  (k=49)\n",
      "[Correlation] Fold  7 | AUC=0.714  Sens=0.571  Spec=0.714  (k=15)\n",
      "[Correlation] Fold  8 | AUC=0.694  Sens=0.714  Spec=0.857  (k=30)\n",
      "[Correlation] Fold  9 | AUC=0.898  Sens=0.857  Spec=0.857  (k=15)\n",
      "[Correlation] Fold 10 | AUC=0.653  Sens=0.571  Spec=0.714  (k=9)\n",
      "\n",
      "⇒ [Correlation] Mean AUC=0.725±0.155 | Mean Sens=0.673 | Mean Spec=0.695\n",
      "\n",
      "[Combined] Fold  1 | AUC=0.958  Sens=1.000  Spec=0.833  (k=27)\n",
      "[Combined] Fold  2 | AUC=0.562  Sens=0.500  Spec=0.500  (k=23)\n",
      "[Combined] Fold  3 | AUC=0.792  Sens=0.625  Spec=0.500  (k=15)\n",
      "[Combined] Fold  4 | AUC=0.633  Sens=0.429  Spec=0.857  (k=15)\n",
      "[Combined] Fold  5 | AUC=0.918  Sens=1.000  Spec=0.857  (k=25)\n",
      "[Combined] Fold  6 | AUC=0.776  Sens=0.857  Spec=0.571  (k=25)\n",
      "[Combined] Fold  7 | AUC=0.918  Sens=0.714  Spec=0.857  (k=16)\n",
      "[Combined] Fold  8 | AUC=0.714  Sens=0.571  Spec=0.857  (k=25)\n",
      "[Combined] Fold  9 | AUC=0.878  Sens=0.857  Spec=0.714  (k=15)\n",
      "[Combined] Fold 10 | AUC=0.816  Sens=0.857  Spec=0.857  (k=13)\n",
      "\n",
      "⇒ [Combined] Mean AUC=0.797±0.123 | Mean Sens=0.741 | Mean Spec=0.740\n",
      "\n",
      "──────── Final Summary ────────\n",
      "Feature Set  Mean AUC  Std AUC  Mean Sens  Mean Spec  Mean PR AUC\n",
      "        CEA  0.532100 0.097996   0.342857   0.807143     0.660344\n",
      "         AA  0.553741 0.129947   0.466071   0.669048     0.692552\n",
      "Correlation  0.724575 0.154786   0.673214   0.695238     0.776871\n",
      "   Combined  0.796556 0.123159   0.741071   0.740476     0.838375\n"
     ]
    }
   ],
   "source": [
    "import os, random, warnings, json\n",
    "import numpy as np\n",
    "import pandas as pd\n",
    "import matplotlib.pyplot as plt\n",
    "\n",
    "from sklearn.ensemble        import RandomForestClassifier\n",
    "from sklearn.metrics         import roc_curve, roc_auc_score, confusion_matrix, average_precision_score\n",
    "from sklearn.model_selection import StratifiedKFold\n",
    "from sklearn.experimental    import enable_halving_search_cv  # noqa: F401\n",
    "from sklearn.model_selection import HalvingGridSearchCV\n",
    "\n",
    "\n",
    "RANDOM_STATE = 42\n",
    "random.seed(RANDOM_STATE)\n",
    "np.random.seed(RANDOM_STATE)\n",
    "os.environ.update({\n",
    "    \"PYTHONHASHSEED\": \"42\",\n",
    "    \"OMP_NUM_THREADS\": \"1\",\n",
    "    \"OPENBLAS_NUM_THREADS\": \"1\",\n",
    "    \"MKL_NUM_THREADS\": \"1\",\n",
    "})\n",
    "warnings.filterwarnings(\"ignore\")\n",
    "os.makedirs(\"figures/importances\", exist_ok=True)\n",
    "\n",
    "# Hyper-parameter grid\n",
    "param_grid = {\n",
    "    \"max_depth\":         [None, 10, 20, 30],\n",
    "    \"min_samples_split\": [2, 5, 10],\n",
    "    \"min_samples_leaf\":  [1, 2, 4],\n",
    "    \"max_samples\":       [None, 0.8, 0.9],\n",
    "    \"max_features\":      [\"sqrt\", \"log2\", None, 0.4, 0.6, 0.8],\n",
    "    \"bootstrap\":         [True, False],\n",
    "    \"class_weight\":      [\"balanced\"],\n",
    "}\n",
    "# n_estimators is treated as the HalvingGridSearch resource\n",
    "\n",
    "N_OUTER_FOLDS = 10\n",
    "N_INNER_FOLDS = 5\n",
    "MAX_K         = 50\n",
    "k_candidates  = list(range(1, MAX_K + 1))\n",
    "base_fpr      = np.linspace(0, 1, 101)\n",
    "\n",
    "# Feature sets (pre-loaded)\n",
    "feature_sets = {\n",
    "    \"CEA\": X_CEA,\n",
    "    \"AA\": X_AA,\n",
    "    \"Correlation\": X_corr,\n",
    "    \"Combined\": X_combined,\n",
    "}\n",
    "\n",
    "# Global feature ranking \n",
    "global_ranked = {}\n",
    "cv_imp = StratifiedKFold(n_splits=N_INNER_FOLDS, shuffle=True, random_state=RANDOM_STATE)\n",
    "\n",
    "for label, X in feature_sets.items():\n",
    "    # Skip ranking for single-feature set\n",
    "    if X.shape[1] == 1:\n",
    "        global_ranked[label] = X.columns\n",
    "        continue\n",
    "\n",
    "    halving = HalvingGridSearchCV(\n",
    "        RandomForestClassifier(random_state=RANDOM_STATE),\n",
    "        param_grid, scoring=\"roc_auc\", cv=cv_imp, n_jobs=-1,\n",
    "        factor=2, resource=\"n_estimators\",\n",
    "        min_resources=300, max_resources=1500,\n",
    "        verbose=0,\n",
    "    )\n",
    "    halving.fit(X, y)\n",
    "    best_rf = halving.best_estimator_\n",
    "    global_ranked[label] = X.columns[np.argsort(best_rf.feature_importances_)[::-1]]\n",
    "\n",
    "    print(f\"[{label}] Global ranking | CV-AUC = {halving.best_score_:.3f}\")\n",
    "    with open(f\"figures/{label}_halving_best_params.json\", \"w\") as jf:\n",
    "        json.dump(halving.best_params_, jf, indent=2)\n",
    "\n",
    "    # Bar plot of top-15 importances\n",
    "    top_n = 15\n",
    "    idx   = np.argsort(best_rf.feature_importances_)[::-1][:top_n]\n",
    "    plt.figure(figsize=(6, 6))\n",
    "    plt.barh(range(top_n), best_rf.feature_importances_[idx][::-1])\n",
    "    plt.yticks(range(top_n), X.columns[idx][::-1], fontsize=9)\n",
    "    plt.gca().invert_yaxis()\n",
    "    plt.title(f\"{label} – Top-{top_n} importances\")\n",
    "    plt.tight_layout()\n",
    "    plt.savefig(f\"figures/importances/{label}_top{top_n}_importances.pdf\")\n",
    "    plt.close()\n",
    "\n",
    "# Nested cross-validation \n",
    "results  = {}\n",
    "outer_cv = StratifiedKFold(n_splits=N_OUTER_FOLDS, shuffle=True, random_state=RANDOM_STATE)\n",
    "\n",
    "for label, X in feature_sets.items():\n",
    "    roc_d = {k: [] for k in (\"tprs\", \"aucs\", \"sensitivities\", \"specificities\", \"pr_aucs\")}\n",
    "    ranked_cols = global_ranked[label]\n",
    "\n",
    "    # For CEA: k is fixed at 1\n",
    "    k_list = [1] if X.shape[1] == 1 else k_candidates\n",
    "\n",
    "    for fold, (tr, te) in enumerate(outer_cv.split(X, y), 1):\n",
    "        X_tr, X_te = X.iloc[tr], X.iloc[te]\n",
    "        y_tr, y_te = y.iloc[tr], y.iloc[te]\n",
    "\n",
    "        inner_cv = StratifiedKFold(n_splits=N_INNER_FOLDS, shuffle=True, random_state=RANDOM_STATE)\n",
    "\n",
    "        # (i) Determine optimal top-k (skipped if k_list == [1])\n",
    "        best_k, best_auc = 1, -np.inf\n",
    "        for k in k_list:\n",
    "            cols = ranked_cols[:k]\n",
    "            aucs = []\n",
    "            for i_tr, i_val in inner_cv.split(X_tr, y_tr):\n",
    "                rf0 = RandomForestClassifier(\n",
    "                    n_estimators=600, class_weight=\"balanced\",\n",
    "                    random_state=RANDOM_STATE, n_jobs=-1\n",
    "                )\n",
    "                rf0.fit(X_tr.iloc[i_tr][cols], y_tr.iloc[i_tr])\n",
    "                aucs.append(\n",
    "                    roc_auc_score(\n",
    "                        y_tr.iloc[i_val],\n",
    "                        rf0.predict_proba(X_tr.iloc[i_val][cols])[:, 1]\n",
    "                    )\n",
    "                )\n",
    "            if np.mean(aucs) > best_auc:\n",
    "                best_auc, best_k = np.mean(aucs), k\n",
    "        cols_sel = ranked_cols[:best_k]\n",
    "\n",
    "        # (ii) Hyper-parameter tuning with HalvingGridSearch\n",
    "        halving = HalvingGridSearchCV(\n",
    "            RandomForestClassifier(random_state=RANDOM_STATE),\n",
    "            param_grid, scoring=\"roc_auc\", cv=inner_cv, n_jobs=-1,\n",
    "            factor=2, resource=\"n_estimators\",\n",
    "            min_resources=300, max_resources=1500,\n",
    "            verbose=0,\n",
    "        )\n",
    "        halving.fit(X_tr[cols_sel], y_tr)\n",
    "        clf = halving.best_estimator_\n",
    "\n",
    "        # (iii) Threshold (Youden’s J with sensitivity-weighted scoring)\n",
    "        alpha = 0.5  # weight for sensitivity\n",
    "        thr_vals = []\n",
    "\n",
    "        for i_tr, i_val in inner_cv.split(X_tr, y_tr):\n",
    "            clf.fit(X_tr.iloc[i_tr][cols_sel], y_tr.iloc[i_tr])\n",
    "            prob_val = clf.predict_proba(X_tr.iloc[i_val][cols_sel])[:, 1]\n",
    "            fpr, tpr, thr = roc_curve(y_tr.iloc[i_val], prob_val)\n",
    "        \n",
    "            # Youden's J with alpha weighting: alpha * TPR + (1 - alpha) * (1 - FPR)\n",
    "            scores = alpha * tpr + (1 - alpha) * (1 - fpr)\n",
    "            idx = np.argmax(scores)\n",
    "            thr_vals.append(thr[idx])\n",
    "\n",
    "        thr = np.mean(thr_vals)\n",
    "\n",
    "        # (iv) Evaluation on outer test set\n",
    "        prob = clf.predict_proba(X_te[cols_sel])[:, 1]\n",
    "        pred = (prob >= thr).astype(int)\n",
    "\n",
    "        auc   = roc_auc_score(y_te, prob)\n",
    "        tn, fp, fn, tp = confusion_matrix(y_te, pred).ravel()\n",
    "        sens  = tp / (tp + fn + 1e-12)\n",
    "        spec  = tn / (tn + fp + 1e-12)\n",
    "        prauc = average_precision_score(y_te, prob)\n",
    "\n",
    "        fpr_te, tpr_te, _ = roc_curve(y_te, prob)\n",
    "        roc_d[\"tprs\"].append(np.interp(base_fpr, fpr_te, tpr_te, left=0, right=1))\n",
    "        for k, v in zip(\n",
    "            (\"aucs\", \"sensitivities\", \"specificities\", \"pr_aucs\"),\n",
    "            (auc, sens, spec, prauc)\n",
    "        ):\n",
    "            roc_d[k].append(v)\n",
    "\n",
    "        print(f\"[{label}] Fold {fold:2d} | AUC={auc:.3f}  Sens={sens:.3f}  Spec={spec:.3f}  (k={best_k})\")\n",
    "\n",
    "    results[label] = roc_d\n",
    "    print(f\"\\n⇒ [{label}] Mean AUC={np.mean(roc_d['aucs']):.3f}±{np.std(roc_d['aucs']):.3f} | \"\n",
    "          f\"Mean Sens={np.mean(roc_d['sensitivities']):.3f} | Mean Spec={np.mean(roc_d['specificities']):.3f}\\n\")\n",
    "\n",
    "# ROC curves & summary\n",
    "plt.figure(figsize=(6, 6))\n",
    "for lbl, d in results.items():\n",
    "    mean_tpr = np.vstack(d[\"tprs\"]).mean(axis=0); mean_tpr[-1] = 1.0\n",
    "    std_tpr  = np.vstack(d[\"tprs\"]).std(axis=0)\n",
    "    plt.plot(base_fpr, mean_tpr, lw=2, label=f\"{lbl} (AUC {np.mean(d['aucs']):.3f})\")\n",
    "    plt.fill_between(\n",
    "        base_fpr,\n",
    "        np.clip(mean_tpr - std_tpr, 0, 1),\n",
    "        np.clip(mean_tpr + std_tpr, 0, 1),\n",
    "        alpha=0.15\n",
    "    )\n",
    "plt.plot([0, 1], [0, 1], \"k--\", lw=1)\n",
    "plt.xlabel(\"False Positive Rate\")\n",
    "plt.ylabel(\"True Positive Rate\")\n",
    "plt.title(\"Mean ROC (Halving, fixed rank)\")\n",
    "plt.legend()\n",
    "plt.grid(alpha=0.3)\n",
    "plt.tight_layout()\n",
    "plt.savefig(\"figures/mean_ROC_halving_fixedrank.pdf\")\n",
    "plt.close()\n",
    "\n",
    "summary = pd.DataFrame({\n",
    "    \"Feature Set\":  results.keys(),\n",
    "    \"Mean AUC\":     [np.mean(d[\"aucs\"])          for d in results.values()],\n",
    "    \"Std AUC\":      [np.std(d[\"aucs\"])           for d in results.values()],\n",
    "    \"Mean Sens\":    [np.mean(d[\"sensitivities\"]) for d in results.values()],\n",
    "    \"Mean Spec\":    [np.mean(d[\"specificities\"]) for d in results.values()],\n",
    "    \"Mean PR AUC\":  [np.mean(d[\"pr_aucs\"])       for d in results.values()],\n",
    "})\n",
    "summary.to_csv(\"figures/summary_metrics.csv\", index=False)\n",
    "print(\"──────── Final Summary ────────\")\n",
    "print(summary.to_string(index=False))\n"
   ]
  },
  {
   "cell_type": "code",
   "execution_count": 133,
   "id": "8d0ef07b-34ef-4d14-bac4-cd22dab2baf7",
   "metadata": {},
   "outputs": [
    {
     "name": "stdout",
     "output_type": "stream",
     "text": [
      "[CEA] AUC 95% CI: 0.532 ± 0.074\n",
      "[AA] AUC 95% CI: 0.554 ± 0.098\n",
      "[Correlation] AUC 95% CI: 0.725 ± 0.117\n",
      "[Combined] AUC 95% CI: 0.797 ± 0.093\n"
     ]
    }
   ],
   "source": [
    "from scipy.stats import sem, t\n",
    "\n",
    "# ──────────────── 1. Plot ROC curves with 95% CI for all models ────────────────\n",
    "plt.figure(figsize=(6, 6))\n",
    "for label, d in results.items():\n",
    "    tprs = np.vstack(d[\"tprs\"])\n",
    "    mean_tpr = tprs.mean(axis=0)\n",
    "    std_err  = sem(tprs, axis=0)\n",
    "    ci95     = t.ppf(0.975, df=tprs.shape[0] - 1) * std_err\n",
    "\n",
    "    # Force the curve to start at (0, 0) and end at (1, 1)\n",
    "    mean_tpr[0] = 0.0\n",
    "    mean_tpr[-1] = 1.0\n",
    "\n",
    "    plt.plot(base_fpr, mean_tpr, label=f\"{label} (AUC={np.mean(d['aucs']):.3f})\", lw=2)\n",
    "    plt.fill_between(\n",
    "        base_fpr,\n",
    "        np.clip(mean_tpr - ci95, 0, 1),\n",
    "        np.clip(mean_tpr + ci95, 0, 1),\n",
    "        alpha=0.2\n",
    "    )\n",
    "\n",
    "plt.plot([0, 1], [0, 1], \"k--\", lw=1)\n",
    "plt.xlabel(\"False Positive Rate\")\n",
    "plt.ylabel(\"True Positive Rate\")\n",
    "plt.title(\"ROC with 95% CI (All Models)\")\n",
    "plt.legend()\n",
    "plt.grid(alpha=0.3)\n",
    "plt.tight_layout()\n",
    "plt.savefig(\"figures/mean_ROC_95CI_all_models.pdf\")\n",
    "plt.close()\n",
    "\n",
    "\n",
    "# ──────────────── 2. Global feature importance (Top 15) bar plot ────────────────\n",
    "for label, X in feature_sets.items():\n",
    "    if X.shape[1] == 1:\n",
    "        continue  # skip if only 1 feature\n",
    "\n",
    "    best_params_path = f\"figures/{label}_halving_best_params.json\"\n",
    "    if not os.path.exists(best_params_path):\n",
    "        continue\n",
    "\n",
    "    with open(best_params_path) as jf:\n",
    "        best_params = json.load(jf)\n",
    "\n",
    "    clf = RandomForestClassifier(**best_params, random_state=RANDOM_STATE)\n",
    "    clf.fit(X[global_ranked[label]], y)\n",
    "    importances = clf.feature_importances_\n",
    "    idx_top15 = np.argsort(importances)[::-1][:15]\n",
    "\n",
    "    plt.figure(figsize=(6, 6))\n",
    "    plt.barh(range(15), importances[idx_top15][::-1])\n",
    "    plt.yticks(range(15), X.columns[idx_top15][::-1], fontsize=9)\n",
    "    plt.gca().invert_yaxis()\n",
    "    plt.title(f\"{label} – Global Top-15 Feature Importance\")\n",
    "    plt.tight_layout()\n",
    "    plt.savefig(f\"figures/importances/{label}_global_top15_importances.pdf\")\n",
    "    plt.close()\n",
    "\n",
    "# ──────────────── 3. Compare CEA vs Combined (ROC ± std shading) ────────────────\n",
    "plt.figure(figsize=(6, 6))\n",
    "\n",
    "for label in [\"CEA\", \"Combined\"]:\n",
    "    d = results[label]\n",
    "    tprs = []\n",
    "    \n",
    "    for tpr_fold, fpr_fold in zip(d[\"tprs\"], [base_fpr]*len(d[\"tprs\"])):\n",
    "        interp_tpr = np.interp(base_fpr, fpr_fold, tpr_fold)\n",
    "        interp_tpr[0] = 0.0   # Ensure start from (0, 0)\n",
    "        interp_tpr[-1] = 1.0  # Ensure end at (1, 1)\n",
    "        tprs.append(interp_tpr)\n",
    "\n",
    "    tprs = np.array(tprs)\n",
    "    mean_tpr = tprs.mean(axis=0)\n",
    "    std_tpr  = tprs.std(axis=0)\n",
    "\n",
    "    plt.plot(base_fpr, mean_tpr, lw=2, label=f\"{label} (AUC={np.mean(d['aucs']):.3f})\")\n",
    "    plt.fill_between(\n",
    "        base_fpr,\n",
    "        np.clip(mean_tpr - std_tpr, 0, 1),\n",
    "        np.clip(mean_tpr + std_tpr, 0, 1),\n",
    "        alpha=0.2\n",
    "    )\n",
    "\n",
    "plt.plot([0, 1], [0, 1], \"k--\", lw=1)\n",
    "plt.xlabel(\"False Positive Rate\")\n",
    "plt.ylabel(\"True Positive Rate\")\n",
    "plt.title(\"CEA vs Combined ROC ± std\")\n",
    "plt.legend()\n",
    "plt.grid(alpha=0.3)\n",
    "plt.tight_layout()\n",
    "plt.savefig(\"figures/CEA_vs_Combined_ROC_std_shaded_fixed.pdf\")\n",
    "plt.close()\n",
    "\n",
    "\n",
    "# ──────────────── 4. Print AUC ± 95% CI for each model ────────────────\n",
    "for label, d in results.items():\n",
    "    aucs = d[\"aucs\"]\n",
    "    mean_auc = np.mean(aucs)\n",
    "    ci95_auc = t.ppf(0.975, len(aucs)-1) * sem(aucs)\n",
    "    print(f\"[{label}] AUC 95% CI: {mean_auc:.3f} ± {ci95_auc:.3f}\")\n"
   ]
  },
  {
   "cell_type": "code",
   "execution_count": 137,
   "id": "2ed425f4-7bc2-470e-a1e0-72989a255c6b",
   "metadata": {},
   "outputs": [],
   "source": [
    "# ──────────────── 5. Save and Plot Global Feature Importance (by initial best_rf) ────────────────\n",
    "for label, X in feature_sets.items():\n",
    "    if X.shape[1] == 1:\n",
    "        continue  # skip single-feature set\n",
    "\n",
    "    # Load initial importance values from Halving stage\n",
    "    json_path = f\"figures/{label}_halving_best_params.json\"\n",
    "    if not os.path.exists(json_path):\n",
    "        continue\n",
    "\n",
    "    with open(json_path) as jf:\n",
    "        best_params = json.load(jf)\n",
    "\n",
    "    clf = RandomForestClassifier(**best_params, random_state=RANDOM_STATE)\n",
    "    clf.fit(X, y)\n",
    "\n",
    "    # Save importance values once\n",
    "    importance_dict = {\n",
    "        \"features\": list(X.columns),\n",
    "        \"importances\": clf.feature_importances_.tolist()\n",
    "    }\n",
    "    with open(f\"figures/{label}_halving_importance.json\", \"w\") as jf:\n",
    "        json.dump(importance_dict, jf, indent=2)\n",
    "\n",
    "    # Load and sort by saved global_ranked order\n",
    "    importances = pd.Series(clf.feature_importances_, index=X.columns)\n",
    "    ranked_features = list(global_ranked[label])\n",
    "    ranked_importances = importances[ranked_features]\n",
    "\n",
    "    # Plot Top 15\n",
    "    top_n = 10\n",
    "    plt.figure(figsize=(6, 6))\n",
    "    plt.barh(range(top_n), ranked_importances.iloc[:top_n][::-1])\n",
    "    plt.yticks(range(top_n), ranked_importances.index[:top_n][::-1], fontsize=9)\n",
    "    plt.gca().invert_yaxis()\n",
    "    plt.title(f\"{label} – Global Top-{top_n} (by initial best_rf)\")\n",
    "    plt.tight_layout()\n",
    "    plt.savefig(f\"figures/importances/{label}_ranked_top{top_n}_importances.pdf\")\n",
    "    plt.close()\n",
    "\n",
    "    # Plot Bottom 15\n",
    "    plt.figure(figsize=(6, 6))\n",
    "    plt.barh(range(top_n), ranked_importances.iloc[-top_n:][::-1])\n",
    "    plt.yticks(range(top_n), ranked_importances.index[-top_n:][::-1], fontsize=9)\n",
    "    plt.gca().invert_yaxis()\n",
    "    plt.title(f\"{label} – Global Bottom-{top_n} (by initial best_rf)\")\n",
    "    plt.tight_layout()\n",
    "    plt.savefig(f\"figures/importances/{label}_ranked_bottom{top_n}_importances.pdf\")\n",
    "    plt.close()\n"
   ]
  },
  {
   "cell_type": "code",
   "execution_count": 132,
   "id": "93efd722-34d8-4495-98d0-a44f12fb40f1",
   "metadata": {},
   "outputs": [
    {
     "name": "stdout",
     "output_type": "stream",
     "text": [
      "[CEA] AUC 95% CI: [0.458 – 0.606]\n",
      "[AA] AUC 95% CI: [0.456 – 0.652]\n",
      "[Correlation] AUC 95% CI: [0.608 – 0.841]\n",
      "[Combined] AUC 95% CI: [0.704 – 0.889]\n"
     ]
    }
   ],
   "source": [
    "# ──────────────── 4. Print AUC 95% CI as [lower – upper] format ────────────────\n",
    "for label, d in results.items():\n",
    "    aucs = d[\"aucs\"]\n",
    "    mean_auc = np.mean(aucs)\n",
    "    ci95_margin = t.ppf(0.975, len(aucs) - 1) * sem(aucs)\n",
    "    ci_lower = mean_auc - ci95_margin\n",
    "    ci_upper = mean_auc + ci95_margin\n",
    "    print(f\"[{label}] AUC 95% CI: [{ci_lower:.3f} – {ci_upper:.3f}]\")\n"
   ]
  },
  {
   "cell_type": "code",
   "execution_count": 143,
   "id": "ed050663-8896-44e8-80c0-d7d1daa72946",
   "metadata": {},
   "outputs": [],
   "source": [
    "# ──────────────── 5. Feature Importance Plot (Descending: Top/Bottom 15, 중요도 높은 게 위에) ────────────────\n",
    "for label, X in feature_sets.items():\n",
    "    if X.shape[1] == 1:\n",
    "        continue  # Skip if only one feature (e.g., CEA)\n",
    "\n",
    "    # Load best hyperparameters from Halving search\n",
    "    best_params_path = f\"figures/{label}_halving_best_params.json\"\n",
    "    if not os.path.exists(best_params_path):\n",
    "        continue\n",
    "\n",
    "    with open(best_params_path) as jf:\n",
    "        best_params = json.load(jf)\n",
    "\n",
    "    # Re-fit model using saved best params\n",
    "    clf = RandomForestClassifier(**best_params, random_state=RANDOM_STATE)\n",
    "    clf.fit(X, y)\n",
    "\n",
    "    # Get feature importances as pandas Series\n",
    "    importances = pd.Series(clf.feature_importances_, index=X.columns)\n",
    "    sorted_importances = importances.sort_values(ascending=False)\n",
    "\n",
    "    # Top 15: most important features\n",
    "    top_n = 15\n",
    "    top_feats = sorted_importances.iloc[:top_n]\n",
    "\n",
    "    plt.figure(figsize=(6, 6))\n",
    "    plt.barh(top_feats.index[::-1], top_feats.values[::-1])  # Top → 위로\n",
    "    plt.xlabel(\"Importance\")\n",
    "    plt.title(f\"{label} – Top-{top_n} Feature Importance\")\n",
    "    plt.tight_layout(pad=0.5)\n",
    "    plt.savefig(f\"figures/importances/{label}_importance_top{top_n}_desc.pdf\")\n",
    "    plt.close()\n",
    "\n",
    "    # Bottom 15: least important features\n",
    "    bottom_feats = sorted_importances.iloc[-top_n:]\n",
    "\n",
    "    plt.figure(figsize=(6, 6))\n",
    "    plt.barh(bottom_feats.index[::-1], bottom_feats.values[::-1])  # 덜 중요한 것 → 위로 (역순)\n",
    "    plt.xlabel(\"Importance\")\n",
    "    plt.title(f\"{label} – Bottom-{top_n} Feature Importance\")\n",
    "    plt.tight_layout()\n",
    "    plt.savefig(f\"figures/importances/{label}_importance_bottom{top_n}_desc.pdf\")\n",
    "    plt.close()\n"
   ]
  },
  {
   "cell_type": "code",
   "execution_count": null,
   "id": "2b0f8910-bf47-4a4e-a4c6-c82aa679359c",
   "metadata": {},
   "outputs": [],
   "source": [
    "import os\n",
    "import numpy as np\n",
    "import pandas as pd\n",
    "import matplotlib.pyplot as plt\n",
    "from sklearn.ensemble import RandomForestClassifier\n",
    "from sklearn.model_selection import StratifiedKFold, GridSearchCV, ParameterGrid, cross_val_score\n",
    "from sklearn.metrics import roc_curve, roc_auc_score, confusion_matrix, precision_recall_curve, average_precision_score\n",
    "\n",
    "# create figures directory\n",
    "os.makedirs(\"figures\", exist_ok=True)\n",
    "\n",
    "# hyperparameter grid for Random Forest\n",
    "param_grid = {\n",
    "    'n_estimators':      [300, 500, 700, 900],\n",
    "    'max_depth':         [None],\n",
    "    'min_samples_split': [2, 5, 10],\n",
    "    'min_samples_leaf':  [1, 2, 4],\n",
    "    'max_samples':       [None, 0.8, 0.9],\n",
    "    'max_features':      ['sqrt', 'log2', None],\n",
    "    'class_weight':      ['balanced']\n",
    "}\n",
    "RANDOM_STATE = 42\n",
    "N_FOLDS      = 10\n",
    "INNER_FOLDS  = 5\n",
    "MAX_K        = 50\n",
    "base_fpr     = np.linspace(0, 1, 101)\n",
    "\n",
    "# 1) define feature sets\n",
    "feature_sets = {\n",
    "    'Combined': X_combined\n",
    "}\n",
    "\n",
    "# 2) compute global RF feature importance for each set\n",
    "global_ranked = {}\n",
    "cv = StratifiedKFold(n_splits=INNER_FOLDS, shuffle=True, random_state=RANDOM_STATE)\n",
    "\n",
    "for label, X in feature_sets.items():\n",
    "    if label == 'CEA':\n",
    "        global_ranked['CEA'] = X.columns.tolist()\n",
    "        continue\n",
    "\n",
    "    best_score = 0.0\n",
    "    best_params = None\n",
    "    for params in ParameterGrid(param_grid):\n",
    "        rf = RandomForestClassifier(random_state=RANDOM_STATE, n_jobs=-1, **params)\n",
    "        scores = cross_val_score(rf, X, y, cv=cv, scoring='roc_auc', n_jobs=-1, error_score=np.nan)\n",
    "        valid = scores[~np.isnan(scores)]\n",
    "        if valid.size == 0:\n",
    "            continue\n",
    "        mean_auc = valid.mean()\n",
    "        if mean_auc > best_score:\n",
    "            best_score, best_params = mean_auc, params\n",
    "\n",
    "    print(f\"Optimized global RF params for {label}: {best_params} (CV AUC={best_score:.3f})\")\n",
    "    rf_opt = RandomForestClassifier(random_state=RANDOM_STATE, n_jobs=-1, **best_params)\n",
    "    rf_opt.fit(X, y)\n",
    "    importances = rf_opt.feature_importances_\n",
    "    ranked = X.columns[np.argsort(importances)[::-1]]\n",
    "    global_ranked[label] = ranked\n",
    "\n",
    "    top_n = min(10, len(ranked))\n",
    "    plt.figure(figsize=(8, 6))\n",
    "    plt.bar(ranked[:top_n], importances[np.argsort(importances)[::-1][:top_n]])\n",
    "    plt.xticks(rotation=90)\n",
    "    plt.title(f\"{label} Global Feature Importances (top {top_n})\")\n",
    "    plt.tight_layout()\n",
    "    plt.savefig(f\"figures/importance_{label}.pdf\")\n",
    "    plt.close()\n",
    "\n",
    "# 3) perform outer CV evaluation\n",
    "results = {}\n",
    "outer_cv = StratifiedKFold(n_splits=N_FOLDS, shuffle=True, random_state=RANDOM_STATE)\n",
    "\n",
    "for label, X in feature_sets.items():\n",
    "    roc_data = {\n",
    "        'tprs': [], 'aucs': [], 'thresholds': [], 'accuracies': [],\n",
    "        'sensitivities': [], 'specificities': [],\n",
    "        'precisions': [], 'recalls': [], 'pr_aucs': []\n",
    "    }\n",
    "    ranked_cols = global_ranked[label]\n",
    "\n",
    "    for fold, (tr_idx, te_idx) in enumerate(outer_cv.split(X, y), start=1):\n",
    "        X_tr, X_te = X.iloc[tr_idx], X.iloc[te_idx]\n",
    "        y_tr, y_te = y.iloc[tr_idx], y.iloc[te_idx]\n",
    "\n",
    "        if label == 'CEA':\n",
    "            inner_cv = StratifiedKFold(n_splits=INNER_FOLDS, shuffle=True, random_state=RANDOM_STATE)\n",
    "            grid = GridSearchCV(\n",
    "                RandomForestClassifier(random_state=RANDOM_STATE),\n",
    "                param_grid, scoring='roc_auc', cv=inner_cv,\n",
    "                n_jobs=-1, refit=True, verbose=0\n",
    "            )\n",
    "            grid.fit(X_tr, y_tr)\n",
    "            clf = grid.best_estimator_\n",
    "\n",
    "            ths = []\n",
    "            for i_tr, i_val in inner_cv.split(X_tr, y_tr):\n",
    "                prob_v = clf.predict_proba(X_tr.iloc[i_val])[:,1]\n",
    "                fpr_i, tpr_i, thr_i = roc_curve(y_tr.iloc[i_val], prob_v)\n",
    "                ths.append(thr_i[np.argmax(tpr_i - fpr_i)])\n",
    "            best_thr = np.mean(ths)\n",
    "\n",
    "        else:\n",
    "            inner_cv = StratifiedKFold(n_splits=INNER_FOLDS, shuffle=True, random_state=RANDOM_STATE)\n",
    "            best_k, best_auc = 1, 0.0\n",
    "            for k in range(1, min(MAX_K, X_tr.shape[1]) + 1):\n",
    "                cols_k = ranked_cols[:k]\n",
    "                aucs = []\n",
    "                for i_tr, i_val in inner_cv.split(X_tr, y_tr):\n",
    "                    clf0 = RandomForestClassifier(\n",
    "                        n_estimators=500, class_weight='balanced',\n",
    "                        random_state=RANDOM_STATE, n_jobs=-1\n",
    "                    )\n",
    "                    clf0.fit(X_tr.iloc[i_tr][cols_k], y_tr.iloc[i_tr])\n",
    "                    aucs.append(roc_auc_score(\n",
    "                        y_tr.iloc[i_val],\n",
    "                        clf0.predict_proba(X_tr.iloc[i_val][cols_k])[:,1]\n",
    "                    ))\n",
    "                mean_auc = np.mean(aucs)\n",
    "                if mean_auc > best_auc:\n",
    "                    best_auc, best_k = mean_auc, k\n",
    "            cols_sel = ranked_cols[:best_k]\n",
    "\n",
    "            grid = GridSearchCV(\n",
    "                RandomForestClassifier(random_state=RANDOM_STATE),\n",
    "                param_grid, scoring='roc_auc', cv=inner_cv,\n",
    "                n_jobs=-1, refit=True, verbose=0\n",
    "            )\n",
    "            grid.fit(X_tr[cols_sel], y_tr)\n",
    "            clf = grid.best_estimator_\n",
    "\n",
    "            ths = []\n",
    "            for i_tr, i_val in inner_cv.split(X_tr, y_tr):\n",
    "                prob_v = clf.predict_proba(X_tr.iloc[i_val][cols_sel])[:,1]\n",
    "                fpr_i, tpr_i, thr_i = roc_curve(y_tr.iloc[i_val], prob_v)\n",
    "                ths.append(thr_i[np.argmax(tpr_i - fpr_i)])\n",
    "            best_thr = np.mean(ths)\n",
    "\n",
    "        prob_te = clf.predict_proba(X_te if label=='CEA' else X_te[cols_sel])[:,1]\n",
    "        pred_te = (prob_te >= best_thr).astype(int)\n",
    "        auc_te = roc_auc_score(y_te, prob_te)\n",
    "        acc_te = (pred_te == y_te.values).mean()\n",
    "\n",
    "        tn, fp, fn, tp = confusion_matrix(y_te, pred_te).ravel()\n",
    "        sens = tp / (tp + fn) if (tp + fn)>0 else np.nan\n",
    "        spec = tn / (tn + fp) if (tn + fp)>0 else np.nan\n",
    "\n",
    "        precision, recall, _ = precision_recall_curve(y_te, prob_te)\n",
    "        pr_auc = average_precision_score(y_te, prob_te)\n",
    "\n",
    "        fpr_te, tpr_te, _ = roc_curve(y_te, prob_te)\n",
    "        tpr_interp = np.interp(base_fpr, fpr_te, tpr_te)\n",
    "        tpr_interp[0] = 0.0\n",
    "\n",
    "        roc_data['tprs'].append(tpr_interp)\n",
    "        roc_data['aucs'].append(auc_te)\n",
    "        roc_data['thresholds'].append(best_thr)\n",
    "        roc_data['accuracies'].append(acc_te)\n",
    "        roc_data['sensitivities'].append(sens)\n",
    "        roc_data['specificities'].append(spec)\n",
    "        roc_data['precisions'].append(precision)\n",
    "        roc_data['recalls'].append(recall)\n",
    "        roc_data['pr_aucs'].append(pr_auc)\n",
    "\n",
    "        print(f\"[{label} Fold {fold}] AUC={auc_te:.3f}, Acc={acc_te:.3f}, Sens={sens:.3f}, Spec={spec:.3f}, PR AUC={pr_auc:.3f}\")\n",
    "\n",
    "    mean_auc = np.mean(roc_data['aucs'])\n",
    "    std_auc  = np.std(roc_data['aucs'])\n",
    "    mean_sens= np.nanmean(roc_data['sensitivities'])\n",
    "    mean_spec= np.nanmean(roc_data['specificities'])\n",
    "    mean_pr  = np.mean(roc_data['pr_aucs'])\n",
    "    print(f\"[{label} Summary] Mean AUC={mean_auc:.3f}±{std_auc:.3f}, Mean Sens={mean_sens:.3f}, Mean Spec={mean_spec:.3f}, Mean PR AUC={mean_pr:.3f}\\n\")\n",
    "    results[label] = roc_data\n",
    "\n",
    "# plot mean ROC curves\n",
    "plt.figure(figsize=(6,6))\n",
    "for label in feature_sets:\n",
    "    tprs = np.vstack(results[label]['tprs'])\n",
    "    mean_tpr = tprs.mean(axis=0)\n",
    "    mean_tpr[-1] = 1.0\n",
    "    std_tpr = tprs.std(axis=0)\n",
    "    plt.plot(base_fpr, mean_tpr, lw=2, label=f\"{label} (AUC={np.mean(results[label]['aucs']):.3f})\")\n",
    "    plt.fill_between(\n",
    "        base_fpr,\n",
    "        np.clip(mean_tpr-std_tpr, 0, 1),\n",
    "        np.clip(mean_tpr+std_tpr, 0, 1),\n",
    "        alpha=0.1\n",
    "    )\n",
    "plt.plot([0,1],[0,1],'k--',lw=1)\n",
    "plt.xlabel(\"False Positive Rate\")\n",
    "plt.ylabel(\"True Positive Rate\")\n",
    "plt.title(\"Mean ROC Curves by Feature Set\")\n",
    "plt.legend(loc='lower right')\n",
    "plt.grid(alpha=0.3)\n",
    "plt.tight_layout()\n",
    "plt.savefig(\"figures/mean_roc_by_feature_set.pdf\")\n",
    "plt.show()\n",
    "\n",
    "# summarize all metrics in DataFrame\n",
    "summary_list = []\n",
    "for label, data in results.items():\n",
    "    summary_list.append({\n",
    "        'Feature Set': label,\n",
    "        'Mean AUC':    np.mean(data['aucs']),\n",
    "        'Std AUC':     np.std(data['aucs']),\n",
    "        'Mean Acc':    np.mean(data['accuracies']),\n",
    "        'Mean Sens':   np.nanmean(data['sensitivities']),\n",
    "        'Mean Spec':   np.nanmean(data['specificities']),\n",
    "        'Mean PR AUC': np.mean(data['pr_aucs']),\n",
    "    })\n",
    "\n",
    "df_summary = pd.DataFrame(summary_list)\n",
    "print(df_summary.to_string(index=False))\n",
    "df_summary.to_csv(\"figures/summary_metrics.csv\", index=False)\n"
   ]
  },
  {
   "cell_type": "code",
   "execution_count": 44,
   "id": "97324fde-6bb5-495e-b944-984addc6af67",
   "metadata": {},
   "outputs": [
    {
     "name": "stdout",
     "output_type": "stream",
     "text": [
      "[AA] Global ranking | CV-AUC = 0.588\n",
      "[Corr] Global ranking | CV-AUC = 0.676\n",
      "[Combined] Global ranking | CV-AUC = 0.682\n",
      "[CEA] Fold  1 | AUC=0.562  Sens=0.500  Spec=0.500  (k=1)\n",
      "[CEA] Fold  2 | AUC=0.625  Sens=0.500  Spec=0.333  (k=1)\n",
      "[CEA] Fold  3 | AUC=0.542  Sens=0.875  Spec=0.167  (k=1)\n",
      "[CEA] Fold  4 | AUC=0.327  Sens=0.571  Spec=0.286  (k=1)\n",
      "[CEA] Fold  5 | AUC=0.643  Sens=0.857  Spec=0.286  (k=1)\n",
      "[CEA] Fold  6 | AUC=0.469  Sens=0.714  Spec=0.000  (k=1)\n",
      "[CEA] Fold  7 | AUC=0.429  Sens=0.571  Spec=0.000  (k=1)\n",
      "[CEA] Fold  8 | AUC=0.571  Sens=0.714  Spec=0.286  (k=1)\n",
      "[CEA] Fold  9 | AUC=0.500  Sens=0.857  Spec=0.000  (k=1)\n",
      "[CEA] Fold 10 | AUC=0.653  Sens=0.857  Spec=0.286  (k=1)\n",
      "\n",
      "⇒ [CEA] Mean AUC=0.532±0.098 | Mean Sens=0.702 | Mean Spec=0.214\n",
      "\n",
      "[AA] Fold  1 | AUC=0.333  Sens=0.625  Spec=0.167  (k=1)\n",
      "[AA] Fold  2 | AUC=0.458  Sens=0.500  Spec=0.333  (k=7)\n",
      "[AA] Fold  3 | AUC=0.542  Sens=0.500  Spec=0.500  (k=5)\n",
      "[AA] Fold  4 | AUC=0.673  Sens=0.714  Spec=0.857  (k=5)\n",
      "[AA] Fold  5 | AUC=0.816  Sens=0.714  Spec=0.857  (k=6)\n",
      "[AA] Fold  6 | AUC=0.531  Sens=0.714  Spec=0.286  (k=7)\n",
      "[AA] Fold  7 | AUC=0.449  Sens=0.429  Spec=0.571  (k=8)\n",
      "[AA] Fold  8 | AUC=0.510  Sens=0.429  Spec=0.429  (k=3)\n",
      "[AA] Fold  9 | AUC=0.673  Sens=0.714  Spec=0.571  (k=7)\n",
      "[AA] Fold 10 | AUC=0.551  Sens=0.571  Spec=0.286  (k=6)\n",
      "\n",
      "⇒ [AA] Mean AUC=0.554±0.130 | Mean Sens=0.591 | Mean Spec=0.486\n",
      "\n",
      "[Corr] Fold  1 | AUC=0.917  Sens=0.875  Spec=0.500  (k=13)\n",
      "[Corr] Fold  2 | AUC=0.375  Sens=0.250  Spec=0.333  (k=14)\n",
      "[Corr] Fold  3 | AUC=0.750  Sens=0.875  Spec=0.500  (k=13)\n",
      "[Corr] Fold  4 | AUC=0.592  Sens=0.429  Spec=0.571  (k=15)\n",
      "[Corr] Fold  5 | AUC=0.878  Sens=0.857  Spec=0.714  (k=17)\n",
      "[Corr] Fold  6 | AUC=0.776  Sens=0.857  Spec=0.571  (k=49)\n",
      "[Corr] Fold  7 | AUC=0.714  Sens=0.571  Spec=0.571  (k=15)\n",
      "[Corr] Fold  8 | AUC=0.694  Sens=0.714  Spec=0.857  (k=30)\n",
      "[Corr] Fold  9 | AUC=0.898  Sens=0.857  Spec=0.857  (k=15)\n",
      "[Corr] Fold 10 | AUC=0.653  Sens=0.571  Spec=0.714  (k=9)\n",
      "\n",
      "⇒ [Corr] Mean AUC=0.725±0.155 | Mean Sens=0.686 | Mean Spec=0.619\n",
      "\n",
      "[Combined] Fold  1 | AUC=0.958  Sens=1.000  Spec=0.833  (k=27)\n",
      "[Combined] Fold  2 | AUC=0.562  Sens=0.500  Spec=0.500  (k=23)\n",
      "[Combined] Fold  3 | AUC=0.792  Sens=0.625  Spec=0.500  (k=15)\n",
      "[Combined] Fold  4 | AUC=0.633  Sens=0.571  Spec=0.571  (k=15)\n",
      "[Combined] Fold  5 | AUC=0.918  Sens=1.000  Spec=0.857  (k=25)\n",
      "[Combined] Fold  6 | AUC=0.776  Sens=0.857  Spec=0.571  (k=25)\n",
      "[Combined] Fold  7 | AUC=0.918  Sens=0.714  Spec=0.857  (k=16)\n",
      "[Combined] Fold  8 | AUC=0.714  Sens=0.571  Spec=0.857  (k=25)\n",
      "[Combined] Fold  9 | AUC=0.878  Sens=0.857  Spec=0.714  (k=15)\n",
      "[Combined] Fold 10 | AUC=0.816  Sens=0.857  Spec=0.857  (k=13)\n",
      "\n",
      "⇒ [Combined] Mean AUC=0.797±0.123 | Mean Sens=0.755 | Mean Spec=0.712\n",
      "\n",
      "──────── Final Summary ────────\n",
      "Feature Set  Mean AUC  Std AUC  Mean Sens  Mean Spec  Mean PR AUC\n",
      "        CEA  0.532100 0.097996   0.701786   0.214286     0.660344\n",
      "         AA  0.553741 0.129947   0.591071   0.485714     0.692552\n",
      "       Corr  0.724575 0.154786   0.685714   0.619048     0.776871\n",
      "   Combined  0.796556 0.123159   0.755357   0.711905     0.838375\n"
     ]
    }
   ],
   "source": [
    "import os, random, warnings, json\n",
    "import numpy as np\n",
    "import pandas as pd\n",
    "import matplotlib.pyplot as plt\n",
    "\n",
    "from sklearn.ensemble        import RandomForestClassifier\n",
    "from sklearn.metrics         import roc_curve, roc_auc_score, confusion_matrix, average_precision_score\n",
    "from sklearn.model_selection import StratifiedKFold\n",
    "from sklearn.experimental    import enable_halving_search_cv  # noqa: F401\n",
    "from sklearn.model_selection import HalvingGridSearchCV\n",
    "\n",
    "\n",
    "RANDOM_STATE = 42\n",
    "random.seed(RANDOM_STATE)\n",
    "np.random.seed(RANDOM_STATE)\n",
    "os.environ.update({\n",
    "    \"PYTHONHASHSEED\": \"42\",\n",
    "    \"OMP_NUM_THREADS\": \"1\",\n",
    "    \"OPENBLAS_NUM_THREADS\": \"1\",\n",
    "    \"MKL_NUM_THREADS\": \"1\",\n",
    "})\n",
    "warnings.filterwarnings(\"ignore\")\n",
    "os.makedirs(\"figures/importances\", exist_ok=True)\n",
    "\n",
    "# Hyper-parameter grid\n",
    "param_grid = {\n",
    "    \"max_depth\":         [None, 10, 20, 30],\n",
    "    \"min_samples_split\": [2, 5, 10],\n",
    "    \"min_samples_leaf\":  [1, 2, 4],\n",
    "    \"max_samples\":       [None, 0.8, 0.9],\n",
    "    \"max_features\":      [\"sqrt\", \"log2\", None, 0.4, 0.6, 0.8],\n",
    "    \"bootstrap\":         [True, False],\n",
    "    \"class_weight\":      [\"balanced\"],\n",
    "}\n",
    "# n_estimators is treated as the HalvingGridSearch resource\n",
    "\n",
    "N_OUTER_FOLDS = 10\n",
    "N_INNER_FOLDS = 5\n",
    "MAX_K         = 50\n",
    "k_candidates  = list(range(1, MAX_K + 1))\n",
    "base_fpr      = np.linspace(0, 1, 101)\n",
    "\n",
    "# Feature sets (pre-loaded)\n",
    "feature_sets = {\n",
    "    \"CEA\"     : X_CEA,       # single-feature set\n",
    "    \"AA\"      : X_AA,\n",
    "    \"Corr\"    : X_corr,\n",
    "    \"Combined\": X_combined,\n",
    "}\n",
    "\n",
    "# Global feature ranking \n",
    "global_ranked = {}\n",
    "cv_imp = StratifiedKFold(n_splits=N_INNER_FOLDS, shuffle=True, random_state=RANDOM_STATE)\n",
    "\n",
    "for label, X in feature_sets.items():\n",
    "    # Skip ranking for single-feature set\n",
    "    if X.shape[1] == 1:\n",
    "        global_ranked[label] = X.columns\n",
    "        continue\n",
    "\n",
    "    halving = HalvingGridSearchCV(\n",
    "        RandomForestClassifier(random_state=RANDOM_STATE),\n",
    "        param_grid, scoring=\"roc_auc\", cv=cv_imp, n_jobs=-1,\n",
    "        factor=2, resource=\"n_estimators\",\n",
    "        min_resources=300, max_resources=1500,\n",
    "        verbose=0,\n",
    "    )\n",
    "    halving.fit(X, y)\n",
    "    best_rf = halving.best_estimator_\n",
    "    global_ranked[label] = X.columns[np.argsort(best_rf.feature_importances_)[::-1]]\n",
    "\n",
    "    print(f\"[{label}] Global ranking | CV-AUC = {halving.best_score_:.3f}\")\n",
    "    with open(f\"figures/{label}_halving_best_params.json\", \"w\") as jf:\n",
    "        json.dump(halving.best_params_, jf, indent=2)\n",
    "\n",
    "    # Bar plot of top-15 importances\n",
    "    top_n = 15\n",
    "    idx   = np.argsort(best_rf.feature_importances_)[::-1][:top_n]\n",
    "    plt.figure(figsize=(6, 6))\n",
    "    plt.barh(range(top_n), best_rf.feature_importances_[idx][::-1])\n",
    "    plt.yticks(range(top_n), X.columns[idx][::-1], fontsize=9)\n",
    "    plt.gca().invert_yaxis()\n",
    "    plt.title(f\"{label} – Top-{top_n} importances\")\n",
    "    plt.tight_layout()\n",
    "    plt.savefig(f\"figures/importances/{label}_top{top_n}_importances.pdf\")\n",
    "    plt.close()\n",
    "\n",
    "# Nested cross-validation \n",
    "results  = {}\n",
    "outer_cv = StratifiedKFold(n_splits=N_OUTER_FOLDS, shuffle=True, random_state=RANDOM_STATE)\n",
    "\n",
    "for label, X in feature_sets.items():\n",
    "    roc_d = {k: [] for k in (\"tprs\", \"aucs\", \"sensitivities\", \"specificities\", \"pr_aucs\")}\n",
    "    ranked_cols = global_ranked[label]\n",
    "\n",
    "    # For CEA: k is fixed at 1\n",
    "    k_list = [1] if X.shape[1] == 1 else k_candidates\n",
    "\n",
    "    for fold, (tr, te) in enumerate(outer_cv.split(X, y), 1):\n",
    "        X_tr, X_te = X.iloc[tr], X.iloc[te]\n",
    "        y_tr, y_te = y.iloc[tr], y.iloc[te]\n",
    "\n",
    "        inner_cv = StratifiedKFold(n_splits=N_INNER_FOLDS, shuffle=True, random_state=RANDOM_STATE)\n",
    "\n",
    "        # (i) Determine optimal top-k (skipped if k_list == [1])\n",
    "        best_k, best_auc = 1, -np.inf\n",
    "        for k in k_list:\n",
    "            cols = ranked_cols[:k]\n",
    "            aucs = []\n",
    "            for i_tr, i_val in inner_cv.split(X_tr, y_tr):\n",
    "                rf0 = RandomForestClassifier(\n",
    "                    n_estimators=600, class_weight=\"balanced\",\n",
    "                    random_state=RANDOM_STATE, n_jobs=-1\n",
    "                )\n",
    "                rf0.fit(X_tr.iloc[i_tr][cols], y_tr.iloc[i_tr])\n",
    "                aucs.append(\n",
    "                    roc_auc_score(\n",
    "                        y_tr.iloc[i_val],\n",
    "                        rf0.predict_proba(X_tr.iloc[i_val][cols])[:, 1]\n",
    "                    )\n",
    "                )\n",
    "            if np.mean(aucs) > best_auc:\n",
    "                best_auc, best_k = np.mean(aucs), k\n",
    "        cols_sel = ranked_cols[:best_k]\n",
    "\n",
    "        # (ii) Hyper-parameter tuning with HalvingGridSearch\n",
    "        halving = HalvingGridSearchCV(\n",
    "            RandomForestClassifier(random_state=RANDOM_STATE),\n",
    "            param_grid, scoring=\"roc_auc\", cv=inner_cv, n_jobs=-1,\n",
    "            factor=2, resource=\"n_estimators\",\n",
    "            min_resources=300, max_resources=1500,\n",
    "            verbose=0,\n",
    "        )\n",
    "        halving.fit(X_tr[cols_sel], y_tr)\n",
    "        clf = halving.best_estimator_\n",
    "\n",
    "        # (iii) Threshold (Youden’s J with sensitivity-weighted scoring)\n",
    "        alpha = 0.6  # weight for sensitivity\n",
    "        thr_vals = []\n",
    "\n",
    "        for i_tr, i_val in inner_cv.split(X_tr, y_tr):\n",
    "            clf.fit(X_tr.iloc[i_tr][cols_sel], y_tr.iloc[i_tr])\n",
    "            prob_val = clf.predict_proba(X_tr.iloc[i_val][cols_sel])[:, 1]\n",
    "            fpr, tpr, thr = roc_curve(y_tr.iloc[i_val], prob_val)\n",
    "        \n",
    "            # Youden's J with alpha weighting: alpha * TPR + (1 - alpha) * (1 - FPR)\n",
    "            scores = alpha * tpr + (1 - alpha) * (1 - fpr)\n",
    "            idx = np.argmax(scores)\n",
    "            thr_vals.append(thr[idx])\n",
    "\n",
    "        thr = np.mean(thr_vals)\n",
    "\n",
    "        # (iv) Evaluation on outer test set\n",
    "        prob = clf.predict_proba(X_te[cols_sel])[:, 1]\n",
    "        pred = (prob >= thr).astype(int)\n",
    "\n",
    "        auc   = roc_auc_score(y_te, prob)\n",
    "        tn, fp, fn, tp = confusion_matrix(y_te, pred).ravel()\n",
    "        sens  = tp / (tp + fn + 1e-12)\n",
    "        spec  = tn / (tn + fp + 1e-12)\n",
    "        prauc = average_precision_score(y_te, prob)\n",
    "\n",
    "        fpr_te, tpr_te, _ = roc_curve(y_te, prob)\n",
    "        roc_d[\"tprs\"].append(np.interp(base_fpr, fpr_te, tpr_te, left=0, right=1))\n",
    "        for k, v in zip(\n",
    "            (\"aucs\", \"sensitivities\", \"specificities\", \"pr_aucs\"),\n",
    "            (auc, sens, spec, prauc)\n",
    "        ):\n",
    "            roc_d[k].append(v)\n",
    "\n",
    "        print(f\"[{label}] Fold {fold:2d} | AUC={auc:.3f}  Sens={sens:.3f}  Spec={spec:.3f}  (k={best_k})\")\n",
    "\n",
    "    results[label] = roc_d\n",
    "    print(f\"\\n⇒ [{label}] Mean AUC={np.mean(roc_d['aucs']):.3f}±{np.std(roc_d['aucs']):.3f} | \"\n",
    "          f\"Mean Sens={np.mean(roc_d['sensitivities']):.3f} | Mean Spec={np.mean(roc_d['specificities']):.3f}\\n\")\n",
    "\n",
    "# ROC curves & summary\n",
    "plt.figure(figsize=(6, 6))\n",
    "for lbl, d in results.items():\n",
    "    mean_tpr = np.vstack(d[\"tprs\"]).mean(axis=0); mean_tpr[-1] = 1.0\n",
    "    std_tpr  = np.vstack(d[\"tprs\"]).std(axis=0)\n",
    "    plt.plot(base_fpr, mean_tpr, lw=2, label=f\"{lbl} (AUC {np.mean(d['aucs']):.3f})\")\n",
    "    plt.fill_between(\n",
    "        base_fpr,\n",
    "        np.clip(mean_tpr - std_tpr, 0, 1),\n",
    "        np.clip(mean_tpr + std_tpr, 0, 1),\n",
    "        alpha=0.15\n",
    "    )\n",
    "plt.plot([0, 1], [0, 1], \"k--\", lw=1)\n",
    "plt.xlabel(\"False Positive Rate\")\n",
    "plt.ylabel(\"True Positive Rate\")\n",
    "plt.title(\"Mean ROC (Halving, fixed rank)\")\n",
    "plt.legend()\n",
    "plt.grid(alpha=0.3)\n",
    "plt.tight_layout()\n",
    "plt.savefig(\"figures/mean_ROC_halving_fixedrank.pdf\")\n",
    "plt.close()\n",
    "\n",
    "summary = pd.DataFrame({\n",
    "    \"Feature Set\":  results.keys(),\n",
    "    \"Mean AUC\":     [np.mean(d[\"aucs\"])          for d in results.values()],\n",
    "    \"Std AUC\":      [np.std(d[\"aucs\"])           for d in results.values()],\n",
    "    \"Mean Sens\":    [np.mean(d[\"sensitivities\"]) for d in results.values()],\n",
    "    \"Mean Spec\":    [np.mean(d[\"specificities\"]) for d in results.values()],\n",
    "    \"Mean PR AUC\":  [np.mean(d[\"pr_aucs\"])       for d in results.values()],\n",
    "})\n",
    "summary.to_csv(\"figures/summary_metrics.csv\", index=False)\n",
    "print(\"──────── Final Summary ────────\")\n",
    "print(summary.to_string(index=False))\n"
   ]
  },
  {
   "cell_type": "markdown",
   "id": "9f3be858-efb6-4333-adc3-2f73f0eaa171",
   "metadata": {},
   "source": [
    "## 밑에가 진짜임"
   ]
  },
  {
   "cell_type": "code",
   "execution_count": 273,
   "id": "b5490def-4761-4992-8e6f-90eb07fd0240",
   "metadata": {},
   "outputs": [
    {
     "name": "stdout",
     "output_type": "stream",
     "text": [
      "Optimized global RF params for AA: {'class_weight': 'balanced', 'max_depth': None, 'max_features': 'sqrt', 'max_samples': 0.8, 'min_samples_leaf': 2, 'min_samples_split': 10, 'n_estimators': 300} (CV AUC=0.608)\n",
      "Optimized global RF params for Correlation: {'class_weight': 'balanced', 'max_depth': None, 'max_features': None, 'max_samples': 0.8, 'min_samples_leaf': 4, 'min_samples_split': 2, 'n_estimators': 300} (CV AUC=0.667)\n",
      "Optimized global RF params for Combined: {'class_weight': 'balanced', 'max_depth': None, 'max_features': None, 'max_samples': 0.8, 'min_samples_leaf': 1, 'min_samples_split': 2, 'n_estimators': 300} (CV AUC=0.683)\n",
      "[CEA Fold 1] AUC=0.500, Acc=0.571, Sens=0.375, Spec=0.833, PR AUC=0.660\n",
      "[CEA Fold 2] AUC=0.604, Acc=0.643, Sens=0.500, Spec=0.833, PR AUC=0.778\n",
      "[CEA Fold 3] AUC=0.875, Acc=0.786, Sens=0.625, Spec=1.000, PR AUC=0.946\n",
      "[CEA Fold 4] AUC=0.367, Acc=0.357, Sens=0.286, Spec=0.429, PR AUC=0.535\n",
      "[CEA Fold 5] AUC=0.602, Acc=0.571, Sens=0.571, Spec=0.571, PR AUC=0.614\n",
      "[CEA Fold 6] AUC=0.551, Acc=0.500, Sens=0.571, Spec=0.429, PR AUC=0.622\n",
      "[CEA Fold 7] AUC=0.673, Acc=0.643, Sens=0.429, Spec=0.857, PR AUC=0.744\n",
      "[CEA Fold 8] AUC=0.551, Acc=0.571, Sens=0.429, Spec=0.714, PR AUC=0.681\n",
      "[CEA Fold 9] AUC=0.643, Acc=0.571, Sens=0.286, Spec=0.857, PR AUC=0.713\n",
      "[CEA Fold 10] AUC=0.684, Acc=0.714, Sens=0.714, Spec=0.714, PR AUC=0.662\n",
      "[CEA Summary] Mean AUC=0.605±0.126, Mean Sens=0.479, Mean Spec=0.724, Mean PR AUC=0.695\n",
      "\n",
      "[AA Fold 1] AUC=0.771, Acc=0.643, Sens=0.500, Spec=0.833, PR AUC=0.826\n",
      "[AA Fold 2] AUC=0.396, Acc=0.429, Sens=0.250, Spec=0.667, PR AUC=0.542\n",
      "[AA Fold 3] AUC=0.667, Acc=0.643, Sens=0.500, Spec=0.833, PR AUC=0.793\n",
      "[AA Fold 4] AUC=0.796, Acc=0.786, Sens=0.714, Spec=0.857, PR AUC=0.826\n",
      "[AA Fold 5] AUC=0.694, Acc=0.643, Sens=0.571, Spec=0.714, PR AUC=0.750\n",
      "[AA Fold 6] AUC=0.673, Acc=0.500, Sens=0.143, Spec=0.857, PR AUC=0.671\n",
      "[AA Fold 7] AUC=0.673, Acc=0.500, Sens=0.143, Spec=0.857, PR AUC=0.716\n",
      "[AA Fold 8] AUC=0.755, Acc=0.643, Sens=0.286, Spec=1.000, PR AUC=0.793\n",
      "[AA Fold 9] AUC=0.755, Acc=0.714, Sens=0.571, Spec=0.857, PR AUC=0.705\n",
      "[AA Fold 10] AUC=0.633, Acc=0.714, Sens=0.429, Spec=1.000, PR AUC=0.749\n",
      "[AA Summary] Mean AUC=0.681±0.108, Mean Sens=0.411, Mean Spec=0.848, Mean PR AUC=0.737\n",
      "\n",
      "[Correlation Fold 1] AUC=0.833, Acc=0.786, Sens=0.625, Spec=1.000, PR AUC=0.913\n",
      "[Correlation Fold 2] AUC=0.479, Acc=0.500, Sens=0.375, Spec=0.667, PR AUC=0.676\n",
      "[Correlation Fold 3] AUC=0.667, Acc=0.643, Sens=0.625, Spec=0.667, PR AUC=0.790\n",
      "[Correlation Fold 4] AUC=0.633, Acc=0.571, Sens=0.143, Spec=1.000, PR AUC=0.753\n",
      "[Correlation Fold 5] AUC=0.980, Acc=0.929, Sens=0.857, Spec=1.000, PR AUC=0.982\n",
      "[Correlation Fold 6] AUC=0.796, Acc=0.571, Sens=0.286, Spec=0.857, PR AUC=0.804\n",
      "[Correlation Fold 7] AUC=0.714, Acc=0.500, Sens=0.286, Spec=0.714, PR AUC=0.704\n",
      "[Correlation Fold 8] AUC=0.735, Acc=0.571, Sens=0.143, Spec=1.000, PR AUC=0.733\n",
      "[Correlation Fold 9] AUC=0.898, Acc=0.857, Sens=0.857, Spec=0.857, PR AUC=0.874\n",
      "[Correlation Fold 10] AUC=0.776, Acc=0.643, Sens=0.429, Spec=0.857, PR AUC=0.765\n",
      "[Correlation Summary] Mean AUC=0.751±0.134, Mean Sens=0.463, Mean Spec=0.862, Mean PR AUC=0.799\n",
      "\n",
      "[Combined Fold 1] AUC=0.938, Acc=0.500, Sens=0.125, Spec=1.000, PR AUC=0.959\n",
      "[Combined Fold 2] AUC=0.708, Acc=0.714, Sens=0.500, Spec=1.000, PR AUC=0.824\n",
      "[Combined Fold 3] AUC=0.792, Acc=0.571, Sens=0.625, Spec=0.500, PR AUC=0.866\n",
      "[Combined Fold 4] AUC=0.694, Acc=0.643, Sens=0.286, Spec=1.000, PR AUC=0.772\n",
      "[Combined Fold 5] AUC=0.878, Acc=0.786, Sens=0.714, Spec=0.857, PR AUC=0.860\n",
      "[Combined Fold 6] AUC=0.816, Acc=0.500, Sens=0.143, Spec=0.857, PR AUC=0.780\n",
      "[Combined Fold 7] AUC=0.796, Acc=0.643, Sens=0.286, Spec=1.000, PR AUC=0.826\n",
      "[Combined Fold 8] AUC=0.714, Acc=0.571, Sens=0.143, Spec=1.000, PR AUC=0.781\n",
      "[Combined Fold 9] AUC=0.857, Acc=0.714, Sens=0.571, Spec=0.857, PR AUC=0.812\n",
      "[Combined Fold 10] AUC=0.837, Acc=0.571, Sens=0.429, Spec=0.714, PR AUC=0.844\n",
      "[Combined Summary] Mean AUC=0.803±0.075, Mean Sens=0.382, Mean Spec=0.879, Mean PR AUC=0.832\n",
      "\n"
     ]
    },
    {
     "data": {
      "image/png": "[encoded data removed]",
      "text/plain": [
       "<Figure size 600x600 with 1 Axes>"
      ]
     },
     "metadata": {},
     "output_type": "display_data"
    },
    {
     "name": "stdout",
     "output_type": "stream",
     "text": [
      "Feature Set  Mean AUC  Std AUC  Mean Acc  Mean Sens  Mean Spec  Mean PR AUC\n",
      "        CEA  0.605060 0.125917  0.592857   0.478571   0.723810     0.695483\n",
      "         AA  0.681293 0.107889  0.621429   0.410714   0.847619     0.737125\n",
      "Correlation  0.750978 0.134117  0.657143   0.462500   0.861905     0.799313\n",
      "   Combined  0.802934 0.075375  0.621429   0.382143   0.878571     0.832425\n"
     ]
    }
   ],
   "source": [
    "import os\n",
    "import numpy as np\n",
    "import pandas as pd\n",
    "import matplotlib.pyplot as plt\n",
    "from sklearn.ensemble import RandomForestClassifier\n",
    "from sklearn.model_selection import StratifiedKFold, GridSearchCV, ParameterGrid, cross_val_score\n",
    "from sklearn.metrics import roc_curve, roc_auc_score, confusion_matrix, precision_recall_curve, average_precision_score\n",
    "\n",
    "# create figures directory\n",
    "os.makedirs(\"figures\", exist_ok=True)\n",
    "\n",
    "# hyperparameter grid for Random Forest\n",
    "param_grid = {\n",
    "    'n_estimators':      [300, 500, 700, 900],\n",
    "    'max_depth':         [None],\n",
    "    'min_samples_split': [2, 5, 10],\n",
    "    'min_samples_leaf':  [1, 2, 4],\n",
    "    'max_samples':       [None, 0.8, 0.9],\n",
    "    'max_features':      ['sqrt', 'log2', None],\n",
    "    'class_weight':      ['balanced']\n",
    "}\n",
    "RANDOM_STATE = 42\n",
    "N_FOLDS      = 10\n",
    "INNER_FOLDS  = 5\n",
    "MAX_K        = 50\n",
    "base_fpr     = np.linspace(0, 1, 101)\n",
    "\n",
    "# 1) define feature sets\n",
    "feature_sets = {\n",
    "    'CEA': X_CEA,\n",
    "    'AA': X_AA,\n",
    "    'Correlation': X_corr,\n",
    "    'Combined': X_combined\n",
    "}\n",
    "\n",
    "# 2) compute global RF feature importance for each set\n",
    "global_ranked = {}\n",
    "cv = StratifiedKFold(n_splits=INNER_FOLDS, shuffle=True, random_state=RANDOM_STATE)\n",
    "\n",
    "for label, X in feature_sets.items():\n",
    "    if label == 'CEA':\n",
    "        global_ranked['CEA'] = X.columns.tolist()\n",
    "        continue\n",
    "\n",
    "    best_score = 0.0\n",
    "    best_params = None\n",
    "    for params in ParameterGrid(param_grid):\n",
    "        rf = RandomForestClassifier(random_state=RANDOM_STATE, n_jobs=-1, **params)\n",
    "        scores = cross_val_score(rf, X, y, cv=cv, scoring='roc_auc', n_jobs=-1, error_score=np.nan)\n",
    "        valid = scores[~np.isnan(scores)]\n",
    "        if valid.size == 0:\n",
    "            continue\n",
    "        mean_auc = valid.mean()\n",
    "        if mean_auc > best_score:\n",
    "            best_score, best_params = mean_auc, params\n",
    "\n",
    "    print(f\"Optimized global RF params for {label}: {best_params} (CV AUC={best_score:.3f})\")\n",
    "    rf_opt = RandomForestClassifier(random_state=RANDOM_STATE, n_jobs=-1, **best_params)\n",
    "    rf_opt.fit(X, y)\n",
    "    importances = rf_opt.feature_importances_\n",
    "    ranked = X.columns[np.argsort(importances)[::-1]]\n",
    "    global_ranked[label] = ranked\n",
    "\n",
    "    top_n = min(10, len(ranked))\n",
    "    plt.figure(figsize=(8, 6))\n",
    "    plt.bar(ranked[:top_n], importances[np.argsort(importances)[::-1][:top_n]])\n",
    "    plt.xticks(rotation=90)\n",
    "    plt.title(f\"{label} Global Feature Importances (top {top_n})\")\n",
    "    plt.tight_layout()\n",
    "    plt.savefig(f\"figures/importance_{label}.pdf\")\n",
    "    plt.close()\n",
    "\n",
    "# 3) perform outer CV evaluation\n",
    "results = {}\n",
    "outer_cv = StratifiedKFold(n_splits=N_FOLDS, shuffle=True, random_state=RANDOM_STATE)\n",
    "\n",
    "for label, X in feature_sets.items():\n",
    "    roc_data = {\n",
    "        'tprs': [], 'aucs': [], 'thresholds': [], 'accuracies': [],\n",
    "        'sensitivities': [], 'specificities': [],\n",
    "        'precisions': [], 'recalls': [], 'pr_aucs': []\n",
    "    }\n",
    "    ranked_cols = global_ranked[label]\n",
    "\n",
    "    for fold, (tr_idx, te_idx) in enumerate(outer_cv.split(X, y), start=1):\n",
    "        X_tr, X_te = X.iloc[tr_idx], X.iloc[te_idx]\n",
    "        y_tr, y_te = y.iloc[tr_idx], y.iloc[te_idx]\n",
    "\n",
    "        if label == 'CEA':\n",
    "            inner_cv = StratifiedKFold(n_splits=INNER_FOLDS, shuffle=True, random_state=RANDOM_STATE)\n",
    "            grid = GridSearchCV(\n",
    "                RandomForestClassifier(random_state=RANDOM_STATE),\n",
    "                param_grid, scoring='roc_auc', cv=inner_cv,\n",
    "                n_jobs=-1, refit=True, verbose=0\n",
    "            )\n",
    "            grid.fit(X_tr, y_tr)\n",
    "            clf = grid.best_estimator_\n",
    "\n",
    "            ths = []\n",
    "            for i_tr, i_val in inner_cv.split(X_tr, y_tr):\n",
    "                prob_v = clf.predict_proba(X_tr.iloc[i_val])[:,1]\n",
    "                fpr_i, tpr_i, thr_i = roc_curve(y_tr.iloc[i_val], prob_v)\n",
    "                ths.append(thr_i[np.argmax(tpr_i - fpr_i)])\n",
    "            best_thr = np.mean(ths)\n",
    "\n",
    "        else:\n",
    "            inner_cv = StratifiedKFold(n_splits=INNER_FOLDS, shuffle=True, random_state=RANDOM_STATE)\n",
    "            best_k, best_auc = 1, 0.0\n",
    "            for k in range(1, min(MAX_K, X_tr.shape[1]) + 1):\n",
    "                cols_k = ranked_cols[:k]\n",
    "                aucs = []\n",
    "                for i_tr, i_val in inner_cv.split(X_tr, y_tr):\n",
    "                    clf0 = RandomForestClassifier(\n",
    "                        n_estimators=500, class_weight='balanced',\n",
    "                        random_state=RANDOM_STATE, n_jobs=-1\n",
    "                    )\n",
    "                    clf0.fit(X_tr.iloc[i_tr][cols_k], y_tr.iloc[i_tr])\n",
    "                    aucs.append(roc_auc_score(\n",
    "                        y_tr.iloc[i_val],\n",
    "                        clf0.predict_proba(X_tr.iloc[i_val][cols_k])[:,1]\n",
    "                    ))\n",
    "                mean_auc = np.mean(aucs)\n",
    "                if mean_auc > best_auc:\n",
    "                    best_auc, best_k = mean_auc, k\n",
    "            cols_sel = ranked_cols[:best_k]\n",
    "\n",
    "            grid = GridSearchCV(\n",
    "                RandomForestClassifier(random_state=RANDOM_STATE),\n",
    "                param_grid, scoring='roc_auc', cv=inner_cv,\n",
    "                n_jobs=-1, refit=True, verbose=0\n",
    "            )\n",
    "            grid.fit(X_tr[cols_sel], y_tr)\n",
    "            clf = grid.best_estimator_\n",
    "\n",
    "            ths = []\n",
    "            for i_tr, i_val in inner_cv.split(X_tr, y_tr):\n",
    "                prob_v = clf.predict_proba(X_tr.iloc[i_val][cols_sel])[:,1]\n",
    "                fpr_i, tpr_i, thr_i = roc_curve(y_tr.iloc[i_val], prob_v)\n",
    "                ths.append(thr_i[np.argmax(tpr_i - fpr_i)])\n",
    "            best_thr = np.mean(ths)\n",
    "\n",
    "        prob_te = clf.predict_proba(X_te if label=='CEA' else X_te[cols_sel])[:,1]\n",
    "        pred_te = (prob_te >= best_thr).astype(int)\n",
    "        auc_te = roc_auc_score(y_te, prob_te)\n",
    "        acc_te = (pred_te == y_te.values).mean()\n",
    "\n",
    "        tn, fp, fn, tp = confusion_matrix(y_te, pred_te).ravel()\n",
    "        sens = tp / (tp + fn) if (tp + fn)>0 else np.nan\n",
    "        spec = tn / (tn + fp) if (tn + fp)>0 else np.nan\n",
    "\n",
    "        precision, recall, _ = precision_recall_curve(y_te, prob_te)\n",
    "        pr_auc = average_precision_score(y_te, prob_te)\n",
    "\n",
    "        fpr_te, tpr_te, _ = roc_curve(y_te, prob_te)\n",
    "        tpr_interp = np.interp(base_fpr, fpr_te, tpr_te)\n",
    "        tpr_interp[0] = 0.0\n",
    "\n",
    "        roc_data['tprs'].append(tpr_interp)\n",
    "        roc_data['aucs'].append(auc_te)\n",
    "        roc_data['thresholds'].append(best_thr)\n",
    "        roc_data['accuracies'].append(acc_te)\n",
    "        roc_data['sensitivities'].append(sens)\n",
    "        roc_data['specificities'].append(spec)\n",
    "        roc_data['precisions'].append(precision)\n",
    "        roc_data['recalls'].append(recall)\n",
    "        roc_data['pr_aucs'].append(pr_auc)\n",
    "\n",
    "        print(f\"[{label} Fold {fold}] AUC={auc_te:.3f}, Acc={acc_te:.3f}, Sens={sens:.3f}, Spec={spec:.3f}, PR AUC={pr_auc:.3f}\")\n",
    "\n",
    "    mean_auc = np.mean(roc_data['aucs'])\n",
    "    std_auc  = np.std(roc_data['aucs'])\n",
    "    mean_sens= np.nanmean(roc_data['sensitivities'])\n",
    "    mean_spec= np.nanmean(roc_data['specificities'])\n",
    "    mean_pr  = np.mean(roc_data['pr_aucs'])\n",
    "    print(f\"[{label} Summary] Mean AUC={mean_auc:.3f}±{std_auc:.3f}, Mean Sens={mean_sens:.3f}, Mean Spec={mean_spec:.3f}, Mean PR AUC={mean_pr:.3f}\\n\")\n",
    "    results[label] = roc_data\n",
    "\n",
    "# plot mean ROC curves\n",
    "plt.figure(figsize=(6,6))\n",
    "for label in feature_sets:\n",
    "    tprs = np.vstack(results[label]['tprs'])\n",
    "    mean_tpr = tprs.mean(axis=0)\n",
    "    mean_tpr[-1] = 1.0\n",
    "    std_tpr = tprs.std(axis=0)\n",
    "    plt.plot(base_fpr, mean_tpr, lw=2, label=f\"{label} (AUC={np.mean(results[label]['aucs']):.3f})\")\n",
    "    plt.fill_between(\n",
    "        base_fpr,\n",
    "        np.clip(mean_tpr-std_tpr, 0, 1),\n",
    "        np.clip(mean_tpr+std_tpr, 0, 1),\n",
    "        alpha=0.1\n",
    "    )\n",
    "plt.plot([0,1],[0,1],'k--',lw=1)\n",
    "plt.xlabel(\"False Positive Rate\")\n",
    "plt.ylabel(\"True Positive Rate\")\n",
    "plt.title(\"Mean ROC Curves by Feature Set\")\n",
    "plt.legend(loc='lower right')\n",
    "plt.grid(alpha=0.3)\n",
    "plt.tight_layout()\n",
    "plt.savefig(\"figures/mean_roc_by_feature_set.pdf\")\n",
    "plt.show()\n",
    "\n",
    "# summarize all metrics in DataFrame\n",
    "summary_list = []\n",
    "for label, data in results.items():\n",
    "    summary_list.append({\n",
    "        'Feature Set': label,\n",
    "        'Mean AUC':    np.mean(data['aucs']),\n",
    "        'Std AUC':     np.std(data['aucs']),\n",
    "        'Mean Acc':    np.mean(data['accuracies']),\n",
    "        'Mean Sens':   np.nanmean(data['sensitivities']),\n",
    "        'Mean Spec':   np.nanmean(data['specificities']),\n",
    "        'Mean PR AUC': np.mean(data['pr_aucs']),\n",
    "    })\n",
    "\n",
    "df_summary = pd.DataFrame(summary_list)\n",
    "print(df_summary.to_string(index=False))\n",
    "df_summary.to_csv(\"figures/summary_metrics.csv\", index=False)\n"
   ]
  }
 ],
 "metadata": {
  "kernelspec": {
   "display_name": "VRPGP",
   "language": "python",
   "name": "vrpgp"
  },
  "language_info": {
   "codemirror_mode": {
    "name": "ipython",
    "version": 3
   },
   "file_extension": ".py",
   "mimetype": "text/x-python",
   "name": "python",
   "nbconvert_exporter": "python",
   "pygments_lexer": "ipython3",
   "version": "3.11.13"
  }
 },
 "nbformat": 4,
 "nbformat_minor": 5
}
