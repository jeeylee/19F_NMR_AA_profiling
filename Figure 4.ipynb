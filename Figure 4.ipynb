{
 "cells": [
  {
   "cell_type": "markdown",
   "id": "f60a7ee7",
   "metadata": {},
   "source": [
    "## Data import"
   ]
  },
  {
   "cell_type": "code",
   "execution_count": 117,
   "id": "7ea6aa64",
   "metadata": {},
   "outputs": [],
   "source": [
    "# Required imports\n",
    "import pandas as pd\n",
    "import numpy as np\n",
    "import matplotlib.pyplot as plt\n",
    "import seaborn as sns\n",
    "from sklearn.decomposition import PCA\n",
    "from sklearn.preprocessing import StandardScaler\n",
    "from scipy.stats import zscore\n",
    "\n",
    "AA_df = pd.read_csv(\"Data S1.csv\", encoding=\"utf-8\") \n",
    "\n",
    "# Define amino acid list once at the top\n",
    "amino_acids = ['Ser','Lys', 'Met', 'Phe', 'Leu', 'Thr', 'Val', 'Trp','Arg', 'Gln', 'Gly', 'Tyr','Asn', 'Ala','Tau','Orn']"
   ]
  },
  {
   "cell_type": "code",
   "execution_count": 118,
   "id": "7849a319",
   "metadata": {},
   "outputs": [],
   "source": [
    "AA_df = AA_df.dropna(subset=['pTNM stage'] + amino_acids)"
   ]
  },
  {
   "cell_type": "code",
   "execution_count": 119,
   "id": "7feb027a",
   "metadata": {},
   "outputs": [
    {
     "data": {
      "text/html": [
       "<div>\n",
       "<style scoped>\n",
       "    .dataframe tbody tr th:only-of-type {\n",
       "        vertical-align: middle;\n",
       "    }\n",
       "\n",
       "    .dataframe tbody tr th {\n",
       "        vertical-align: top;\n",
       "    }\n",
       "\n",
       "    .dataframe thead th {\n",
       "        text-align: right;\n",
       "    }\n",
       "</style>\n",
       "<table border=\"1\" class=\"dataframe\">\n",
       "  <thead>\n",
       "    <tr style=\"text-align: right;\">\n",
       "      <th></th>\n",
       "      <th>Sample</th>\n",
       "      <th>Tau</th>\n",
       "      <th>Lys</th>\n",
       "      <th>Asn</th>\n",
       "      <th>Arg</th>\n",
       "      <th>Met</th>\n",
       "      <th>Gln</th>\n",
       "      <th>Orn</th>\n",
       "      <th>Phe</th>\n",
       "      <th>Leu</th>\n",
       "      <th>...</th>\n",
       "      <th>pN</th>\n",
       "      <th>pM</th>\n",
       "      <th>Number of positive lymph nodes</th>\n",
       "      <th>Number of harvested lymph nodes</th>\n",
       "      <th>Tumor size (cm)</th>\n",
       "      <th>Histologic grade</th>\n",
       "      <th>Lymphovascular invasion</th>\n",
       "      <th>Perineural invasion</th>\n",
       "      <th>Last follow-up date</th>\n",
       "      <th>Recurrence</th>\n",
       "    </tr>\n",
       "  </thead>\n",
       "  <tbody>\n",
       "    <tr>\n",
       "      <th>0</th>\n",
       "      <td>Patient-1</td>\n",
       "      <td>97.411</td>\n",
       "      <td>103.533</td>\n",
       "      <td>31.423</td>\n",
       "      <td>0.000</td>\n",
       "      <td>15.808</td>\n",
       "      <td>197.833</td>\n",
       "      <td>31.726</td>\n",
       "      <td>37.455</td>\n",
       "      <td>93.192</td>\n",
       "      <td>...</td>\n",
       "      <td>0.0</td>\n",
       "      <td>0.0</td>\n",
       "      <td>0.0</td>\n",
       "      <td>46.0</td>\n",
       "      <td>1.7</td>\n",
       "      <td>Well-differentiated</td>\n",
       "      <td>No invasion</td>\n",
       "      <td>No invasion</td>\n",
       "      <td>NaN</td>\n",
       "      <td>NaN</td>\n",
       "    </tr>\n",
       "    <tr>\n",
       "      <th>1</th>\n",
       "      <td>Patient-2</td>\n",
       "      <td>73.993</td>\n",
       "      <td>70.206</td>\n",
       "      <td>21.191</td>\n",
       "      <td>0.000</td>\n",
       "      <td>0.000</td>\n",
       "      <td>367.578</td>\n",
       "      <td>0.000</td>\n",
       "      <td>27.415</td>\n",
       "      <td>238.829</td>\n",
       "      <td>...</td>\n",
       "      <td>0.0</td>\n",
       "      <td>0.0</td>\n",
       "      <td>0.0</td>\n",
       "      <td>15.0</td>\n",
       "      <td>3.8</td>\n",
       "      <td>Moderately differentiated</td>\n",
       "      <td>No invasion</td>\n",
       "      <td>No invasion</td>\n",
       "      <td>NaN</td>\n",
       "      <td>NaN</td>\n",
       "    </tr>\n",
       "    <tr>\n",
       "      <th>2</th>\n",
       "      <td>Patient-3</td>\n",
       "      <td>65.505</td>\n",
       "      <td>90.469</td>\n",
       "      <td>0.000</td>\n",
       "      <td>0.000</td>\n",
       "      <td>0.000</td>\n",
       "      <td>181.527</td>\n",
       "      <td>0.000</td>\n",
       "      <td>16.784</td>\n",
       "      <td>89.368</td>\n",
       "      <td>...</td>\n",
       "      <td>0.0</td>\n",
       "      <td>0.0</td>\n",
       "      <td>0.0</td>\n",
       "      <td>12.0</td>\n",
       "      <td>0.8</td>\n",
       "      <td>Moderately differentiated</td>\n",
       "      <td>No invasion</td>\n",
       "      <td>No invasion</td>\n",
       "      <td>NaN</td>\n",
       "      <td>NaN</td>\n",
       "    </tr>\n",
       "    <tr>\n",
       "      <th>3</th>\n",
       "      <td>Patient-4</td>\n",
       "      <td>42.170</td>\n",
       "      <td>77.167</td>\n",
       "      <td>0.000</td>\n",
       "      <td>41.121</td>\n",
       "      <td>0.000</td>\n",
       "      <td>192.521</td>\n",
       "      <td>13.172</td>\n",
       "      <td>21.775</td>\n",
       "      <td>30.512</td>\n",
       "      <td>...</td>\n",
       "      <td>0.0</td>\n",
       "      <td>0.0</td>\n",
       "      <td>0.0</td>\n",
       "      <td>57.0</td>\n",
       "      <td>8.8</td>\n",
       "      <td>Moderately differentiated</td>\n",
       "      <td>No invasion</td>\n",
       "      <td>No invasion</td>\n",
       "      <td>NaN</td>\n",
       "      <td>NaN</td>\n",
       "    </tr>\n",
       "    <tr>\n",
       "      <th>4</th>\n",
       "      <td>Patient-5</td>\n",
       "      <td>128.726</td>\n",
       "      <td>139.303</td>\n",
       "      <td>39.297</td>\n",
       "      <td>54.231</td>\n",
       "      <td>48.967</td>\n",
       "      <td>356.260</td>\n",
       "      <td>63.024</td>\n",
       "      <td>34.642</td>\n",
       "      <td>133.589</td>\n",
       "      <td>...</td>\n",
       "      <td>1.0</td>\n",
       "      <td>0.0</td>\n",
       "      <td>1.0</td>\n",
       "      <td>46.0</td>\n",
       "      <td>9.8</td>\n",
       "      <td>Moderately differentiated</td>\n",
       "      <td>No invasion</td>\n",
       "      <td>No invasion</td>\n",
       "      <td>NaN</td>\n",
       "      <td>NaN</td>\n",
       "    </tr>\n",
       "    <tr>\n",
       "      <th>...</th>\n",
       "      <td>...</td>\n",
       "      <td>...</td>\n",
       "      <td>...</td>\n",
       "      <td>...</td>\n",
       "      <td>...</td>\n",
       "      <td>...</td>\n",
       "      <td>...</td>\n",
       "      <td>...</td>\n",
       "      <td>...</td>\n",
       "      <td>...</td>\n",
       "      <td>...</td>\n",
       "      <td>...</td>\n",
       "      <td>...</td>\n",
       "      <td>...</td>\n",
       "      <td>...</td>\n",
       "      <td>...</td>\n",
       "      <td>...</td>\n",
       "      <td>...</td>\n",
       "      <td>...</td>\n",
       "      <td>...</td>\n",
       "      <td>...</td>\n",
       "    </tr>\n",
       "    <tr>\n",
       "      <th>147</th>\n",
       "      <td>Patient-148</td>\n",
       "      <td>124.315</td>\n",
       "      <td>172.431</td>\n",
       "      <td>0.000</td>\n",
       "      <td>58.213</td>\n",
       "      <td>28.906</td>\n",
       "      <td>367.515</td>\n",
       "      <td>103.372</td>\n",
       "      <td>77.159</td>\n",
       "      <td>144.639</td>\n",
       "      <td>...</td>\n",
       "      <td>0.0</td>\n",
       "      <td>0.0</td>\n",
       "      <td>0.0</td>\n",
       "      <td>30.0</td>\n",
       "      <td>5.7</td>\n",
       "      <td>Moderately differentiated</td>\n",
       "      <td>Lymphovascular invasion</td>\n",
       "      <td>No invasion</td>\n",
       "      <td>2022-05-22</td>\n",
       "      <td>Yes</td>\n",
       "    </tr>\n",
       "    <tr>\n",
       "      <th>148</th>\n",
       "      <td>Patient-149</td>\n",
       "      <td>152.506</td>\n",
       "      <td>131.335</td>\n",
       "      <td>43.920</td>\n",
       "      <td>29.851</td>\n",
       "      <td>27.922</td>\n",
       "      <td>415.112</td>\n",
       "      <td>118.936</td>\n",
       "      <td>64.782</td>\n",
       "      <td>120.672</td>\n",
       "      <td>...</td>\n",
       "      <td>NaN</td>\n",
       "      <td>NaN</td>\n",
       "      <td>NaN</td>\n",
       "      <td>NaN</td>\n",
       "      <td>NaN</td>\n",
       "      <td>Mucinous</td>\n",
       "      <td>NaN</td>\n",
       "      <td>NaN</td>\n",
       "      <td>NaN</td>\n",
       "      <td>NaN</td>\n",
       "    </tr>\n",
       "    <tr>\n",
       "      <th>149</th>\n",
       "      <td>Patient-150</td>\n",
       "      <td>119.279</td>\n",
       "      <td>207.649</td>\n",
       "      <td>90.775</td>\n",
       "      <td>62.947</td>\n",
       "      <td>51.336</td>\n",
       "      <td>678.529</td>\n",
       "      <td>93.942</td>\n",
       "      <td>64.417</td>\n",
       "      <td>107.694</td>\n",
       "      <td>...</td>\n",
       "      <td>2.0</td>\n",
       "      <td>1.0</td>\n",
       "      <td>18.0</td>\n",
       "      <td>18.0</td>\n",
       "      <td>12.0</td>\n",
       "      <td>Poorly differentiated</td>\n",
       "      <td>Lymphovascular invasion</td>\n",
       "      <td>No invasion</td>\n",
       "      <td>2019-05-23</td>\n",
       "      <td>Yes</td>\n",
       "    </tr>\n",
       "    <tr>\n",
       "      <th>150</th>\n",
       "      <td>Patient-151</td>\n",
       "      <td>0.000</td>\n",
       "      <td>53.241</td>\n",
       "      <td>0.000</td>\n",
       "      <td>16.388</td>\n",
       "      <td>0.000</td>\n",
       "      <td>137.560</td>\n",
       "      <td>11.158</td>\n",
       "      <td>14.486</td>\n",
       "      <td>21.526</td>\n",
       "      <td>...</td>\n",
       "      <td>NaN</td>\n",
       "      <td>NaN</td>\n",
       "      <td>NaN</td>\n",
       "      <td>NaN</td>\n",
       "      <td>NaN</td>\n",
       "      <td>NaN</td>\n",
       "      <td>NaN</td>\n",
       "      <td>NaN</td>\n",
       "      <td>2017-11-08</td>\n",
       "      <td>Yes</td>\n",
       "    </tr>\n",
       "    <tr>\n",
       "      <th>153</th>\n",
       "      <td>Patient-154</td>\n",
       "      <td>65.730</td>\n",
       "      <td>259.452</td>\n",
       "      <td>82.205</td>\n",
       "      <td>109.492</td>\n",
       "      <td>27.269</td>\n",
       "      <td>577.733</td>\n",
       "      <td>96.109</td>\n",
       "      <td>77.546</td>\n",
       "      <td>174.555</td>\n",
       "      <td>...</td>\n",
       "      <td>2.0</td>\n",
       "      <td>1.0</td>\n",
       "      <td>4.0</td>\n",
       "      <td>16.0</td>\n",
       "      <td>3.0</td>\n",
       "      <td>Mucinous</td>\n",
       "      <td>Lymphovascular invasion</td>\n",
       "      <td>Perineural invasion</td>\n",
       "      <td>2018-11-08</td>\n",
       "      <td>Yes</td>\n",
       "    </tr>\n",
       "  </tbody>\n",
       "</table>\n",
       "<p>152 rows × 42 columns</p>\n",
       "</div>"
      ],
      "text/plain": [
       "          Sample      Tau      Lys     Asn      Arg     Met      Gln      Orn  \\\n",
       "0      Patient-1   97.411  103.533  31.423    0.000  15.808  197.833   31.726   \n",
       "1      Patient-2   73.993   70.206  21.191    0.000   0.000  367.578    0.000   \n",
       "2      Patient-3   65.505   90.469   0.000    0.000   0.000  181.527    0.000   \n",
       "3      Patient-4   42.170   77.167   0.000   41.121   0.000  192.521   13.172   \n",
       "4      Patient-5  128.726  139.303  39.297   54.231  48.967  356.260   63.024   \n",
       "..           ...      ...      ...     ...      ...     ...      ...      ...   \n",
       "147  Patient-148  124.315  172.431   0.000   58.213  28.906  367.515  103.372   \n",
       "148  Patient-149  152.506  131.335  43.920   29.851  27.922  415.112  118.936   \n",
       "149  Patient-150  119.279  207.649  90.775   62.947  51.336  678.529   93.942   \n",
       "150  Patient-151    0.000   53.241   0.000   16.388   0.000  137.560   11.158   \n",
       "153  Patient-154   65.730  259.452  82.205  109.492  27.269  577.733   96.109   \n",
       "\n",
       "        Phe      Leu  ...   pN   pM  Number of positive lymph nodes  \\\n",
       "0    37.455   93.192  ...  0.0  0.0                             0.0   \n",
       "1    27.415  238.829  ...  0.0  0.0                             0.0   \n",
       "2    16.784   89.368  ...  0.0  0.0                             0.0   \n",
       "3    21.775   30.512  ...  0.0  0.0                             0.0   \n",
       "4    34.642  133.589  ...  1.0  0.0                             1.0   \n",
       "..      ...      ...  ...  ...  ...                             ...   \n",
       "147  77.159  144.639  ...  0.0  0.0                             0.0   \n",
       "148  64.782  120.672  ...  NaN  NaN                             NaN   \n",
       "149  64.417  107.694  ...  2.0  1.0                            18.0   \n",
       "150  14.486   21.526  ...  NaN  NaN                             NaN   \n",
       "153  77.546  174.555  ...  2.0  1.0                             4.0   \n",
       "\n",
       "     Number of harvested lymph nodes  Tumor size (cm)  \\\n",
       "0                               46.0              1.7   \n",
       "1                               15.0              3.8   \n",
       "2                               12.0              0.8   \n",
       "3                               57.0              8.8   \n",
       "4                               46.0              9.8   \n",
       "..                               ...              ...   \n",
       "147                             30.0              5.7   \n",
       "148                              NaN              NaN   \n",
       "149                             18.0             12.0   \n",
       "150                              NaN              NaN   \n",
       "153                             16.0              3.0   \n",
       "\n",
       "              Histologic grade  Lymphovascular invasion  Perineural invasion  \\\n",
       "0          Well-differentiated              No invasion          No invasion   \n",
       "1    Moderately differentiated              No invasion          No invasion   \n",
       "2    Moderately differentiated              No invasion          No invasion   \n",
       "3    Moderately differentiated              No invasion          No invasion   \n",
       "4    Moderately differentiated              No invasion          No invasion   \n",
       "..                         ...                      ...                  ...   \n",
       "147  Moderately differentiated  Lymphovascular invasion          No invasion   \n",
       "148                   Mucinous                      NaN                  NaN   \n",
       "149      Poorly differentiated  Lymphovascular invasion          No invasion   \n",
       "150                        NaN                      NaN                  NaN   \n",
       "153                   Mucinous  Lymphovascular invasion  Perineural invasion   \n",
       "\n",
       "     Last follow-up date  Recurrence  \n",
       "0                    NaN         NaN  \n",
       "1                    NaN         NaN  \n",
       "2                    NaN         NaN  \n",
       "3                    NaN         NaN  \n",
       "4                    NaN         NaN  \n",
       "..                   ...         ...  \n",
       "147           2022-05-22         Yes  \n",
       "148                  NaN         NaN  \n",
       "149           2019-05-23         Yes  \n",
       "150           2017-11-08         Yes  \n",
       "153           2018-11-08         Yes  \n",
       "\n",
       "[152 rows x 42 columns]"
      ]
     },
     "execution_count": 119,
     "metadata": {},
     "output_type": "execute_result"
    }
   ],
   "source": [
    "AA_df"
   ]
  },
  {
   "cell_type": "markdown",
   "id": "d39f5d4d",
   "metadata": {},
   "source": [
    "## Data Pre-processing"
   ]
  },
  {
   "cell_type": "code",
   "execution_count": 120,
   "id": "45582ee7",
   "metadata": {},
   "outputs": [],
   "source": [
    "## Data Pre-processing\n",
    "target_amino_acids = amino_acids + ['Ile+Glu']\n",
    "AA_df['Total'] = AA_df[target_amino_acids].sum(axis=1)\n",
    "for aa in amino_acids:\n",
    "    AA_df[f'{aa}_ratio'] = AA_df[aa] / AA_df['Total']\n",
    "    AA_df[f'log1p_{aa}_ratio'] = np.log1p(AA_df[f'{aa}_ratio'])\n",
    "scaler = StandardScaler()\n",
    "zscore_columns = [f'zscore_log1p_{aa}_ratio' for aa in amino_acids]\n",
    "AA_df[zscore_columns] = scaler.fit_transform(AA_df[[f'log1p_{aa}_ratio' for aa in amino_acids]])\n"
   ]
  },
  {
   "cell_type": "markdown",
   "id": "7282833e",
   "metadata": {},
   "source": [
    "## Correlation pair"
   ]
  },
  {
   "cell_type": "code",
   "execution_count": 121,
   "id": "9cbe5fbb",
   "metadata": {},
   "outputs": [
    {
     "name": "stdout",
     "output_type": "stream",
     "text": [
      "Stage 1 Significant Correlations:\n",
      "                Variable 1              Variable 2  Correlation   p_value  \\\n",
      "0   zscore_log1p_Leu_ratio  zscore_log1p_Val_ratio     0.787281  0.000014   \n",
      "1   zscore_log1p_Arg_ratio  zscore_log1p_Val_ratio    -0.593229  0.003613   \n",
      "2   zscore_log1p_Leu_ratio  zscore_log1p_Lys_ratio    -0.613035  0.002417   \n",
      "3   zscore_log1p_Ala_ratio  zscore_log1p_Leu_ratio    -0.650704  0.001041   \n",
      "4   zscore_log1p_Orn_ratio  zscore_log1p_Phe_ratio     0.586560  0.004114   \n",
      "5   zscore_log1p_Arg_ratio  zscore_log1p_Tau_ratio    -0.666879  0.000700   \n",
      "6   zscore_log1p_Leu_ratio  zscore_log1p_Ser_ratio    -0.544890  0.008733   \n",
      "7   zscore_log1p_Gly_ratio  zscore_log1p_Val_ratio    -0.606313  0.002778   \n",
      "8   zscore_log1p_Lys_ratio  zscore_log1p_Ser_ratio     0.518736  0.013377   \n",
      "9   zscore_log1p_Ser_ratio  zscore_log1p_Val_ratio    -0.590291  0.003827   \n",
      "10  zscore_log1p_Ala_ratio  zscore_log1p_Val_ratio    -0.696806  0.000314   \n",
      "11  zscore_log1p_Gln_ratio  zscore_log1p_Phe_ratio    -0.593725  0.003578   \n",
      "12  zscore_log1p_Tau_ratio  zscore_log1p_Val_ratio     0.531976  0.010824   \n",
      "\n",
      "    pTNM stage  \n",
      "0            1  \n",
      "1            1  \n",
      "2            1  \n",
      "3            1  \n",
      "4            1  \n",
      "5            1  \n",
      "6            1  \n",
      "7            1  \n",
      "8            1  \n",
      "9            1  \n",
      "10           1  \n",
      "11           1  \n",
      "12           1  \n",
      "\n",
      "Stage 2 Significant Correlations:\n",
      "               Variable 1              Variable 2  Correlation   p_value  \\\n",
      "0  zscore_log1p_Orn_ratio  zscore_log1p_Ser_ratio     0.542838  0.001939   \n",
      "1  zscore_log1p_Gly_ratio  zscore_log1p_Leu_ratio    -0.593861  0.000541   \n",
      "2  zscore_log1p_Ala_ratio  zscore_log1p_Tyr_ratio     0.649110  0.000104   \n",
      "3  zscore_log1p_Ser_ratio  zscore_log1p_Tau_ratio    -0.526263  0.002815   \n",
      "4  zscore_log1p_Gly_ratio  zscore_log1p_Val_ratio    -0.587746  0.000637   \n",
      "5  zscore_log1p_Ala_ratio  zscore_log1p_Thr_ratio    -0.564252  0.001163   \n",
      "6  zscore_log1p_Leu_ratio  zscore_log1p_Val_ratio     0.596602  0.000502   \n",
      "7  zscore_log1p_Gly_ratio  zscore_log1p_Tau_ratio    -0.517259  0.003421   \n",
      "8  zscore_log1p_Gly_ratio  zscore_log1p_Ser_ratio     0.690893  0.000024   \n",
      "9  zscore_log1p_Gln_ratio  zscore_log1p_Leu_ratio    -0.604179  0.000407   \n",
      "\n",
      "   pTNM stage  \n",
      "0           2  \n",
      "1           2  \n",
      "2           2  \n",
      "3           2  \n",
      "4           2  \n",
      "5           2  \n",
      "6           2  \n",
      "7           2  \n",
      "8           2  \n",
      "9           2  \n",
      "\n",
      "Stage 3 Significant Correlations:\n",
      "               Variable 1              Variable 2  Correlation       p_value  \\\n",
      "0  zscore_log1p_Leu_ratio  zscore_log1p_Ser_ratio    -0.553038  5.699443e-04   \n",
      "1  zscore_log1p_Gly_ratio  zscore_log1p_Leu_ratio    -0.593431  1.716813e-04   \n",
      "2  zscore_log1p_Leu_ratio  zscore_log1p_Thr_ratio    -0.511341  1.693241e-03   \n",
      "3  zscore_log1p_Gly_ratio  zscore_log1p_Val_ratio    -0.695139  3.584796e-06   \n",
      "4  zscore_log1p_Arg_ratio  zscore_log1p_Tau_ratio    -0.525495  1.188330e-03   \n",
      "5  zscore_log1p_Leu_ratio  zscore_log1p_Val_ratio     0.823095  1.286071e-09   \n",
      "\n",
      "   pTNM stage  \n",
      "0           3  \n",
      "1           3  \n",
      "2           3  \n",
      "3           3  \n",
      "4           3  \n",
      "5           3  \n",
      "\n",
      "Stage 4 Significant Correlations:\n",
      "               Variable 1              Variable 2  Correlation       p_value  \\\n",
      "0  zscore_log1p_Leu_ratio  zscore_log1p_Val_ratio     0.713399  2.580935e-11   \n",
      "1  zscore_log1p_Gly_ratio  zscore_log1p_Val_ratio    -0.796274  2.220446e-15   \n",
      "2  zscore_log1p_Gln_ratio  zscore_log1p_Orn_ratio    -0.580363  4.035588e-07   \n",
      "3  zscore_log1p_Gly_ratio  zscore_log1p_Ser_ratio     0.508150  1.551703e-05   \n",
      "4  zscore_log1p_Gly_ratio  zscore_log1p_Leu_ratio    -0.523992  7.478819e-06   \n",
      "\n",
      "   pTNM stage  \n",
      "0           4  \n",
      "1           4  \n",
      "2           4  \n",
      "3           4  \n",
      "4           4  \n"
     ]
    }
   ],
   "source": [
    "from scipy.stats import t\n",
    "\n",
    "# Function to calculate p-value from Pearson correlation coefficient and sample size\n",
    "def calculate_p_value(r, n):\n",
    "    if n <= 2 or abs(r) == 1:  # Insufficient degrees of freedom or perfect correlation\n",
    "        return 0.0\n",
    "    t_stat = abs(r) * np.sqrt((n - 2) / (1 - r**2))\n",
    "    p_value = 2 * (1 - t.cdf(t_stat, df=n - 2))\n",
    "    return p_value\n",
    "\n",
    "# Dictionary to store significant correlations for each stage\n",
    "grouped_significant_results = {}\n",
    "AA_df[\"pTNM stage\"] = AA_df[\"pTNM stage\"].astype(int)\n",
    "\n",
    "# Identify significant correlations for each pTNM stage\n",
    "for stage in sorted(AA_df['pTNM stage'].unique()):\n",
    "    stage_data = AA_df[AA_df['pTNM stage'] == stage][zscore_columns]\n",
    "    correlation_matrix = stage_data.corr(method='pearson')\n",
    "    sample_size = stage_data.shape[0]\n",
    "\n",
    "    significant_pairs = set()\n",
    "    for i, var1 in enumerate(correlation_matrix.columns):\n",
    "        for j, var2 in enumerate(correlation_matrix.columns):\n",
    "            if i < j:\n",
    "                if \"Ile+Glu\" in var1 or \"Ile+Glu\" in var2:\n",
    "                    continue  # Exclude pairs containing 'Ile+Glu'\n",
    "                r = correlation_matrix.iloc[i, j]\n",
    "                if abs(r) > 0.5:  # Correlation threshold\n",
    "                    p_value = calculate_p_value(r, sample_size)\n",
    "                    if p_value < 0.05:  # Significance threshold\n",
    "                        pair = tuple(sorted((var1, var2)))\n",
    "                        significant_pairs.add((pair[0], pair[1], r, p_value))\n",
    "\n",
    "    grouped_significant_results[stage] = list(significant_pairs)  # Keep stage as integer\n",
    "\n",
    "# Convert results to DataFrame\n",
    "df_list = []\n",
    "for stage, pairs in grouped_significant_results.items():\n",
    "    if pairs:\n",
    "        df_temp = pd.DataFrame(pairs, columns=[\"Variable 1\", \"Variable 2\", \"Correlation\", \"p_value\"])\n",
    "        df_temp[\"pTNM stage\"] = stage\n",
    "        df_list.append(df_temp)\n",
    "\n",
    "result_df = pd.concat(df_list, ignore_index=True)\n",
    "\n",
    "# Separate stage-specific DataFrames\n",
    "stage1_df = result_df[result_df[\"pTNM stage\"] == 1].reset_index(drop=True)\n",
    "stage2_df = result_df[result_df[\"pTNM stage\"] == 2].reset_index(drop=True)\n",
    "stage3_df = result_df[result_df[\"pTNM stage\"] == 3].reset_index(drop=True)\n",
    "stage4_df = result_df[result_df[\"pTNM stage\"] == 4].reset_index(drop=True)\n",
    "\n",
    "# Print results for each stage\n",
    "print(\"Stage 1 Significant Correlations:\")\n",
    "print(stage1_df)\n",
    "\n",
    "print(\"\\nStage 2 Significant Correlations:\")\n",
    "print(stage2_df)\n",
    "\n",
    "print(\"\\nStage 3 Significant Correlations:\")\n",
    "print(stage3_df)\n",
    "\n",
    "print(\"\\nStage 4 Significant Correlations:\")\n",
    "print(stage4_df)\n"
   ]
  },
  {
   "cell_type": "markdown",
   "id": "da5465ff",
   "metadata": {},
   "source": [
    "## UpSet plot"
   ]
  },
  {
   "cell_type": "code",
   "execution_count": 122,
   "id": "bfae3e6d",
   "metadata": {},
   "outputs": [
    {
     "name": "stderr",
     "output_type": "stream",
     "text": [
      "/home/ezeon/anaconda3/envs/VRPGP/lib/python3.11/site-packages/upsetplot/plotting.py:795: FutureWarning:\n",
      "\n",
      "A value is trying to be set on a copy of a DataFrame or Series through chained assignment using an inplace method.\n",
      "The behavior will change in pandas 3.0. This inplace method will never work because the intermediate object on which we are setting values always behaves as a copy.\n",
      "\n",
      "For example, when doing 'df[col].method(value, inplace=True)', try using 'df.method({col: value}, inplace=True)' or df[col] = df[col].method(value) instead, to perform the operation inplace on the original object.\n",
      "\n",
      "\n",
      "\n",
      "/home/ezeon/anaconda3/envs/VRPGP/lib/python3.11/site-packages/upsetplot/plotting.py:796: FutureWarning:\n",
      "\n",
      "A value is trying to be set on a copy of a DataFrame or Series through chained assignment using an inplace method.\n",
      "The behavior will change in pandas 3.0. This inplace method will never work because the intermediate object on which we are setting values always behaves as a copy.\n",
      "\n",
      "For example, when doing 'df[col].method(value, inplace=True)', try using 'df.method({col: value}, inplace=True)' or df[col] = df[col].method(value) instead, to perform the operation inplace on the original object.\n",
      "\n",
      "\n",
      "\n",
      "/home/ezeon/anaconda3/envs/VRPGP/lib/python3.11/site-packages/upsetplot/plotting.py:797: FutureWarning:\n",
      "\n",
      "A value is trying to be set on a copy of a DataFrame or Series through chained assignment using an inplace method.\n",
      "The behavior will change in pandas 3.0. This inplace method will never work because the intermediate object on which we are setting values always behaves as a copy.\n",
      "\n",
      "For example, when doing 'df[col].method(value, inplace=True)', try using 'df.method({col: value}, inplace=True)' or df[col] = df[col].method(value) instead, to perform the operation inplace on the original object.\n",
      "\n",
      "\n",
      "\n",
      "/home/ezeon/anaconda3/envs/VRPGP/lib/python3.11/site-packages/upsetplot/plotting.py:798: FutureWarning:\n",
      "\n",
      "A value is trying to be set on a copy of a DataFrame or Series through chained assignment using an inplace method.\n",
      "The behavior will change in pandas 3.0. This inplace method will never work because the intermediate object on which we are setting values always behaves as a copy.\n",
      "\n",
      "For example, when doing 'df[col].method(value, inplace=True)', try using 'df.method({col: value}, inplace=True)' or df[col] = df[col].method(value) instead, to perform the operation inplace on the original object.\n",
      "\n",
      "\n",
      "\n"
     ]
    },
    {
     "data": {
      "image/png": "[encoded data removed]",
      "text/plain": [
       "<Figure size 577.778x444.444 with 4 Axes>"
      ]
     },
     "metadata": {},
     "output_type": "display_data"
    }
   ],
   "source": [
    "# Create sets of significant variable pairs for each stage\n",
    "stage1_set = set(zip(stage1_df['Variable 1'], stage1_df['Variable 2']))\n",
    "stage2_set = set(zip(stage2_df['Variable 1'], stage2_df['Variable 2']))\n",
    "stage3_set = set(zip(stage3_df['Variable 1'], stage3_df['Variable 2']))\n",
    "stage4_set = set(zip(stage4_df['Variable 1'], stage4_df['Variable 2']))\n",
    "\n",
    "stage_sets = [stage1_set, stage2_set, stage3_set, stage4_set]\n",
    "\n",
    "# Track the stages in which each variable pair appears\n",
    "pair_stages_dict = {}\n",
    "for stage_idx, stage_set in enumerate(stage_sets, start=1):\n",
    "    for pair in stage_set:\n",
    "        if pair not in pair_stages_dict:\n",
    "            pair_stages_dict[pair] = []\n",
    "        pair_stages_dict[pair].append(stage_idx)\n",
    "\n",
    "# Group pairs by their stage combinations (e.g., Stage 1 & Stage 3)\n",
    "common_pairs_grouped = {}\n",
    "for pair, stages in pair_stages_dict.items():\n",
    "    key = \" & \".join([f\"Stage {s}\" for s in stages])\n",
    "    if key not in common_pairs_grouped:\n",
    "        common_pairs_grouped[key] = []\n",
    "    common_pairs_grouped[key].append(pair)\n",
    "\n",
    "# Convert results into a DataFrame format suitable for UpSet plot\n",
    "UpSet_result_df = pd.DataFrame(\n",
    "    [(key, pair) for key, pairs in common_pairs_grouped.items() for pair in pairs],\n",
    "    columns=['Stages', 'Variable Pair']\n",
    ")\n",
    "\n",
    "# Create boolean columns for each stage\n",
    "stages_list = [\"Stage 1\", \"Stage 2\", \"Stage 3\", \"Stage 4\"]\n",
    "for stage in stages_list:\n",
    "    UpSet_result_df[stage] = UpSet_result_df[\"Stages\"].apply(lambda x: stage in x)\n",
    "\n",
    "# Prepare boolean matrix as index for the UpSet plot\n",
    "upset_data = UpSet_result_df.set_index(stages_list)\n",
    "\n",
    "# Generate UpSet plot\n",
    "from upsetplot import UpSet\n",
    "\n",
    "upset_plot = UpSet(upset_data, subset_size=\"count\", show_counts=True)\n",
    "upset_plot.plot()\n",
    "plt.title(\"Overlap of Significant Correlations Between Stages\")\n",
    "plt.show()\n"
   ]
  },
  {
   "cell_type": "code",
   "execution_count": 123,
   "id": "f56bb3f3",
   "metadata": {
    "scrolled": true
   },
   "outputs": [
    {
     "data": {
      "text/html": [
       "<div>\n",
       "<style scoped>\n",
       "    .dataframe tbody tr th:only-of-type {\n",
       "        vertical-align: middle;\n",
       "    }\n",
       "\n",
       "    .dataframe tbody tr th {\n",
       "        vertical-align: top;\n",
       "    }\n",
       "\n",
       "    .dataframe thead th {\n",
       "        text-align: right;\n",
       "    }\n",
       "</style>\n",
       "<table border=\"1\" class=\"dataframe\">\n",
       "  <thead>\n",
       "    <tr style=\"text-align: right;\">\n",
       "      <th></th>\n",
       "      <th>Variable 1</th>\n",
       "      <th>Variable 2</th>\n",
       "      <th>Correlation</th>\n",
       "      <th>p_value</th>\n",
       "      <th>pTNM stage</th>\n",
       "    </tr>\n",
       "  </thead>\n",
       "  <tbody>\n",
       "    <tr>\n",
       "      <th>0</th>\n",
       "      <td>zscore_log1p_Leu_ratio</td>\n",
       "      <td>zscore_log1p_Val_ratio</td>\n",
       "      <td>0.787281</td>\n",
       "      <td>1.375407e-05</td>\n",
       "      <td>1</td>\n",
       "    </tr>\n",
       "    <tr>\n",
       "      <th>1</th>\n",
       "      <td>zscore_log1p_Arg_ratio</td>\n",
       "      <td>zscore_log1p_Val_ratio</td>\n",
       "      <td>-0.593229</td>\n",
       "      <td>3.613365e-03</td>\n",
       "      <td>1</td>\n",
       "    </tr>\n",
       "    <tr>\n",
       "      <th>2</th>\n",
       "      <td>zscore_log1p_Leu_ratio</td>\n",
       "      <td>zscore_log1p_Lys_ratio</td>\n",
       "      <td>-0.613035</td>\n",
       "      <td>2.416644e-03</td>\n",
       "      <td>1</td>\n",
       "    </tr>\n",
       "    <tr>\n",
       "      <th>3</th>\n",
       "      <td>zscore_log1p_Ala_ratio</td>\n",
       "      <td>zscore_log1p_Leu_ratio</td>\n",
       "      <td>-0.650704</td>\n",
       "      <td>1.040846e-03</td>\n",
       "      <td>1</td>\n",
       "    </tr>\n",
       "    <tr>\n",
       "      <th>4</th>\n",
       "      <td>zscore_log1p_Orn_ratio</td>\n",
       "      <td>zscore_log1p_Phe_ratio</td>\n",
       "      <td>0.586560</td>\n",
       "      <td>4.114121e-03</td>\n",
       "      <td>1</td>\n",
       "    </tr>\n",
       "    <tr>\n",
       "      <th>5</th>\n",
       "      <td>zscore_log1p_Arg_ratio</td>\n",
       "      <td>zscore_log1p_Tau_ratio</td>\n",
       "      <td>-0.666879</td>\n",
       "      <td>6.997684e-04</td>\n",
       "      <td>1</td>\n",
       "    </tr>\n",
       "    <tr>\n",
       "      <th>6</th>\n",
       "      <td>zscore_log1p_Leu_ratio</td>\n",
       "      <td>zscore_log1p_Ser_ratio</td>\n",
       "      <td>-0.544890</td>\n",
       "      <td>8.733483e-03</td>\n",
       "      <td>1</td>\n",
       "    </tr>\n",
       "    <tr>\n",
       "      <th>7</th>\n",
       "      <td>zscore_log1p_Gly_ratio</td>\n",
       "      <td>zscore_log1p_Val_ratio</td>\n",
       "      <td>-0.606313</td>\n",
       "      <td>2.778257e-03</td>\n",
       "      <td>1</td>\n",
       "    </tr>\n",
       "    <tr>\n",
       "      <th>8</th>\n",
       "      <td>zscore_log1p_Lys_ratio</td>\n",
       "      <td>zscore_log1p_Ser_ratio</td>\n",
       "      <td>0.518736</td>\n",
       "      <td>1.337684e-02</td>\n",
       "      <td>1</td>\n",
       "    </tr>\n",
       "    <tr>\n",
       "      <th>9</th>\n",
       "      <td>zscore_log1p_Ser_ratio</td>\n",
       "      <td>zscore_log1p_Val_ratio</td>\n",
       "      <td>-0.590291</td>\n",
       "      <td>3.827287e-03</td>\n",
       "      <td>1</td>\n",
       "    </tr>\n",
       "    <tr>\n",
       "      <th>10</th>\n",
       "      <td>zscore_log1p_Ala_ratio</td>\n",
       "      <td>zscore_log1p_Val_ratio</td>\n",
       "      <td>-0.696806</td>\n",
       "      <td>3.143492e-04</td>\n",
       "      <td>1</td>\n",
       "    </tr>\n",
       "    <tr>\n",
       "      <th>11</th>\n",
       "      <td>zscore_log1p_Gln_ratio</td>\n",
       "      <td>zscore_log1p_Phe_ratio</td>\n",
       "      <td>-0.593725</td>\n",
       "      <td>3.578252e-03</td>\n",
       "      <td>1</td>\n",
       "    </tr>\n",
       "    <tr>\n",
       "      <th>12</th>\n",
       "      <td>zscore_log1p_Tau_ratio</td>\n",
       "      <td>zscore_log1p_Val_ratio</td>\n",
       "      <td>0.531976</td>\n",
       "      <td>1.082439e-02</td>\n",
       "      <td>1</td>\n",
       "    </tr>\n",
       "    <tr>\n",
       "      <th>13</th>\n",
       "      <td>zscore_log1p_Orn_ratio</td>\n",
       "      <td>zscore_log1p_Ser_ratio</td>\n",
       "      <td>0.542838</td>\n",
       "      <td>1.938633e-03</td>\n",
       "      <td>2</td>\n",
       "    </tr>\n",
       "    <tr>\n",
       "      <th>14</th>\n",
       "      <td>zscore_log1p_Gly_ratio</td>\n",
       "      <td>zscore_log1p_Leu_ratio</td>\n",
       "      <td>-0.593861</td>\n",
       "      <td>5.407516e-04</td>\n",
       "      <td>2</td>\n",
       "    </tr>\n",
       "    <tr>\n",
       "      <th>15</th>\n",
       "      <td>zscore_log1p_Ala_ratio</td>\n",
       "      <td>zscore_log1p_Tyr_ratio</td>\n",
       "      <td>0.649110</td>\n",
       "      <td>1.042200e-04</td>\n",
       "      <td>2</td>\n",
       "    </tr>\n",
       "    <tr>\n",
       "      <th>16</th>\n",
       "      <td>zscore_log1p_Ser_ratio</td>\n",
       "      <td>zscore_log1p_Tau_ratio</td>\n",
       "      <td>-0.526263</td>\n",
       "      <td>2.815124e-03</td>\n",
       "      <td>2</td>\n",
       "    </tr>\n",
       "    <tr>\n",
       "      <th>17</th>\n",
       "      <td>zscore_log1p_Gly_ratio</td>\n",
       "      <td>zscore_log1p_Val_ratio</td>\n",
       "      <td>-0.587746</td>\n",
       "      <td>6.372454e-04</td>\n",
       "      <td>2</td>\n",
       "    </tr>\n",
       "    <tr>\n",
       "      <th>18</th>\n",
       "      <td>zscore_log1p_Ala_ratio</td>\n",
       "      <td>zscore_log1p_Thr_ratio</td>\n",
       "      <td>-0.564252</td>\n",
       "      <td>1.163057e-03</td>\n",
       "      <td>2</td>\n",
       "    </tr>\n",
       "    <tr>\n",
       "      <th>19</th>\n",
       "      <td>zscore_log1p_Leu_ratio</td>\n",
       "      <td>zscore_log1p_Val_ratio</td>\n",
       "      <td>0.596602</td>\n",
       "      <td>5.018489e-04</td>\n",
       "      <td>2</td>\n",
       "    </tr>\n",
       "    <tr>\n",
       "      <th>20</th>\n",
       "      <td>zscore_log1p_Gly_ratio</td>\n",
       "      <td>zscore_log1p_Tau_ratio</td>\n",
       "      <td>-0.517259</td>\n",
       "      <td>3.421017e-03</td>\n",
       "      <td>2</td>\n",
       "    </tr>\n",
       "    <tr>\n",
       "      <th>21</th>\n",
       "      <td>zscore_log1p_Gly_ratio</td>\n",
       "      <td>zscore_log1p_Ser_ratio</td>\n",
       "      <td>0.690893</td>\n",
       "      <td>2.374271e-05</td>\n",
       "      <td>2</td>\n",
       "    </tr>\n",
       "    <tr>\n",
       "      <th>22</th>\n",
       "      <td>zscore_log1p_Gln_ratio</td>\n",
       "      <td>zscore_log1p_Leu_ratio</td>\n",
       "      <td>-0.604179</td>\n",
       "      <td>4.068146e-04</td>\n",
       "      <td>2</td>\n",
       "    </tr>\n",
       "    <tr>\n",
       "      <th>23</th>\n",
       "      <td>zscore_log1p_Leu_ratio</td>\n",
       "      <td>zscore_log1p_Ser_ratio</td>\n",
       "      <td>-0.553038</td>\n",
       "      <td>5.699443e-04</td>\n",
       "      <td>3</td>\n",
       "    </tr>\n",
       "    <tr>\n",
       "      <th>24</th>\n",
       "      <td>zscore_log1p_Gly_ratio</td>\n",
       "      <td>zscore_log1p_Leu_ratio</td>\n",
       "      <td>-0.593431</td>\n",
       "      <td>1.716813e-04</td>\n",
       "      <td>3</td>\n",
       "    </tr>\n",
       "    <tr>\n",
       "      <th>25</th>\n",
       "      <td>zscore_log1p_Leu_ratio</td>\n",
       "      <td>zscore_log1p_Thr_ratio</td>\n",
       "      <td>-0.511341</td>\n",
       "      <td>1.693241e-03</td>\n",
       "      <td>3</td>\n",
       "    </tr>\n",
       "    <tr>\n",
       "      <th>26</th>\n",
       "      <td>zscore_log1p_Gly_ratio</td>\n",
       "      <td>zscore_log1p_Val_ratio</td>\n",
       "      <td>-0.695139</td>\n",
       "      <td>3.584796e-06</td>\n",
       "      <td>3</td>\n",
       "    </tr>\n",
       "    <tr>\n",
       "      <th>27</th>\n",
       "      <td>zscore_log1p_Arg_ratio</td>\n",
       "      <td>zscore_log1p_Tau_ratio</td>\n",
       "      <td>-0.525495</td>\n",
       "      <td>1.188330e-03</td>\n",
       "      <td>3</td>\n",
       "    </tr>\n",
       "    <tr>\n",
       "      <th>28</th>\n",
       "      <td>zscore_log1p_Leu_ratio</td>\n",
       "      <td>zscore_log1p_Val_ratio</td>\n",
       "      <td>0.823095</td>\n",
       "      <td>1.286071e-09</td>\n",
       "      <td>3</td>\n",
       "    </tr>\n",
       "    <tr>\n",
       "      <th>29</th>\n",
       "      <td>zscore_log1p_Leu_ratio</td>\n",
       "      <td>zscore_log1p_Val_ratio</td>\n",
       "      <td>0.713399</td>\n",
       "      <td>2.580935e-11</td>\n",
       "      <td>4</td>\n",
       "    </tr>\n",
       "    <tr>\n",
       "      <th>30</th>\n",
       "      <td>zscore_log1p_Gly_ratio</td>\n",
       "      <td>zscore_log1p_Val_ratio</td>\n",
       "      <td>-0.796274</td>\n",
       "      <td>2.220446e-15</td>\n",
       "      <td>4</td>\n",
       "    </tr>\n",
       "    <tr>\n",
       "      <th>31</th>\n",
       "      <td>zscore_log1p_Gln_ratio</td>\n",
       "      <td>zscore_log1p_Orn_ratio</td>\n",
       "      <td>-0.580363</td>\n",
       "      <td>4.035588e-07</td>\n",
       "      <td>4</td>\n",
       "    </tr>\n",
       "    <tr>\n",
       "      <th>32</th>\n",
       "      <td>zscore_log1p_Gly_ratio</td>\n",
       "      <td>zscore_log1p_Ser_ratio</td>\n",
       "      <td>0.508150</td>\n",
       "      <td>1.551703e-05</td>\n",
       "      <td>4</td>\n",
       "    </tr>\n",
       "    <tr>\n",
       "      <th>33</th>\n",
       "      <td>zscore_log1p_Gly_ratio</td>\n",
       "      <td>zscore_log1p_Leu_ratio</td>\n",
       "      <td>-0.523992</td>\n",
       "      <td>7.478819e-06</td>\n",
       "      <td>4</td>\n",
       "    </tr>\n",
       "  </tbody>\n",
       "</table>\n",
       "</div>"
      ],
      "text/plain": [
       "                Variable 1              Variable 2  Correlation       p_value  \\\n",
       "0   zscore_log1p_Leu_ratio  zscore_log1p_Val_ratio     0.787281  1.375407e-05   \n",
       "1   zscore_log1p_Arg_ratio  zscore_log1p_Val_ratio    -0.593229  3.613365e-03   \n",
       "2   zscore_log1p_Leu_ratio  zscore_log1p_Lys_ratio    -0.613035  2.416644e-03   \n",
       "3   zscore_log1p_Ala_ratio  zscore_log1p_Leu_ratio    -0.650704  1.040846e-03   \n",
       "4   zscore_log1p_Orn_ratio  zscore_log1p_Phe_ratio     0.586560  4.114121e-03   \n",
       "5   zscore_log1p_Arg_ratio  zscore_log1p_Tau_ratio    -0.666879  6.997684e-04   \n",
       "6   zscore_log1p_Leu_ratio  zscore_log1p_Ser_ratio    -0.544890  8.733483e-03   \n",
       "7   zscore_log1p_Gly_ratio  zscore_log1p_Val_ratio    -0.606313  2.778257e-03   \n",
       "8   zscore_log1p_Lys_ratio  zscore_log1p_Ser_ratio     0.518736  1.337684e-02   \n",
       "9   zscore_log1p_Ser_ratio  zscore_log1p_Val_ratio    -0.590291  3.827287e-03   \n",
       "10  zscore_log1p_Ala_ratio  zscore_log1p_Val_ratio    -0.696806  3.143492e-04   \n",
       "11  zscore_log1p_Gln_ratio  zscore_log1p_Phe_ratio    -0.593725  3.578252e-03   \n",
       "12  zscore_log1p_Tau_ratio  zscore_log1p_Val_ratio     0.531976  1.082439e-02   \n",
       "13  zscore_log1p_Orn_ratio  zscore_log1p_Ser_ratio     0.542838  1.938633e-03   \n",
       "14  zscore_log1p_Gly_ratio  zscore_log1p_Leu_ratio    -0.593861  5.407516e-04   \n",
       "15  zscore_log1p_Ala_ratio  zscore_log1p_Tyr_ratio     0.649110  1.042200e-04   \n",
       "16  zscore_log1p_Ser_ratio  zscore_log1p_Tau_ratio    -0.526263  2.815124e-03   \n",
       "17  zscore_log1p_Gly_ratio  zscore_log1p_Val_ratio    -0.587746  6.372454e-04   \n",
       "18  zscore_log1p_Ala_ratio  zscore_log1p_Thr_ratio    -0.564252  1.163057e-03   \n",
       "19  zscore_log1p_Leu_ratio  zscore_log1p_Val_ratio     0.596602  5.018489e-04   \n",
       "20  zscore_log1p_Gly_ratio  zscore_log1p_Tau_ratio    -0.517259  3.421017e-03   \n",
       "21  zscore_log1p_Gly_ratio  zscore_log1p_Ser_ratio     0.690893  2.374271e-05   \n",
       "22  zscore_log1p_Gln_ratio  zscore_log1p_Leu_ratio    -0.604179  4.068146e-04   \n",
       "23  zscore_log1p_Leu_ratio  zscore_log1p_Ser_ratio    -0.553038  5.699443e-04   \n",
       "24  zscore_log1p_Gly_ratio  zscore_log1p_Leu_ratio    -0.593431  1.716813e-04   \n",
       "25  zscore_log1p_Leu_ratio  zscore_log1p_Thr_ratio    -0.511341  1.693241e-03   \n",
       "26  zscore_log1p_Gly_ratio  zscore_log1p_Val_ratio    -0.695139  3.584796e-06   \n",
       "27  zscore_log1p_Arg_ratio  zscore_log1p_Tau_ratio    -0.525495  1.188330e-03   \n",
       "28  zscore_log1p_Leu_ratio  zscore_log1p_Val_ratio     0.823095  1.286071e-09   \n",
       "29  zscore_log1p_Leu_ratio  zscore_log1p_Val_ratio     0.713399  2.580935e-11   \n",
       "30  zscore_log1p_Gly_ratio  zscore_log1p_Val_ratio    -0.796274  2.220446e-15   \n",
       "31  zscore_log1p_Gln_ratio  zscore_log1p_Orn_ratio    -0.580363  4.035588e-07   \n",
       "32  zscore_log1p_Gly_ratio  zscore_log1p_Ser_ratio     0.508150  1.551703e-05   \n",
       "33  zscore_log1p_Gly_ratio  zscore_log1p_Leu_ratio    -0.523992  7.478819e-06   \n",
       "\n",
       "    pTNM stage  \n",
       "0            1  \n",
       "1            1  \n",
       "2            1  \n",
       "3            1  \n",
       "4            1  \n",
       "5            1  \n",
       "6            1  \n",
       "7            1  \n",
       "8            1  \n",
       "9            1  \n",
       "10           1  \n",
       "11           1  \n",
       "12           1  \n",
       "13           2  \n",
       "14           2  \n",
       "15           2  \n",
       "16           2  \n",
       "17           2  \n",
       "18           2  \n",
       "19           2  \n",
       "20           2  \n",
       "21           2  \n",
       "22           2  \n",
       "23           3  \n",
       "24           3  \n",
       "25           3  \n",
       "26           3  \n",
       "27           3  \n",
       "28           3  \n",
       "29           4  \n",
       "30           4  \n",
       "31           4  \n",
       "32           4  \n",
       "33           4  "
      ]
     },
     "execution_count": 123,
     "metadata": {},
     "output_type": "execute_result"
    }
   ],
   "source": [
    "result_df"
   ]
  },
  {
   "cell_type": "code",
   "execution_count": 124,
   "id": "8e480a2d",
   "metadata": {},
   "outputs": [
    {
     "data": {
      "image/png": "[encoded data removed]",
      "text/plain": [
       "<Figure size 800x600 with 1 Axes>"
      ]
     },
     "metadata": {},
     "output_type": "display_data"
    }
   ],
   "source": [
    "import pandas as pd\n",
    "import matplotlib.pyplot as plt\n",
    "\n",
    "# Add correlation sign (Positive or Negative)\n",
    "result_df[\"Sign\"] = result_df[\"Correlation\"].apply(lambda x: \"Positive\" if x > 0 else \"Negative\")\n",
    "\n",
    "# Count number of correlations by stage and sign\n",
    "df_counts = result_df.groupby([\"pTNM stage\", \"Sign\"]).size().unstack(fill_value=0)\n",
    "\n",
    "# Format stage labels for better readability\n",
    "df_counts.index = [f\"Stage {int(s)}\" for s in df_counts.index]\n",
    "\n",
    "# Create stacked bar plot\n",
    "ax = df_counts.plot(\n",
    "    kind=\"bar\",\n",
    "    stacked=True,\n",
    "    color=[\"#CC6677\", \"#88CCEE\"],  # Red for negative, blue for positive\n",
    "    figsize=(8, 6),\n",
    "    width=0.6,\n",
    ")\n",
    "\n",
    "# Add black borders to bars\n",
    "for patch in ax.patches:\n",
    "    patch.set_edgecolor(\"black\")\n",
    "    patch.set_linewidth(1.5)\n",
    "\n",
    "# Set y-axis range with margin\n",
    "max_y = df_counts.sum(axis=1).max()\n",
    "plt.ylim(0, max_y + 2)\n",
    "\n",
    "# Axis titles and ticks\n",
    "plt.title(\"Positive vs. Negative Correlations Across Stages\", fontsize=16)\n",
    "plt.xlabel(\"Stage\", fontsize=14)\n",
    "plt.ylabel(\"Number of Significant Correlations\", fontsize=14)\n",
    "plt.xticks(rotation=0, fontsize=12)\n",
    "\n",
    "# Legend configuration\n",
    "plt.legend(\n",
    "    fontsize=11,\n",
    "    loc=\"upper center\",\n",
    "    bbox_to_anchor=(0.5, 1.00),\n",
    "    ncol=2,\n",
    "    frameon=False\n",
    ")\n",
    "\n",
    "plt.tight_layout()\n",
    "plt.show()\n"
   ]
  },
  {
   "cell_type": "markdown",
   "id": "272a030a",
   "metadata": {},
   "source": [
    "## Circos plot"
   ]
  },
  {
   "cell_type": "code",
   "execution_count": 125,
   "id": "3c36e54f",
   "metadata": {},
   "outputs": [],
   "source": [
    "def create_chord_diagram(stage_df, aa_list, stage_number):\n",
    "    import numpy as np\n",
    "    import pandas as pd\n",
    "    import plotly.graph_objects as go\n",
    "\n",
    "    # 1. Extract amino acid names and round correlation coefficients\n",
    "    pair_data = [\n",
    "        (\n",
    "            var1.replace(\"zscore_log1p_\", \"\").replace(\"_ratio\", \"\"),\n",
    "            var2.replace(\"zscore_log1p_\", \"\").replace(\"_ratio\", \"\"),\n",
    "            round(corr, 2)\n",
    "        )\n",
    "        for var1, var2, corr in zip(stage_df[\"Variable 1\"], stage_df[\"Variable 2\"], stage_df[\"Correlation\"])\n",
    "    ]\n",
    "\n",
    "    # 2. Initialize a symmetric matrix with zeros\n",
    "    matrix = pd.DataFrame(0, index=aa_list, columns=aa_list)\n",
    "    for a1, a2, val in pair_data:\n",
    "        if a1 in matrix.index and a2 in matrix.columns:\n",
    "            matrix.loc[a1, a2] = val\n",
    "            matrix.loc[a2, a1] = val\n",
    "\n",
    "    # 3. Compute circular coordinates for each amino acid node\n",
    "    n = len(aa_list)\n",
    "    angles = np.linspace(0, 2 * np.pi, n, endpoint=False)\n",
    "    radius = 1\n",
    "    node_coords = {\n",
    "        aa: (radius * np.cos(ang), radius * np.sin(ang))\n",
    "        for aa, ang in zip(aa_list, angles)\n",
    "    }\n",
    "\n",
    "    # 4. Add curves (edges) between correlated amino acids\n",
    "    fig = go.Figure()\n",
    "    for i, source in enumerate(aa_list):\n",
    "        for j, target in enumerate(aa_list):\n",
    "            val = matrix.loc[source, target]\n",
    "            if val != 0 and i < j:  # avoid duplicate edges\n",
    "                x0, y0 = node_coords[source]\n",
    "                x1, y1 = node_coords[target]\n",
    "                path = f\"M {x0},{y0} Q 0,0 {x1},{y1}\"\n",
    "                color = \"blue\" if val > 0 else \"red\"\n",
    "                width = 1 + 3 * abs(val)  # line thickness proportional to correlation\n",
    "                fig.add_shape(\n",
    "                    type=\"path\",\n",
    "                    path=path,\n",
    "                    line=dict(color=color, width=width),\n",
    "                    opacity=0.6,\n",
    "                )\n",
    "\n",
    "    # 5. Add nodes (amino acids) as labeled points on the circle\n",
    "    node_x, node_y = zip(*[node_coords[aa] for aa in aa_list])\n",
    "    fig.add_trace(go.Scatter(\n",
    "        x=node_x,\n",
    "        y=node_y,\n",
    "        mode=\"markers+text\",\n",
    "        marker=dict(size=20, color=\"lightgrey\", line=dict(width=2, color=\"black\")),\n",
    "        text=aa_list,\n",
    "        textposition=\"top center\",\n",
    "        hoverinfo=\"text\"\n",
    "    ))\n",
    "\n",
    "    # 6. Final layout settings\n",
    "    fig.update_layout(\n",
    "        showlegend=False,\n",
    "        xaxis=dict(visible=False),\n",
    "        yaxis=dict(visible=False),\n",
    "        width=600,\n",
    "        height=600,\n",
    "        margin=dict(t=20, b=20, l=20, r=20),\n",
    "        title=f\"Stage {stage_number} Chord Diagram\"\n",
    "    )\n",
    "    fig.update_yaxes(scaleanchor=\"x\", scaleratio=1)\n",
    "    fig.show()\n"
   ]
  },
  {
   "cell_type": "code",
   "execution_count": 126,
   "id": "c39e1fd9",
   "metadata": {
    "scrolled": false
   },
   "outputs": [
    {
     "name": "stderr",
     "output_type": "stream",
     "text": [
      "/tmp/ipykernel_216629/114941381.py:20: FutureWarning:\n",
      "\n",
      "Setting an item of incompatible dtype is deprecated and will raise an error in a future version of pandas. Value '0.79' has dtype incompatible with int64, please explicitly cast to a compatible dtype first.\n",
      "\n",
      "/tmp/ipykernel_216629/114941381.py:21: FutureWarning:\n",
      "\n",
      "Setting an item of incompatible dtype is deprecated and will raise an error in a future version of pandas. Value '0.79' has dtype incompatible with int64, please explicitly cast to a compatible dtype first.\n",
      "\n",
      "/tmp/ipykernel_216629/114941381.py:21: FutureWarning:\n",
      "\n",
      "Setting an item of incompatible dtype is deprecated and will raise an error in a future version of pandas. Value '-0.59' has dtype incompatible with int64, please explicitly cast to a compatible dtype first.\n",
      "\n",
      "/tmp/ipykernel_216629/114941381.py:20: FutureWarning:\n",
      "\n",
      "Setting an item of incompatible dtype is deprecated and will raise an error in a future version of pandas. Value '-0.61' has dtype incompatible with int64, please explicitly cast to a compatible dtype first.\n",
      "\n",
      "/tmp/ipykernel_216629/114941381.py:21: FutureWarning:\n",
      "\n",
      "Setting an item of incompatible dtype is deprecated and will raise an error in a future version of pandas. Value '-0.65' has dtype incompatible with int64, please explicitly cast to a compatible dtype first.\n",
      "\n",
      "/tmp/ipykernel_216629/114941381.py:20: FutureWarning:\n",
      "\n",
      "Setting an item of incompatible dtype is deprecated and will raise an error in a future version of pandas. Value '0.59' has dtype incompatible with int64, please explicitly cast to a compatible dtype first.\n",
      "\n",
      "/tmp/ipykernel_216629/114941381.py:21: FutureWarning:\n",
      "\n",
      "Setting an item of incompatible dtype is deprecated and will raise an error in a future version of pandas. Value '0.59' has dtype incompatible with int64, please explicitly cast to a compatible dtype first.\n",
      "\n",
      "/tmp/ipykernel_216629/114941381.py:20: FutureWarning:\n",
      "\n",
      "Setting an item of incompatible dtype is deprecated and will raise an error in a future version of pandas. Value '-0.67' has dtype incompatible with int64, please explicitly cast to a compatible dtype first.\n",
      "\n",
      "/tmp/ipykernel_216629/114941381.py:20: FutureWarning:\n",
      "\n",
      "Setting an item of incompatible dtype is deprecated and will raise an error in a future version of pandas. Value '-0.54' has dtype incompatible with int64, please explicitly cast to a compatible dtype first.\n",
      "\n",
      "/tmp/ipykernel_216629/114941381.py:21: FutureWarning:\n",
      "\n",
      "Setting an item of incompatible dtype is deprecated and will raise an error in a future version of pandas. Value '-0.61' has dtype incompatible with int64, please explicitly cast to a compatible dtype first.\n",
      "\n",
      "/tmp/ipykernel_216629/114941381.py:21: FutureWarning:\n",
      "\n",
      "Setting an item of incompatible dtype is deprecated and will raise an error in a future version of pandas. Value '-0.59' has dtype incompatible with int64, please explicitly cast to a compatible dtype first.\n",
      "\n"
     ]
    },
    {
     "data": {
      "application/vnd.plotly.v1+json": {
       "config": {
        "plotlyServerURL": "https://plot.ly"
       },
       "data": [
        {
         "hoverinfo": "text",
         "marker": {
          "color": "lightgrey",
          "line": {
           "color": "black",
           "width": 2
          },
          "size": 20
         },
         "mode": "markers+text",
         "text": [
          "Ser",
          "Lys",
          "Met",
          "Phe",
          "Leu",
          "Thr",
          "Val",
          "Trp",
          "Arg",
          "Gln",
          "Gly",
          "Tyr",
          "Asn",
          "Ala",
          "Tau",
          "Orn"
         ],
         "textposition": "top center",
         "type": "scatter",
         "x": [
          1,
          0.9238795325112867,
          0.7071067811865476,
          0.38268343236508984,
          6.123233995736766e-17,
          -0.3826834323650897,
          -0.7071067811865475,
          -0.9238795325112867,
          -1,
          -0.9238795325112868,
          -0.7071067811865477,
          -0.38268343236509034,
          -1.8369701987210297e-16,
          0.38268343236509,
          0.7071067811865474,
          0.9238795325112865
         ],
         "y": [
          0,
          0.3826834323650898,
          0.7071067811865475,
          0.9238795325112867,
          1,
          0.9238795325112867,
          0.7071067811865476,
          0.3826834323650899,
          1.2246467991473532e-16,
          -0.38268343236508967,
          -0.7071067811865475,
          -0.9238795325112865,
          -1,
          -0.9238795325112866,
          -0.7071067811865477,
          -0.3826834323650904
         ]
        }
       ],
       "layout": {
        "height": 600,
        "margin": {
         "b": 20,
         "l": 20,
         "r": 20,
         "t": 20
        },
        "shapes": [
         {
          "line": {
           "color": "blue",
           "width": 2.56
          },
          "opacity": 0.6,
          "path": "M 1.0,0.0 Q 0,0 0.9238795325112867,0.3826834323650898",
          "type": "path"
         },
         {
          "line": {
           "color": "red",
           "width": 2.62
          },
          "opacity": 0.6,
          "path": "M 1.0,0.0 Q 0,0 6.123233995736766e-17,1.0",
          "type": "path"
         },
         {
          "line": {
           "color": "red",
           "width": 2.77
          },
          "opacity": 0.6,
          "path": "M 1.0,0.0 Q 0,0 -0.7071067811865475,0.7071067811865476",
          "type": "path"
         },
         {
          "line": {
           "color": "red",
           "width": 2.83
          },
          "opacity": 0.6,
          "path": "M 0.9238795325112867,0.3826834323650898 Q 0,0 6.123233995736766e-17,1.0",
          "type": "path"
         },
         {
          "line": {
           "color": "red",
           "width": 2.77
          },
          "opacity": 0.6,
          "path": "M 0.38268343236508984,0.9238795325112867 Q 0,0 -0.9238795325112868,-0.38268343236508967",
          "type": "path"
         },
         {
          "line": {
           "color": "blue",
           "width": 2.77
          },
          "opacity": 0.6,
          "path": "M 0.38268343236508984,0.9238795325112867 Q 0,0 0.9238795325112865,-0.3826834323650904",
          "type": "path"
         },
         {
          "line": {
           "color": "blue",
           "width": 3.37
          },
          "opacity": 0.6,
          "path": "M 6.123233995736766e-17,1.0 Q 0,0 -0.7071067811865475,0.7071067811865476",
          "type": "path"
         },
         {
          "line": {
           "color": "red",
           "width": 2.95
          },
          "opacity": 0.6,
          "path": "M 6.123233995736766e-17,1.0 Q 0,0 0.38268343236509,-0.9238795325112866",
          "type": "path"
         },
         {
          "line": {
           "color": "red",
           "width": 2.77
          },
          "opacity": 0.6,
          "path": "M -0.7071067811865475,0.7071067811865476 Q 0,0 -1.0,1.2246467991473532e-16",
          "type": "path"
         },
         {
          "line": {
           "color": "red",
           "width": 2.83
          },
          "opacity": 0.6,
          "path": "M -0.7071067811865475,0.7071067811865476 Q 0,0 -0.7071067811865477,-0.7071067811865475",
          "type": "path"
         },
         {
          "line": {
           "color": "red",
           "width": 3.0999999999999996
          },
          "opacity": 0.6,
          "path": "M -0.7071067811865475,0.7071067811865476 Q 0,0 0.38268343236509,-0.9238795325112866",
          "type": "path"
         },
         {
          "line": {
           "color": "blue",
           "width": 2.59
          },
          "opacity": 0.6,
          "path": "M -0.7071067811865475,0.7071067811865476 Q 0,0 0.7071067811865474,-0.7071067811865477",
          "type": "path"
         },
         {
          "line": {
           "color": "red",
           "width": 3.0100000000000002
          },
          "opacity": 0.6,
          "path": "M -1.0,1.2246467991473532e-16 Q 0,0 0.7071067811865474,-0.7071067811865477",
          "type": "path"
         }
        ],
        "showlegend": false,
        "template": {
         "data": {
          "bar": [
           {
            "error_x": {
             "color": "#2a3f5f"
            },
            "error_y": {
             "color": "#2a3f5f"
            },
            "marker": {
             "line": {
              "color": "#E5ECF6",
              "width": 0.5
             },
             "pattern": {
              "fillmode": "overlay",
              "size": 10,
              "solidity": 0.2
             }
            },
            "type": "bar"
           }
          ],
          "barpolar": [
           {
            "marker": {
             "line": {
              "color": "#E5ECF6",
              "width": 0.5
             },
             "pattern": {
              "fillmode": "overlay",
              "size": 10,
              "solidity": 0.2
             }
            },
            "type": "barpolar"
           }
          ],
          "carpet": [
           {
            "aaxis": {
             "endlinecolor": "#2a3f5f",
             "gridcolor": "white",
             "linecolor": "white",
             "minorgridcolor": "white",
             "startlinecolor": "#2a3f5f"
            },
            "baxis": {
             "endlinecolor": "#2a3f5f",
             "gridcolor": "white",
             "linecolor": "white",
             "minorgridcolor": "white",
             "startlinecolor": "#2a3f5f"
            },
            "type": "carpet"
           }
          ],
          "choropleth": [
           {
            "colorbar": {
             "outlinewidth": 0,
             "ticks": ""
            },
            "type": "choropleth"
           }
          ],
          "contour": [
           {
            "colorbar": {
             "outlinewidth": 0,
             "ticks": ""
            },
            "colorscale": [
             [
              0,
              "#0d0887"
             ],
             [
              0.1111111111111111,
              "#46039f"
             ],
             [
              0.2222222222222222,
              "#7201a8"
             ],
             [
              0.3333333333333333,
              "#9c179e"
             ],
             [
              0.4444444444444444,
              "#bd3786"
             ],
             [
              0.5555555555555556,
              "#d8576b"
             ],
             [
              0.6666666666666666,
              "#ed7953"
             ],
             [
              0.7777777777777778,
              "#fb9f3a"
             ],
             [
              0.8888888888888888,
              "#fdca26"
             ],
             [
              1,
              "#f0f921"
             ]
            ],
            "type": "contour"
           }
          ],
          "contourcarpet": [
           {
            "colorbar": {
             "outlinewidth": 0,
             "ticks": ""
            },
            "type": "contourcarpet"
           }
          ],
          "heatmap": [
           {
            "colorbar": {
             "outlinewidth": 0,
             "ticks": ""
            },
            "colorscale": [
             [
              0,
              "#0d0887"
             ],
             [
              0.1111111111111111,
              "#46039f"
             ],
             [
              0.2222222222222222,
              "#7201a8"
             ],
             [
              0.3333333333333333,
              "#9c179e"
             ],
             [
              0.4444444444444444,
              "#bd3786"
             ],
             [
              0.5555555555555556,
              "#d8576b"
             ],
             [
              0.6666666666666666,
              "#ed7953"
             ],
             [
              0.7777777777777778,
              "#fb9f3a"
             ],
             [
              0.8888888888888888,
              "#fdca26"
             ],
             [
              1,
              "#f0f921"
             ]
            ],
            "type": "heatmap"
           }
          ],
          "heatmapgl": [
           {
            "colorbar": {
             "outlinewidth": 0,
             "ticks": ""
            },
            "colorscale": [
             [
              0,
              "#0d0887"
             ],
             [
              0.1111111111111111,
              "#46039f"
             ],
             [
              0.2222222222222222,
              "#7201a8"
             ],
             [
              0.3333333333333333,
              "#9c179e"
             ],
             [
              0.4444444444444444,
              "#bd3786"
             ],
             [
              0.5555555555555556,
              "#d8576b"
             ],
             [
              0.6666666666666666,
              "#ed7953"
             ],
             [
              0.7777777777777778,
              "#fb9f3a"
             ],
             [
              0.8888888888888888,
              "#fdca26"
             ],
             [
              1,
              "#f0f921"
             ]
            ],
            "type": "heatmapgl"
           }
          ],
          "histogram": [
           {
            "marker": {
             "pattern": {
              "fillmode": "overlay",
              "size": 10,
              "solidity": 0.2
             }
            },
            "type": "histogram"
           }
          ],
          "histogram2d": [
           {
            "colorbar": {
             "outlinewidth": 0,
             "ticks": ""
            },
            "colorscale": [
             [
              0,
              "#0d0887"
             ],
             [
              0.1111111111111111,
              "#46039f"
             ],
             [
              0.2222222222222222,
              "#7201a8"
             ],
             [
              0.3333333333333333,
              "#9c179e"
             ],
             [
              0.4444444444444444,
              "#bd3786"
             ],
             [
              0.5555555555555556,
              "#d8576b"
             ],
             [
              0.6666666666666666,
              "#ed7953"
             ],
             [
              0.7777777777777778,
              "#fb9f3a"
             ],
             [
              0.8888888888888888,
              "#fdca26"
             ],
             [
              1,
              "#f0f921"
             ]
            ],
            "type": "histogram2d"
           }
          ],
          "histogram2dcontour": [
           {
            "colorbar": {
             "outlinewidth": 0,
             "ticks": ""
            },
            "colorscale": [
             [
              0,
              "#0d0887"
             ],
             [
              0.1111111111111111,
              "#46039f"
             ],
             [
              0.2222222222222222,
              "#7201a8"
             ],
             [
              0.3333333333333333,
              "#9c179e"
             ],
             [
              0.4444444444444444,
              "#bd3786"
             ],
             [
              0.5555555555555556,
              "#d8576b"
             ],
             [
              0.6666666666666666,
              "#ed7953"
             ],
             [
              0.7777777777777778,
              "#fb9f3a"
             ],
             [
              0.8888888888888888,
              "#fdca26"
             ],
             [
              1,
              "#f0f921"
             ]
            ],
            "type": "histogram2dcontour"
           }
          ],
          "mesh3d": [
           {
            "colorbar": {
             "outlinewidth": 0,
             "ticks": ""
            },
            "type": "mesh3d"
           }
          ],
          "parcoords": [
           {
            "line": {
             "colorbar": {
              "outlinewidth": 0,
              "ticks": ""
             }
            },
            "type": "parcoords"
           }
          ],
          "pie": [
           {
            "automargin": true,
            "type": "pie"
           }
          ],
          "scatter": [
           {
            "fillpattern": {
             "fillmode": "overlay",
             "size": 10,
             "solidity": 0.2
            },
            "type": "scatter"
           }
          ],
          "scatter3d": [
           {
            "line": {
             "colorbar": {
              "outlinewidth": 0,
              "ticks": ""
             }
            },
            "marker": {
             "colorbar": {
              "outlinewidth": 0,
              "ticks": ""
             }
            },
            "type": "scatter3d"
           }
          ],
          "scattercarpet": [
           {
            "marker": {
             "colorbar": {
              "outlinewidth": 0,
              "ticks": ""
             }
            },
            "type": "scattercarpet"
           }
          ],
          "scattergeo": [
           {
            "marker": {
             "colorbar": {
              "outlinewidth": 0,
              "ticks": ""
             }
            },
            "type": "scattergeo"
           }
          ],
          "scattergl": [
           {
            "marker": {
             "colorbar": {
              "outlinewidth": 0,
              "ticks": ""
             }
            },
            "type": "scattergl"
           }
          ],
          "scattermapbox": [
           {
            "marker": {
             "colorbar": {
              "outlinewidth": 0,
              "ticks": ""
             }
            },
            "type": "scattermapbox"
           }
          ],
          "scatterpolar": [
           {
            "marker": {
             "colorbar": {
              "outlinewidth": 0,
              "ticks": ""
             }
            },
            "type": "scatterpolar"
           }
          ],
          "scatterpolargl": [
           {
            "marker": {
             "colorbar": {
              "outlinewidth": 0,
              "ticks": ""
             }
            },
            "type": "scatterpolargl"
           }
          ],
          "scatterternary": [
           {
            "marker": {
             "colorbar": {
              "outlinewidth": 0,
              "ticks": ""
             }
            },
            "type": "scatterternary"
           }
          ],
          "surface": [
           {
            "colorbar": {
             "outlinewidth": 0,
             "ticks": ""
            },
            "colorscale": [
             [
              0,
              "#0d0887"
             ],
             [
              0.1111111111111111,
              "#46039f"
             ],
             [
              0.2222222222222222,
              "#7201a8"
             ],
             [
              0.3333333333333333,
              "#9c179e"
             ],
             [
              0.4444444444444444,
              "#bd3786"
             ],
             [
              0.5555555555555556,
              "#d8576b"
             ],
             [
              0.6666666666666666,
              "#ed7953"
             ],
             [
              0.7777777777777778,
              "#fb9f3a"
             ],
             [
              0.8888888888888888,
              "#fdca26"
             ],
             [
              1,
              "#f0f921"
             ]
            ],
            "type": "surface"
           }
          ],
          "table": [
           {
            "cells": {
             "fill": {
              "color": "#EBF0F8"
             },
             "line": {
              "color": "white"
             }
            },
            "header": {
             "fill": {
              "color": "#C8D4E3"
             },
             "line": {
              "color": "white"
             }
            },
            "type": "table"
           }
          ]
         },
         "layout": {
          "annotationdefaults": {
           "arrowcolor": "#2a3f5f",
           "arrowhead": 0,
           "arrowwidth": 1
          },
          "autotypenumbers": "strict",
          "coloraxis": {
           "colorbar": {
            "outlinewidth": 0,
            "ticks": ""
           }
          },
          "colorscale": {
           "diverging": [
            [
             0,
             "#8e0152"
            ],
            [
             0.1,
             "#c51b7d"
            ],
            [
             0.2,
             "#de77ae"
            ],
            [
             0.3,
             "#f1b6da"
            ],
            [
             0.4,
             "#fde0ef"
            ],
            [
             0.5,
             "#f7f7f7"
            ],
            [
             0.6,
             "#e6f5d0"
            ],
            [
             0.7,
             "#b8e186"
            ],
            [
             0.8,
             "#7fbc41"
            ],
            [
             0.9,
             "#4d9221"
            ],
            [
             1,
             "#276419"
            ]
           ],
           "sequential": [
            [
             0,
             "#0d0887"
            ],
            [
             0.1111111111111111,
             "#46039f"
            ],
            [
             0.2222222222222222,
             "#7201a8"
            ],
            [
             0.3333333333333333,
             "#9c179e"
            ],
            [
             0.4444444444444444,
             "#bd3786"
            ],
            [
             0.5555555555555556,
             "#d8576b"
            ],
            [
             0.6666666666666666,
             "#ed7953"
            ],
            [
             0.7777777777777778,
             "#fb9f3a"
            ],
            [
             0.8888888888888888,
             "#fdca26"
            ],
            [
             1,
             "#f0f921"
            ]
           ],
           "sequentialminus": [
            [
             0,
             "#0d0887"
            ],
            [
             0.1111111111111111,
             "#46039f"
            ],
            [
             0.2222222222222222,
             "#7201a8"
            ],
            [
             0.3333333333333333,
             "#9c179e"
            ],
            [
             0.4444444444444444,
             "#bd3786"
            ],
            [
             0.5555555555555556,
             "#d8576b"
            ],
            [
             0.6666666666666666,
             "#ed7953"
            ],
            [
             0.7777777777777778,
             "#fb9f3a"
            ],
            [
             0.8888888888888888,
             "#fdca26"
            ],
            [
             1,
             "#f0f921"
            ]
           ]
          },
          "colorway": [
           "#636efa",
           "#EF553B",
           "#00cc96",
           "#ab63fa",
           "#FFA15A",
           "#19d3f3",
           "#FF6692",
           "#B6E880",
           "#FF97FF",
           "#FECB52"
          ],
          "font": {
           "color": "#2a3f5f"
          },
          "geo": {
           "bgcolor": "white",
           "lakecolor": "white",
           "landcolor": "#E5ECF6",
           "showlakes": true,
           "showland": true,
           "subunitcolor": "white"
          },
          "hoverlabel": {
           "align": "left"
          },
          "hovermode": "closest",
          "mapbox": {
           "style": "light"
          },
          "paper_bgcolor": "white",
          "plot_bgcolor": "#E5ECF6",
          "polar": {
           "angularaxis": {
            "gridcolor": "white",
            "linecolor": "white",
            "ticks": ""
           },
           "bgcolor": "#E5ECF6",
           "radialaxis": {
            "gridcolor": "white",
            "linecolor": "white",
            "ticks": ""
           }
          },
          "scene": {
           "xaxis": {
            "backgroundcolor": "#E5ECF6",
            "gridcolor": "white",
            "gridwidth": 2,
            "linecolor": "white",
            "showbackground": true,
            "ticks": "",
            "zerolinecolor": "white"
           },
           "yaxis": {
            "backgroundcolor": "#E5ECF6",
            "gridcolor": "white",
            "gridwidth": 2,
            "linecolor": "white",
            "showbackground": true,
            "ticks": "",
            "zerolinecolor": "white"
           },
           "zaxis": {
            "backgroundcolor": "#E5ECF6",
            "gridcolor": "white",
            "gridwidth": 2,
            "linecolor": "white",
            "showbackground": true,
            "ticks": "",
            "zerolinecolor": "white"
           }
          },
          "shapedefaults": {
           "line": {
            "color": "#2a3f5f"
           }
          },
          "ternary": {
           "aaxis": {
            "gridcolor": "white",
            "linecolor": "white",
            "ticks": ""
           },
           "baxis": {
            "gridcolor": "white",
            "linecolor": "white",
            "ticks": ""
           },
           "bgcolor": "#E5ECF6",
           "caxis": {
            "gridcolor": "white",
            "linecolor": "white",
            "ticks": ""
           }
          },
          "title": {
           "x": 0.05
          },
          "xaxis": {
           "automargin": true,
           "gridcolor": "white",
           "linecolor": "white",
           "ticks": "",
           "title": {
            "standoff": 15
           },
           "zerolinecolor": "white",
           "zerolinewidth": 2
          },
          "yaxis": {
           "automargin": true,
           "gridcolor": "white",
           "linecolor": "white",
           "ticks": "",
           "title": {
            "standoff": 15
           },
           "zerolinecolor": "white",
           "zerolinewidth": 2
          }
         }
        },
        "title": {
         "text": "Stage 1 Chord Diagram"
        },
        "width": 600,
        "xaxis": {
         "visible": false
        },
        "yaxis": {
         "scaleanchor": "x",
         "scaleratio": 1,
         "visible": false
        }
       }
      },
      "text/html": [
       "<div>                            <div id=\"597d74ff-61bf-499b-820d-dc2098b7a179\" class=\"plotly-graph-div\" style=\"height:600px; width:600px;\"></div>            <script type=\"text/javascript\">                require([\"plotly\"], function(Plotly) {                    window.PLOTLYENV=window.PLOTLYENV || {};                                    if (document.getElementById(\"597d74ff-61bf-499b-820d-dc2098b7a179\")) {                    Plotly.newPlot(                        \"597d74ff-61bf-499b-820d-dc2098b7a179\",                        [{\"hoverinfo\":\"text\",\"marker\":{\"color\":\"lightgrey\",\"line\":{\"color\":\"black\",\"width\":2},\"size\":20},\"mode\":\"markers+text\",\"text\":[\"Ser\",\"Lys\",\"Met\",\"Phe\",\"Leu\",\"Thr\",\"Val\",\"Trp\",\"Arg\",\"Gln\",\"Gly\",\"Tyr\",\"Asn\",\"Ala\",\"Tau\",\"Orn\"],\"textposition\":\"top center\",\"x\":[1.0,0.9238795325112867,0.7071067811865476,0.38268343236508984,6.123233995736766e-17,-0.3826834323650897,-0.7071067811865475,-0.9238795325112867,-1.0,-0.9238795325112868,-0.7071067811865477,-0.38268343236509034,-1.8369701987210297e-16,0.38268343236509,0.7071067811865474,0.9238795325112865],\"y\":[0.0,0.3826834323650898,0.7071067811865475,0.9238795325112867,1.0,0.9238795325112867,0.7071067811865476,0.3826834323650899,1.2246467991473532e-16,-0.38268343236508967,-0.7071067811865475,-0.9238795325112865,-1.0,-0.9238795325112866,-0.7071067811865477,-0.3826834323650904],\"type\":\"scatter\"}],                        {\"template\":{\"data\":{\"histogram2dcontour\":[{\"type\":\"histogram2dcontour\",\"colorbar\":{\"outlinewidth\":0,\"ticks\":\"\"},\"colorscale\":[[0.0,\"#0d0887\"],[0.1111111111111111,\"#46039f\"],[0.2222222222222222,\"#7201a8\"],[0.3333333333333333,\"#9c179e\"],[0.4444444444444444,\"#bd3786\"],[0.5555555555555556,\"#d8576b\"],[0.6666666666666666,\"#ed7953\"],[0.7777777777777778,\"#fb9f3a\"],[0.8888888888888888,\"#fdca26\"],[1.0,\"#f0f921\"]]}],\"choropleth\":[{\"type\":\"choropleth\",\"colorbar\":{\"outlinewidth\":0,\"ticks\":\"\"}}],\"histogram2d\":[{\"type\":\"histogram2d\",\"colorbar\":{\"outlinewidth\":0,\"ticks\":\"\"},\"colorscale\":[[0.0,\"#0d0887\"],[0.1111111111111111,\"#46039f\"],[0.2222222222222222,\"#7201a8\"],[0.3333333333333333,\"#9c179e\"],[0.4444444444444444,\"#bd3786\"],[0.5555555555555556,\"#d8576b\"],[0.6666666666666666,\"#ed7953\"],[0.7777777777777778,\"#fb9f3a\"],[0.8888888888888888,\"#fdca26\"],[1.0,\"#f0f921\"]]}],\"heatmap\":[{\"type\":\"heatmap\",\"colorbar\":{\"outlinewidth\":0,\"ticks\":\"\"},\"colorscale\":[[0.0,\"#0d0887\"],[0.1111111111111111,\"#46039f\"],[0.2222222222222222,\"#7201a8\"],[0.3333333333333333,\"#9c179e\"],[0.4444444444444444,\"#bd3786\"],[0.5555555555555556,\"#d8576b\"],[0.6666666666666666,\"#ed7953\"],[0.7777777777777778,\"#fb9f3a\"],[0.8888888888888888,\"#fdca26\"],[1.0,\"#f0f921\"]]}],\"heatmapgl\":[{\"type\":\"heatmapgl\",\"colorbar\":{\"outlinewidth\":0,\"ticks\":\"\"},\"colorscale\":[[0.0,\"#0d0887\"],[0.1111111111111111,\"#46039f\"],[0.2222222222222222,\"#7201a8\"],[0.3333333333333333,\"#9c179e\"],[0.4444444444444444,\"#bd3786\"],[0.5555555555555556,\"#d8576b\"],[0.6666666666666666,\"#ed7953\"],[0.7777777777777778,\"#fb9f3a\"],[0.8888888888888888,\"#fdca26\"],[1.0,\"#f0f921\"]]}],\"contourcarpet\":[{\"type\":\"contourcarpet\",\"colorbar\":{\"outlinewidth\":0,\"ticks\":\"\"}}],\"contour\":[{\"type\":\"contour\",\"colorbar\":{\"outlinewidth\":0,\"ticks\":\"\"},\"colorscale\":[[0.0,\"#0d0887\"],[0.1111111111111111,\"#46039f\"],[0.2222222222222222,\"#7201a8\"],[0.3333333333333333,\"#9c179e\"],[0.4444444444444444,\"#bd3786\"],[0.5555555555555556,\"#d8576b\"],[0.6666666666666666,\"#ed7953\"],[0.7777777777777778,\"#fb9f3a\"],[0.8888888888888888,\"#fdca26\"],[1.0,\"#f0f921\"]]}],\"surface\":[{\"type\":\"surface\",\"colorbar\":{\"outlinewidth\":0,\"ticks\":\"\"},\"colorscale\":[[0.0,\"#0d0887\"],[0.1111111111111111,\"#46039f\"],[0.2222222222222222,\"#7201a8\"],[0.3333333333333333,\"#9c179e\"],[0.4444444444444444,\"#bd3786\"],[0.5555555555555556,\"#d8576b\"],[0.6666666666666666,\"#ed7953\"],[0.7777777777777778,\"#fb9f3a\"],[0.8888888888888888,\"#fdca26\"],[1.0,\"#f0f921\"]]}],\"mesh3d\":[{\"type\":\"mesh3d\",\"colorbar\":{\"outlinewidth\":0,\"ticks\":\"\"}}],\"scatter\":[{\"fillpattern\":{\"fillmode\":\"overlay\",\"size\":10,\"solidity\":0.2},\"type\":\"scatter\"}],\"parcoords\":[{\"type\":\"parcoords\",\"line\":{\"colorbar\":{\"outlinewidth\":0,\"ticks\":\"\"}}}],\"scatterpolargl\":[{\"type\":\"scatterpolargl\",\"marker\":{\"colorbar\":{\"outlinewidth\":0,\"ticks\":\"\"}}}],\"bar\":[{\"error_x\":{\"color\":\"#2a3f5f\"},\"error_y\":{\"color\":\"#2a3f5f\"},\"marker\":{\"line\":{\"color\":\"#E5ECF6\",\"width\":0.5},\"pattern\":{\"fillmode\":\"overlay\",\"size\":10,\"solidity\":0.2}},\"type\":\"bar\"}],\"scattergeo\":[{\"type\":\"scattergeo\",\"marker\":{\"colorbar\":{\"outlinewidth\":0,\"ticks\":\"\"}}}],\"scatterpolar\":[{\"type\":\"scatterpolar\",\"marker\":{\"colorbar\":{\"outlinewidth\":0,\"ticks\":\"\"}}}],\"histogram\":[{\"marker\":{\"pattern\":{\"fillmode\":\"overlay\",\"size\":10,\"solidity\":0.2}},\"type\":\"histogram\"}],\"scattergl\":[{\"type\":\"scattergl\",\"marker\":{\"colorbar\":{\"outlinewidth\":0,\"ticks\":\"\"}}}],\"scatter3d\":[{\"type\":\"scatter3d\",\"line\":{\"colorbar\":{\"outlinewidth\":0,\"ticks\":\"\"}},\"marker\":{\"colorbar\":{\"outlinewidth\":0,\"ticks\":\"\"}}}],\"scattermapbox\":[{\"type\":\"scattermapbox\",\"marker\":{\"colorbar\":{\"outlinewidth\":0,\"ticks\":\"\"}}}],\"scatterternary\":[{\"type\":\"scatterternary\",\"marker\":{\"colorbar\":{\"outlinewidth\":0,\"ticks\":\"\"}}}],\"scattercarpet\":[{\"type\":\"scattercarpet\",\"marker\":{\"colorbar\":{\"outlinewidth\":0,\"ticks\":\"\"}}}],\"carpet\":[{\"aaxis\":{\"endlinecolor\":\"#2a3f5f\",\"gridcolor\":\"white\",\"linecolor\":\"white\",\"minorgridcolor\":\"white\",\"startlinecolor\":\"#2a3f5f\"},\"baxis\":{\"endlinecolor\":\"#2a3f5f\",\"gridcolor\":\"white\",\"linecolor\":\"white\",\"minorgridcolor\":\"white\",\"startlinecolor\":\"#2a3f5f\"},\"type\":\"carpet\"}],\"table\":[{\"cells\":{\"fill\":{\"color\":\"#EBF0F8\"},\"line\":{\"color\":\"white\"}},\"header\":{\"fill\":{\"color\":\"#C8D4E3\"},\"line\":{\"color\":\"white\"}},\"type\":\"table\"}],\"barpolar\":[{\"marker\":{\"line\":{\"color\":\"#E5ECF6\",\"width\":0.5},\"pattern\":{\"fillmode\":\"overlay\",\"size\":10,\"solidity\":0.2}},\"type\":\"barpolar\"}],\"pie\":[{\"automargin\":true,\"type\":\"pie\"}]},\"layout\":{\"autotypenumbers\":\"strict\",\"colorway\":[\"#636efa\",\"#EF553B\",\"#00cc96\",\"#ab63fa\",\"#FFA15A\",\"#19d3f3\",\"#FF6692\",\"#B6E880\",\"#FF97FF\",\"#FECB52\"],\"font\":{\"color\":\"#2a3f5f\"},\"hovermode\":\"closest\",\"hoverlabel\":{\"align\":\"left\"},\"paper_bgcolor\":\"white\",\"plot_bgcolor\":\"#E5ECF6\",\"polar\":{\"bgcolor\":\"#E5ECF6\",\"angularaxis\":{\"gridcolor\":\"white\",\"linecolor\":\"white\",\"ticks\":\"\"},\"radialaxis\":{\"gridcolor\":\"white\",\"linecolor\":\"white\",\"ticks\":\"\"}},\"ternary\":{\"bgcolor\":\"#E5ECF6\",\"aaxis\":{\"gridcolor\":\"white\",\"linecolor\":\"white\",\"ticks\":\"\"},\"baxis\":{\"gridcolor\":\"white\",\"linecolor\":\"white\",\"ticks\":\"\"},\"caxis\":{\"gridcolor\":\"white\",\"linecolor\":\"white\",\"ticks\":\"\"}},\"coloraxis\":{\"colorbar\":{\"outlinewidth\":0,\"ticks\":\"\"}},\"colorscale\":{\"sequential\":[[0.0,\"#0d0887\"],[0.1111111111111111,\"#46039f\"],[0.2222222222222222,\"#7201a8\"],[0.3333333333333333,\"#9c179e\"],[0.4444444444444444,\"#bd3786\"],[0.5555555555555556,\"#d8576b\"],[0.6666666666666666,\"#ed7953\"],[0.7777777777777778,\"#fb9f3a\"],[0.8888888888888888,\"#fdca26\"],[1.0,\"#f0f921\"]],\"sequentialminus\":[[0.0,\"#0d0887\"],[0.1111111111111111,\"#46039f\"],[0.2222222222222222,\"#7201a8\"],[0.3333333333333333,\"#9c179e\"],[0.4444444444444444,\"#bd3786\"],[0.5555555555555556,\"#d8576b\"],[0.6666666666666666,\"#ed7953\"],[0.7777777777777778,\"#fb9f3a\"],[0.8888888888888888,\"#fdca26\"],[1.0,\"#f0f921\"]],\"diverging\":[[0,\"#8e0152\"],[0.1,\"#c51b7d\"],[0.2,\"#de77ae\"],[0.3,\"#f1b6da\"],[0.4,\"#fde0ef\"],[0.5,\"#f7f7f7\"],[0.6,\"#e6f5d0\"],[0.7,\"#b8e186\"],[0.8,\"#7fbc41\"],[0.9,\"#4d9221\"],[1,\"#276419\"]]},\"xaxis\":{\"gridcolor\":\"white\",\"linecolor\":\"white\",\"ticks\":\"\",\"title\":{\"standoff\":15},\"zerolinecolor\":\"white\",\"automargin\":true,\"zerolinewidth\":2},\"yaxis\":{\"gridcolor\":\"white\",\"linecolor\":\"white\",\"ticks\":\"\",\"title\":{\"standoff\":15},\"zerolinecolor\":\"white\",\"automargin\":true,\"zerolinewidth\":2},\"scene\":{\"xaxis\":{\"backgroundcolor\":\"#E5ECF6\",\"gridcolor\":\"white\",\"linecolor\":\"white\",\"showbackground\":true,\"ticks\":\"\",\"zerolinecolor\":\"white\",\"gridwidth\":2},\"yaxis\":{\"backgroundcolor\":\"#E5ECF6\",\"gridcolor\":\"white\",\"linecolor\":\"white\",\"showbackground\":true,\"ticks\":\"\",\"zerolinecolor\":\"white\",\"gridwidth\":2},\"zaxis\":{\"backgroundcolor\":\"#E5ECF6\",\"gridcolor\":\"white\",\"linecolor\":\"white\",\"showbackground\":true,\"ticks\":\"\",\"zerolinecolor\":\"white\",\"gridwidth\":2}},\"shapedefaults\":{\"line\":{\"color\":\"#2a3f5f\"}},\"annotationdefaults\":{\"arrowcolor\":\"#2a3f5f\",\"arrowhead\":0,\"arrowwidth\":1},\"geo\":{\"bgcolor\":\"white\",\"landcolor\":\"#E5ECF6\",\"subunitcolor\":\"white\",\"showland\":true,\"showlakes\":true,\"lakecolor\":\"white\"},\"title\":{\"x\":0.05},\"mapbox\":{\"style\":\"light\"}}},\"shapes\":[{\"line\":{\"color\":\"blue\",\"width\":2.56},\"opacity\":0.6,\"path\":\"M 1.0,0.0 Q 0,0 0.9238795325112867,0.3826834323650898\",\"type\":\"path\"},{\"line\":{\"color\":\"red\",\"width\":2.62},\"opacity\":0.6,\"path\":\"M 1.0,0.0 Q 0,0 6.123233995736766e-17,1.0\",\"type\":\"path\"},{\"line\":{\"color\":\"red\",\"width\":2.77},\"opacity\":0.6,\"path\":\"M 1.0,0.0 Q 0,0 -0.7071067811865475,0.7071067811865476\",\"type\":\"path\"},{\"line\":{\"color\":\"red\",\"width\":2.83},\"opacity\":0.6,\"path\":\"M 0.9238795325112867,0.3826834323650898 Q 0,0 6.123233995736766e-17,1.0\",\"type\":\"path\"},{\"line\":{\"color\":\"red\",\"width\":2.77},\"opacity\":0.6,\"path\":\"M 0.38268343236508984,0.9238795325112867 Q 0,0 -0.9238795325112868,-0.38268343236508967\",\"type\":\"path\"},{\"line\":{\"color\":\"blue\",\"width\":2.77},\"opacity\":0.6,\"path\":\"M 0.38268343236508984,0.9238795325112867 Q 0,0 0.9238795325112865,-0.3826834323650904\",\"type\":\"path\"},{\"line\":{\"color\":\"blue\",\"width\":3.37},\"opacity\":0.6,\"path\":\"M 6.123233995736766e-17,1.0 Q 0,0 -0.7071067811865475,0.7071067811865476\",\"type\":\"path\"},{\"line\":{\"color\":\"red\",\"width\":2.95},\"opacity\":0.6,\"path\":\"M 6.123233995736766e-17,1.0 Q 0,0 0.38268343236509,-0.9238795325112866\",\"type\":\"path\"},{\"line\":{\"color\":\"red\",\"width\":2.77},\"opacity\":0.6,\"path\":\"M -0.7071067811865475,0.7071067811865476 Q 0,0 -1.0,1.2246467991473532e-16\",\"type\":\"path\"},{\"line\":{\"color\":\"red\",\"width\":2.83},\"opacity\":0.6,\"path\":\"M -0.7071067811865475,0.7071067811865476 Q 0,0 -0.7071067811865477,-0.7071067811865475\",\"type\":\"path\"},{\"line\":{\"color\":\"red\",\"width\":3.0999999999999996},\"opacity\":0.6,\"path\":\"M -0.7071067811865475,0.7071067811865476 Q 0,0 0.38268343236509,-0.9238795325112866\",\"type\":\"path\"},{\"line\":{\"color\":\"blue\",\"width\":2.59},\"opacity\":0.6,\"path\":\"M -0.7071067811865475,0.7071067811865476 Q 0,0 0.7071067811865474,-0.7071067811865477\",\"type\":\"path\"},{\"line\":{\"color\":\"red\",\"width\":3.0100000000000002},\"opacity\":0.6,\"path\":\"M -1.0,1.2246467991473532e-16 Q 0,0 0.7071067811865474,-0.7071067811865477\",\"type\":\"path\"}],\"xaxis\":{\"visible\":false},\"yaxis\":{\"visible\":false,\"scaleanchor\":\"x\",\"scaleratio\":1},\"margin\":{\"t\":20,\"b\":20,\"l\":20,\"r\":20},\"showlegend\":false,\"width\":600,\"height\":600,\"title\":{\"text\":\"Stage 1 Chord Diagram\"}},                        {\"responsive\": true}                    ).then(function(){\n",
       "                            \n",
       "var gd = document.getElementById('597d74ff-61bf-499b-820d-dc2098b7a179');\n",
       "var x = new MutationObserver(function (mutations, observer) {{\n",
       "        var display = window.getComputedStyle(gd).display;\n",
       "        if (!display || display === 'none') {{\n",
       "            console.log([gd, 'removed!']);\n",
       "            Plotly.purge(gd);\n",
       "            observer.disconnect();\n",
       "        }}\n",
       "}});\n",
       "\n",
       "// Listen for the removal of the full notebook cells\n",
       "var notebookContainer = gd.closest('#notebook-container');\n",
       "if (notebookContainer) {{\n",
       "    x.observe(notebookContainer, {childList: true});\n",
       "}}\n",
       "\n",
       "// Listen for the clearing of the current output cell\n",
       "var outputEl = gd.closest('.output');\n",
       "if (outputEl) {{\n",
       "    x.observe(outputEl, {childList: true});\n",
       "}}\n",
       "\n",
       "                        })                };                });            </script>        </div>"
      ]
     },
     "metadata": {},
     "output_type": "display_data"
    },
    {
     "name": "stderr",
     "output_type": "stream",
     "text": [
      "/tmp/ipykernel_216629/114941381.py:20: FutureWarning:\n",
      "\n",
      "Setting an item of incompatible dtype is deprecated and will raise an error in a future version of pandas. Value '0.54' has dtype incompatible with int64, please explicitly cast to a compatible dtype first.\n",
      "\n",
      "/tmp/ipykernel_216629/114941381.py:21: FutureWarning:\n",
      "\n",
      "Setting an item of incompatible dtype is deprecated and will raise an error in a future version of pandas. Value '0.54' has dtype incompatible with int64, please explicitly cast to a compatible dtype first.\n",
      "\n",
      "/tmp/ipykernel_216629/114941381.py:20: FutureWarning:\n",
      "\n",
      "Setting an item of incompatible dtype is deprecated and will raise an error in a future version of pandas. Value '-0.59' has dtype incompatible with int64, please explicitly cast to a compatible dtype first.\n",
      "\n",
      "/tmp/ipykernel_216629/114941381.py:21: FutureWarning:\n",
      "\n",
      "Setting an item of incompatible dtype is deprecated and will raise an error in a future version of pandas. Value '-0.59' has dtype incompatible with int64, please explicitly cast to a compatible dtype first.\n",
      "\n",
      "/tmp/ipykernel_216629/114941381.py:20: FutureWarning:\n",
      "\n",
      "Setting an item of incompatible dtype is deprecated and will raise an error in a future version of pandas. Value '0.65' has dtype incompatible with int64, please explicitly cast to a compatible dtype first.\n",
      "\n",
      "/tmp/ipykernel_216629/114941381.py:21: FutureWarning:\n",
      "\n",
      "Setting an item of incompatible dtype is deprecated and will raise an error in a future version of pandas. Value '0.65' has dtype incompatible with int64, please explicitly cast to a compatible dtype first.\n",
      "\n",
      "/tmp/ipykernel_216629/114941381.py:20: FutureWarning:\n",
      "\n",
      "Setting an item of incompatible dtype is deprecated and will raise an error in a future version of pandas. Value '-0.53' has dtype incompatible with int64, please explicitly cast to a compatible dtype first.\n",
      "\n",
      "/tmp/ipykernel_216629/114941381.py:20: FutureWarning:\n",
      "\n",
      "Setting an item of incompatible dtype is deprecated and will raise an error in a future version of pandas. Value '-0.59' has dtype incompatible with int64, please explicitly cast to a compatible dtype first.\n",
      "\n",
      "/tmp/ipykernel_216629/114941381.py:20: FutureWarning:\n",
      "\n",
      "Setting an item of incompatible dtype is deprecated and will raise an error in a future version of pandas. Value '-0.56' has dtype incompatible with int64, please explicitly cast to a compatible dtype first.\n",
      "\n",
      "/tmp/ipykernel_216629/114941381.py:21: FutureWarning:\n",
      "\n",
      "Setting an item of incompatible dtype is deprecated and will raise an error in a future version of pandas. Value '-0.6' has dtype incompatible with int64, please explicitly cast to a compatible dtype first.\n",
      "\n"
     ]
    },
    {
     "data": {
      "application/vnd.plotly.v1+json": {
       "config": {
        "plotlyServerURL": "https://plot.ly"
       },
       "data": [
        {
         "hoverinfo": "text",
         "marker": {
          "color": "lightgrey",
          "line": {
           "color": "black",
           "width": 2
          },
          "size": 20
         },
         "mode": "markers+text",
         "text": [
          "Ser",
          "Lys",
          "Met",
          "Phe",
          "Leu",
          "Thr",
          "Val",
          "Trp",
          "Arg",
          "Gln",
          "Gly",
          "Tyr",
          "Asn",
          "Ala",
          "Tau",
          "Orn"
         ],
         "textposition": "top center",
         "type": "scatter",
         "x": [
          1,
          0.9238795325112867,
          0.7071067811865476,
          0.38268343236508984,
          6.123233995736766e-17,
          -0.3826834323650897,
          -0.7071067811865475,
          -0.9238795325112867,
          -1,
          -0.9238795325112868,
          -0.7071067811865477,
          -0.38268343236509034,
          -1.8369701987210297e-16,
          0.38268343236509,
          0.7071067811865474,
          0.9238795325112865
         ],
         "y": [
          0,
          0.3826834323650898,
          0.7071067811865475,
          0.9238795325112867,
          1,
          0.9238795325112867,
          0.7071067811865476,
          0.3826834323650899,
          1.2246467991473532e-16,
          -0.38268343236508967,
          -0.7071067811865475,
          -0.9238795325112865,
          -1,
          -0.9238795325112866,
          -0.7071067811865477,
          -0.3826834323650904
         ]
        }
       ],
       "layout": {
        "height": 600,
        "margin": {
         "b": 20,
         "l": 20,
         "r": 20,
         "t": 20
        },
        "shapes": [
         {
          "line": {
           "color": "blue",
           "width": 3.07
          },
          "opacity": 0.6,
          "path": "M 1.0,0.0 Q 0,0 -0.7071067811865477,-0.7071067811865475",
          "type": "path"
         },
         {
          "line": {
           "color": "red",
           "width": 2.59
          },
          "opacity": 0.6,
          "path": "M 1.0,0.0 Q 0,0 0.7071067811865474,-0.7071067811865477",
          "type": "path"
         },
         {
          "line": {
           "color": "blue",
           "width": 2.62
          },
          "opacity": 0.6,
          "path": "M 1.0,0.0 Q 0,0 0.9238795325112865,-0.3826834323650904",
          "type": "path"
         },
         {
          "line": {
           "color": "blue",
           "width": 2.8
          },
          "opacity": 0.6,
          "path": "M 6.123233995736766e-17,1.0 Q 0,0 -0.7071067811865475,0.7071067811865476",
          "type": "path"
         },
         {
          "line": {
           "color": "red",
           "width": 2.8
          },
          "opacity": 0.6,
          "path": "M 6.123233995736766e-17,1.0 Q 0,0 -0.9238795325112868,-0.38268343236508967",
          "type": "path"
         },
         {
          "line": {
           "color": "red",
           "width": 2.77
          },
          "opacity": 0.6,
          "path": "M 6.123233995736766e-17,1.0 Q 0,0 -0.7071067811865477,-0.7071067811865475",
          "type": "path"
         },
         {
          "line": {
           "color": "red",
           "width": 2.68
          },
          "opacity": 0.6,
          "path": "M -0.3826834323650897,0.9238795325112867 Q 0,0 0.38268343236509,-0.9238795325112866",
          "type": "path"
         },
         {
          "line": {
           "color": "red",
           "width": 2.77
          },
          "opacity": 0.6,
          "path": "M -0.7071067811865475,0.7071067811865476 Q 0,0 -0.7071067811865477,-0.7071067811865475",
          "type": "path"
         },
         {
          "line": {
           "color": "red",
           "width": 2.56
          },
          "opacity": 0.6,
          "path": "M -0.7071067811865477,-0.7071067811865475 Q 0,0 0.7071067811865474,-0.7071067811865477",
          "type": "path"
         },
         {
          "line": {
           "color": "blue",
           "width": 2.95
          },
          "opacity": 0.6,
          "path": "M -0.38268343236509034,-0.9238795325112865 Q 0,0 0.38268343236509,-0.9238795325112866",
          "type": "path"
         }
        ],
        "showlegend": false,
        "template": {
         "data": {
          "bar": [
           {
            "error_x": {
             "color": "#2a3f5f"
            },
            "error_y": {
             "color": "#2a3f5f"
            },
            "marker": {
             "line": {
              "color": "#E5ECF6",
              "width": 0.5
             },
             "pattern": {
              "fillmode": "overlay",
              "size": 10,
              "solidity": 0.2
             }
            },
            "type": "bar"
           }
          ],
          "barpolar": [
           {
            "marker": {
             "line": {
              "color": "#E5ECF6",
              "width": 0.5
             },
             "pattern": {
              "fillmode": "overlay",
              "size": 10,
              "solidity": 0.2
             }
            },
            "type": "barpolar"
           }
          ],
          "carpet": [
           {
            "aaxis": {
             "endlinecolor": "#2a3f5f",
             "gridcolor": "white",
             "linecolor": "white",
             "minorgridcolor": "white",
             "startlinecolor": "#2a3f5f"
            },
            "baxis": {
             "endlinecolor": "#2a3f5f",
             "gridcolor": "white",
             "linecolor": "white",
             "minorgridcolor": "white",
             "startlinecolor": "#2a3f5f"
            },
            "type": "carpet"
           }
          ],
          "choropleth": [
           {
            "colorbar": {
             "outlinewidth": 0,
             "ticks": ""
            },
            "type": "choropleth"
           }
          ],
          "contour": [
           {
            "colorbar": {
             "outlinewidth": 0,
             "ticks": ""
            },
            "colorscale": [
             [
              0,
              "#0d0887"
             ],
             [
              0.1111111111111111,
              "#46039f"
             ],
             [
              0.2222222222222222,
              "#7201a8"
             ],
             [
              0.3333333333333333,
              "#9c179e"
             ],
             [
              0.4444444444444444,
              "#bd3786"
             ],
             [
              0.5555555555555556,
              "#d8576b"
             ],
             [
              0.6666666666666666,
              "#ed7953"
             ],
             [
              0.7777777777777778,
              "#fb9f3a"
             ],
             [
              0.8888888888888888,
              "#fdca26"
             ],
             [
              1,
              "#f0f921"
             ]
            ],
            "type": "contour"
           }
          ],
          "contourcarpet": [
           {
            "colorbar": {
             "outlinewidth": 0,
             "ticks": ""
            },
            "type": "contourcarpet"
           }
          ],
          "heatmap": [
           {
            "colorbar": {
             "outlinewidth": 0,
             "ticks": ""
            },
            "colorscale": [
             [
              0,
              "#0d0887"
             ],
             [
              0.1111111111111111,
              "#46039f"
             ],
             [
              0.2222222222222222,
              "#7201a8"
             ],
             [
              0.3333333333333333,
              "#9c179e"
             ],
             [
              0.4444444444444444,
              "#bd3786"
             ],
             [
              0.5555555555555556,
              "#d8576b"
             ],
             [
              0.6666666666666666,
              "#ed7953"
             ],
             [
              0.7777777777777778,
              "#fb9f3a"
             ],
             [
              0.8888888888888888,
              "#fdca26"
             ],
             [
              1,
              "#f0f921"
             ]
            ],
            "type": "heatmap"
           }
          ],
          "heatmapgl": [
           {
            "colorbar": {
             "outlinewidth": 0,
             "ticks": ""
            },
            "colorscale": [
             [
              0,
              "#0d0887"
             ],
             [
              0.1111111111111111,
              "#46039f"
             ],
             [
              0.2222222222222222,
              "#7201a8"
             ],
             [
              0.3333333333333333,
              "#9c179e"
             ],
             [
              0.4444444444444444,
              "#bd3786"
             ],
             [
              0.5555555555555556,
              "#d8576b"
             ],
             [
              0.6666666666666666,
              "#ed7953"
             ],
             [
              0.7777777777777778,
              "#fb9f3a"
             ],
             [
              0.8888888888888888,
              "#fdca26"
             ],
             [
              1,
              "#f0f921"
             ]
            ],
            "type": "heatmapgl"
           }
          ],
          "histogram": [
           {
            "marker": {
             "pattern": {
              "fillmode": "overlay",
              "size": 10,
              "solidity": 0.2
             }
            },
            "type": "histogram"
           }
          ],
          "histogram2d": [
           {
            "colorbar": {
             "outlinewidth": 0,
             "ticks": ""
            },
            "colorscale": [
             [
              0,
              "#0d0887"
             ],
             [
              0.1111111111111111,
              "#46039f"
             ],
             [
              0.2222222222222222,
              "#7201a8"
             ],
             [
              0.3333333333333333,
              "#9c179e"
             ],
             [
              0.4444444444444444,
              "#bd3786"
             ],
             [
              0.5555555555555556,
              "#d8576b"
             ],
             [
              0.6666666666666666,
              "#ed7953"
             ],
             [
              0.7777777777777778,
              "#fb9f3a"
             ],
             [
              0.8888888888888888,
              "#fdca26"
             ],
             [
              1,
              "#f0f921"
             ]
            ],
            "type": "histogram2d"
           }
          ],
          "histogram2dcontour": [
           {
            "colorbar": {
             "outlinewidth": 0,
             "ticks": ""
            },
            "colorscale": [
             [
              0,
              "#0d0887"
             ],
             [
              0.1111111111111111,
              "#46039f"
             ],
             [
              0.2222222222222222,
              "#7201a8"
             ],
             [
              0.3333333333333333,
              "#9c179e"
             ],
             [
              0.4444444444444444,
              "#bd3786"
             ],
             [
              0.5555555555555556,
              "#d8576b"
             ],
             [
              0.6666666666666666,
              "#ed7953"
             ],
             [
              0.7777777777777778,
              "#fb9f3a"
             ],
             [
              0.8888888888888888,
              "#fdca26"
             ],
             [
              1,
              "#f0f921"
             ]
            ],
            "type": "histogram2dcontour"
           }
          ],
          "mesh3d": [
           {
            "colorbar": {
             "outlinewidth": 0,
             "ticks": ""
            },
            "type": "mesh3d"
           }
          ],
          "parcoords": [
           {
            "line": {
             "colorbar": {
              "outlinewidth": 0,
              "ticks": ""
             }
            },
            "type": "parcoords"
           }
          ],
          "pie": [
           {
            "automargin": true,
            "type": "pie"
           }
          ],
          "scatter": [
           {
            "fillpattern": {
             "fillmode": "overlay",
             "size": 10,
             "solidity": 0.2
            },
            "type": "scatter"
           }
          ],
          "scatter3d": [
           {
            "line": {
             "colorbar": {
              "outlinewidth": 0,
              "ticks": ""
             }
            },
            "marker": {
             "colorbar": {
              "outlinewidth": 0,
              "ticks": ""
             }
            },
            "type": "scatter3d"
           }
          ],
          "scattercarpet": [
           {
            "marker": {
             "colorbar": {
              "outlinewidth": 0,
              "ticks": ""
             }
            },
            "type": "scattercarpet"
           }
          ],
          "scattergeo": [
           {
            "marker": {
             "colorbar": {
              "outlinewidth": 0,
              "ticks": ""
             }
            },
            "type": "scattergeo"
           }
          ],
          "scattergl": [
           {
            "marker": {
             "colorbar": {
              "outlinewidth": 0,
              "ticks": ""
             }
            },
            "type": "scattergl"
           }
          ],
          "scattermapbox": [
           {
            "marker": {
             "colorbar": {
              "outlinewidth": 0,
              "ticks": ""
             }
            },
            "type": "scattermapbox"
           }
          ],
          "scatterpolar": [
           {
            "marker": {
             "colorbar": {
              "outlinewidth": 0,
              "ticks": ""
             }
            },
            "type": "scatterpolar"
           }
          ],
          "scatterpolargl": [
           {
            "marker": {
             "colorbar": {
              "outlinewidth": 0,
              "ticks": ""
             }
            },
            "type": "scatterpolargl"
           }
          ],
          "scatterternary": [
           {
            "marker": {
             "colorbar": {
              "outlinewidth": 0,
              "ticks": ""
             }
            },
            "type": "scatterternary"
           }
          ],
          "surface": [
           {
            "colorbar": {
             "outlinewidth": 0,
             "ticks": ""
            },
            "colorscale": [
             [
              0,
              "#0d0887"
             ],
             [
              0.1111111111111111,
              "#46039f"
             ],
             [
              0.2222222222222222,
              "#7201a8"
             ],
             [
              0.3333333333333333,
              "#9c179e"
             ],
             [
              0.4444444444444444,
              "#bd3786"
             ],
             [
              0.5555555555555556,
              "#d8576b"
             ],
             [
              0.6666666666666666,
              "#ed7953"
             ],
             [
              0.7777777777777778,
              "#fb9f3a"
             ],
             [
              0.8888888888888888,
              "#fdca26"
             ],
             [
              1,
              "#f0f921"
             ]
            ],
            "type": "surface"
           }
          ],
          "table": [
           {
            "cells": {
             "fill": {
              "color": "#EBF0F8"
             },
             "line": {
              "color": "white"
             }
            },
            "header": {
             "fill": {
              "color": "#C8D4E3"
             },
             "line": {
              "color": "white"
             }
            },
            "type": "table"
           }
          ]
         },
         "layout": {
          "annotationdefaults": {
           "arrowcolor": "#2a3f5f",
           "arrowhead": 0,
           "arrowwidth": 1
          },
          "autotypenumbers": "strict",
          "coloraxis": {
           "colorbar": {
            "outlinewidth": 0,
            "ticks": ""
           }
          },
          "colorscale": {
           "diverging": [
            [
             0,
             "#8e0152"
            ],
            [
             0.1,
             "#c51b7d"
            ],
            [
             0.2,
             "#de77ae"
            ],
            [
             0.3,
             "#f1b6da"
            ],
            [
             0.4,
             "#fde0ef"
            ],
            [
             0.5,
             "#f7f7f7"
            ],
            [
             0.6,
             "#e6f5d0"
            ],
            [
             0.7,
             "#b8e186"
            ],
            [
             0.8,
             "#7fbc41"
            ],
            [
             0.9,
             "#4d9221"
            ],
            [
             1,
             "#276419"
            ]
           ],
           "sequential": [
            [
             0,
             "#0d0887"
            ],
            [
             0.1111111111111111,
             "#46039f"
            ],
            [
             0.2222222222222222,
             "#7201a8"
            ],
            [
             0.3333333333333333,
             "#9c179e"
            ],
            [
             0.4444444444444444,
             "#bd3786"
            ],
            [
             0.5555555555555556,
             "#d8576b"
            ],
            [
             0.6666666666666666,
             "#ed7953"
            ],
            [
             0.7777777777777778,
             "#fb9f3a"
            ],
            [
             0.8888888888888888,
             "#fdca26"
            ],
            [
             1,
             "#f0f921"
            ]
           ],
           "sequentialminus": [
            [
             0,
             "#0d0887"
            ],
            [
             0.1111111111111111,
             "#46039f"
            ],
            [
             0.2222222222222222,
             "#7201a8"
            ],
            [
             0.3333333333333333,
             "#9c179e"
            ],
            [
             0.4444444444444444,
             "#bd3786"
            ],
            [
             0.5555555555555556,
             "#d8576b"
            ],
            [
             0.6666666666666666,
             "#ed7953"
            ],
            [
             0.7777777777777778,
             "#fb9f3a"
            ],
            [
             0.8888888888888888,
             "#fdca26"
            ],
            [
             1,
             "#f0f921"
            ]
           ]
          },
          "colorway": [
           "#636efa",
           "#EF553B",
           "#00cc96",
           "#ab63fa",
           "#FFA15A",
           "#19d3f3",
           "#FF6692",
           "#B6E880",
           "#FF97FF",
           "#FECB52"
          ],
          "font": {
           "color": "#2a3f5f"
          },
          "geo": {
           "bgcolor": "white",
           "lakecolor": "white",
           "landcolor": "#E5ECF6",
           "showlakes": true,
           "showland": true,
           "subunitcolor": "white"
          },
          "hoverlabel": {
           "align": "left"
          },
          "hovermode": "closest",
          "mapbox": {
           "style": "light"
          },
          "paper_bgcolor": "white",
          "plot_bgcolor": "#E5ECF6",
          "polar": {
           "angularaxis": {
            "gridcolor": "white",
            "linecolor": "white",
            "ticks": ""
           },
           "bgcolor": "#E5ECF6",
           "radialaxis": {
            "gridcolor": "white",
            "linecolor": "white",
            "ticks": ""
           }
          },
          "scene": {
           "xaxis": {
            "backgroundcolor": "#E5ECF6",
            "gridcolor": "white",
            "gridwidth": 2,
            "linecolor": "white",
            "showbackground": true,
            "ticks": "",
            "zerolinecolor": "white"
           },
           "yaxis": {
            "backgroundcolor": "#E5ECF6",
            "gridcolor": "white",
            "gridwidth": 2,
            "linecolor": "white",
            "showbackground": true,
            "ticks": "",
            "zerolinecolor": "white"
           },
           "zaxis": {
            "backgroundcolor": "#E5ECF6",
            "gridcolor": "white",
            "gridwidth": 2,
            "linecolor": "white",
            "showbackground": true,
            "ticks": "",
            "zerolinecolor": "white"
           }
          },
          "shapedefaults": {
           "line": {
            "color": "#2a3f5f"
           }
          },
          "ternary": {
           "aaxis": {
            "gridcolor": "white",
            "linecolor": "white",
            "ticks": ""
           },
           "baxis": {
            "gridcolor": "white",
            "linecolor": "white",
            "ticks": ""
           },
           "bgcolor": "#E5ECF6",
           "caxis": {
            "gridcolor": "white",
            "linecolor": "white",
            "ticks": ""
           }
          },
          "title": {
           "x": 0.05
          },
          "xaxis": {
           "automargin": true,
           "gridcolor": "white",
           "linecolor": "white",
           "ticks": "",
           "title": {
            "standoff": 15
           },
           "zerolinecolor": "white",
           "zerolinewidth": 2
          },
          "yaxis": {
           "automargin": true,
           "gridcolor": "white",
           "linecolor": "white",
           "ticks": "",
           "title": {
            "standoff": 15
           },
           "zerolinecolor": "white",
           "zerolinewidth": 2
          }
         }
        },
        "title": {
         "text": "Stage 2 Chord Diagram"
        },
        "width": 600,
        "xaxis": {
         "visible": false
        },
        "yaxis": {
         "scaleanchor": "x",
         "scaleratio": 1,
         "visible": false
        }
       }
      },
      "text/html": [
       "<div>                            <div id=\"84b578d8-2998-4743-a8ee-ad06c7e73d47\" class=\"plotly-graph-div\" style=\"height:600px; width:600px;\"></div>            <script type=\"text/javascript\">                require([\"plotly\"], function(Plotly) {                    window.PLOTLYENV=window.PLOTLYENV || {};                                    if (document.getElementById(\"84b578d8-2998-4743-a8ee-ad06c7e73d47\")) {                    Plotly.newPlot(                        \"84b578d8-2998-4743-a8ee-ad06c7e73d47\",                        [{\"hoverinfo\":\"text\",\"marker\":{\"color\":\"lightgrey\",\"line\":{\"color\":\"black\",\"width\":2},\"size\":20},\"mode\":\"markers+text\",\"text\":[\"Ser\",\"Lys\",\"Met\",\"Phe\",\"Leu\",\"Thr\",\"Val\",\"Trp\",\"Arg\",\"Gln\",\"Gly\",\"Tyr\",\"Asn\",\"Ala\",\"Tau\",\"Orn\"],\"textposition\":\"top center\",\"x\":[1.0,0.9238795325112867,0.7071067811865476,0.38268343236508984,6.123233995736766e-17,-0.3826834323650897,-0.7071067811865475,-0.9238795325112867,-1.0,-0.9238795325112868,-0.7071067811865477,-0.38268343236509034,-1.8369701987210297e-16,0.38268343236509,0.7071067811865474,0.9238795325112865],\"y\":[0.0,0.3826834323650898,0.7071067811865475,0.9238795325112867,1.0,0.9238795325112867,0.7071067811865476,0.3826834323650899,1.2246467991473532e-16,-0.38268343236508967,-0.7071067811865475,-0.9238795325112865,-1.0,-0.9238795325112866,-0.7071067811865477,-0.3826834323650904],\"type\":\"scatter\"}],                        {\"template\":{\"data\":{\"histogram2dcontour\":[{\"type\":\"histogram2dcontour\",\"colorbar\":{\"outlinewidth\":0,\"ticks\":\"\"},\"colorscale\":[[0.0,\"#0d0887\"],[0.1111111111111111,\"#46039f\"],[0.2222222222222222,\"#7201a8\"],[0.3333333333333333,\"#9c179e\"],[0.4444444444444444,\"#bd3786\"],[0.5555555555555556,\"#d8576b\"],[0.6666666666666666,\"#ed7953\"],[0.7777777777777778,\"#fb9f3a\"],[0.8888888888888888,\"#fdca26\"],[1.0,\"#f0f921\"]]}],\"choropleth\":[{\"type\":\"choropleth\",\"colorbar\":{\"outlinewidth\":0,\"ticks\":\"\"}}],\"histogram2d\":[{\"type\":\"histogram2d\",\"colorbar\":{\"outlinewidth\":0,\"ticks\":\"\"},\"colorscale\":[[0.0,\"#0d0887\"],[0.1111111111111111,\"#46039f\"],[0.2222222222222222,\"#7201a8\"],[0.3333333333333333,\"#9c179e\"],[0.4444444444444444,\"#bd3786\"],[0.5555555555555556,\"#d8576b\"],[0.6666666666666666,\"#ed7953\"],[0.7777777777777778,\"#fb9f3a\"],[0.8888888888888888,\"#fdca26\"],[1.0,\"#f0f921\"]]}],\"heatmap\":[{\"type\":\"heatmap\",\"colorbar\":{\"outlinewidth\":0,\"ticks\":\"\"},\"colorscale\":[[0.0,\"#0d0887\"],[0.1111111111111111,\"#46039f\"],[0.2222222222222222,\"#7201a8\"],[0.3333333333333333,\"#9c179e\"],[0.4444444444444444,\"#bd3786\"],[0.5555555555555556,\"#d8576b\"],[0.6666666666666666,\"#ed7953\"],[0.7777777777777778,\"#fb9f3a\"],[0.8888888888888888,\"#fdca26\"],[1.0,\"#f0f921\"]]}],\"heatmapgl\":[{\"type\":\"heatmapgl\",\"colorbar\":{\"outlinewidth\":0,\"ticks\":\"\"},\"colorscale\":[[0.0,\"#0d0887\"],[0.1111111111111111,\"#46039f\"],[0.2222222222222222,\"#7201a8\"],[0.3333333333333333,\"#9c179e\"],[0.4444444444444444,\"#bd3786\"],[0.5555555555555556,\"#d8576b\"],[0.6666666666666666,\"#ed7953\"],[0.7777777777777778,\"#fb9f3a\"],[0.8888888888888888,\"#fdca26\"],[1.0,\"#f0f921\"]]}],\"contourcarpet\":[{\"type\":\"contourcarpet\",\"colorbar\":{\"outlinewidth\":0,\"ticks\":\"\"}}],\"contour\":[{\"type\":\"contour\",\"colorbar\":{\"outlinewidth\":0,\"ticks\":\"\"},\"colorscale\":[[0.0,\"#0d0887\"],[0.1111111111111111,\"#46039f\"],[0.2222222222222222,\"#7201a8\"],[0.3333333333333333,\"#9c179e\"],[0.4444444444444444,\"#bd3786\"],[0.5555555555555556,\"#d8576b\"],[0.6666666666666666,\"#ed7953\"],[0.7777777777777778,\"#fb9f3a\"],[0.8888888888888888,\"#fdca26\"],[1.0,\"#f0f921\"]]}],\"surface\":[{\"type\":\"surface\",\"colorbar\":{\"outlinewidth\":0,\"ticks\":\"\"},\"colorscale\":[[0.0,\"#0d0887\"],[0.1111111111111111,\"#46039f\"],[0.2222222222222222,\"#7201a8\"],[0.3333333333333333,\"#9c179e\"],[0.4444444444444444,\"#bd3786\"],[0.5555555555555556,\"#d8576b\"],[0.6666666666666666,\"#ed7953\"],[0.7777777777777778,\"#fb9f3a\"],[0.8888888888888888,\"#fdca26\"],[1.0,\"#f0f921\"]]}],\"mesh3d\":[{\"type\":\"mesh3d\",\"colorbar\":{\"outlinewidth\":0,\"ticks\":\"\"}}],\"scatter\":[{\"fillpattern\":{\"fillmode\":\"overlay\",\"size\":10,\"solidity\":0.2},\"type\":\"scatter\"}],\"parcoords\":[{\"type\":\"parcoords\",\"line\":{\"colorbar\":{\"outlinewidth\":0,\"ticks\":\"\"}}}],\"scatterpolargl\":[{\"type\":\"scatterpolargl\",\"marker\":{\"colorbar\":{\"outlinewidth\":0,\"ticks\":\"\"}}}],\"bar\":[{\"error_x\":{\"color\":\"#2a3f5f\"},\"error_y\":{\"color\":\"#2a3f5f\"},\"marker\":{\"line\":{\"color\":\"#E5ECF6\",\"width\":0.5},\"pattern\":{\"fillmode\":\"overlay\",\"size\":10,\"solidity\":0.2}},\"type\":\"bar\"}],\"scattergeo\":[{\"type\":\"scattergeo\",\"marker\":{\"colorbar\":{\"outlinewidth\":0,\"ticks\":\"\"}}}],\"scatterpolar\":[{\"type\":\"scatterpolar\",\"marker\":{\"colorbar\":{\"outlinewidth\":0,\"ticks\":\"\"}}}],\"histogram\":[{\"marker\":{\"pattern\":{\"fillmode\":\"overlay\",\"size\":10,\"solidity\":0.2}},\"type\":\"histogram\"}],\"scattergl\":[{\"type\":\"scattergl\",\"marker\":{\"colorbar\":{\"outlinewidth\":0,\"ticks\":\"\"}}}],\"scatter3d\":[{\"type\":\"scatter3d\",\"line\":{\"colorbar\":{\"outlinewidth\":0,\"ticks\":\"\"}},\"marker\":{\"colorbar\":{\"outlinewidth\":0,\"ticks\":\"\"}}}],\"scattermapbox\":[{\"type\":\"scattermapbox\",\"marker\":{\"colorbar\":{\"outlinewidth\":0,\"ticks\":\"\"}}}],\"scatterternary\":[{\"type\":\"scatterternary\",\"marker\":{\"colorbar\":{\"outlinewidth\":0,\"ticks\":\"\"}}}],\"scattercarpet\":[{\"type\":\"scattercarpet\",\"marker\":{\"colorbar\":{\"outlinewidth\":0,\"ticks\":\"\"}}}],\"carpet\":[{\"aaxis\":{\"endlinecolor\":\"#2a3f5f\",\"gridcolor\":\"white\",\"linecolor\":\"white\",\"minorgridcolor\":\"white\",\"startlinecolor\":\"#2a3f5f\"},\"baxis\":{\"endlinecolor\":\"#2a3f5f\",\"gridcolor\":\"white\",\"linecolor\":\"white\",\"minorgridcolor\":\"white\",\"startlinecolor\":\"#2a3f5f\"},\"type\":\"carpet\"}],\"table\":[{\"cells\":{\"fill\":{\"color\":\"#EBF0F8\"},\"line\":{\"color\":\"white\"}},\"header\":{\"fill\":{\"color\":\"#C8D4E3\"},\"line\":{\"color\":\"white\"}},\"type\":\"table\"}],\"barpolar\":[{\"marker\":{\"line\":{\"color\":\"#E5ECF6\",\"width\":0.5},\"pattern\":{\"fillmode\":\"overlay\",\"size\":10,\"solidity\":0.2}},\"type\":\"barpolar\"}],\"pie\":[{\"automargin\":true,\"type\":\"pie\"}]},\"layout\":{\"autotypenumbers\":\"strict\",\"colorway\":[\"#636efa\",\"#EF553B\",\"#00cc96\",\"#ab63fa\",\"#FFA15A\",\"#19d3f3\",\"#FF6692\",\"#B6E880\",\"#FF97FF\",\"#FECB52\"],\"font\":{\"color\":\"#2a3f5f\"},\"hovermode\":\"closest\",\"hoverlabel\":{\"align\":\"left\"},\"paper_bgcolor\":\"white\",\"plot_bgcolor\":\"#E5ECF6\",\"polar\":{\"bgcolor\":\"#E5ECF6\",\"angularaxis\":{\"gridcolor\":\"white\",\"linecolor\":\"white\",\"ticks\":\"\"},\"radialaxis\":{\"gridcolor\":\"white\",\"linecolor\":\"white\",\"ticks\":\"\"}},\"ternary\":{\"bgcolor\":\"#E5ECF6\",\"aaxis\":{\"gridcolor\":\"white\",\"linecolor\":\"white\",\"ticks\":\"\"},\"baxis\":{\"gridcolor\":\"white\",\"linecolor\":\"white\",\"ticks\":\"\"},\"caxis\":{\"gridcolor\":\"white\",\"linecolor\":\"white\",\"ticks\":\"\"}},\"coloraxis\":{\"colorbar\":{\"outlinewidth\":0,\"ticks\":\"\"}},\"colorscale\":{\"sequential\":[[0.0,\"#0d0887\"],[0.1111111111111111,\"#46039f\"],[0.2222222222222222,\"#7201a8\"],[0.3333333333333333,\"#9c179e\"],[0.4444444444444444,\"#bd3786\"],[0.5555555555555556,\"#d8576b\"],[0.6666666666666666,\"#ed7953\"],[0.7777777777777778,\"#fb9f3a\"],[0.8888888888888888,\"#fdca26\"],[1.0,\"#f0f921\"]],\"sequentialminus\":[[0.0,\"#0d0887\"],[0.1111111111111111,\"#46039f\"],[0.2222222222222222,\"#7201a8\"],[0.3333333333333333,\"#9c179e\"],[0.4444444444444444,\"#bd3786\"],[0.5555555555555556,\"#d8576b\"],[0.6666666666666666,\"#ed7953\"],[0.7777777777777778,\"#fb9f3a\"],[0.8888888888888888,\"#fdca26\"],[1.0,\"#f0f921\"]],\"diverging\":[[0,\"#8e0152\"],[0.1,\"#c51b7d\"],[0.2,\"#de77ae\"],[0.3,\"#f1b6da\"],[0.4,\"#fde0ef\"],[0.5,\"#f7f7f7\"],[0.6,\"#e6f5d0\"],[0.7,\"#b8e186\"],[0.8,\"#7fbc41\"],[0.9,\"#4d9221\"],[1,\"#276419\"]]},\"xaxis\":{\"gridcolor\":\"white\",\"linecolor\":\"white\",\"ticks\":\"\",\"title\":{\"standoff\":15},\"zerolinecolor\":\"white\",\"automargin\":true,\"zerolinewidth\":2},\"yaxis\":{\"gridcolor\":\"white\",\"linecolor\":\"white\",\"ticks\":\"\",\"title\":{\"standoff\":15},\"zerolinecolor\":\"white\",\"automargin\":true,\"zerolinewidth\":2},\"scene\":{\"xaxis\":{\"backgroundcolor\":\"#E5ECF6\",\"gridcolor\":\"white\",\"linecolor\":\"white\",\"showbackground\":true,\"ticks\":\"\",\"zerolinecolor\":\"white\",\"gridwidth\":2},\"yaxis\":{\"backgroundcolor\":\"#E5ECF6\",\"gridcolor\":\"white\",\"linecolor\":\"white\",\"showbackground\":true,\"ticks\":\"\",\"zerolinecolor\":\"white\",\"gridwidth\":2},\"zaxis\":{\"backgroundcolor\":\"#E5ECF6\",\"gridcolor\":\"white\",\"linecolor\":\"white\",\"showbackground\":true,\"ticks\":\"\",\"zerolinecolor\":\"white\",\"gridwidth\":2}},\"shapedefaults\":{\"line\":{\"color\":\"#2a3f5f\"}},\"annotationdefaults\":{\"arrowcolor\":\"#2a3f5f\",\"arrowhead\":0,\"arrowwidth\":1},\"geo\":{\"bgcolor\":\"white\",\"landcolor\":\"#E5ECF6\",\"subunitcolor\":\"white\",\"showland\":true,\"showlakes\":true,\"lakecolor\":\"white\"},\"title\":{\"x\":0.05},\"mapbox\":{\"style\":\"light\"}}},\"shapes\":[{\"line\":{\"color\":\"blue\",\"width\":3.07},\"opacity\":0.6,\"path\":\"M 1.0,0.0 Q 0,0 -0.7071067811865477,-0.7071067811865475\",\"type\":\"path\"},{\"line\":{\"color\":\"red\",\"width\":2.59},\"opacity\":0.6,\"path\":\"M 1.0,0.0 Q 0,0 0.7071067811865474,-0.7071067811865477\",\"type\":\"path\"},{\"line\":{\"color\":\"blue\",\"width\":2.62},\"opacity\":0.6,\"path\":\"M 1.0,0.0 Q 0,0 0.9238795325112865,-0.3826834323650904\",\"type\":\"path\"},{\"line\":{\"color\":\"blue\",\"width\":2.8},\"opacity\":0.6,\"path\":\"M 6.123233995736766e-17,1.0 Q 0,0 -0.7071067811865475,0.7071067811865476\",\"type\":\"path\"},{\"line\":{\"color\":\"red\",\"width\":2.8},\"opacity\":0.6,\"path\":\"M 6.123233995736766e-17,1.0 Q 0,0 -0.9238795325112868,-0.38268343236508967\",\"type\":\"path\"},{\"line\":{\"color\":\"red\",\"width\":2.77},\"opacity\":0.6,\"path\":\"M 6.123233995736766e-17,1.0 Q 0,0 -0.7071067811865477,-0.7071067811865475\",\"type\":\"path\"},{\"line\":{\"color\":\"red\",\"width\":2.68},\"opacity\":0.6,\"path\":\"M -0.3826834323650897,0.9238795325112867 Q 0,0 0.38268343236509,-0.9238795325112866\",\"type\":\"path\"},{\"line\":{\"color\":\"red\",\"width\":2.77},\"opacity\":0.6,\"path\":\"M -0.7071067811865475,0.7071067811865476 Q 0,0 -0.7071067811865477,-0.7071067811865475\",\"type\":\"path\"},{\"line\":{\"color\":\"red\",\"width\":2.56},\"opacity\":0.6,\"path\":\"M -0.7071067811865477,-0.7071067811865475 Q 0,0 0.7071067811865474,-0.7071067811865477\",\"type\":\"path\"},{\"line\":{\"color\":\"blue\",\"width\":2.95},\"opacity\":0.6,\"path\":\"M -0.38268343236509034,-0.9238795325112865 Q 0,0 0.38268343236509,-0.9238795325112866\",\"type\":\"path\"}],\"xaxis\":{\"visible\":false},\"yaxis\":{\"visible\":false,\"scaleanchor\":\"x\",\"scaleratio\":1},\"margin\":{\"t\":20,\"b\":20,\"l\":20,\"r\":20},\"showlegend\":false,\"width\":600,\"height\":600,\"title\":{\"text\":\"Stage 2 Chord Diagram\"}},                        {\"responsive\": true}                    ).then(function(){\n",
       "                            \n",
       "var gd = document.getElementById('84b578d8-2998-4743-a8ee-ad06c7e73d47');\n",
       "var x = new MutationObserver(function (mutations, observer) {{\n",
       "        var display = window.getComputedStyle(gd).display;\n",
       "        if (!display || display === 'none') {{\n",
       "            console.log([gd, 'removed!']);\n",
       "            Plotly.purge(gd);\n",
       "            observer.disconnect();\n",
       "        }}\n",
       "}});\n",
       "\n",
       "// Listen for the removal of the full notebook cells\n",
       "var notebookContainer = gd.closest('#notebook-container');\n",
       "if (notebookContainer) {{\n",
       "    x.observe(notebookContainer, {childList: true});\n",
       "}}\n",
       "\n",
       "// Listen for the clearing of the current output cell\n",
       "var outputEl = gd.closest('.output');\n",
       "if (outputEl) {{\n",
       "    x.observe(outputEl, {childList: true});\n",
       "}}\n",
       "\n",
       "                        })                };                });            </script>        </div>"
      ]
     },
     "metadata": {},
     "output_type": "display_data"
    },
    {
     "name": "stderr",
     "output_type": "stream",
     "text": [
      "/tmp/ipykernel_216629/114941381.py:20: FutureWarning:\n",
      "\n",
      "Setting an item of incompatible dtype is deprecated and will raise an error in a future version of pandas. Value '-0.55' has dtype incompatible with int64, please explicitly cast to a compatible dtype first.\n",
      "\n",
      "/tmp/ipykernel_216629/114941381.py:21: FutureWarning:\n",
      "\n",
      "Setting an item of incompatible dtype is deprecated and will raise an error in a future version of pandas. Value '-0.55' has dtype incompatible with int64, please explicitly cast to a compatible dtype first.\n",
      "\n",
      "/tmp/ipykernel_216629/114941381.py:21: FutureWarning:\n",
      "\n",
      "Setting an item of incompatible dtype is deprecated and will raise an error in a future version of pandas. Value '-0.59' has dtype incompatible with int64, please explicitly cast to a compatible dtype first.\n",
      "\n",
      "/tmp/ipykernel_216629/114941381.py:20: FutureWarning:\n",
      "\n",
      "Setting an item of incompatible dtype is deprecated and will raise an error in a future version of pandas. Value '-0.51' has dtype incompatible with int64, please explicitly cast to a compatible dtype first.\n",
      "\n",
      "/tmp/ipykernel_216629/114941381.py:20: FutureWarning:\n",
      "\n",
      "Setting an item of incompatible dtype is deprecated and will raise an error in a future version of pandas. Value '-0.7' has dtype incompatible with int64, please explicitly cast to a compatible dtype first.\n",
      "\n",
      "/tmp/ipykernel_216629/114941381.py:20: FutureWarning:\n",
      "\n",
      "Setting an item of incompatible dtype is deprecated and will raise an error in a future version of pandas. Value '-0.53' has dtype incompatible with int64, please explicitly cast to a compatible dtype first.\n",
      "\n",
      "/tmp/ipykernel_216629/114941381.py:21: FutureWarning:\n",
      "\n",
      "Setting an item of incompatible dtype is deprecated and will raise an error in a future version of pandas. Value '-0.53' has dtype incompatible with int64, please explicitly cast to a compatible dtype first.\n",
      "\n"
     ]
    },
    {
     "data": {
      "application/vnd.plotly.v1+json": {
       "config": {
        "plotlyServerURL": "https://plot.ly"
       },
       "data": [
        {
         "hoverinfo": "text",
         "marker": {
          "color": "lightgrey",
          "line": {
           "color": "black",
           "width": 2
          },
          "size": 20
         },
         "mode": "markers+text",
         "text": [
          "Ser",
          "Lys",
          "Met",
          "Phe",
          "Leu",
          "Thr",
          "Val",
          "Trp",
          "Arg",
          "Gln",
          "Gly",
          "Tyr",
          "Asn",
          "Ala",
          "Tau",
          "Orn"
         ],
         "textposition": "top center",
         "type": "scatter",
         "x": [
          1,
          0.9238795325112867,
          0.7071067811865476,
          0.38268343236508984,
          6.123233995736766e-17,
          -0.3826834323650897,
          -0.7071067811865475,
          -0.9238795325112867,
          -1,
          -0.9238795325112868,
          -0.7071067811865477,
          -0.38268343236509034,
          -1.8369701987210297e-16,
          0.38268343236509,
          0.7071067811865474,
          0.9238795325112865
         ],
         "y": [
          0,
          0.3826834323650898,
          0.7071067811865475,
          0.9238795325112867,
          1,
          0.9238795325112867,
          0.7071067811865476,
          0.3826834323650899,
          1.2246467991473532e-16,
          -0.38268343236508967,
          -0.7071067811865475,
          -0.9238795325112865,
          -1,
          -0.9238795325112866,
          -0.7071067811865477,
          -0.3826834323650904
         ]
        }
       ],
       "layout": {
        "height": 600,
        "margin": {
         "b": 20,
         "l": 20,
         "r": 20,
         "t": 20
        },
        "shapes": [
         {
          "line": {
           "color": "red",
           "width": 2.6500000000000004
          },
          "opacity": 0.6,
          "path": "M 1.0,0.0 Q 0,0 6.123233995736766e-17,1.0",
          "type": "path"
         },
         {
          "line": {
           "color": "red",
           "width": 2.5300000000000002
          },
          "opacity": 0.6,
          "path": "M 6.123233995736766e-17,1.0 Q 0,0 -0.3826834323650897,0.9238795325112867",
          "type": "path"
         },
         {
          "line": {
           "color": "blue",
           "width": 3.46
          },
          "opacity": 0.6,
          "path": "M 6.123233995736766e-17,1.0 Q 0,0 -0.7071067811865475,0.7071067811865476",
          "type": "path"
         },
         {
          "line": {
           "color": "red",
           "width": 2.77
          },
          "opacity": 0.6,
          "path": "M 6.123233995736766e-17,1.0 Q 0,0 -0.7071067811865477,-0.7071067811865475",
          "type": "path"
         },
         {
          "line": {
           "color": "red",
           "width": 3.0999999999999996
          },
          "opacity": 0.6,
          "path": "M -0.7071067811865475,0.7071067811865476 Q 0,0 -0.7071067811865477,-0.7071067811865475",
          "type": "path"
         },
         {
          "line": {
           "color": "red",
           "width": 2.59
          },
          "opacity": 0.6,
          "path": "M -1.0,1.2246467991473532e-16 Q 0,0 0.7071067811865474,-0.7071067811865477",
          "type": "path"
         }
        ],
        "showlegend": false,
        "template": {
         "data": {
          "bar": [
           {
            "error_x": {
             "color": "#2a3f5f"
            },
            "error_y": {
             "color": "#2a3f5f"
            },
            "marker": {
             "line": {
              "color": "#E5ECF6",
              "width": 0.5
             },
             "pattern": {
              "fillmode": "overlay",
              "size": 10,
              "solidity": 0.2
             }
            },
            "type": "bar"
           }
          ],
          "barpolar": [
           {
            "marker": {
             "line": {
              "color": "#E5ECF6",
              "width": 0.5
             },
             "pattern": {
              "fillmode": "overlay",
              "size": 10,
              "solidity": 0.2
             }
            },
            "type": "barpolar"
           }
          ],
          "carpet": [
           {
            "aaxis": {
             "endlinecolor": "#2a3f5f",
             "gridcolor": "white",
             "linecolor": "white",
             "minorgridcolor": "white",
             "startlinecolor": "#2a3f5f"
            },
            "baxis": {
             "endlinecolor": "#2a3f5f",
             "gridcolor": "white",
             "linecolor": "white",
             "minorgridcolor": "white",
             "startlinecolor": "#2a3f5f"
            },
            "type": "carpet"
           }
          ],
          "choropleth": [
           {
            "colorbar": {
             "outlinewidth": 0,
             "ticks": ""
            },
            "type": "choropleth"
           }
          ],
          "contour": [
           {
            "colorbar": {
             "outlinewidth": 0,
             "ticks": ""
            },
            "colorscale": [
             [
              0,
              "#0d0887"
             ],
             [
              0.1111111111111111,
              "#46039f"
             ],
             [
              0.2222222222222222,
              "#7201a8"
             ],
             [
              0.3333333333333333,
              "#9c179e"
             ],
             [
              0.4444444444444444,
              "#bd3786"
             ],
             [
              0.5555555555555556,
              "#d8576b"
             ],
             [
              0.6666666666666666,
              "#ed7953"
             ],
             [
              0.7777777777777778,
              "#fb9f3a"
             ],
             [
              0.8888888888888888,
              "#fdca26"
             ],
             [
              1,
              "#f0f921"
             ]
            ],
            "type": "contour"
           }
          ],
          "contourcarpet": [
           {
            "colorbar": {
             "outlinewidth": 0,
             "ticks": ""
            },
            "type": "contourcarpet"
           }
          ],
          "heatmap": [
           {
            "colorbar": {
             "outlinewidth": 0,
             "ticks": ""
            },
            "colorscale": [
             [
              0,
              "#0d0887"
             ],
             [
              0.1111111111111111,
              "#46039f"
             ],
             [
              0.2222222222222222,
              "#7201a8"
             ],
             [
              0.3333333333333333,
              "#9c179e"
             ],
             [
              0.4444444444444444,
              "#bd3786"
             ],
             [
              0.5555555555555556,
              "#d8576b"
             ],
             [
              0.6666666666666666,
              "#ed7953"
             ],
             [
              0.7777777777777778,
              "#fb9f3a"
             ],
             [
              0.8888888888888888,
              "#fdca26"
             ],
             [
              1,
              "#f0f921"
             ]
            ],
            "type": "heatmap"
           }
          ],
          "heatmapgl": [
           {
            "colorbar": {
             "outlinewidth": 0,
             "ticks": ""
            },
            "colorscale": [
             [
              0,
              "#0d0887"
             ],
             [
              0.1111111111111111,
              "#46039f"
             ],
             [
              0.2222222222222222,
              "#7201a8"
             ],
             [
              0.3333333333333333,
              "#9c179e"
             ],
             [
              0.4444444444444444,
              "#bd3786"
             ],
             [
              0.5555555555555556,
              "#d8576b"
             ],
             [
              0.6666666666666666,
              "#ed7953"
             ],
             [
              0.7777777777777778,
              "#fb9f3a"
             ],
             [
              0.8888888888888888,
              "#fdca26"
             ],
             [
              1,
              "#f0f921"
             ]
            ],
            "type": "heatmapgl"
           }
          ],
          "histogram": [
           {
            "marker": {
             "pattern": {
              "fillmode": "overlay",
              "size": 10,
              "solidity": 0.2
             }
            },
            "type": "histogram"
           }
          ],
          "histogram2d": [
           {
            "colorbar": {
             "outlinewidth": 0,
             "ticks": ""
            },
            "colorscale": [
             [
              0,
              "#0d0887"
             ],
             [
              0.1111111111111111,
              "#46039f"
             ],
             [
              0.2222222222222222,
              "#7201a8"
             ],
             [
              0.3333333333333333,
              "#9c179e"
             ],
             [
              0.4444444444444444,
              "#bd3786"
             ],
             [
              0.5555555555555556,
              "#d8576b"
             ],
             [
              0.6666666666666666,
              "#ed7953"
             ],
             [
              0.7777777777777778,
              "#fb9f3a"
             ],
             [
              0.8888888888888888,
              "#fdca26"
             ],
             [
              1,
              "#f0f921"
             ]
            ],
            "type": "histogram2d"
           }
          ],
          "histogram2dcontour": [
           {
            "colorbar": {
             "outlinewidth": 0,
             "ticks": ""
            },
            "colorscale": [
             [
              0,
              "#0d0887"
             ],
             [
              0.1111111111111111,
              "#46039f"
             ],
             [
              0.2222222222222222,
              "#7201a8"
             ],
             [
              0.3333333333333333,
              "#9c179e"
             ],
             [
              0.4444444444444444,
              "#bd3786"
             ],
             [
              0.5555555555555556,
              "#d8576b"
             ],
             [
              0.6666666666666666,
              "#ed7953"
             ],
             [
              0.7777777777777778,
              "#fb9f3a"
             ],
             [
              0.8888888888888888,
              "#fdca26"
             ],
             [
              1,
              "#f0f921"
             ]
            ],
            "type": "histogram2dcontour"
           }
          ],
          "mesh3d": [
           {
            "colorbar": {
             "outlinewidth": 0,
             "ticks": ""
            },
            "type": "mesh3d"
           }
          ],
          "parcoords": [
           {
            "line": {
             "colorbar": {
              "outlinewidth": 0,
              "ticks": ""
             }
            },
            "type": "parcoords"
           }
          ],
          "pie": [
           {
            "automargin": true,
            "type": "pie"
           }
          ],
          "scatter": [
           {
            "fillpattern": {
             "fillmode": "overlay",
             "size": 10,
             "solidity": 0.2
            },
            "type": "scatter"
           }
          ],
          "scatter3d": [
           {
            "line": {
             "colorbar": {
              "outlinewidth": 0,
              "ticks": ""
             }
            },
            "marker": {
             "colorbar": {
              "outlinewidth": 0,
              "ticks": ""
             }
            },
            "type": "scatter3d"
           }
          ],
          "scattercarpet": [
           {
            "marker": {
             "colorbar": {
              "outlinewidth": 0,
              "ticks": ""
             }
            },
            "type": "scattercarpet"
           }
          ],
          "scattergeo": [
           {
            "marker": {
             "colorbar": {
              "outlinewidth": 0,
              "ticks": ""
             }
            },
            "type": "scattergeo"
           }
          ],
          "scattergl": [
           {
            "marker": {
             "colorbar": {
              "outlinewidth": 0,
              "ticks": ""
             }
            },
            "type": "scattergl"
           }
          ],
          "scattermapbox": [
           {
            "marker": {
             "colorbar": {
              "outlinewidth": 0,
              "ticks": ""
             }
            },
            "type": "scattermapbox"
           }
          ],
          "scatterpolar": [
           {
            "marker": {
             "colorbar": {
              "outlinewidth": 0,
              "ticks": ""
             }
            },
            "type": "scatterpolar"
           }
          ],
          "scatterpolargl": [
           {
            "marker": {
             "colorbar": {
              "outlinewidth": 0,
              "ticks": ""
             }
            },
            "type": "scatterpolargl"
           }
          ],
          "scatterternary": [
           {
            "marker": {
             "colorbar": {
              "outlinewidth": 0,
              "ticks": ""
             }
            },
            "type": "scatterternary"
           }
          ],
          "surface": [
           {
            "colorbar": {
             "outlinewidth": 0,
             "ticks": ""
            },
            "colorscale": [
             [
              0,
              "#0d0887"
             ],
             [
              0.1111111111111111,
              "#46039f"
             ],
             [
              0.2222222222222222,
              "#7201a8"
             ],
             [
              0.3333333333333333,
              "#9c179e"
             ],
             [
              0.4444444444444444,
              "#bd3786"
             ],
             [
              0.5555555555555556,
              "#d8576b"
             ],
             [
              0.6666666666666666,
              "#ed7953"
             ],
             [
              0.7777777777777778,
              "#fb9f3a"
             ],
             [
              0.8888888888888888,
              "#fdca26"
             ],
             [
              1,
              "#f0f921"
             ]
            ],
            "type": "surface"
           }
          ],
          "table": [
           {
            "cells": {
             "fill": {
              "color": "#EBF0F8"
             },
             "line": {
              "color": "white"
             }
            },
            "header": {
             "fill": {
              "color": "#C8D4E3"
             },
             "line": {
              "color": "white"
             }
            },
            "type": "table"
           }
          ]
         },
         "layout": {
          "annotationdefaults": {
           "arrowcolor": "#2a3f5f",
           "arrowhead": 0,
           "arrowwidth": 1
          },
          "autotypenumbers": "strict",
          "coloraxis": {
           "colorbar": {
            "outlinewidth": 0,
            "ticks": ""
           }
          },
          "colorscale": {
           "diverging": [
            [
             0,
             "#8e0152"
            ],
            [
             0.1,
             "#c51b7d"
            ],
            [
             0.2,
             "#de77ae"
            ],
            [
             0.3,
             "#f1b6da"
            ],
            [
             0.4,
             "#fde0ef"
            ],
            [
             0.5,
             "#f7f7f7"
            ],
            [
             0.6,
             "#e6f5d0"
            ],
            [
             0.7,
             "#b8e186"
            ],
            [
             0.8,
             "#7fbc41"
            ],
            [
             0.9,
             "#4d9221"
            ],
            [
             1,
             "#276419"
            ]
           ],
           "sequential": [
            [
             0,
             "#0d0887"
            ],
            [
             0.1111111111111111,
             "#46039f"
            ],
            [
             0.2222222222222222,
             "#7201a8"
            ],
            [
             0.3333333333333333,
             "#9c179e"
            ],
            [
             0.4444444444444444,
             "#bd3786"
            ],
            [
             0.5555555555555556,
             "#d8576b"
            ],
            [
             0.6666666666666666,
             "#ed7953"
            ],
            [
             0.7777777777777778,
             "#fb9f3a"
            ],
            [
             0.8888888888888888,
             "#fdca26"
            ],
            [
             1,
             "#f0f921"
            ]
           ],
           "sequentialminus": [
            [
             0,
             "#0d0887"
            ],
            [
             0.1111111111111111,
             "#46039f"
            ],
            [
             0.2222222222222222,
             "#7201a8"
            ],
            [
             0.3333333333333333,
             "#9c179e"
            ],
            [
             0.4444444444444444,
             "#bd3786"
            ],
            [
             0.5555555555555556,
             "#d8576b"
            ],
            [
             0.6666666666666666,
             "#ed7953"
            ],
            [
             0.7777777777777778,
             "#fb9f3a"
            ],
            [
             0.8888888888888888,
             "#fdca26"
            ],
            [
             1,
             "#f0f921"
            ]
           ]
          },
          "colorway": [
           "#636efa",
           "#EF553B",
           "#00cc96",
           "#ab63fa",
           "#FFA15A",
           "#19d3f3",
           "#FF6692",
           "#B6E880",
           "#FF97FF",
           "#FECB52"
          ],
          "font": {
           "color": "#2a3f5f"
          },
          "geo": {
           "bgcolor": "white",
           "lakecolor": "white",
           "landcolor": "#E5ECF6",
           "showlakes": true,
           "showland": true,
           "subunitcolor": "white"
          },
          "hoverlabel": {
           "align": "left"
          },
          "hovermode": "closest",
          "mapbox": {
           "style": "light"
          },
          "paper_bgcolor": "white",
          "plot_bgcolor": "#E5ECF6",
          "polar": {
           "angularaxis": {
            "gridcolor": "white",
            "linecolor": "white",
            "ticks": ""
           },
           "bgcolor": "#E5ECF6",
           "radialaxis": {
            "gridcolor": "white",
            "linecolor": "white",
            "ticks": ""
           }
          },
          "scene": {
           "xaxis": {
            "backgroundcolor": "#E5ECF6",
            "gridcolor": "white",
            "gridwidth": 2,
            "linecolor": "white",
            "showbackground": true,
            "ticks": "",
            "zerolinecolor": "white"
           },
           "yaxis": {
            "backgroundcolor": "#E5ECF6",
            "gridcolor": "white",
            "gridwidth": 2,
            "linecolor": "white",
            "showbackground": true,
            "ticks": "",
            "zerolinecolor": "white"
           },
           "zaxis": {
            "backgroundcolor": "#E5ECF6",
            "gridcolor": "white",
            "gridwidth": 2,
            "linecolor": "white",
            "showbackground": true,
            "ticks": "",
            "zerolinecolor": "white"
           }
          },
          "shapedefaults": {
           "line": {
            "color": "#2a3f5f"
           }
          },
          "ternary": {
           "aaxis": {
            "gridcolor": "white",
            "linecolor": "white",
            "ticks": ""
           },
           "baxis": {
            "gridcolor": "white",
            "linecolor": "white",
            "ticks": ""
           },
           "bgcolor": "#E5ECF6",
           "caxis": {
            "gridcolor": "white",
            "linecolor": "white",
            "ticks": ""
           }
          },
          "title": {
           "x": 0.05
          },
          "xaxis": {
           "automargin": true,
           "gridcolor": "white",
           "linecolor": "white",
           "ticks": "",
           "title": {
            "standoff": 15
           },
           "zerolinecolor": "white",
           "zerolinewidth": 2
          },
          "yaxis": {
           "automargin": true,
           "gridcolor": "white",
           "linecolor": "white",
           "ticks": "",
           "title": {
            "standoff": 15
           },
           "zerolinecolor": "white",
           "zerolinewidth": 2
          }
         }
        },
        "title": {
         "text": "Stage 3 Chord Diagram"
        },
        "width": 600,
        "xaxis": {
         "visible": false
        },
        "yaxis": {
         "scaleanchor": "x",
         "scaleratio": 1,
         "visible": false
        }
       }
      },
      "text/html": [
       "<div>                            <div id=\"4211150a-1926-49e3-8271-13f80c402ff6\" class=\"plotly-graph-div\" style=\"height:600px; width:600px;\"></div>            <script type=\"text/javascript\">                require([\"plotly\"], function(Plotly) {                    window.PLOTLYENV=window.PLOTLYENV || {};                                    if (document.getElementById(\"4211150a-1926-49e3-8271-13f80c402ff6\")) {                    Plotly.newPlot(                        \"4211150a-1926-49e3-8271-13f80c402ff6\",                        [{\"hoverinfo\":\"text\",\"marker\":{\"color\":\"lightgrey\",\"line\":{\"color\":\"black\",\"width\":2},\"size\":20},\"mode\":\"markers+text\",\"text\":[\"Ser\",\"Lys\",\"Met\",\"Phe\",\"Leu\",\"Thr\",\"Val\",\"Trp\",\"Arg\",\"Gln\",\"Gly\",\"Tyr\",\"Asn\",\"Ala\",\"Tau\",\"Orn\"],\"textposition\":\"top center\",\"x\":[1.0,0.9238795325112867,0.7071067811865476,0.38268343236508984,6.123233995736766e-17,-0.3826834323650897,-0.7071067811865475,-0.9238795325112867,-1.0,-0.9238795325112868,-0.7071067811865477,-0.38268343236509034,-1.8369701987210297e-16,0.38268343236509,0.7071067811865474,0.9238795325112865],\"y\":[0.0,0.3826834323650898,0.7071067811865475,0.9238795325112867,1.0,0.9238795325112867,0.7071067811865476,0.3826834323650899,1.2246467991473532e-16,-0.38268343236508967,-0.7071067811865475,-0.9238795325112865,-1.0,-0.9238795325112866,-0.7071067811865477,-0.3826834323650904],\"type\":\"scatter\"}],                        {\"template\":{\"data\":{\"histogram2dcontour\":[{\"type\":\"histogram2dcontour\",\"colorbar\":{\"outlinewidth\":0,\"ticks\":\"\"},\"colorscale\":[[0.0,\"#0d0887\"],[0.1111111111111111,\"#46039f\"],[0.2222222222222222,\"#7201a8\"],[0.3333333333333333,\"#9c179e\"],[0.4444444444444444,\"#bd3786\"],[0.5555555555555556,\"#d8576b\"],[0.6666666666666666,\"#ed7953\"],[0.7777777777777778,\"#fb9f3a\"],[0.8888888888888888,\"#fdca26\"],[1.0,\"#f0f921\"]]}],\"choropleth\":[{\"type\":\"choropleth\",\"colorbar\":{\"outlinewidth\":0,\"ticks\":\"\"}}],\"histogram2d\":[{\"type\":\"histogram2d\",\"colorbar\":{\"outlinewidth\":0,\"ticks\":\"\"},\"colorscale\":[[0.0,\"#0d0887\"],[0.1111111111111111,\"#46039f\"],[0.2222222222222222,\"#7201a8\"],[0.3333333333333333,\"#9c179e\"],[0.4444444444444444,\"#bd3786\"],[0.5555555555555556,\"#d8576b\"],[0.6666666666666666,\"#ed7953\"],[0.7777777777777778,\"#fb9f3a\"],[0.8888888888888888,\"#fdca26\"],[1.0,\"#f0f921\"]]}],\"heatmap\":[{\"type\":\"heatmap\",\"colorbar\":{\"outlinewidth\":0,\"ticks\":\"\"},\"colorscale\":[[0.0,\"#0d0887\"],[0.1111111111111111,\"#46039f\"],[0.2222222222222222,\"#7201a8\"],[0.3333333333333333,\"#9c179e\"],[0.4444444444444444,\"#bd3786\"],[0.5555555555555556,\"#d8576b\"],[0.6666666666666666,\"#ed7953\"],[0.7777777777777778,\"#fb9f3a\"],[0.8888888888888888,\"#fdca26\"],[1.0,\"#f0f921\"]]}],\"heatmapgl\":[{\"type\":\"heatmapgl\",\"colorbar\":{\"outlinewidth\":0,\"ticks\":\"\"},\"colorscale\":[[0.0,\"#0d0887\"],[0.1111111111111111,\"#46039f\"],[0.2222222222222222,\"#7201a8\"],[0.3333333333333333,\"#9c179e\"],[0.4444444444444444,\"#bd3786\"],[0.5555555555555556,\"#d8576b\"],[0.6666666666666666,\"#ed7953\"],[0.7777777777777778,\"#fb9f3a\"],[0.8888888888888888,\"#fdca26\"],[1.0,\"#f0f921\"]]}],\"contourcarpet\":[{\"type\":\"contourcarpet\",\"colorbar\":{\"outlinewidth\":0,\"ticks\":\"\"}}],\"contour\":[{\"type\":\"contour\",\"colorbar\":{\"outlinewidth\":0,\"ticks\":\"\"},\"colorscale\":[[0.0,\"#0d0887\"],[0.1111111111111111,\"#46039f\"],[0.2222222222222222,\"#7201a8\"],[0.3333333333333333,\"#9c179e\"],[0.4444444444444444,\"#bd3786\"],[0.5555555555555556,\"#d8576b\"],[0.6666666666666666,\"#ed7953\"],[0.7777777777777778,\"#fb9f3a\"],[0.8888888888888888,\"#fdca26\"],[1.0,\"#f0f921\"]]}],\"surface\":[{\"type\":\"surface\",\"colorbar\":{\"outlinewidth\":0,\"ticks\":\"\"},\"colorscale\":[[0.0,\"#0d0887\"],[0.1111111111111111,\"#46039f\"],[0.2222222222222222,\"#7201a8\"],[0.3333333333333333,\"#9c179e\"],[0.4444444444444444,\"#bd3786\"],[0.5555555555555556,\"#d8576b\"],[0.6666666666666666,\"#ed7953\"],[0.7777777777777778,\"#fb9f3a\"],[0.8888888888888888,\"#fdca26\"],[1.0,\"#f0f921\"]]}],\"mesh3d\":[{\"type\":\"mesh3d\",\"colorbar\":{\"outlinewidth\":0,\"ticks\":\"\"}}],\"scatter\":[{\"fillpattern\":{\"fillmode\":\"overlay\",\"size\":10,\"solidity\":0.2},\"type\":\"scatter\"}],\"parcoords\":[{\"type\":\"parcoords\",\"line\":{\"colorbar\":{\"outlinewidth\":0,\"ticks\":\"\"}}}],\"scatterpolargl\":[{\"type\":\"scatterpolargl\",\"marker\":{\"colorbar\":{\"outlinewidth\":0,\"ticks\":\"\"}}}],\"bar\":[{\"error_x\":{\"color\":\"#2a3f5f\"},\"error_y\":{\"color\":\"#2a3f5f\"},\"marker\":{\"line\":{\"color\":\"#E5ECF6\",\"width\":0.5},\"pattern\":{\"fillmode\":\"overlay\",\"size\":10,\"solidity\":0.2}},\"type\":\"bar\"}],\"scattergeo\":[{\"type\":\"scattergeo\",\"marker\":{\"colorbar\":{\"outlinewidth\":0,\"ticks\":\"\"}}}],\"scatterpolar\":[{\"type\":\"scatterpolar\",\"marker\":{\"colorbar\":{\"outlinewidth\":0,\"ticks\":\"\"}}}],\"histogram\":[{\"marker\":{\"pattern\":{\"fillmode\":\"overlay\",\"size\":10,\"solidity\":0.2}},\"type\":\"histogram\"}],\"scattergl\":[{\"type\":\"scattergl\",\"marker\":{\"colorbar\":{\"outlinewidth\":0,\"ticks\":\"\"}}}],\"scatter3d\":[{\"type\":\"scatter3d\",\"line\":{\"colorbar\":{\"outlinewidth\":0,\"ticks\":\"\"}},\"marker\":{\"colorbar\":{\"outlinewidth\":0,\"ticks\":\"\"}}}],\"scattermapbox\":[{\"type\":\"scattermapbox\",\"marker\":{\"colorbar\":{\"outlinewidth\":0,\"ticks\":\"\"}}}],\"scatterternary\":[{\"type\":\"scatterternary\",\"marker\":{\"colorbar\":{\"outlinewidth\":0,\"ticks\":\"\"}}}],\"scattercarpet\":[{\"type\":\"scattercarpet\",\"marker\":{\"colorbar\":{\"outlinewidth\":0,\"ticks\":\"\"}}}],\"carpet\":[{\"aaxis\":{\"endlinecolor\":\"#2a3f5f\",\"gridcolor\":\"white\",\"linecolor\":\"white\",\"minorgridcolor\":\"white\",\"startlinecolor\":\"#2a3f5f\"},\"baxis\":{\"endlinecolor\":\"#2a3f5f\",\"gridcolor\":\"white\",\"linecolor\":\"white\",\"minorgridcolor\":\"white\",\"startlinecolor\":\"#2a3f5f\"},\"type\":\"carpet\"}],\"table\":[{\"cells\":{\"fill\":{\"color\":\"#EBF0F8\"},\"line\":{\"color\":\"white\"}},\"header\":{\"fill\":{\"color\":\"#C8D4E3\"},\"line\":{\"color\":\"white\"}},\"type\":\"table\"}],\"barpolar\":[{\"marker\":{\"line\":{\"color\":\"#E5ECF6\",\"width\":0.5},\"pattern\":{\"fillmode\":\"overlay\",\"size\":10,\"solidity\":0.2}},\"type\":\"barpolar\"}],\"pie\":[{\"automargin\":true,\"type\":\"pie\"}]},\"layout\":{\"autotypenumbers\":\"strict\",\"colorway\":[\"#636efa\",\"#EF553B\",\"#00cc96\",\"#ab63fa\",\"#FFA15A\",\"#19d3f3\",\"#FF6692\",\"#B6E880\",\"#FF97FF\",\"#FECB52\"],\"font\":{\"color\":\"#2a3f5f\"},\"hovermode\":\"closest\",\"hoverlabel\":{\"align\":\"left\"},\"paper_bgcolor\":\"white\",\"plot_bgcolor\":\"#E5ECF6\",\"polar\":{\"bgcolor\":\"#E5ECF6\",\"angularaxis\":{\"gridcolor\":\"white\",\"linecolor\":\"white\",\"ticks\":\"\"},\"radialaxis\":{\"gridcolor\":\"white\",\"linecolor\":\"white\",\"ticks\":\"\"}},\"ternary\":{\"bgcolor\":\"#E5ECF6\",\"aaxis\":{\"gridcolor\":\"white\",\"linecolor\":\"white\",\"ticks\":\"\"},\"baxis\":{\"gridcolor\":\"white\",\"linecolor\":\"white\",\"ticks\":\"\"},\"caxis\":{\"gridcolor\":\"white\",\"linecolor\":\"white\",\"ticks\":\"\"}},\"coloraxis\":{\"colorbar\":{\"outlinewidth\":0,\"ticks\":\"\"}},\"colorscale\":{\"sequential\":[[0.0,\"#0d0887\"],[0.1111111111111111,\"#46039f\"],[0.2222222222222222,\"#7201a8\"],[0.3333333333333333,\"#9c179e\"],[0.4444444444444444,\"#bd3786\"],[0.5555555555555556,\"#d8576b\"],[0.6666666666666666,\"#ed7953\"],[0.7777777777777778,\"#fb9f3a\"],[0.8888888888888888,\"#fdca26\"],[1.0,\"#f0f921\"]],\"sequentialminus\":[[0.0,\"#0d0887\"],[0.1111111111111111,\"#46039f\"],[0.2222222222222222,\"#7201a8\"],[0.3333333333333333,\"#9c179e\"],[0.4444444444444444,\"#bd3786\"],[0.5555555555555556,\"#d8576b\"],[0.6666666666666666,\"#ed7953\"],[0.7777777777777778,\"#fb9f3a\"],[0.8888888888888888,\"#fdca26\"],[1.0,\"#f0f921\"]],\"diverging\":[[0,\"#8e0152\"],[0.1,\"#c51b7d\"],[0.2,\"#de77ae\"],[0.3,\"#f1b6da\"],[0.4,\"#fde0ef\"],[0.5,\"#f7f7f7\"],[0.6,\"#e6f5d0\"],[0.7,\"#b8e186\"],[0.8,\"#7fbc41\"],[0.9,\"#4d9221\"],[1,\"#276419\"]]},\"xaxis\":{\"gridcolor\":\"white\",\"linecolor\":\"white\",\"ticks\":\"\",\"title\":{\"standoff\":15},\"zerolinecolor\":\"white\",\"automargin\":true,\"zerolinewidth\":2},\"yaxis\":{\"gridcolor\":\"white\",\"linecolor\":\"white\",\"ticks\":\"\",\"title\":{\"standoff\":15},\"zerolinecolor\":\"white\",\"automargin\":true,\"zerolinewidth\":2},\"scene\":{\"xaxis\":{\"backgroundcolor\":\"#E5ECF6\",\"gridcolor\":\"white\",\"linecolor\":\"white\",\"showbackground\":true,\"ticks\":\"\",\"zerolinecolor\":\"white\",\"gridwidth\":2},\"yaxis\":{\"backgroundcolor\":\"#E5ECF6\",\"gridcolor\":\"white\",\"linecolor\":\"white\",\"showbackground\":true,\"ticks\":\"\",\"zerolinecolor\":\"white\",\"gridwidth\":2},\"zaxis\":{\"backgroundcolor\":\"#E5ECF6\",\"gridcolor\":\"white\",\"linecolor\":\"white\",\"showbackground\":true,\"ticks\":\"\",\"zerolinecolor\":\"white\",\"gridwidth\":2}},\"shapedefaults\":{\"line\":{\"color\":\"#2a3f5f\"}},\"annotationdefaults\":{\"arrowcolor\":\"#2a3f5f\",\"arrowhead\":0,\"arrowwidth\":1},\"geo\":{\"bgcolor\":\"white\",\"landcolor\":\"#E5ECF6\",\"subunitcolor\":\"white\",\"showland\":true,\"showlakes\":true,\"lakecolor\":\"white\"},\"title\":{\"x\":0.05},\"mapbox\":{\"style\":\"light\"}}},\"shapes\":[{\"line\":{\"color\":\"red\",\"width\":2.6500000000000004},\"opacity\":0.6,\"path\":\"M 1.0,0.0 Q 0,0 6.123233995736766e-17,1.0\",\"type\":\"path\"},{\"line\":{\"color\":\"red\",\"width\":2.5300000000000002},\"opacity\":0.6,\"path\":\"M 6.123233995736766e-17,1.0 Q 0,0 -0.3826834323650897,0.9238795325112867\",\"type\":\"path\"},{\"line\":{\"color\":\"blue\",\"width\":3.46},\"opacity\":0.6,\"path\":\"M 6.123233995736766e-17,1.0 Q 0,0 -0.7071067811865475,0.7071067811865476\",\"type\":\"path\"},{\"line\":{\"color\":\"red\",\"width\":2.77},\"opacity\":0.6,\"path\":\"M 6.123233995736766e-17,1.0 Q 0,0 -0.7071067811865477,-0.7071067811865475\",\"type\":\"path\"},{\"line\":{\"color\":\"red\",\"width\":3.0999999999999996},\"opacity\":0.6,\"path\":\"M -0.7071067811865475,0.7071067811865476 Q 0,0 -0.7071067811865477,-0.7071067811865475\",\"type\":\"path\"},{\"line\":{\"color\":\"red\",\"width\":2.59},\"opacity\":0.6,\"path\":\"M -1.0,1.2246467991473532e-16 Q 0,0 0.7071067811865474,-0.7071067811865477\",\"type\":\"path\"}],\"xaxis\":{\"visible\":false},\"yaxis\":{\"visible\":false,\"scaleanchor\":\"x\",\"scaleratio\":1},\"margin\":{\"t\":20,\"b\":20,\"l\":20,\"r\":20},\"showlegend\":false,\"width\":600,\"height\":600,\"title\":{\"text\":\"Stage 3 Chord Diagram\"}},                        {\"responsive\": true}                    ).then(function(){\n",
       "                            \n",
       "var gd = document.getElementById('4211150a-1926-49e3-8271-13f80c402ff6');\n",
       "var x = new MutationObserver(function (mutations, observer) {{\n",
       "        var display = window.getComputedStyle(gd).display;\n",
       "        if (!display || display === 'none') {{\n",
       "            console.log([gd, 'removed!']);\n",
       "            Plotly.purge(gd);\n",
       "            observer.disconnect();\n",
       "        }}\n",
       "}});\n",
       "\n",
       "// Listen for the removal of the full notebook cells\n",
       "var notebookContainer = gd.closest('#notebook-container');\n",
       "if (notebookContainer) {{\n",
       "    x.observe(notebookContainer, {childList: true});\n",
       "}}\n",
       "\n",
       "// Listen for the clearing of the current output cell\n",
       "var outputEl = gd.closest('.output');\n",
       "if (outputEl) {{\n",
       "    x.observe(outputEl, {childList: true});\n",
       "}}\n",
       "\n",
       "                        })                };                });            </script>        </div>"
      ]
     },
     "metadata": {},
     "output_type": "display_data"
    },
    {
     "name": "stderr",
     "output_type": "stream",
     "text": [
      "/tmp/ipykernel_216629/114941381.py:20: FutureWarning:\n",
      "\n",
      "Setting an item of incompatible dtype is deprecated and will raise an error in a future version of pandas. Value '0.71' has dtype incompatible with int64, please explicitly cast to a compatible dtype first.\n",
      "\n",
      "/tmp/ipykernel_216629/114941381.py:21: FutureWarning:\n",
      "\n",
      "Setting an item of incompatible dtype is deprecated and will raise an error in a future version of pandas. Value '0.71' has dtype incompatible with int64, please explicitly cast to a compatible dtype first.\n",
      "\n",
      "/tmp/ipykernel_216629/114941381.py:21: FutureWarning:\n",
      "\n",
      "Setting an item of incompatible dtype is deprecated and will raise an error in a future version of pandas. Value '-0.8' has dtype incompatible with int64, please explicitly cast to a compatible dtype first.\n",
      "\n",
      "/tmp/ipykernel_216629/114941381.py:20: FutureWarning:\n",
      "\n",
      "Setting an item of incompatible dtype is deprecated and will raise an error in a future version of pandas. Value '-0.58' has dtype incompatible with int64, please explicitly cast to a compatible dtype first.\n",
      "\n",
      "/tmp/ipykernel_216629/114941381.py:21: FutureWarning:\n",
      "\n",
      "Setting an item of incompatible dtype is deprecated and will raise an error in a future version of pandas. Value '-0.58' has dtype incompatible with int64, please explicitly cast to a compatible dtype first.\n",
      "\n",
      "/tmp/ipykernel_216629/114941381.py:20: FutureWarning:\n",
      "\n",
      "Setting an item of incompatible dtype is deprecated and will raise an error in a future version of pandas. Value '0.51' has dtype incompatible with int64, please explicitly cast to a compatible dtype first.\n",
      "\n"
     ]
    },
    {
     "data": {
      "application/vnd.plotly.v1+json": {
       "config": {
        "plotlyServerURL": "https://plot.ly"
       },
       "data": [
        {
         "hoverinfo": "text",
         "marker": {
          "color": "lightgrey",
          "line": {
           "color": "black",
           "width": 2
          },
          "size": 20
         },
         "mode": "markers+text",
         "text": [
          "Ser",
          "Lys",
          "Met",
          "Phe",
          "Leu",
          "Thr",
          "Val",
          "Trp",
          "Arg",
          "Gln",
          "Gly",
          "Tyr",
          "Asn",
          "Ala",
          "Tau",
          "Orn"
         ],
         "textposition": "top center",
         "type": "scatter",
         "x": [
          1,
          0.9238795325112867,
          0.7071067811865476,
          0.38268343236508984,
          6.123233995736766e-17,
          -0.3826834323650897,
          -0.7071067811865475,
          -0.9238795325112867,
          -1,
          -0.9238795325112868,
          -0.7071067811865477,
          -0.38268343236509034,
          -1.8369701987210297e-16,
          0.38268343236509,
          0.7071067811865474,
          0.9238795325112865
         ],
         "y": [
          0,
          0.3826834323650898,
          0.7071067811865475,
          0.9238795325112867,
          1,
          0.9238795325112867,
          0.7071067811865476,
          0.3826834323650899,
          1.2246467991473532e-16,
          -0.38268343236508967,
          -0.7071067811865475,
          -0.9238795325112865,
          -1,
          -0.9238795325112866,
          -0.7071067811865477,
          -0.3826834323650904
         ]
        }
       ],
       "layout": {
        "height": 600,
        "margin": {
         "b": 20,
         "l": 20,
         "r": 20,
         "t": 20
        },
        "shapes": [
         {
          "line": {
           "color": "blue",
           "width": 2.5300000000000002
          },
          "opacity": 0.6,
          "path": "M 1.0,0.0 Q 0,0 -0.7071067811865477,-0.7071067811865475",
          "type": "path"
         },
         {
          "line": {
           "color": "blue",
           "width": 3.13
          },
          "opacity": 0.6,
          "path": "M 6.123233995736766e-17,1.0 Q 0,0 -0.7071067811865475,0.7071067811865476",
          "type": "path"
         },
         {
          "line": {
           "color": "red",
           "width": 2.56
          },
          "opacity": 0.6,
          "path": "M 6.123233995736766e-17,1.0 Q 0,0 -0.7071067811865477,-0.7071067811865475",
          "type": "path"
         },
         {
          "line": {
           "color": "red",
           "width": 3.4000000000000004
          },
          "opacity": 0.6,
          "path": "M -0.7071067811865475,0.7071067811865476 Q 0,0 -0.7071067811865477,-0.7071067811865475",
          "type": "path"
         },
         {
          "line": {
           "color": "red",
           "width": 2.7399999999999998
          },
          "opacity": 0.6,
          "path": "M -0.9238795325112868,-0.38268343236508967 Q 0,0 0.9238795325112865,-0.3826834323650904",
          "type": "path"
         }
        ],
        "showlegend": false,
        "template": {
         "data": {
          "bar": [
           {
            "error_x": {
             "color": "#2a3f5f"
            },
            "error_y": {
             "color": "#2a3f5f"
            },
            "marker": {
             "line": {
              "color": "#E5ECF6",
              "width": 0.5
             },
             "pattern": {
              "fillmode": "overlay",
              "size": 10,
              "solidity": 0.2
             }
            },
            "type": "bar"
           }
          ],
          "barpolar": [
           {
            "marker": {
             "line": {
              "color": "#E5ECF6",
              "width": 0.5
             },
             "pattern": {
              "fillmode": "overlay",
              "size": 10,
              "solidity": 0.2
             }
            },
            "type": "barpolar"
           }
          ],
          "carpet": [
           {
            "aaxis": {
             "endlinecolor": "#2a3f5f",
             "gridcolor": "white",
             "linecolor": "white",
             "minorgridcolor": "white",
             "startlinecolor": "#2a3f5f"
            },
            "baxis": {
             "endlinecolor": "#2a3f5f",
             "gridcolor": "white",
             "linecolor": "white",
             "minorgridcolor": "white",
             "startlinecolor": "#2a3f5f"
            },
            "type": "carpet"
           }
          ],
          "choropleth": [
           {
            "colorbar": {
             "outlinewidth": 0,
             "ticks": ""
            },
            "type": "choropleth"
           }
          ],
          "contour": [
           {
            "colorbar": {
             "outlinewidth": 0,
             "ticks": ""
            },
            "colorscale": [
             [
              0,
              "#0d0887"
             ],
             [
              0.1111111111111111,
              "#46039f"
             ],
             [
              0.2222222222222222,
              "#7201a8"
             ],
             [
              0.3333333333333333,
              "#9c179e"
             ],
             [
              0.4444444444444444,
              "#bd3786"
             ],
             [
              0.5555555555555556,
              "#d8576b"
             ],
             [
              0.6666666666666666,
              "#ed7953"
             ],
             [
              0.7777777777777778,
              "#fb9f3a"
             ],
             [
              0.8888888888888888,
              "#fdca26"
             ],
             [
              1,
              "#f0f921"
             ]
            ],
            "type": "contour"
           }
          ],
          "contourcarpet": [
           {
            "colorbar": {
             "outlinewidth": 0,
             "ticks": ""
            },
            "type": "contourcarpet"
           }
          ],
          "heatmap": [
           {
            "colorbar": {
             "outlinewidth": 0,
             "ticks": ""
            },
            "colorscale": [
             [
              0,
              "#0d0887"
             ],
             [
              0.1111111111111111,
              "#46039f"
             ],
             [
              0.2222222222222222,
              "#7201a8"
             ],
             [
              0.3333333333333333,
              "#9c179e"
             ],
             [
              0.4444444444444444,
              "#bd3786"
             ],
             [
              0.5555555555555556,
              "#d8576b"
             ],
             [
              0.6666666666666666,
              "#ed7953"
             ],
             [
              0.7777777777777778,
              "#fb9f3a"
             ],
             [
              0.8888888888888888,
              "#fdca26"
             ],
             [
              1,
              "#f0f921"
             ]
            ],
            "type": "heatmap"
           }
          ],
          "heatmapgl": [
           {
            "colorbar": {
             "outlinewidth": 0,
             "ticks": ""
            },
            "colorscale": [
             [
              0,
              "#0d0887"
             ],
             [
              0.1111111111111111,
              "#46039f"
             ],
             [
              0.2222222222222222,
              "#7201a8"
             ],
             [
              0.3333333333333333,
              "#9c179e"
             ],
             [
              0.4444444444444444,
              "#bd3786"
             ],
             [
              0.5555555555555556,
              "#d8576b"
             ],
             [
              0.6666666666666666,
              "#ed7953"
             ],
             [
              0.7777777777777778,
              "#fb9f3a"
             ],
             [
              0.8888888888888888,
              "#fdca26"
             ],
             [
              1,
              "#f0f921"
             ]
            ],
            "type": "heatmapgl"
           }
          ],
          "histogram": [
           {
            "marker": {
             "pattern": {
              "fillmode": "overlay",
              "size": 10,
              "solidity": 0.2
             }
            },
            "type": "histogram"
           }
          ],
          "histogram2d": [
           {
            "colorbar": {
             "outlinewidth": 0,
             "ticks": ""
            },
            "colorscale": [
             [
              0,
              "#0d0887"
             ],
             [
              0.1111111111111111,
              "#46039f"
             ],
             [
              0.2222222222222222,
              "#7201a8"
             ],
             [
              0.3333333333333333,
              "#9c179e"
             ],
             [
              0.4444444444444444,
              "#bd3786"
             ],
             [
              0.5555555555555556,
              "#d8576b"
             ],
             [
              0.6666666666666666,
              "#ed7953"
             ],
             [
              0.7777777777777778,
              "#fb9f3a"
             ],
             [
              0.8888888888888888,
              "#fdca26"
             ],
             [
              1,
              "#f0f921"
             ]
            ],
            "type": "histogram2d"
           }
          ],
          "histogram2dcontour": [
           {
            "colorbar": {
             "outlinewidth": 0,
             "ticks": ""
            },
            "colorscale": [
             [
              0,
              "#0d0887"
             ],
             [
              0.1111111111111111,
              "#46039f"
             ],
             [
              0.2222222222222222,
              "#7201a8"
             ],
             [
              0.3333333333333333,
              "#9c179e"
             ],
             [
              0.4444444444444444,
              "#bd3786"
             ],
             [
              0.5555555555555556,
              "#d8576b"
             ],
             [
              0.6666666666666666,
              "#ed7953"
             ],
             [
              0.7777777777777778,
              "#fb9f3a"
             ],
             [
              0.8888888888888888,
              "#fdca26"
             ],
             [
              1,
              "#f0f921"
             ]
            ],
            "type": "histogram2dcontour"
           }
          ],
          "mesh3d": [
           {
            "colorbar": {
             "outlinewidth": 0,
             "ticks": ""
            },
            "type": "mesh3d"
           }
          ],
          "parcoords": [
           {
            "line": {
             "colorbar": {
              "outlinewidth": 0,
              "ticks": ""
             }
            },
            "type": "parcoords"
           }
          ],
          "pie": [
           {
            "automargin": true,
            "type": "pie"
           }
          ],
          "scatter": [
           {
            "fillpattern": {
             "fillmode": "overlay",
             "size": 10,
             "solidity": 0.2
            },
            "type": "scatter"
           }
          ],
          "scatter3d": [
           {
            "line": {
             "colorbar": {
              "outlinewidth": 0,
              "ticks": ""
             }
            },
            "marker": {
             "colorbar": {
              "outlinewidth": 0,
              "ticks": ""
             }
            },
            "type": "scatter3d"
           }
          ],
          "scattercarpet": [
           {
            "marker": {
             "colorbar": {
              "outlinewidth": 0,
              "ticks": ""
             }
            },
            "type": "scattercarpet"
           }
          ],
          "scattergeo": [
           {
            "marker": {
             "colorbar": {
              "outlinewidth": 0,
              "ticks": ""
             }
            },
            "type": "scattergeo"
           }
          ],
          "scattergl": [
           {
            "marker": {
             "colorbar": {
              "outlinewidth": 0,
              "ticks": ""
             }
            },
            "type": "scattergl"
           }
          ],
          "scattermapbox": [
           {
            "marker": {
             "colorbar": {
              "outlinewidth": 0,
              "ticks": ""
             }
            },
            "type": "scattermapbox"
           }
          ],
          "scatterpolar": [
           {
            "marker": {
             "colorbar": {
              "outlinewidth": 0,
              "ticks": ""
             }
            },
            "type": "scatterpolar"
           }
          ],
          "scatterpolargl": [
           {
            "marker": {
             "colorbar": {
              "outlinewidth": 0,
              "ticks": ""
             }
            },
            "type": "scatterpolargl"
           }
          ],
          "scatterternary": [
           {
            "marker": {
             "colorbar": {
              "outlinewidth": 0,
              "ticks": ""
             }
            },
            "type": "scatterternary"
           }
          ],
          "surface": [
           {
            "colorbar": {
             "outlinewidth": 0,
             "ticks": ""
            },
            "colorscale": [
             [
              0,
              "#0d0887"
             ],
             [
              0.1111111111111111,
              "#46039f"
             ],
             [
              0.2222222222222222,
              "#7201a8"
             ],
             [
              0.3333333333333333,
              "#9c179e"
             ],
             [
              0.4444444444444444,
              "#bd3786"
             ],
             [
              0.5555555555555556,
              "#d8576b"
             ],
             [
              0.6666666666666666,
              "#ed7953"
             ],
             [
              0.7777777777777778,
              "#fb9f3a"
             ],
             [
              0.8888888888888888,
              "#fdca26"
             ],
             [
              1,
              "#f0f921"
             ]
            ],
            "type": "surface"
           }
          ],
          "table": [
           {
            "cells": {
             "fill": {
              "color": "#EBF0F8"
             },
             "line": {
              "color": "white"
             }
            },
            "header": {
             "fill": {
              "color": "#C8D4E3"
             },
             "line": {
              "color": "white"
             }
            },
            "type": "table"
           }
          ]
         },
         "layout": {
          "annotationdefaults": {
           "arrowcolor": "#2a3f5f",
           "arrowhead": 0,
           "arrowwidth": 1
          },
          "autotypenumbers": "strict",
          "coloraxis": {
           "colorbar": {
            "outlinewidth": 0,
            "ticks": ""
           }
          },
          "colorscale": {
           "diverging": [
            [
             0,
             "#8e0152"
            ],
            [
             0.1,
             "#c51b7d"
            ],
            [
             0.2,
             "#de77ae"
            ],
            [
             0.3,
             "#f1b6da"
            ],
            [
             0.4,
             "#fde0ef"
            ],
            [
             0.5,
             "#f7f7f7"
            ],
            [
             0.6,
             "#e6f5d0"
            ],
            [
             0.7,
             "#b8e186"
            ],
            [
             0.8,
             "#7fbc41"
            ],
            [
             0.9,
             "#4d9221"
            ],
            [
             1,
             "#276419"
            ]
           ],
           "sequential": [
            [
             0,
             "#0d0887"
            ],
            [
             0.1111111111111111,
             "#46039f"
            ],
            [
             0.2222222222222222,
             "#7201a8"
            ],
            [
             0.3333333333333333,
             "#9c179e"
            ],
            [
             0.4444444444444444,
             "#bd3786"
            ],
            [
             0.5555555555555556,
             "#d8576b"
            ],
            [
             0.6666666666666666,
             "#ed7953"
            ],
            [
             0.7777777777777778,
             "#fb9f3a"
            ],
            [
             0.8888888888888888,
             "#fdca26"
            ],
            [
             1,
             "#f0f921"
            ]
           ],
           "sequentialminus": [
            [
             0,
             "#0d0887"
            ],
            [
             0.1111111111111111,
             "#46039f"
            ],
            [
             0.2222222222222222,
             "#7201a8"
            ],
            [
             0.3333333333333333,
             "#9c179e"
            ],
            [
             0.4444444444444444,
             "#bd3786"
            ],
            [
             0.5555555555555556,
             "#d8576b"
            ],
            [
             0.6666666666666666,
             "#ed7953"
            ],
            [
             0.7777777777777778,
             "#fb9f3a"
            ],
            [
             0.8888888888888888,
             "#fdca26"
            ],
            [
             1,
             "#f0f921"
            ]
           ]
          },
          "colorway": [
           "#636efa",
           "#EF553B",
           "#00cc96",
           "#ab63fa",
           "#FFA15A",
           "#19d3f3",
           "#FF6692",
           "#B6E880",
           "#FF97FF",
           "#FECB52"
          ],
          "font": {
           "color": "#2a3f5f"
          },
          "geo": {
           "bgcolor": "white",
           "lakecolor": "white",
           "landcolor": "#E5ECF6",
           "showlakes": true,
           "showland": true,
           "subunitcolor": "white"
          },
          "hoverlabel": {
           "align": "left"
          },
          "hovermode": "closest",
          "mapbox": {
           "style": "light"
          },
          "paper_bgcolor": "white",
          "plot_bgcolor": "#E5ECF6",
          "polar": {
           "angularaxis": {
            "gridcolor": "white",
            "linecolor": "white",
            "ticks": ""
           },
           "bgcolor": "#E5ECF6",
           "radialaxis": {
            "gridcolor": "white",
            "linecolor": "white",
            "ticks": ""
           }
          },
          "scene": {
           "xaxis": {
            "backgroundcolor": "#E5ECF6",
            "gridcolor": "white",
            "gridwidth": 2,
            "linecolor": "white",
            "showbackground": true,
            "ticks": "",
            "zerolinecolor": "white"
           },
           "yaxis": {
            "backgroundcolor": "#E5ECF6",
            "gridcolor": "white",
            "gridwidth": 2,
            "linecolor": "white",
            "showbackground": true,
            "ticks": "",
            "zerolinecolor": "white"
           },
           "zaxis": {
            "backgroundcolor": "#E5ECF6",
            "gridcolor": "white",
            "gridwidth": 2,
            "linecolor": "white",
            "showbackground": true,
            "ticks": "",
            "zerolinecolor": "white"
           }
          },
          "shapedefaults": {
           "line": {
            "color": "#2a3f5f"
           }
          },
          "ternary": {
           "aaxis": {
            "gridcolor": "white",
            "linecolor": "white",
            "ticks": ""
           },
           "baxis": {
            "gridcolor": "white",
            "linecolor": "white",
            "ticks": ""
           },
           "bgcolor": "#E5ECF6",
           "caxis": {
            "gridcolor": "white",
            "linecolor": "white",
            "ticks": ""
           }
          },
          "title": {
           "x": 0.05
          },
          "xaxis": {
           "automargin": true,
           "gridcolor": "white",
           "linecolor": "white",
           "ticks": "",
           "title": {
            "standoff": 15
           },
           "zerolinecolor": "white",
           "zerolinewidth": 2
          },
          "yaxis": {
           "automargin": true,
           "gridcolor": "white",
           "linecolor": "white",
           "ticks": "",
           "title": {
            "standoff": 15
           },
           "zerolinecolor": "white",
           "zerolinewidth": 2
          }
         }
        },
        "title": {
         "text": "Stage 4 Chord Diagram"
        },
        "width": 600,
        "xaxis": {
         "visible": false
        },
        "yaxis": {
         "scaleanchor": "x",
         "scaleratio": 1,
         "visible": false
        }
       }
      },
      "text/html": [
       "<div>                            <div id=\"d1569116-6943-4770-b084-94f22a9e8393\" class=\"plotly-graph-div\" style=\"height:600px; width:600px;\"></div>            <script type=\"text/javascript\">                require([\"plotly\"], function(Plotly) {                    window.PLOTLYENV=window.PLOTLYENV || {};                                    if (document.getElementById(\"d1569116-6943-4770-b084-94f22a9e8393\")) {                    Plotly.newPlot(                        \"d1569116-6943-4770-b084-94f22a9e8393\",                        [{\"hoverinfo\":\"text\",\"marker\":{\"color\":\"lightgrey\",\"line\":{\"color\":\"black\",\"width\":2},\"size\":20},\"mode\":\"markers+text\",\"text\":[\"Ser\",\"Lys\",\"Met\",\"Phe\",\"Leu\",\"Thr\",\"Val\",\"Trp\",\"Arg\",\"Gln\",\"Gly\",\"Tyr\",\"Asn\",\"Ala\",\"Tau\",\"Orn\"],\"textposition\":\"top center\",\"x\":[1.0,0.9238795325112867,0.7071067811865476,0.38268343236508984,6.123233995736766e-17,-0.3826834323650897,-0.7071067811865475,-0.9238795325112867,-1.0,-0.9238795325112868,-0.7071067811865477,-0.38268343236509034,-1.8369701987210297e-16,0.38268343236509,0.7071067811865474,0.9238795325112865],\"y\":[0.0,0.3826834323650898,0.7071067811865475,0.9238795325112867,1.0,0.9238795325112867,0.7071067811865476,0.3826834323650899,1.2246467991473532e-16,-0.38268343236508967,-0.7071067811865475,-0.9238795325112865,-1.0,-0.9238795325112866,-0.7071067811865477,-0.3826834323650904],\"type\":\"scatter\"}],                        {\"template\":{\"data\":{\"histogram2dcontour\":[{\"type\":\"histogram2dcontour\",\"colorbar\":{\"outlinewidth\":0,\"ticks\":\"\"},\"colorscale\":[[0.0,\"#0d0887\"],[0.1111111111111111,\"#46039f\"],[0.2222222222222222,\"#7201a8\"],[0.3333333333333333,\"#9c179e\"],[0.4444444444444444,\"#bd3786\"],[0.5555555555555556,\"#d8576b\"],[0.6666666666666666,\"#ed7953\"],[0.7777777777777778,\"#fb9f3a\"],[0.8888888888888888,\"#fdca26\"],[1.0,\"#f0f921\"]]}],\"choropleth\":[{\"type\":\"choropleth\",\"colorbar\":{\"outlinewidth\":0,\"ticks\":\"\"}}],\"histogram2d\":[{\"type\":\"histogram2d\",\"colorbar\":{\"outlinewidth\":0,\"ticks\":\"\"},\"colorscale\":[[0.0,\"#0d0887\"],[0.1111111111111111,\"#46039f\"],[0.2222222222222222,\"#7201a8\"],[0.3333333333333333,\"#9c179e\"],[0.4444444444444444,\"#bd3786\"],[0.5555555555555556,\"#d8576b\"],[0.6666666666666666,\"#ed7953\"],[0.7777777777777778,\"#fb9f3a\"],[0.8888888888888888,\"#fdca26\"],[1.0,\"#f0f921\"]]}],\"heatmap\":[{\"type\":\"heatmap\",\"colorbar\":{\"outlinewidth\":0,\"ticks\":\"\"},\"colorscale\":[[0.0,\"#0d0887\"],[0.1111111111111111,\"#46039f\"],[0.2222222222222222,\"#7201a8\"],[0.3333333333333333,\"#9c179e\"],[0.4444444444444444,\"#bd3786\"],[0.5555555555555556,\"#d8576b\"],[0.6666666666666666,\"#ed7953\"],[0.7777777777777778,\"#fb9f3a\"],[0.8888888888888888,\"#fdca26\"],[1.0,\"#f0f921\"]]}],\"heatmapgl\":[{\"type\":\"heatmapgl\",\"colorbar\":{\"outlinewidth\":0,\"ticks\":\"\"},\"colorscale\":[[0.0,\"#0d0887\"],[0.1111111111111111,\"#46039f\"],[0.2222222222222222,\"#7201a8\"],[0.3333333333333333,\"#9c179e\"],[0.4444444444444444,\"#bd3786\"],[0.5555555555555556,\"#d8576b\"],[0.6666666666666666,\"#ed7953\"],[0.7777777777777778,\"#fb9f3a\"],[0.8888888888888888,\"#fdca26\"],[1.0,\"#f0f921\"]]}],\"contourcarpet\":[{\"type\":\"contourcarpet\",\"colorbar\":{\"outlinewidth\":0,\"ticks\":\"\"}}],\"contour\":[{\"type\":\"contour\",\"colorbar\":{\"outlinewidth\":0,\"ticks\":\"\"},\"colorscale\":[[0.0,\"#0d0887\"],[0.1111111111111111,\"#46039f\"],[0.2222222222222222,\"#7201a8\"],[0.3333333333333333,\"#9c179e\"],[0.4444444444444444,\"#bd3786\"],[0.5555555555555556,\"#d8576b\"],[0.6666666666666666,\"#ed7953\"],[0.7777777777777778,\"#fb9f3a\"],[0.8888888888888888,\"#fdca26\"],[1.0,\"#f0f921\"]]}],\"surface\":[{\"type\":\"surface\",\"colorbar\":{\"outlinewidth\":0,\"ticks\":\"\"},\"colorscale\":[[0.0,\"#0d0887\"],[0.1111111111111111,\"#46039f\"],[0.2222222222222222,\"#7201a8\"],[0.3333333333333333,\"#9c179e\"],[0.4444444444444444,\"#bd3786\"],[0.5555555555555556,\"#d8576b\"],[0.6666666666666666,\"#ed7953\"],[0.7777777777777778,\"#fb9f3a\"],[0.8888888888888888,\"#fdca26\"],[1.0,\"#f0f921\"]]}],\"mesh3d\":[{\"type\":\"mesh3d\",\"colorbar\":{\"outlinewidth\":0,\"ticks\":\"\"}}],\"scatter\":[{\"fillpattern\":{\"fillmode\":\"overlay\",\"size\":10,\"solidity\":0.2},\"type\":\"scatter\"}],\"parcoords\":[{\"type\":\"parcoords\",\"line\":{\"colorbar\":{\"outlinewidth\":0,\"ticks\":\"\"}}}],\"scatterpolargl\":[{\"type\":\"scatterpolargl\",\"marker\":{\"colorbar\":{\"outlinewidth\":0,\"ticks\":\"\"}}}],\"bar\":[{\"error_x\":{\"color\":\"#2a3f5f\"},\"error_y\":{\"color\":\"#2a3f5f\"},\"marker\":{\"line\":{\"color\":\"#E5ECF6\",\"width\":0.5},\"pattern\":{\"fillmode\":\"overlay\",\"size\":10,\"solidity\":0.2}},\"type\":\"bar\"}],\"scattergeo\":[{\"type\":\"scattergeo\",\"marker\":{\"colorbar\":{\"outlinewidth\":0,\"ticks\":\"\"}}}],\"scatterpolar\":[{\"type\":\"scatterpolar\",\"marker\":{\"colorbar\":{\"outlinewidth\":0,\"ticks\":\"\"}}}],\"histogram\":[{\"marker\":{\"pattern\":{\"fillmode\":\"overlay\",\"size\":10,\"solidity\":0.2}},\"type\":\"histogram\"}],\"scattergl\":[{\"type\":\"scattergl\",\"marker\":{\"colorbar\":{\"outlinewidth\":0,\"ticks\":\"\"}}}],\"scatter3d\":[{\"type\":\"scatter3d\",\"line\":{\"colorbar\":{\"outlinewidth\":0,\"ticks\":\"\"}},\"marker\":{\"colorbar\":{\"outlinewidth\":0,\"ticks\":\"\"}}}],\"scattermapbox\":[{\"type\":\"scattermapbox\",\"marker\":{\"colorbar\":{\"outlinewidth\":0,\"ticks\":\"\"}}}],\"scatterternary\":[{\"type\":\"scatterternary\",\"marker\":{\"colorbar\":{\"outlinewidth\":0,\"ticks\":\"\"}}}],\"scattercarpet\":[{\"type\":\"scattercarpet\",\"marker\":{\"colorbar\":{\"outlinewidth\":0,\"ticks\":\"\"}}}],\"carpet\":[{\"aaxis\":{\"endlinecolor\":\"#2a3f5f\",\"gridcolor\":\"white\",\"linecolor\":\"white\",\"minorgridcolor\":\"white\",\"startlinecolor\":\"#2a3f5f\"},\"baxis\":{\"endlinecolor\":\"#2a3f5f\",\"gridcolor\":\"white\",\"linecolor\":\"white\",\"minorgridcolor\":\"white\",\"startlinecolor\":\"#2a3f5f\"},\"type\":\"carpet\"}],\"table\":[{\"cells\":{\"fill\":{\"color\":\"#EBF0F8\"},\"line\":{\"color\":\"white\"}},\"header\":{\"fill\":{\"color\":\"#C8D4E3\"},\"line\":{\"color\":\"white\"}},\"type\":\"table\"}],\"barpolar\":[{\"marker\":{\"line\":{\"color\":\"#E5ECF6\",\"width\":0.5},\"pattern\":{\"fillmode\":\"overlay\",\"size\":10,\"solidity\":0.2}},\"type\":\"barpolar\"}],\"pie\":[{\"automargin\":true,\"type\":\"pie\"}]},\"layout\":{\"autotypenumbers\":\"strict\",\"colorway\":[\"#636efa\",\"#EF553B\",\"#00cc96\",\"#ab63fa\",\"#FFA15A\",\"#19d3f3\",\"#FF6692\",\"#B6E880\",\"#FF97FF\",\"#FECB52\"],\"font\":{\"color\":\"#2a3f5f\"},\"hovermode\":\"closest\",\"hoverlabel\":{\"align\":\"left\"},\"paper_bgcolor\":\"white\",\"plot_bgcolor\":\"#E5ECF6\",\"polar\":{\"bgcolor\":\"#E5ECF6\",\"angularaxis\":{\"gridcolor\":\"white\",\"linecolor\":\"white\",\"ticks\":\"\"},\"radialaxis\":{\"gridcolor\":\"white\",\"linecolor\":\"white\",\"ticks\":\"\"}},\"ternary\":{\"bgcolor\":\"#E5ECF6\",\"aaxis\":{\"gridcolor\":\"white\",\"linecolor\":\"white\",\"ticks\":\"\"},\"baxis\":{\"gridcolor\":\"white\",\"linecolor\":\"white\",\"ticks\":\"\"},\"caxis\":{\"gridcolor\":\"white\",\"linecolor\":\"white\",\"ticks\":\"\"}},\"coloraxis\":{\"colorbar\":{\"outlinewidth\":0,\"ticks\":\"\"}},\"colorscale\":{\"sequential\":[[0.0,\"#0d0887\"],[0.1111111111111111,\"#46039f\"],[0.2222222222222222,\"#7201a8\"],[0.3333333333333333,\"#9c179e\"],[0.4444444444444444,\"#bd3786\"],[0.5555555555555556,\"#d8576b\"],[0.6666666666666666,\"#ed7953\"],[0.7777777777777778,\"#fb9f3a\"],[0.8888888888888888,\"#fdca26\"],[1.0,\"#f0f921\"]],\"sequentialminus\":[[0.0,\"#0d0887\"],[0.1111111111111111,\"#46039f\"],[0.2222222222222222,\"#7201a8\"],[0.3333333333333333,\"#9c179e\"],[0.4444444444444444,\"#bd3786\"],[0.5555555555555556,\"#d8576b\"],[0.6666666666666666,\"#ed7953\"],[0.7777777777777778,\"#fb9f3a\"],[0.8888888888888888,\"#fdca26\"],[1.0,\"#f0f921\"]],\"diverging\":[[0,\"#8e0152\"],[0.1,\"#c51b7d\"],[0.2,\"#de77ae\"],[0.3,\"#f1b6da\"],[0.4,\"#fde0ef\"],[0.5,\"#f7f7f7\"],[0.6,\"#e6f5d0\"],[0.7,\"#b8e186\"],[0.8,\"#7fbc41\"],[0.9,\"#4d9221\"],[1,\"#276419\"]]},\"xaxis\":{\"gridcolor\":\"white\",\"linecolor\":\"white\",\"ticks\":\"\",\"title\":{\"standoff\":15},\"zerolinecolor\":\"white\",\"automargin\":true,\"zerolinewidth\":2},\"yaxis\":{\"gridcolor\":\"white\",\"linecolor\":\"white\",\"ticks\":\"\",\"title\":{\"standoff\":15},\"zerolinecolor\":\"white\",\"automargin\":true,\"zerolinewidth\":2},\"scene\":{\"xaxis\":{\"backgroundcolor\":\"#E5ECF6\",\"gridcolor\":\"white\",\"linecolor\":\"white\",\"showbackground\":true,\"ticks\":\"\",\"zerolinecolor\":\"white\",\"gridwidth\":2},\"yaxis\":{\"backgroundcolor\":\"#E5ECF6\",\"gridcolor\":\"white\",\"linecolor\":\"white\",\"showbackground\":true,\"ticks\":\"\",\"zerolinecolor\":\"white\",\"gridwidth\":2},\"zaxis\":{\"backgroundcolor\":\"#E5ECF6\",\"gridcolor\":\"white\",\"linecolor\":\"white\",\"showbackground\":true,\"ticks\":\"\",\"zerolinecolor\":\"white\",\"gridwidth\":2}},\"shapedefaults\":{\"line\":{\"color\":\"#2a3f5f\"}},\"annotationdefaults\":{\"arrowcolor\":\"#2a3f5f\",\"arrowhead\":0,\"arrowwidth\":1},\"geo\":{\"bgcolor\":\"white\",\"landcolor\":\"#E5ECF6\",\"subunitcolor\":\"white\",\"showland\":true,\"showlakes\":true,\"lakecolor\":\"white\"},\"title\":{\"x\":0.05},\"mapbox\":{\"style\":\"light\"}}},\"shapes\":[{\"line\":{\"color\":\"blue\",\"width\":2.5300000000000002},\"opacity\":0.6,\"path\":\"M 1.0,0.0 Q 0,0 -0.7071067811865477,-0.7071067811865475\",\"type\":\"path\"},{\"line\":{\"color\":\"blue\",\"width\":3.13},\"opacity\":0.6,\"path\":\"M 6.123233995736766e-17,1.0 Q 0,0 -0.7071067811865475,0.7071067811865476\",\"type\":\"path\"},{\"line\":{\"color\":\"red\",\"width\":2.56},\"opacity\":0.6,\"path\":\"M 6.123233995736766e-17,1.0 Q 0,0 -0.7071067811865477,-0.7071067811865475\",\"type\":\"path\"},{\"line\":{\"color\":\"red\",\"width\":3.4000000000000004},\"opacity\":0.6,\"path\":\"M -0.7071067811865475,0.7071067811865476 Q 0,0 -0.7071067811865477,-0.7071067811865475\",\"type\":\"path\"},{\"line\":{\"color\":\"red\",\"width\":2.7399999999999998},\"opacity\":0.6,\"path\":\"M -0.9238795325112868,-0.38268343236508967 Q 0,0 0.9238795325112865,-0.3826834323650904\",\"type\":\"path\"}],\"xaxis\":{\"visible\":false},\"yaxis\":{\"visible\":false,\"scaleanchor\":\"x\",\"scaleratio\":1},\"margin\":{\"t\":20,\"b\":20,\"l\":20,\"r\":20},\"showlegend\":false,\"width\":600,\"height\":600,\"title\":{\"text\":\"Stage 4 Chord Diagram\"}},                        {\"responsive\": true}                    ).then(function(){\n",
       "                            \n",
       "var gd = document.getElementById('d1569116-6943-4770-b084-94f22a9e8393');\n",
       "var x = new MutationObserver(function (mutations, observer) {{\n",
       "        var display = window.getComputedStyle(gd).display;\n",
       "        if (!display || display === 'none') {{\n",
       "            console.log([gd, 'removed!']);\n",
       "            Plotly.purge(gd);\n",
       "            observer.disconnect();\n",
       "        }}\n",
       "}});\n",
       "\n",
       "// Listen for the removal of the full notebook cells\n",
       "var notebookContainer = gd.closest('#notebook-container');\n",
       "if (notebookContainer) {{\n",
       "    x.observe(notebookContainer, {childList: true});\n",
       "}}\n",
       "\n",
       "// Listen for the clearing of the current output cell\n",
       "var outputEl = gd.closest('.output');\n",
       "if (outputEl) {{\n",
       "    x.observe(outputEl, {childList: true});\n",
       "}}\n",
       "\n",
       "                        })                };                });            </script>        </div>"
      ]
     },
     "metadata": {},
     "output_type": "display_data"
    }
   ],
   "source": [
    "create_chord_diagram(stage1_df, amino_acids, 1)\n",
    "create_chord_diagram(stage2_df, amino_acids, 2)\n",
    "create_chord_diagram(stage3_df, amino_acids, 3)\n",
    "create_chord_diagram(stage4_df, amino_acids, 4)\n"
   ]
  },
  {
   "cell_type": "markdown",
   "id": "c91b3e18",
   "metadata": {},
   "source": [
    "## Machine learning"
   ]
  },
  {
   "cell_type": "code",
   "execution_count": 127,
   "id": "54663fec",
   "metadata": {},
   "outputs": [],
   "source": [
    "# 1. Assign 'Yes' to patients in stage 4 (metastatic), otherwise 'No'\n",
    "AA_df['Metastasis_Status'] = AA_df['pTNM stage'].apply(lambda x: 'Yes' if x == 4 else 'No')\n",
    "\n",
    "# 2. Filter out patients in stage 1–3 whose recurrence status is missing (NaN)\n",
    "cond = (AA_df['pTNM stage'].isin([1, 2, 3])) & (AA_df['Recurrence'].isna())\n",
    "AA_df = AA_df[~cond].copy()  # Make a safe copy to avoid SettingWithCopyWarning\n",
    "\n",
    "# 3. Create a new column combining both recurrence and metastasis status\n",
    "AA_df.loc[:, 'Meta_or_Recur'] = AA_df.apply(\n",
    "    lambda row: 'Yes' if row['Metastasis_Status'] == 'Yes' or row['Recurrence'] == 'Yes' else 'No',\n",
    "    axis=1\n",
    ")\n"
   ]
  },
  {
   "cell_type": "code",
   "execution_count": 128,
   "id": "5eae8536",
   "metadata": {
    "scrolled": true
   },
   "outputs": [
    {
     "data": {
      "text/html": [
       "<div>\n",
       "<style scoped>\n",
       "    .dataframe tbody tr th:only-of-type {\n",
       "        vertical-align: middle;\n",
       "    }\n",
       "\n",
       "    .dataframe tbody tr th {\n",
       "        vertical-align: top;\n",
       "    }\n",
       "\n",
       "    .dataframe thead th {\n",
       "        text-align: right;\n",
       "    }\n",
       "</style>\n",
       "<table border=\"1\" class=\"dataframe\">\n",
       "  <thead>\n",
       "    <tr style=\"text-align: right;\">\n",
       "      <th></th>\n",
       "      <th>Sample</th>\n",
       "      <th>Tau</th>\n",
       "      <th>Lys</th>\n",
       "      <th>Asn</th>\n",
       "      <th>Arg</th>\n",
       "      <th>Met</th>\n",
       "      <th>Gln</th>\n",
       "      <th>Orn</th>\n",
       "      <th>Phe</th>\n",
       "      <th>Leu</th>\n",
       "      <th>...</th>\n",
       "      <th>zscore_log1p_Arg_ratio</th>\n",
       "      <th>zscore_log1p_Gln_ratio</th>\n",
       "      <th>zscore_log1p_Gly_ratio</th>\n",
       "      <th>zscore_log1p_Tyr_ratio</th>\n",
       "      <th>zscore_log1p_Asn_ratio</th>\n",
       "      <th>zscore_log1p_Ala_ratio</th>\n",
       "      <th>zscore_log1p_Tau_ratio</th>\n",
       "      <th>zscore_log1p_Orn_ratio</th>\n",
       "      <th>Metastasis_Status</th>\n",
       "      <th>Meta_or_Recur</th>\n",
       "    </tr>\n",
       "  </thead>\n",
       "  <tbody>\n",
       "    <tr>\n",
       "      <th>5</th>\n",
       "      <td>Patient-6</td>\n",
       "      <td>103.163</td>\n",
       "      <td>283.600</td>\n",
       "      <td>0.000</td>\n",
       "      <td>58.351</td>\n",
       "      <td>32.793</td>\n",
       "      <td>240.099</td>\n",
       "      <td>187.802</td>\n",
       "      <td>147.795</td>\n",
       "      <td>204.611</td>\n",
       "      <td>...</td>\n",
       "      <td>-0.218155</td>\n",
       "      <td>-2.221271</td>\n",
       "      <td>1.521212</td>\n",
       "      <td>-0.591776</td>\n",
       "      <td>-0.828894</td>\n",
       "      <td>0.265356</td>\n",
       "      <td>-0.780609</td>\n",
       "      <td>1.954275</td>\n",
       "      <td>Yes</td>\n",
       "      <td>Yes</td>\n",
       "    </tr>\n",
       "    <tr>\n",
       "      <th>6</th>\n",
       "      <td>Patient-7</td>\n",
       "      <td>219.484</td>\n",
       "      <td>268.823</td>\n",
       "      <td>0.000</td>\n",
       "      <td>0.000</td>\n",
       "      <td>0.000</td>\n",
       "      <td>153.435</td>\n",
       "      <td>318.059</td>\n",
       "      <td>145.300</td>\n",
       "      <td>419.063</td>\n",
       "      <td>...</td>\n",
       "      <td>-1.431875</td>\n",
       "      <td>-3.067604</td>\n",
       "      <td>0.004973</td>\n",
       "      <td>0.380593</td>\n",
       "      <td>-0.828894</td>\n",
       "      <td>0.690106</td>\n",
       "      <td>0.007100</td>\n",
       "      <td>3.229252</td>\n",
       "      <td>Yes</td>\n",
       "      <td>Yes</td>\n",
       "    </tr>\n",
       "    <tr>\n",
       "      <th>7</th>\n",
       "      <td>Patient-8</td>\n",
       "      <td>61.901</td>\n",
       "      <td>147.989</td>\n",
       "      <td>0.000</td>\n",
       "      <td>20.977</td>\n",
       "      <td>0.000</td>\n",
       "      <td>26.019</td>\n",
       "      <td>178.562</td>\n",
       "      <td>90.876</td>\n",
       "      <td>141.654</td>\n",
       "      <td>...</td>\n",
       "      <td>-0.770294</td>\n",
       "      <td>-3.704280</td>\n",
       "      <td>1.417475</td>\n",
       "      <td>0.057513</td>\n",
       "      <td>-0.828894</td>\n",
       "      <td>1.154950</td>\n",
       "      <td>-0.884669</td>\n",
       "      <td>3.456964</td>\n",
       "      <td>Yes</td>\n",
       "      <td>Yes</td>\n",
       "    </tr>\n",
       "    <tr>\n",
       "      <th>8</th>\n",
       "      <td>Patient-9</td>\n",
       "      <td>204.558</td>\n",
       "      <td>153.921</td>\n",
       "      <td>47.822</td>\n",
       "      <td>47.154</td>\n",
       "      <td>25.294</td>\n",
       "      <td>289.447</td>\n",
       "      <td>121.682</td>\n",
       "      <td>79.244</td>\n",
       "      <td>103.726</td>\n",
       "      <td>...</td>\n",
       "      <td>-0.075842</td>\n",
       "      <td>-1.096485</td>\n",
       "      <td>1.223665</td>\n",
       "      <td>0.094433</td>\n",
       "      <td>0.875547</td>\n",
       "      <td>0.014844</td>\n",
       "      <td>1.098929</td>\n",
       "      <td>1.592908</td>\n",
       "      <td>Yes</td>\n",
       "      <td>Yes</td>\n",
       "    </tr>\n",
       "    <tr>\n",
       "      <th>9</th>\n",
       "      <td>Patient-10</td>\n",
       "      <td>83.451</td>\n",
       "      <td>78.825</td>\n",
       "      <td>18.656</td>\n",
       "      <td>34.242</td>\n",
       "      <td>14.973</td>\n",
       "      <td>167.899</td>\n",
       "      <td>49.126</td>\n",
       "      <td>30.834</td>\n",
       "      <td>86.117</td>\n",
       "      <td>...</td>\n",
       "      <td>0.414146</td>\n",
       "      <td>-0.846875</td>\n",
       "      <td>0.334196</td>\n",
       "      <td>-0.751754</td>\n",
       "      <td>0.425530</td>\n",
       "      <td>-0.342863</td>\n",
       "      <td>0.423042</td>\n",
       "      <td>0.831817</td>\n",
       "      <td>Yes</td>\n",
       "      <td>Yes</td>\n",
       "    </tr>\n",
       "    <tr>\n",
       "      <th>...</th>\n",
       "      <td>...</td>\n",
       "      <td>...</td>\n",
       "      <td>...</td>\n",
       "      <td>...</td>\n",
       "      <td>...</td>\n",
       "      <td>...</td>\n",
       "      <td>...</td>\n",
       "      <td>...</td>\n",
       "      <td>...</td>\n",
       "      <td>...</td>\n",
       "      <td>...</td>\n",
       "      <td>...</td>\n",
       "      <td>...</td>\n",
       "      <td>...</td>\n",
       "      <td>...</td>\n",
       "      <td>...</td>\n",
       "      <td>...</td>\n",
       "      <td>...</td>\n",
       "      <td>...</td>\n",
       "      <td>...</td>\n",
       "      <td>...</td>\n",
       "    </tr>\n",
       "    <tr>\n",
       "      <th>147</th>\n",
       "      <td>Patient-148</td>\n",
       "      <td>124.315</td>\n",
       "      <td>172.431</td>\n",
       "      <td>0.000</td>\n",
       "      <td>58.213</td>\n",
       "      <td>28.906</td>\n",
       "      <td>367.515</td>\n",
       "      <td>103.372</td>\n",
       "      <td>77.159</td>\n",
       "      <td>144.639</td>\n",
       "      <td>...</td>\n",
       "      <td>0.160910</td>\n",
       "      <td>-0.526147</td>\n",
       "      <td>1.231598</td>\n",
       "      <td>-0.480444</td>\n",
       "      <td>-0.828894</td>\n",
       "      <td>0.571756</td>\n",
       "      <td>-0.134170</td>\n",
       "      <td>0.991169</td>\n",
       "      <td>No</td>\n",
       "      <td>Yes</td>\n",
       "    </tr>\n",
       "    <tr>\n",
       "      <th>148</th>\n",
       "      <td>Patient-149</td>\n",
       "      <td>152.506</td>\n",
       "      <td>131.335</td>\n",
       "      <td>43.920</td>\n",
       "      <td>29.851</td>\n",
       "      <td>27.922</td>\n",
       "      <td>415.112</td>\n",
       "      <td>118.936</td>\n",
       "      <td>64.782</td>\n",
       "      <td>120.672</td>\n",
       "      <td>...</td>\n",
       "      <td>-0.592291</td>\n",
       "      <td>-0.029226</td>\n",
       "      <td>1.112297</td>\n",
       "      <td>0.824704</td>\n",
       "      <td>0.697865</td>\n",
       "      <td>0.531368</td>\n",
       "      <td>0.301912</td>\n",
       "      <td>1.442654</td>\n",
       "      <td>Yes</td>\n",
       "      <td>Yes</td>\n",
       "    </tr>\n",
       "    <tr>\n",
       "      <th>149</th>\n",
       "      <td>Patient-150</td>\n",
       "      <td>119.279</td>\n",
       "      <td>207.649</td>\n",
       "      <td>90.775</td>\n",
       "      <td>62.947</td>\n",
       "      <td>51.336</td>\n",
       "      <td>678.529</td>\n",
       "      <td>93.942</td>\n",
       "      <td>64.417</td>\n",
       "      <td>107.694</td>\n",
       "      <td>...</td>\n",
       "      <td>-0.138229</td>\n",
       "      <td>0.689192</td>\n",
       "      <td>1.961577</td>\n",
       "      <td>0.569250</td>\n",
       "      <td>1.473895</td>\n",
       "      <td>-0.059298</td>\n",
       "      <td>-0.622682</td>\n",
       "      <td>0.165393</td>\n",
       "      <td>Yes</td>\n",
       "      <td>Yes</td>\n",
       "    </tr>\n",
       "    <tr>\n",
       "      <th>150</th>\n",
       "      <td>Patient-151</td>\n",
       "      <td>0.000</td>\n",
       "      <td>53.241</td>\n",
       "      <td>0.000</td>\n",
       "      <td>16.388</td>\n",
       "      <td>0.000</td>\n",
       "      <td>137.560</td>\n",
       "      <td>11.158</td>\n",
       "      <td>14.486</td>\n",
       "      <td>21.526</td>\n",
       "      <td>...</td>\n",
       "      <td>0.459556</td>\n",
       "      <td>1.295956</td>\n",
       "      <td>2.025068</td>\n",
       "      <td>-2.790035</td>\n",
       "      <td>-0.828894</td>\n",
       "      <td>0.440505</td>\n",
       "      <td>-1.904513</td>\n",
       "      <td>-0.423088</td>\n",
       "      <td>Yes</td>\n",
       "      <td>Yes</td>\n",
       "    </tr>\n",
       "    <tr>\n",
       "      <th>153</th>\n",
       "      <td>Patient-154</td>\n",
       "      <td>65.730</td>\n",
       "      <td>259.452</td>\n",
       "      <td>82.205</td>\n",
       "      <td>109.492</td>\n",
       "      <td>27.269</td>\n",
       "      <td>577.733</td>\n",
       "      <td>96.109</td>\n",
       "      <td>77.546</td>\n",
       "      <td>174.555</td>\n",
       "      <td>...</td>\n",
       "      <td>1.035183</td>\n",
       "      <td>0.438401</td>\n",
       "      <td>0.362362</td>\n",
       "      <td>-0.382721</td>\n",
       "      <td>1.477399</td>\n",
       "      <td>-0.479703</td>\n",
       "      <td>-1.117840</td>\n",
       "      <td>0.398322</td>\n",
       "      <td>Yes</td>\n",
       "      <td>Yes</td>\n",
       "    </tr>\n",
       "  </tbody>\n",
       "</table>\n",
       "<p>140 rows × 92 columns</p>\n",
       "</div>"
      ],
      "text/plain": [
       "          Sample      Tau      Lys     Asn      Arg     Met      Gln      Orn  \\\n",
       "5      Patient-6  103.163  283.600   0.000   58.351  32.793  240.099  187.802   \n",
       "6      Patient-7  219.484  268.823   0.000    0.000   0.000  153.435  318.059   \n",
       "7      Patient-8   61.901  147.989   0.000   20.977   0.000   26.019  178.562   \n",
       "8      Patient-9  204.558  153.921  47.822   47.154  25.294  289.447  121.682   \n",
       "9     Patient-10   83.451   78.825  18.656   34.242  14.973  167.899   49.126   \n",
       "..           ...      ...      ...     ...      ...     ...      ...      ...   \n",
       "147  Patient-148  124.315  172.431   0.000   58.213  28.906  367.515  103.372   \n",
       "148  Patient-149  152.506  131.335  43.920   29.851  27.922  415.112  118.936   \n",
       "149  Patient-150  119.279  207.649  90.775   62.947  51.336  678.529   93.942   \n",
       "150  Patient-151    0.000   53.241   0.000   16.388   0.000  137.560   11.158   \n",
       "153  Patient-154   65.730  259.452  82.205  109.492  27.269  577.733   96.109   \n",
       "\n",
       "         Phe      Leu  ...  zscore_log1p_Arg_ratio  zscore_log1p_Gln_ratio  \\\n",
       "5    147.795  204.611  ...               -0.218155               -2.221271   \n",
       "6    145.300  419.063  ...               -1.431875               -3.067604   \n",
       "7     90.876  141.654  ...               -0.770294               -3.704280   \n",
       "8     79.244  103.726  ...               -0.075842               -1.096485   \n",
       "9     30.834   86.117  ...                0.414146               -0.846875   \n",
       "..       ...      ...  ...                     ...                     ...   \n",
       "147   77.159  144.639  ...                0.160910               -0.526147   \n",
       "148   64.782  120.672  ...               -0.592291               -0.029226   \n",
       "149   64.417  107.694  ...               -0.138229                0.689192   \n",
       "150   14.486   21.526  ...                0.459556                1.295956   \n",
       "153   77.546  174.555  ...                1.035183                0.438401   \n",
       "\n",
       "     zscore_log1p_Gly_ratio  zscore_log1p_Tyr_ratio  zscore_log1p_Asn_ratio  \\\n",
       "5                  1.521212               -0.591776               -0.828894   \n",
       "6                  0.004973                0.380593               -0.828894   \n",
       "7                  1.417475                0.057513               -0.828894   \n",
       "8                  1.223665                0.094433                0.875547   \n",
       "9                  0.334196               -0.751754                0.425530   \n",
       "..                      ...                     ...                     ...   \n",
       "147                1.231598               -0.480444               -0.828894   \n",
       "148                1.112297                0.824704                0.697865   \n",
       "149                1.961577                0.569250                1.473895   \n",
       "150                2.025068               -2.790035               -0.828894   \n",
       "153                0.362362               -0.382721                1.477399   \n",
       "\n",
       "     zscore_log1p_Ala_ratio  zscore_log1p_Tau_ratio  zscore_log1p_Orn_ratio  \\\n",
       "5                  0.265356               -0.780609                1.954275   \n",
       "6                  0.690106                0.007100                3.229252   \n",
       "7                  1.154950               -0.884669                3.456964   \n",
       "8                  0.014844                1.098929                1.592908   \n",
       "9                 -0.342863                0.423042                0.831817   \n",
       "..                      ...                     ...                     ...   \n",
       "147                0.571756               -0.134170                0.991169   \n",
       "148                0.531368                0.301912                1.442654   \n",
       "149               -0.059298               -0.622682                0.165393   \n",
       "150                0.440505               -1.904513               -0.423088   \n",
       "153               -0.479703               -1.117840                0.398322   \n",
       "\n",
       "     Metastasis_Status  Meta_or_Recur  \n",
       "5                  Yes            Yes  \n",
       "6                  Yes            Yes  \n",
       "7                  Yes            Yes  \n",
       "8                  Yes            Yes  \n",
       "9                  Yes            Yes  \n",
       "..                 ...            ...  \n",
       "147                 No            Yes  \n",
       "148                Yes            Yes  \n",
       "149                Yes            Yes  \n",
       "150                Yes            Yes  \n",
       "153                Yes            Yes  \n",
       "\n",
       "[140 rows x 92 columns]"
      ]
     },
     "execution_count": 128,
     "metadata": {},
     "output_type": "execute_result"
    }
   ],
   "source": [
    "AA_df"
   ]
  },
  {
   "cell_type": "markdown",
   "id": "88f73e0b",
   "metadata": {},
   "source": [
    "## Amino acid Only"
   ]
  },
  {
   "cell_type": "code",
   "execution_count": 203,
   "id": "19d233ac",
   "metadata": {},
   "outputs": [
    {
     "name": "stdout",
     "output_type": "stream",
     "text": [
      "[Ratio-only] Test AUROC: 0.736\n",
      "[Ratio-only] Test PR-AUC: 0.762\n",
      "[Ratio-only] Test F1-score: 0.692\n"
     ]
    },
    {
     "data": {
      "image/png": "[encoded data removed]",
      "text/plain": [
       "<Figure size 500x500 with 1 Axes>"
      ]
     },
     "metadata": {},
     "output_type": "display_data"
    },
    {
     "data": {
      "image/png": "[encoded data removed]",
      "text/plain": [
       "<Figure size 500x500 with 1 Axes>"
      ]
     },
     "metadata": {},
     "output_type": "display_data"
    }
   ],
   "source": [
    "# 1) Use only amino acid ratio features\n",
    "X_ratio = AA_df[zscore_columns]\n",
    "y_ratio = AA_df['Meta_or_Recur'].map({'Yes': 1, 'No': 0})\n",
    "\n",
    "# 2) Fit RF to select top 10 features\n",
    "rf_ratio = RandomForestClassifier(n_estimators=100, random_state=RANDOM_STATE)\n",
    "rf_ratio.fit(X_ratio, y_ratio)\n",
    "importances_ratio = rf_ratio.feature_importances_\n",
    "top10_ratio_features = X_ratio.columns[np.argsort(importances_ratio)[::-1][:10]]\n",
    "\n",
    "X_final_ratio = X_ratio[top10_ratio_features].replace([np.inf, -np.inf], np.nan).dropna()\n",
    "y_ratio = y_ratio.loc[X_final_ratio.index]\n",
    "\n",
    "# 3) Split data\n",
    "X_train_r, X_test_r, y_train_r, y_test_r = train_test_split(\n",
    "    X_final_ratio, y_ratio, test_size=0.2, stratify=y_ratio, random_state=RANDOM_STATE\n",
    ")\n",
    "\n",
    "# 4) GridSearchCV tuning\n",
    "param_grid = {\n",
    "    'n_estimators': [100, 200],\n",
    "    'max_depth': [None, 10],\n",
    "    'min_samples_split': [2],\n",
    "    'min_samples_leaf': [1],\n",
    "    'max_features': ['sqrt'],\n",
    "    'class_weight': ['balanced']\n",
    "}\n",
    "grid_r = GridSearchCV(\n",
    "    RandomForestClassifier(random_state=RANDOM_STATE),\n",
    "    param_grid, cv=5, scoring='roc_auc', n_jobs=-1\n",
    ")\n",
    "grid_r.fit(X_train_r, y_train_r)\n",
    "best_model_r = grid_r.best_estimator_\n",
    "\n",
    "# 5) Evaluate performance\n",
    "y_pred_prob_r = best_model_r.predict_proba(X_test_r)[:, 1]\n",
    "y_pred_class_r = best_model_r.predict(X_test_r)\n",
    "roc_auc_r = roc_auc_score(y_test_r, y_pred_prob_r)\n",
    "pr_auc_r = average_precision_score(y_test_r, y_pred_prob_r)\n",
    "f1_r = f1_score(y_test_r, y_pred_class_r)\n",
    "\n",
    "print(f\"[Ratio-only] Test AUROC: {roc_auc_r:.3f}\")\n",
    "print(f\"[Ratio-only] Test PR-AUC: {pr_auc_r:.3f}\")\n",
    "print(f\"[Ratio-only] Test F1-score: {f1_r:.3f}\")\n",
    "\n",
    "# 6) Plot ROC Curve (Ratio-only)\n",
    "fpr_r, tpr_r, _ = roc_curve(y_test_r, y_pred_prob_r)\n",
    "plt.figure(figsize=(5, 5))\n",
    "plt.plot(fpr_r, tpr_r, lw=2, label=f'AUROC = {roc_auc_r:.3f}')\n",
    "plt.plot([0, 1], [0, 1], linestyle='--', color='gray')\n",
    "plt.xlabel('False Positive Rate')\n",
    "plt.ylabel('True Positive Rate')\n",
    "plt.title('ROC Curve (Top 10 Features: Ratio Only)')\n",
    "plt.legend()\n",
    "plt.grid(True)\n",
    "plt.tight_layout()\n",
    "plt.savefig(\"RatioOnly_Feature_ROC.pdf\", format=\"pdf\", dpi=300, bbox_inches=\"tight\")\n",
    "plt.show()\n",
    "\n",
    "# 7) Plot Feature Importance (Ratio-only)\n",
    "feat_imp_r = best_model_r.feature_importances_\n",
    "top10_clean_names = [\n",
    "    name.replace(\"zscore_log1p_\", \"\").replace(\"_ratio\", \"\")\n",
    "    for name in X_final_ratio.columns[np.argsort(feat_imp_r)[::-1]]\n",
    "]\n",
    "\n",
    "plt.figure(figsize=(5, 5))\n",
    "plt.barh(\n",
    "    top10_clean_names,\n",
    "    feat_imp_r[np.argsort(feat_imp_r)[::-1]],\n",
    "    color='green'\n",
    ")\n",
    "plt.xlabel('Importance')\n",
    "plt.title('Top 10 Feature Importances (Ratio Only)')\n",
    "plt.gca().invert_yaxis()\n",
    "plt.tight_layout()\n",
    "plt.savefig(\"RatioOnly_Feature_Importance.pdf\", format=\"pdf\", dpi=300, bbox_inches=\"tight\")\n",
    "plt.show()\n"
   ]
  },
  {
   "cell_type": "code",
   "execution_count": 204,
   "id": "eed9cdcb",
   "metadata": {},
   "outputs": [
    {
     "name": "stdout",
     "output_type": "stream",
     "text": [
      "[Ratio-only] AUROC 95% CI (bootstrap, n=1000): [0.533, 0.908]\n"
     ]
    }
   ],
   "source": [
    "from sklearn.utils import resample\n",
    "\n",
    "n_iterations = 1000\n",
    "boot_scores = []\n",
    "\n",
    "for i in range(n_iterations):\n",
    "    # Bootstrap sampling from test set\n",
    "    X_resampled, y_resampled = resample(\n",
    "        X_test_r, y_test_r,\n",
    "        replace=True,\n",
    "        stratify=y_test_r,\n",
    "        random_state=RANDOM_STATE + i\n",
    "    )\n",
    "    # Predict probabilities\n",
    "    y_prob_resampled = best_model_r.predict_proba(X_resampled)[:, 1]\n",
    "    try:\n",
    "        score = roc_auc_score(y_resampled, y_prob_resampled)\n",
    "        boot_scores.append(score)\n",
    "    except:\n",
    "        continue  # skip failed iteration\n",
    "\n",
    "# Convert to array and compute CI\n",
    "boot_scores = np.array(boot_scores)\n",
    "lower = np.percentile(boot_scores, 2.5)\n",
    "upper = np.percentile(boot_scores, 97.5)\n",
    "\n",
    "print(f\"[Ratio-only] AUROC 95% CI (bootstrap, n={n_iterations}): [{lower:.3f}, {upper:.3f}]\")\n"
   ]
  },
  {
   "cell_type": "markdown",
   "id": "1eaff899",
   "metadata": {},
   "source": [
    "## Correlation Only"
   ]
  },
  {
   "cell_type": "code",
   "execution_count": 200,
   "id": "2bcc3da4",
   "metadata": {},
   "outputs": [
    {
     "name": "stdout",
     "output_type": "stream",
     "text": [
      "[Interaction-only] Test AUROC: 0.772\n",
      "[Interaction-only] Test PR-AUC: 0.731\n",
      "[Interaction-only] Test F1-score: 0.710\n"
     ]
    },
    {
     "data": {
      "image/png": "[encoded data removed]",
      "text/plain": [
       "<Figure size 500x500 with 1 Axes>"
      ]
     },
     "metadata": {},
     "output_type": "display_data"
    },
    {
     "data": {
      "image/png": "[encoded data removed]",
      "text/plain": [
       "<Figure size 600x600 with 1 Axes>"
      ]
     },
     "metadata": {},
     "output_type": "display_data"
    }
   ],
   "source": [
    "# 1) Prepare base data\n",
    "X_base = AA_df[zscore_columns]\n",
    "y_inter = AA_df['Meta_or_Recur'].map({'Yes': 1, 'No': 0})\n",
    "\n",
    "# 2) Build interaction features (처음 100쌍까지만 계산)\n",
    "inter_features = []\n",
    "for i, (a, b) in enumerate(combinations(X_base.columns, 2)):\n",
    "    inter_features.append((X_base[a] + X_base[b]).rename(f'{a}_plus_{b}'))\n",
    "    inter_features.append((np.abs(X_base[a] - X_base[b])).rename(f'{a}_absdiff_{b}'))\n",
    "    inter_features.append((X_base[a] - X_base[b]).rename(f'{a}_diff_{b}'))  # 이름 수정\n",
    "\n",
    "X_interact_all = pd.concat(inter_features, axis=1).replace([np.inf, -np.inf], np.nan).dropna()\n",
    "y_inter = y_inter.loc[X_interact_all.index]\n",
    "\n",
    "# 3) Fit Random Forest to select top 20 interaction features\n",
    "rf_inter = RandomForestClassifier(n_estimators=100, random_state=RANDOM_STATE)\n",
    "rf_inter.fit(X_interact_all, y_inter)\n",
    "inter_importances = rf_inter.feature_importances_\n",
    "top20_inter_features = X_interact_all.columns[np.argsort(inter_importances)[::-1][:10]]\n",
    "\n",
    "X_final_inter = X_interact_all[top20_inter_features]\n",
    "\n",
    "# 4) Train/test split\n",
    "X_train_i, X_test_i, y_train_i, y_test_i = train_test_split(\n",
    "    X_final_inter, y_inter, test_size=0.2, stratify=y_inter, random_state=RANDOM_STATE\n",
    ")\n",
    "\n",
    "# 5) GridSearchCV for tuning\n",
    "param_grid = {\n",
    "    'n_estimators': [100, 200],\n",
    "    'max_depth': [None, 10],\n",
    "    'min_samples_split': [2],\n",
    "    'min_samples_leaf': [1],\n",
    "    'max_features': ['sqrt'],\n",
    "    'class_weight': ['balanced']\n",
    "}\n",
    "grid_i = GridSearchCV(\n",
    "    RandomForestClassifier(random_state=RANDOM_STATE),\n",
    "    param_grid, cv=5, scoring='roc_auc', n_jobs=-1\n",
    ")\n",
    "grid_i.fit(X_train_i, y_train_i)\n",
    "best_model_i = grid_i.best_estimator_\n",
    "\n",
    "# 6) Evaluation\n",
    "y_pred_prob_i = best_model_i.predict_proba(X_test_i)[:, 1]\n",
    "y_pred_class_i = best_model_i.predict(X_test_i)\n",
    "roc_auc_i = roc_auc_score(y_test_i, y_pred_prob_i)\n",
    "pr_auc_i = average_precision_score(y_test_i, y_pred_prob_i)\n",
    "f1_i = f1_score(y_test_i, y_pred_class_i)\n",
    "\n",
    "print(f\"[Interaction-only] Test AUROC: {roc_auc_i:.3f}\")\n",
    "print(f\"[Interaction-only] Test PR-AUC: {pr_auc_i:.3f}\")\n",
    "print(f\"[Interaction-only] Test F1-score: {f1_i:.3f}\")\n",
    "\n",
    "# 7) ROC plot\n",
    "fpr_i, tpr_i, _ = roc_curve(y_test_i, y_pred_prob_i)\n",
    "plt.figure(figsize=(5, 5))\n",
    "plt.plot(fpr_i, tpr_i, lw=2, label=f'AUROC = {roc_auc_i:.3f}')\n",
    "plt.plot([0, 1], [0, 1], linestyle='--', color='gray')\n",
    "plt.xlabel('False Positive Rate')\n",
    "plt.ylabel('True Positive Rate')\n",
    "plt.title('ROC Curve (Interaction Only)')\n",
    "plt.legend()\n",
    "plt.grid(True)\n",
    "plt.tight_layout()\n",
    "plt.savefig(\"InteractionOnly_Feature_ROC.pdf\", format=\"pdf\", dpi=300, bbox_inches=\"tight\")\n",
    "plt.show()\n",
    "\n",
    "# 8) Feature importance plot\n",
    "feat_imp_i = best_model_i.feature_importances_\n",
    "top20_inter_names = X_final_inter.columns[np.argsort(feat_imp_i)[::-1]]\n",
    "\n",
    "# prefix/suffix\n",
    "clean_inter_names = [\n",
    "    name.replace(\"zscore_log1p_\", \"\").replace(\"_ratio\", \"\")\n",
    "    for name in top20_inter_names\n",
    "]\n",
    "\n",
    "plt.figure(figsize=(6, 6))\n",
    "plt.barh(\n",
    "    clean_inter_names,\n",
    "    feat_imp_i[np.argsort(feat_imp_i)[::-1]],\n",
    "    color='orange'\n",
    ")\n",
    "plt.xlabel('Importance')\n",
    "plt.title('Top 20 Feature Importances (Interaction Only)')\n",
    "plt.gca().invert_yaxis()\n",
    "plt.tight_layout()\n",
    "plt.savefig(\"InteractionOnly_Feature_Importance.pdf\", format=\"pdf\", dpi=300, bbox_inches=\"tight\")\n",
    "plt.show()\n"
   ]
  },
  {
   "cell_type": "code",
   "execution_count": 201,
   "id": "b7fc2850",
   "metadata": {},
   "outputs": [
    {
     "name": "stdout",
     "output_type": "stream",
     "text": [
      "[Interaction-only] AUROC 95% CI (bootstrap, n=1000): [0.579, 0.933]\n"
     ]
    }
   ],
   "source": [
    "from sklearn.utils import resample\n",
    "\n",
    "n_iterations = 1000\n",
    "boot_scores_i = []\n",
    "\n",
    "for i in range(n_iterations):\n",
    "    # Bootstrap 샘플링\n",
    "    X_resampled_i, y_resampled_i = resample(\n",
    "        X_test_i, y_test_i,\n",
    "        replace=True,\n",
    "        stratify=y_test_i,\n",
    "        random_state=RANDOM_STATE + i\n",
    "    )\n",
    "    # 예측\n",
    "    y_prob_resampled_i = best_model_i.predict_proba(X_resampled_i)[:, 1]\n",
    "    try:\n",
    "        score_i = roc_auc_score(y_resampled_i, y_prob_resampled_i)\n",
    "        boot_scores_i.append(score_i)\n",
    "    except:\n",
    "        continue \n",
    "\n",
    "# Convert to array and compute CI\n",
    "boot_scores_i = np.array(boot_scores_i)\n",
    "lower_i = np.percentile(boot_scores_i, 2.5)\n",
    "upper_i = np.percentile(boot_scores_i, 97.5)\n",
    "\n",
    "print(f\"[Interaction-only] AUROC 95% CI (bootstrap, n={n_iterations}): [{lower_i:.3f}, {upper_i:.3f}]\")\n"
   ]
  },
  {
   "cell_type": "markdown",
   "id": "886fde7e",
   "metadata": {},
   "source": [
    "## Combined "
   ]
  },
  {
   "cell_type": "code",
   "execution_count": 197,
   "id": "a82aabd1",
   "metadata": {},
   "outputs": [
    {
     "name": "stdout",
     "output_type": "stream",
     "text": [
      "Test AUROC: 0.803\n",
      "Test PR-AUC: 0.809\n",
      "Test F1-score: 0.733\n"
     ]
    },
    {
     "data": {
      "image/png": "[encoded data removed]",
      "text/plain": [
       "<Figure size 500x500 with 1 Axes>"
      ]
     },
     "metadata": {},
     "output_type": "display_data"
    },
    {
     "data": {
      "image/png": "[encoded data removed]",
      "text/plain": [
       "<Figure size 500x500 with 1 Axes>"
      ]
     },
     "metadata": {},
     "output_type": "display_data"
    }
   ],
   "source": [
    "import pandas as pd\n",
    "import numpy as np\n",
    "import matplotlib.pyplot as plt\n",
    "from itertools import combinations\n",
    "from sklearn.model_selection import train_test_split, GridSearchCV\n",
    "from sklearn.ensemble import RandomForestClassifier\n",
    "from sklearn.metrics import roc_auc_score, roc_curve, average_precision_score, f1_score\n",
    "from sklearn.preprocessing import StandardScaler\n",
    "\n",
    "# Set random seed\n",
    "RANDOM_STATE = 42\n",
    "\n",
    "# Prepare feature matrix X and binary target y\n",
    "X = AA_df[zscore_columns]\n",
    "y = AA_df['Meta_or_Recur'].map({'Yes': 1, 'No': 0})\n",
    "\n",
    "# 1) Fit RF on general amino acid ratios\n",
    "rf_temp = RandomForestClassifier(n_estimators=100, random_state=RANDOM_STATE)\n",
    "rf_temp.fit(X, y)\n",
    "importances = rf_temp.feature_importances_\n",
    "selected_ratio_features = X.columns[np.argsort(importances)[::-1][:10]]\n",
    "\n",
    "# 2) Build interaction features for first 100 pairs\n",
    "inter_features = []\n",
    "for a, b in combinations(X.columns, 2):\n",
    "    inter_features.append((X[a] + X[b]).rename(f'{a}_plus_{b}'))\n",
    "    inter_features.append((np.abs(X[a] - X[b])).rename(f'{a}_absdiff_{b}'))\n",
    "    inter_features.append((X[a] - X[b]).rename(f'{a}_logratio_{b}'))\n",
    "X_interact_all = pd.concat(inter_features, axis=1).replace([np.inf, -np.inf], np.nan).dropna()\n",
    "\n",
    "# 3) Fit RF on interaction features\n",
    "rf_inter = RandomForestClassifier(n_estimators=100, random_state=RANDOM_STATE)\n",
    "rf_inter.fit(X_interact_all, y)\n",
    "inter_importances = rf_inter.feature_importances_\n",
    "selected_interaction_features = X_interact_all.columns[np.argsort(inter_importances)[::-1][:20]]\n",
    "\n",
    "# 4) Merge top features and clean data\n",
    "X_final = pd.concat([\n",
    "    X[selected_ratio_features],\n",
    "    X_interact_all[selected_interaction_features]\n",
    "], axis=1).replace([np.inf, -np.inf], np.nan).dropna()\n",
    "y = y.loc[X_final.index]\n",
    "\n",
    "# 5) Split into train and test sets\n",
    "X_train, X_test, y_train, y_test = train_test_split(\n",
    "    X_final, y, test_size=0.2, stratify=y, random_state=RANDOM_STATE\n",
    ")\n",
    "\n",
    "# 6) Tune Random Forest with grid search\n",
    "param_grid = {\n",
    "    'n_estimators': [100, 200],\n",
    "    'max_depth': [None, 10],\n",
    "    'min_samples_split': [2],\n",
    "    'min_samples_leaf': [1],\n",
    "    'max_features': ['sqrt'],\n",
    "    'class_weight': ['balanced']\n",
    "}\n",
    "grid = GridSearchCV(\n",
    "    RandomForestClassifier(random_state=RANDOM_STATE),\n",
    "    param_grid, cv=5, scoring='roc_auc', n_jobs=-1\n",
    ")\n",
    "grid.fit(X_train, y_train)\n",
    "best_model = grid.best_estimator_\n",
    "\n",
    "# 7) Evaluate model performance\n",
    "y_pred_prob = best_model.predict_proba(X_test)[:, 1]\n",
    "y_pred_class = best_model.predict(X_test)\n",
    "roc_auc = roc_auc_score(y_test, y_pred_prob)\n",
    "pr_auc = average_precision_score(y_test, y_pred_prob)\n",
    "f1 = f1_score(y_test, y_pred_class)\n",
    "\n",
    "print(f\"Test AUROC: {roc_auc:.3f}\")\n",
    "print(f\"Test PR-AUC: {pr_auc:.3f}\")\n",
    "print(f\"Test F1-score: {f1:.3f}\")\n",
    "\n",
    "# 8) Plot ROC curve\n",
    "fpr, tpr, _ = roc_curve(y_test, y_pred_prob)\n",
    "plt.figure(figsize=(5, 5))\n",
    "plt.plot(fpr, tpr, lw=2, label=f'AUROC = {roc_auc:.3f}')\n",
    "plt.plot([0, 1], [0, 1], linestyle='--', color='gray')\n",
    "plt.xlabel('False Positive Rate')\n",
    "plt.ylabel('True Positive Rate')\n",
    "plt.title('ROC Curve (Top 10 Features: General + Interaction)')\n",
    "plt.legend()\n",
    "plt.grid(True)\n",
    "plt.tight_layout()\n",
    "plt.savefig(\"Combined_Feature_ROC.pdf\", format=\"pdf\", dpi=300, bbox_inches=\"tight\")\n",
    "plt.show()\n",
    "\n",
    "# 9) Plot final model's top 10 feature importances (clean labels)\n",
    "feat_imp = best_model.feature_importances_\n",
    "top10_final = X_final.columns[np.argsort(feat_imp)[::-1][:10]]\n",
    "\n",
    "# Clean feature names\n",
    "clean_final_names = [\n",
    "    name.replace(\"zscore_log1p_\", \"\").replace(\"_ratio\", \"\")\n",
    "    for name in top10_final\n",
    "]\n",
    "\n",
    "plt.figure(figsize=(5, 5))\n",
    "plt.barh(\n",
    "    clean_final_names,\n",
    "    feat_imp[np.argsort(feat_imp)[::-1][:10]],\n",
    "    color='purple'\n",
    ")\n",
    "plt.xlabel('Importance')\n",
    "plt.title('Top 10 Feature Importances (Final Model)')\n",
    "plt.gca().invert_yaxis()\n",
    "plt.tight_layout()\n",
    "plt.savefig(\"Combined_Feature_Importance.pdf\", format=\"pdf\", dpi=300, bbox_inches=\"tight\")\n",
    "plt.show()\n",
    "\n"
   ]
  },
  {
   "cell_type": "code",
   "execution_count": 205,
   "id": "ffa8c0ed",
   "metadata": {},
   "outputs": [
    {
     "name": "stdout",
     "output_type": "stream",
     "text": [
      "Bootstrap AUROC 95% CI: [0.618, 0.956]\n"
     ]
    }
   ],
   "source": [
    "from sklearn.utils import resample\n",
    "from sklearn.metrics import roc_auc_score\n",
    "import numpy as np\n",
    "\n",
    "# Set bootstrap parameters\n",
    "n_iterations = 1000\n",
    "boot_scores = []\n",
    "\n",
    "# Bootstrap resampling\n",
    "for i in range(n_iterations):\n",
    "    X_resampled, y_resampled = resample(\n",
    "        X_test, y_test,\n",
    "        replace=True,\n",
    "        stratify=y_test,\n",
    "        random_state=RANDOM_STATE + i\n",
    "    )\n",
    "    y_prob_resampled = best_model.predict_proba(X_resampled)[:, 1]\n",
    "    try:\n",
    "        auc = roc_auc_score(y_resampled, y_prob_resampled)\n",
    "        boot_scores.append(auc)\n",
    "    except ValueError:\n",
    "        continue  # Skip if only one class in y_resampled\n",
    "\n",
    "# Compute confidence interval\n",
    "boot_scores = np.array(boot_scores)\n",
    "lower = np.percentile(boot_scores, 2.5)\n",
    "upper = np.percentile(boot_scores, 97.5)\n",
    "\n",
    "print(f\"Bootstrap AUROC 95% CI: [{lower:.3f}, {upper:.3f}]\")\n"
   ]
  },
  {
   "cell_type": "code",
   "execution_count": 191,
   "id": "c2353876",
   "metadata": {},
   "outputs": [
    {
     "name": "stdout",
     "output_type": "stream",
     "text": [
      "Sensitivity (Recall): 0.733\n",
      "Specificity: 0.692\n"
     ]
    }
   ],
   "source": [
    "from sklearn.metrics import confusion_matrix\n",
    "\n",
    "epsilon = 1e-8\n",
    "# Sensitivity, Specificity\n",
    "tn, fp, fn, tp = confusion_matrix(y_test, y_pred_class).ravel()\n",
    "\n",
    "sensitivity = tp / (tp + fn + epsilon) \n",
    "specificity = tn / (tn + fp + epsilon)  \n",
    "\n",
    "print(f\"Sensitivity (Recall): {sensitivity:.3f}\")\n",
    "print(f\"Specificity: {specificity:.3f}\")\n"
   ]
  }
 ],
 "metadata": {
  "kernelspec": {
   "display_name": "VRPGP",
   "language": "python",
   "name": "vrpgp"
  },
  "language_info": {
   "codemirror_mode": {
    "name": "ipython",
    "version": 3
   },
   "file_extension": ".py",
   "mimetype": "text/x-python",
   "name": "python",
   "nbconvert_exporter": "python",
   "pygments_lexer": "ipython3",
   "version": "3.11.11"
  }
 },
 "nbformat": 4,
 "nbformat_minor": 5
}
